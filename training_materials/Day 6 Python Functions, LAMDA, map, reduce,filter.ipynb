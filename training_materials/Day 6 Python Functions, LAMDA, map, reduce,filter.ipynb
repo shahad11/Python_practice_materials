{
 "cells": [
  {
   "cell_type": "markdown",
   "id": "4a622bb8",
   "metadata": {},
   "source": [
    "# Python Functions\n",
    "\n",
    "- A function is a block of code which only runs when it is called.\n",
    "\n",
    "- You can pass data, known as parameters, into a function.\n",
    "\n",
    "- A function can return data as a result."
   ]
  },
  {
   "cell_type": "markdown",
   "id": "b666dddf",
   "metadata": {},
   "source": [
    "## 1. Creating a Function\n",
    "- In Python a function is defined using the def keyword"
   ]
  },
  {
   "cell_type": "code",
   "execution_count": 1,
   "id": "ee4b72ad",
   "metadata": {},
   "outputs": [],
   "source": [
    "def my_function():\n",
    "    print(\"Hello, Welcome to the Python Programming\")"
   ]
  },
  {
   "cell_type": "markdown",
   "id": "d908a674",
   "metadata": {},
   "source": [
    "## 2. Calling a Function\n",
    "- To call a function, use the function name followed by parenthesis"
   ]
  },
  {
   "cell_type": "code",
   "execution_count": 2,
   "id": "84c61000",
   "metadata": {},
   "outputs": [
    {
     "name": "stdout",
     "output_type": "stream",
     "text": [
      "Hello, Welcome to the Python Programming\n"
     ]
    }
   ],
   "source": [
    "#Creating a function\n",
    "def my_function():\n",
    "    print(\"Hello, Welcome to the Python Programming\")\n",
    "\n",
    "#calling a function\n",
    "my_function()"
   ]
  },
  {
   "cell_type": "markdown",
   "id": "01c2d5c3",
   "metadata": {},
   "source": [
    "## 3. Arguments\n",
    "- Information can be passed into functions as arguments.\n",
    "\n",
    "- Arguments are specified after the function name, inside the parentheses. You can add as many arguments as you want, just separate them with a comma."
   ]
  },
  {
   "cell_type": "code",
   "execution_count": 3,
   "id": "3bd21270",
   "metadata": {},
   "outputs": [
    {
     "name": "stdout",
     "output_type": "stream",
     "text": [
      "Hello, Parmeet Welcome to the Python Programming\n",
      "Hello, Trishaan Welcome to the Python Programming\n",
      "Hello, Anit Welcome to the Python Programming\n"
     ]
    }
   ],
   "source": [
    "#Creating a function\n",
    "def my_function(name):\n",
    "    print(\"Hello, {} Welcome to the Python Programming\".format(name))\n",
    "\n",
    "#Calling functions with different arguments\n",
    "my_function(\"Parmeet\")\n",
    "my_function(\"Trishaan\")\n",
    "my_function(\"Anit\")"
   ]
  },
  {
   "cell_type": "markdown",
   "id": "58964bd1",
   "metadata": {},
   "source": [
    "<b>Arguments are often shortened to args in Python documentations."
   ]
  },
  {
   "cell_type": "markdown",
   "id": "a3c2ff76",
   "metadata": {},
   "source": [
    "### Difference between Parameter and Argument.\n",
    "\n",
    "- From a function's perspective:\n",
    "\n",
    "    - A parameter is the variable listed inside the parentheses in the function definition.\n",
    "\n",
    "    - An argument is the value that is sent to the function when it is called."
   ]
  },
  {
   "cell_type": "markdown",
   "id": "1a5dd53c",
   "metadata": {},
   "source": [
    "## 4. Number of Arguments\n",
    "- By default, a function must be called with the correct number of arguments. \n",
    "- If your function expects 2 arguments, you have to call the function with 2 arguments, not more, and not less"
   ]
  },
  {
   "cell_type": "code",
   "execution_count": 4,
   "id": "d96571f6",
   "metadata": {},
   "outputs": [
    {
     "name": "stdout",
     "output_type": "stream",
     "text": [
      "Hello \"Parmeet Dang\" Welcome to the Python Programming\n"
     ]
    }
   ],
   "source": [
    "#This function expects 2 arguments, and gets 2 arguments\n",
    "\n",
    "#Creating the function with 2 arguments\n",
    "def my_function(fname, lname):\n",
    "    print(\"Hello \\\"{} {}\\\" Welcome to the Python Programming\".format(fname, lname))\n",
    "\n",
    "#calling function with 2 arguments\n",
    "my_function(\"Parmeet\", \"Dang\")"
   ]
  },
  {
   "cell_type": "code",
   "execution_count": 5,
   "id": "b13518bf",
   "metadata": {},
   "outputs": [
    {
     "ename": "TypeError",
     "evalue": "my_function() missing 1 required positional argument: 'lname'",
     "output_type": "error",
     "traceback": [
      "\u001b[1;31m---------------------------------------------------------------------------\u001b[0m",
      "\u001b[1;31mTypeError\u001b[0m                                 Traceback (most recent call last)",
      "\u001b[1;32m<ipython-input-5-3573b60e5560>\u001b[0m in \u001b[0;36m<module>\u001b[1;34m\u001b[0m\n\u001b[0;32m      1\u001b[0m \u001b[1;31m#calling same above function with 1 argument will result in error\u001b[0m\u001b[1;33m\u001b[0m\u001b[1;33m\u001b[0m\u001b[1;33m\u001b[0m\u001b[0m\n\u001b[1;32m----> 2\u001b[1;33m \u001b[0mmy_function\u001b[0m\u001b[1;33m(\u001b[0m\u001b[1;34m\"Parmeet\"\u001b[0m\u001b[1;33m)\u001b[0m\u001b[1;33m\u001b[0m\u001b[1;33m\u001b[0m\u001b[0m\n\u001b[0m",
      "\u001b[1;31mTypeError\u001b[0m: my_function() missing 1 required positional argument: 'lname'"
     ]
    }
   ],
   "source": [
    "#calling same above function with 1 argument will result in error\n",
    "my_function(\"Parmeet\")"
   ]
  },
  {
   "cell_type": "code",
   "execution_count": 2,
   "id": "48ad64cb",
   "metadata": {},
   "outputs": [
    {
     "name": "stdout",
     "output_type": "stream",
     "text": [
      "Hello \"vidhya sworna\" Welcome to the Python Programming\n"
     ]
    }
   ],
   "source": [
    "\n",
    "def my_function(fname, lname='sworna'):\n",
    "    print(\"Hello \\\"{} {}\\\" Welcome to the Python Programming\".format(fname, lname))\n",
    "    \n",
    "my_function('vidhya')"
   ]
  },
  {
   "cell_type": "markdown",
   "id": "53f23015",
   "metadata": {},
   "source": [
    "## 5. Arbitrary Arguments, *args\n",
    "- If you do not know how many arguments that will be passed into your function, add a * before the parameter name in the function definition.\n",
    "\n",
    "- This way the function will receive a tuple of arguments, and can access the items accordingly"
   ]
  },
  {
   "cell_type": "code",
   "execution_count": 6,
   "id": "91725110",
   "metadata": {},
   "outputs": [
    {
     "name": "stdout",
     "output_type": "stream",
     "text": [
      "Welcome all the Python Users : ('Parmeet', 'Trishan', 'Anit') \n"
     ]
    }
   ],
   "source": [
    "#If the number of arguments is unknown, add a * before the parameter name:\n",
    "\n",
    "def my_function(*users):\n",
    "    print(\"Welcome all the Python Users : {} \".format(users))\n",
    "\n",
    "my_function(\"Parmeet\", \"Trishan\", \"Anit\")"
   ]
  },
  {
   "cell_type": "markdown",
   "id": "2b587690",
   "metadata": {},
   "source": [
    "## 5. Keyword Arguments\n",
    "- You can also send arguments with the key = value syntax.\n",
    "\n",
    "- This way the order of the arguments does not matter"
   ]
  },
  {
   "cell_type": "code",
   "execution_count": 7,
   "id": "1a3f0071",
   "metadata": {},
   "outputs": [
    {
     "name": "stdout",
     "output_type": "stream",
     "text": [
      "Hi, my name is Parmeet age 28 and I belong to Indore\n"
     ]
    }
   ],
   "source": [
    "def my_function(Name, Age, Location):\n",
    "    print(\"Hi, my name is {} age {} and I belong to {}\".format(Name,Age,Location))\n",
    "\n",
    "my_function(Name = \"Parmeet\", Age = 28, Location = \"Indore\")"
   ]
  },
  {
   "cell_type": "code",
   "execution_count": 8,
   "id": "b9ea25a8",
   "metadata": {},
   "outputs": [
    {
     "name": "stdout",
     "output_type": "stream",
     "text": [
      "Hello\n",
      "Welcome\n",
      "to\n",
      "Python\n",
      "Programming\n"
     ]
    }
   ],
   "source": [
    "#function can take n number of arguments\n",
    "def myFun(*argv):\n",
    "    for arg in argv:\n",
    "        print(arg)\n",
    " \n",
    " \n",
    "myFun('Hello', 'Welcome', 'to', 'Python', 'Programming')"
   ]
  },
  {
   "cell_type": "markdown",
   "id": "eacb7844",
   "metadata": {},
   "source": [
    "## 6. Arbitrary Keyword Arguments, **kwargs\n",
    "- If you do not know how many keyword arguments that will be passed into your function, add two asterisk: ** before the parameter name in the function definition.\n",
    "\n",
    "- This way the function will receive a dictionary of arguments, and can access the items accordingly"
   ]
  },
  {
   "cell_type": "code",
   "execution_count": 9,
   "id": "dc63a10e",
   "metadata": {},
   "outputs": [
    {
     "name": "stdout",
     "output_type": "stream",
     "text": [
      "Hi, my name is Parmeet age 28 and I belong to Indore\n"
     ]
    }
   ],
   "source": [
    "def my_function(**details):\n",
    "    print(\"Hi, my name is {} age {} and I belong to {}\".format(details[\"Name\"],details[\"Age\"],details[\"Location\"]))\n",
    "\n",
    "my_function(Name = \"Parmeet\", Age = 28, Location = \"Indore\")"
   ]
  },
  {
   "cell_type": "code",
   "execution_count": 10,
   "id": "4f11ee83",
   "metadata": {},
   "outputs": [
    {
     "name": "stdout",
     "output_type": "stream",
     "text": [
      "Name == Parmeet\n",
      "Age == 28\n",
      "Location == Indore\n"
     ]
    }
   ],
   "source": [
    "#function can take n number of keyword arguments\n",
    "def myFun(**kwargs):\n",
    "    for key, value in kwargs.items():\n",
    "        print(\"%s == %s\" % (key, value))\n",
    " \n",
    " \n",
    "myFun(Name = \"Parmeet\", Age = 28, Location = \"Indore\")"
   ]
  },
  {
   "cell_type": "markdown",
   "id": "fedce9d5",
   "metadata": {},
   "source": [
    "## 7. Default Parameter Value\n",
    "- The following example shows how to use a default parameter value.\n",
    "\n",
    "- If we call the function without argument, it uses the default value"
   ]
  },
  {
   "cell_type": "code",
   "execution_count": 11,
   "id": "bad0b1f4",
   "metadata": {},
   "outputs": [
    {
     "name": "stdout",
     "output_type": "stream",
     "text": [
      "I am from Sweden\n",
      "I am from Norway\n",
      "I am from India\n",
      "I am from Brazil\n"
     ]
    }
   ],
   "source": [
    "def my_function(country = \"India\"):\n",
    "    print(\"I am from \" + country)\n",
    "\n",
    "#calling the functions\n",
    "my_function(\"Sweden\")\n",
    "my_function(\"Norway\")\n",
    "my_function() #calling function with no argument will return India\n",
    "my_function(\"Brazil\")\n"
   ]
  },
  {
   "cell_type": "markdown",
   "id": "b802203f",
   "metadata": {},
   "source": [
    "## 8. Passing a List as an Argument\n",
    "- You can send any data types of argument to a function (string, number, list, dictionary etc.), and it will be treated as the same data type inside the function."
   ]
  },
  {
   "cell_type": "code",
   "execution_count": 12,
   "id": "1be5cd85",
   "metadata": {},
   "outputs": [
    {
     "name": "stdout",
     "output_type": "stream",
     "text": [
      "Pizza\n",
      "sandwich\n",
      "Burger\n",
      "Pasta\n"
     ]
    }
   ],
   "source": [
    "#creating a function\n",
    "def my_function(food):\n",
    "    for x in food:\n",
    "        print(x)\n",
    "\n",
    "items = [\"Pizza\", \"sandwich\", \"Burger\",\"Pasta\"]\n",
    "\n",
    "my_function(items) #passing list as an argument"
   ]
  },
  {
   "cell_type": "markdown",
   "id": "2fc06db8",
   "metadata": {},
   "source": [
    "## 9. Return Values\n",
    "- To let a function return a value, use the return statement"
   ]
  },
  {
   "cell_type": "code",
   "execution_count": 2,
   "id": "9dccc2b5",
   "metadata": {},
   "outputs": [
    {
     "name": "stdout",
     "output_type": "stream",
     "text": [
      "9\n",
      "25\n",
      "81\n"
     ]
    }
   ],
   "source": [
    "#function that return square of any number\n",
    "def square(x):\n",
    "    return x**2\n",
    "\n",
    "print(square(3))\n",
    "print(square(5))\n",
    "print(square(9))"
   ]
  },
  {
   "cell_type": "markdown",
   "id": "e8fb5799",
   "metadata": {},
   "source": [
    "## 10. The pass Statement\n",
    "- function definitions cannot be empty, but if you for some reason have a function definition with no content, put in the pass statement to avoid getting an error"
   ]
  },
  {
   "cell_type": "code",
   "execution_count": 14,
   "id": "98752b1f",
   "metadata": {},
   "outputs": [],
   "source": [
    "def myfunction():\n",
    "    pass"
   ]
  },
  {
   "cell_type": "code",
   "execution_count": 5,
   "id": "eb5541a2",
   "metadata": {},
   "outputs": [
    {
     "name": "stdout",
     "output_type": "stream",
     "text": [
      "3\n"
     ]
    }
   ],
   "source": [
    "def passExample():\n",
    "    pass\n",
    "    \n",
    "def add():\n",
    "    print(1+2)\n",
    "\n",
    "add()"
   ]
  },
  {
   "cell_type": "markdown",
   "id": "26189df4",
   "metadata": {},
   "source": [
    "## 11. Recursion\n",
    "- Python also accepts function recursion, which means a defined function can call itself."
   ]
  },
  {
   "cell_type": "code",
   "execution_count": 15,
   "id": "de5dbbf7",
   "metadata": {},
   "outputs": [],
   "source": [
    "def factorial(n):\n",
    "    if n==1:\n",
    "        return n\n",
    "    else:\n",
    "        return n * factorial(n-1)"
   ]
  },
  {
   "cell_type": "code",
   "execution_count": 16,
   "id": "e5e37996",
   "metadata": {},
   "outputs": [
    {
     "data": {
      "text/plain": [
       "120"
      ]
     },
     "execution_count": 16,
     "metadata": {},
     "output_type": "execute_result"
    }
   ],
   "source": [
    "factorial(5)"
   ]
  },
  {
   "cell_type": "markdown",
   "id": "d24dc494",
   "metadata": {},
   "source": [
    "## 12.  Python program to demonstrate default arguments"
   ]
  },
  {
   "cell_type": "code",
   "execution_count": 17,
   "id": "9b5ffe42",
   "metadata": {},
   "outputs": [
    {
     "name": "stdout",
     "output_type": "stream",
     "text": [
      "x:  10\n",
      "y:  100\n"
     ]
    }
   ],
   "source": [
    "#creating a function with default arguments \n",
    "def myFun(x, y=100):\n",
    "    print(\"x: \", x)\n",
    "    print(\"y: \", y)\n",
    " \n",
    " \n",
    "# Calling the function\n",
    "myFun(10)"
   ]
  },
  {
   "cell_type": "code",
   "execution_count": 6,
   "id": "ba126eae",
   "metadata": {},
   "outputs": [
    {
     "ename": "SyntaxError",
     "evalue": "non-default argument follows default argument (901405357.py, line 2)",
     "output_type": "error",
     "traceback": [
      "\u001b[1;36m  Cell \u001b[1;32mIn[6], line 2\u001b[1;36m\u001b[0m\n\u001b[1;33m    def myFun( y=100,x):\u001b[0m\n\u001b[1;37m                      ^\u001b[0m\n\u001b[1;31mSyntaxError\u001b[0m\u001b[1;31m:\u001b[0m non-default argument follows default argument\n"
     ]
    }
   ],
   "source": [
    "#creating a function with default arguments \n",
    "def myFun( y=100,x):\n",
    "    print(\"x: \", x)\n",
    "    print(\"y: \", y)\n",
    " \n",
    " \n",
    "# Calling the function\n",
    "myFun(10)"
   ]
  },
  {
   "cell_type": "markdown",
   "id": "8e028fc3",
   "metadata": {},
   "source": [
    "## 13. Adding Docstring to the function\n",
    "- <b>Syntax: print(function_name.__doc__)"
   ]
  },
  {
   "cell_type": "code",
   "execution_count": 9,
   "id": "b9a7e045",
   "metadata": {},
   "outputs": [],
   "source": [
    "def evenOdd(x):\n",
    "    \"\"\"\n",
    "    Function to check if the number is even or odd\n",
    "    Has a single parameter\n",
    "    \"\"\"\n",
    "     \n",
    "    if (x % 2 == 0):\n",
    "        print(\"even\")\n",
    "    else:\n",
    "        print(\"odd\")\n",
    " "
   ]
  },
  {
   "cell_type": "code",
   "execution_count": 10,
   "id": "a72f9904",
   "metadata": {},
   "outputs": [
    {
     "name": "stdout",
     "output_type": "stream",
     "text": [
      "\n",
      "    Function to check if the number is even or odd\n",
      "    Has a single parameter\n",
      "    \n"
     ]
    }
   ],
   "source": [
    "print(evenOdd.__doc__) #printing function docstring"
   ]
  },
  {
   "cell_type": "markdown",
   "id": "e1aefde0",
   "metadata": {},
   "source": [
    "## 14. Python Function within Functions\n",
    "- A function that is defined inside another function is known as the inner function or nested function. \n",
    "- Nested functions are able to access variables of the enclosing scope. \n",
    "- Inner functions are used so that they can be protected from everything happening outside the function.\n",
    "\n"
   ]
  },
  {
   "cell_type": "code",
   "execution_count": 1,
   "id": "debbc658",
   "metadata": {},
   "outputs": [
    {
     "name": "stdout",
     "output_type": "stream",
     "text": [
      "Start of Outer Function\n",
      "Hello..!!\n",
      "End of Outer Function\n",
      "Start of Inner Function\n",
      "I love Python Programming..!!!\n",
      "End of Iner Function\n"
     ]
    }
   ],
   "source": [
    "def f1():\n",
    "    print(\"Start of Outer Function\")\n",
    "    print(\"Hello..!!\")\n",
    "    s = 'I love Python Programming..!!!'\n",
    "    print(\"End of Outer Function\") \n",
    "    def f2():\n",
    "        print(\"Start of Inner Function\")\n",
    "        print(s)\n",
    "        print(\"End of Iner Function\")\n",
    "         \n",
    "    f2()\n",
    " \n",
    "#calling function\n",
    "f1() #This function internally calls f2 and print the string"
   ]
  },
  {
   "cell_type": "markdown",
   "id": "9a747998",
   "metadata": {},
   "source": [
    "## Lambda\n",
    "\n",
    "- lambda argument : Expression\n",
    "- Lambda is an anonymous function which can take any number of arguments, but can only have one expression. it returns a function object which can be assigned to any variable"
   ]
  },
  {
   "cell_type": "code",
   "execution_count": 5,
   "id": "d9787667",
   "metadata": {},
   "outputs": [],
   "source": [
    "area = lambda x,y: x*y"
   ]
  },
  {
   "cell_type": "code",
   "execution_count": 6,
   "id": "36b0a23d",
   "metadata": {},
   "outputs": [
    {
     "data": {
      "text/plain": [
       "15"
      ]
     },
     "execution_count": 6,
     "metadata": {},
     "output_type": "execute_result"
    }
   ],
   "source": [
    "area(3,5)"
   ]
  },
  {
   "cell_type": "code",
   "execution_count": 7,
   "id": "6eb07936",
   "metadata": {},
   "outputs": [
    {
     "data": {
      "text/plain": [
       "49"
      ]
     },
     "execution_count": 7,
     "metadata": {},
     "output_type": "execute_result"
    }
   ],
   "source": [
    "square= lambda x: x**2\n",
    "square(7)"
   ]
  },
  {
   "cell_type": "code",
   "execution_count": 16,
   "id": "eb81db54",
   "metadata": {},
   "outputs": [
    {
     "name": "stdout",
     "output_type": "stream",
     "text": [
      "Python programming\n"
     ]
    }
   ],
   "source": [
    "#right way to print\n",
    "string = \"Python programming\"\n",
    "(lambda x: print(string))(string)"
   ]
  },
  {
   "cell_type": "code",
   "execution_count": 14,
   "id": "d1698ff5",
   "metadata": {},
   "outputs": [
    {
     "data": {
      "text/plain": [
       "<function __main__.<lambda>(string)>"
      ]
     },
     "execution_count": 14,
     "metadata": {},
     "output_type": "execute_result"
    }
   ],
   "source": [
    "#Wrong way\n",
    "lambda string: print(string)(string)"
   ]
  },
  {
   "cell_type": "code",
   "execution_count": 17,
   "id": "0058827a",
   "metadata": {},
   "outputs": [],
   "source": [
    "# using if else if lambda\n",
    "area = lambda a,b: \"high\" if (a*b >10) else \"low\""
   ]
  },
  {
   "cell_type": "code",
   "execution_count": 14,
   "id": "94601da8",
   "metadata": {},
   "outputs": [
    {
     "data": {
      "text/plain": [
       "'20 high'"
      ]
     },
     "execution_count": 14,
     "metadata": {},
     "output_type": "execute_result"
    }
   ],
   "source": [
    "area(2,10)"
   ]
  },
  {
   "cell_type": "code",
   "execution_count": 18,
   "id": "3a9d1fe9",
   "metadata": {},
   "outputs": [
    {
     "data": {
      "text/plain": [
       "'square'"
      ]
     },
     "execution_count": 18,
     "metadata": {},
     "output_type": "execute_result"
    }
   ],
   "source": [
    "area = lambda a,b: \"square\" if (a==b) else \"rectangle\"\n",
    "area(3,3)"
   ]
  },
  {
   "cell_type": "code",
   "execution_count": 21,
   "id": "95150127",
   "metadata": {},
   "outputs": [
    {
     "data": {
      "text/plain": [
       "'square: Area== 9'"
      ]
     },
     "execution_count": 21,
     "metadata": {},
     "output_type": "execute_result"
    }
   ],
   "source": [
    "area = lambda a,b: f\"square: Area== {a*b}\" if (a==b) else f\"rectangle: area = {a*b} \"\n",
    "area(3,3)"
   ]
  },
  {
   "cell_type": "code",
   "execution_count": 8,
   "id": "56f8ab91",
   "metadata": {},
   "outputs": [],
   "source": [
    "# This fuction is to demonstarate how lamdda will work inside a fuction \n",
    "def myfunc(n):\n",
    "    return lambda x: x*n"
   ]
  },
  {
   "cell_type": "code",
   "execution_count": 9,
   "id": "fc0706b5",
   "metadata": {},
   "outputs": [
    {
     "name": "stdout",
     "output_type": "stream",
     "text": [
      "<function myfunc.<locals>.<lambda> at 0x0000022E8AF56310>\n"
     ]
    },
    {
     "data": {
      "text/plain": [
       "8"
      ]
     },
     "execution_count": 9,
     "metadata": {},
     "output_type": "execute_result"
    }
   ],
   "source": [
    "# First we assign it to a variable when we input for variable(n) in function \"n\". resulting variable will lambda object\n",
    "pre_step = myfunc(2)\n",
    "print(pre_step)\n",
    "# Then we give value for lambda variable \"x\"\n",
    "pre_step(4)\n"
   ]
  },
  {
   "cell_type": "code",
   "execution_count": 15,
   "id": "a0799b33",
   "metadata": {},
   "outputs": [],
   "source": [
    "list1 = [[2,3,4],[1,16,2,6,64], [3,6,9,12]]\n",
    "# Sorting each sublist\n",
    "sortlist = lambda x : (sorted(i) for i in x)"
   ]
  },
  {
   "cell_type": "code",
   "execution_count": 26,
   "id": "188f4f9e",
   "metadata": {},
   "outputs": [
    {
     "data": {
      "text/plain": [
       "[[2, 3, 4], [1, 2, 6, 16, 64], [3, 6, 9, 12]]"
      ]
     },
     "execution_count": 26,
     "metadata": {},
     "output_type": "execute_result"
    }
   ],
   "source": [
    "p = sortlist(list1)\n",
    "list(p)"
   ]
  },
  {
   "cell_type": "code",
   "execution_count": 17,
   "id": "b9106162",
   "metadata": {},
   "outputs": [
    {
     "data": {
      "text/plain": [
       "[[1, 2, 6, 16, 64], [2, 3, 4], [3, 6, 9, 12]]"
      ]
     },
     "execution_count": 17,
     "metadata": {},
     "output_type": "execute_result"
    }
   ],
   "source": [
    "#Using list comprehension\n",
    "[sorted(i) for i in sorted(list1)]"
   ]
  },
  {
   "cell_type": "markdown",
   "id": "d043efb9",
   "metadata": {},
   "source": [
    "## Map\n",
    "- map() takes two arguments 1) one is a function object and 2) is iterables like sequence, collection or an iteraror object\n",
    "- any number of iterables can be send but make sure function has one parameter for each iterable.\n",
    "- excecutes the function object for all elements in the sequence and returns a map object, which can be converted to list using list() \n",
    "##### Syntax\n",
    "- map(function, iterable1,iterable2,..)\n",
    "###### Con\n",
    "- Code readabilty and testability will be poor if we are writing complex codes with lambda"
   ]
  },
  {
   "cell_type": "code",
   "execution_count": 18,
   "id": "426b3670",
   "metadata": {},
   "outputs": [
    {
     "data": {
      "text/plain": [
       "[1, 4, 9, 16, 25]"
      ]
     },
     "execution_count": 18,
     "metadata": {},
     "output_type": "execute_result"
    }
   ],
   "source": [
    "#Finding square of each element in a list\n",
    "lst = [1,2,3,4,5]\n",
    "sqr = list(map(lambda x: x**2, lst))\n",
    "sqr"
   ]
  },
  {
   "cell_type": "code",
   "execution_count": 22,
   "id": "79927e11",
   "metadata": {},
   "outputs": [
    {
     "data": {
      "text/plain": [
       "[1, 4, 9, 16, 25]"
      ]
     },
     "execution_count": 22,
     "metadata": {},
     "output_type": "execute_result"
    }
   ],
   "source": [
    "#map use with one function\n",
    "def squr(x):\n",
    "    return x**2\n",
    "list(map(squr,lst))"
   ]
  },
  {
   "cell_type": "code",
   "execution_count": 24,
   "id": "42773b57",
   "metadata": {},
   "outputs": [
    {
     "data": {
      "text/plain": [
       "[2, 8, 15, 24]"
      ]
     },
     "execution_count": 24,
     "metadata": {},
     "output_type": "execute_result"
    }
   ],
   "source": [
    "ls1 = [1,2,3,4]\n",
    "ls2 = [2,4,5,6]\n",
    "def multiplier(x,y):\n",
    "    return x*y\n",
    "    \n",
    "list(map(multiplier, ls1,ls2))   "
   ]
  },
  {
   "cell_type": "code",
   "execution_count": 2,
   "id": "c4a2df4d",
   "metadata": {},
   "outputs": [
    {
     "data": {
      "text/plain": [
       "[7, 9, 11, 13, 15]"
      ]
     },
     "execution_count": 2,
     "metadata": {},
     "output_type": "execute_result"
    }
   ],
   "source": [
    "# Adding two lists\n",
    "lst1 = [6,7,8,9,10]\n",
    "add = list(map(lambda x,y: x+y, lst,lst1))\n",
    "add"
   ]
  },
  {
   "cell_type": "code",
   "execution_count": 3,
   "id": "fdf10439",
   "metadata": {},
   "outputs": [
    {
     "data": {
      "text/plain": [
       "['Shahad', 'Mohammed']"
      ]
     },
     "execution_count": 3,
     "metadata": {},
     "output_type": "execute_result"
    }
   ],
   "source": [
    "#Taking on particular key from dict inside a list\n",
    "dit = [{\"name\": \"Shahad\",\"sec\":True}, {'name': \"Mohammed\", \"sec\": False}]\n",
    "kei = list(map(lambda a:a[\"name\"], dit))\n",
    "kei"
   ]
  },
  {
   "cell_type": "code",
   "execution_count": null,
   "id": "b87aef6b",
   "metadata": {},
   "outputs": [],
   "source": []
  },
  {
   "cell_type": "markdown",
   "id": "9f245a42",
   "metadata": {},
   "source": [
    "## Filter\n",
    "- Filter takes two arguments a function object and an iterable (Only takes one iterable)\n",
    "- filers out all elements in iterable for which the function returns TRUE\n"
   ]
  },
  {
   "cell_type": "code",
   "execution_count": 8,
   "id": "0d18311b",
   "metadata": {},
   "outputs": [
    {
     "data": {
      "text/plain": [
       "[2, 4, 6, 8]"
      ]
     },
     "execution_count": 8,
     "metadata": {},
     "output_type": "execute_result"
    }
   ],
   "source": [
    "#Filtering only even numbers\n",
    "lst = [x for x in range(1,10)]\n",
    "even = list(filter(lambda x: (x%2 == 0),lst))\n",
    "even"
   ]
  },
  {
   "cell_type": "code",
   "execution_count": null,
   "id": "54e6fd70",
   "metadata": {},
   "outputs": [],
   "source": []
  },
  {
   "cell_type": "code",
   "execution_count": null,
   "id": "3b45a6c6",
   "metadata": {},
   "outputs": [],
   "source": []
  },
  {
   "cell_type": "markdown",
   "id": "a675972a",
   "metadata": {},
   "source": [
    "## reduce\n",
    "- Reduce takes a function and an iterable and returns a single value\n",
    "- performs a repetative operation over the pairs of iterable\n",
    "##### syntax\n",
    "reduce(function,iterable,initializer)"
   ]
  },
  {
   "cell_type": "code",
   "execution_count": 16,
   "id": "b4d21f83",
   "metadata": {},
   "outputs": [
    {
     "data": {
      "text/plain": [
       "45"
      ]
     },
     "execution_count": 16,
     "metadata": {},
     "output_type": "execute_result"
    }
   ],
   "source": [
    "#Sum of all numbers in a list\n",
    "lst = [x for x in range(1,10)]\n",
    "from functools import reduce\n",
    "reduce((lambda x,y:x+y), lst)"
   ]
  },
  {
   "cell_type": "code",
   "execution_count": null,
   "id": "e706259e",
   "metadata": {},
   "outputs": [],
   "source": []
  }
 ],
 "metadata": {
  "kernelspec": {
   "display_name": "Python 3 (ipykernel)",
   "language": "python",
   "name": "python3"
  },
  "language_info": {
   "codemirror_mode": {
    "name": "ipython",
    "version": 3
   },
   "file_extension": ".py",
   "mimetype": "text/x-python",
   "name": "python",
   "nbconvert_exporter": "python",
   "pygments_lexer": "ipython3",
   "version": "3.9.13"
  }
 },
 "nbformat": 4,
 "nbformat_minor": 5
}
