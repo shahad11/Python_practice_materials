{
 "cells": [
  {
   "cell_type": "markdown",
   "metadata": {},
   "source": [
    "#### Question 1\n",
    "- write a function to Reverse a given string."
   ]
  },
  {
   "cell_type": "code",
   "execution_count": 2,
   "metadata": {},
   "outputs": [],
   "source": [
    "def reverse_string(st):\n",
    "    return st[::-1]"
   ]
  },
  {
   "cell_type": "code",
   "execution_count": 3,
   "metadata": {},
   "outputs": [
    {
     "data": {
      "text/plain": [
       "'hsilgnE'"
      ]
     },
     "execution_count": 3,
     "metadata": {},
     "output_type": "execute_result"
    }
   ],
   "source": [
    "reverse_string(\"English\")"
   ]
  },
  {
   "cell_type": "markdown",
   "metadata": {},
   "source": [
    "#### Question 2\n",
    "- Check if a string is a palindrome."
   ]
  },
  {
   "cell_type": "code",
   "execution_count": 4,
   "metadata": {},
   "outputs": [],
   "source": [
    "#My way\n",
    "def is_paliandrom(st):\n",
    "    if st.lower() == st[::-1].lower():\n",
    "        return True\n",
    "    else:\n",
    "        return False"
   ]
  },
  {
   "cell_type": "code",
   "execution_count": 5,
   "metadata": {},
   "outputs": [],
   "source": [
    "#Symplified way\n",
    "def is_paliandrom(st):\n",
    "    return st.lower() == st[::-1].lower()"
   ]
  },
  {
   "cell_type": "code",
   "execution_count": 6,
   "metadata": {},
   "outputs": [
    {
     "name": "stdout",
     "output_type": "stream",
     "text": [
      "False\n",
      "True\n"
     ]
    }
   ],
   "source": [
    "print(is_paliandrom(\"English\"))\n",
    "print(is_paliandrom(\"Malayalam\"))"
   ]
  },
  {
   "cell_type": "markdown",
   "metadata": {},
   "source": [
    "#### Question 3\n",
    "- Write a function to compute the factorial of a number using recursion."
   ]
  },
  {
   "cell_type": "code",
   "execution_count": 7,
   "metadata": {},
   "outputs": [],
   "source": [
    "#My solution\n",
    "def fatorial_m(numb):\n",
    "    if numb <=1:\n",
    "        return 1\n",
    "    else:\n",
    "        fact = 1\n",
    "        for i in range(1,numb+1):\n",
    "            fact = fact*i\n",
    "        return fact\n"
   ]
  },
  {
   "cell_type": "code",
   "execution_count": 8,
   "metadata": {},
   "outputs": [
    {
     "data": {
      "text/plain": [
       "3628800"
      ]
     },
     "execution_count": 8,
     "metadata": {},
     "output_type": "execute_result"
    }
   ],
   "source": [
    "fatorial_m(10)"
   ]
  },
  {
   "cell_type": "code",
   "execution_count": 5,
   "metadata": {},
   "outputs": [],
   "source": [
    "#Alternate way\n",
    "def factorial(numb):\n",
    "    if numb <= 1:\n",
    "        return 1\n",
    "    else:\n",
    "        return numb*factorial(numb-1)\n"
   ]
  },
  {
   "cell_type": "code",
   "execution_count": 9,
   "metadata": {},
   "outputs": [
    {
     "data": {
      "text/plain": [
       "3628800"
      ]
     },
     "execution_count": 9,
     "metadata": {},
     "output_type": "execute_result"
    }
   ],
   "source": [
    "factorial(10)\n"
   ]
  },
  {
   "cell_type": "markdown",
   "metadata": {},
   "source": [
    "#### 4. Question\n",
    "- Generate the nth Fibonacci number."
   ]
  },
  {
   "cell_type": "code",
   "execution_count": 55,
   "metadata": {},
   "outputs": [
    {
     "data": {
      "text/plain": [
       "13"
      ]
     },
     "execution_count": 55,
     "metadata": {},
     "output_type": "execute_result"
    }
   ],
   "source": [
    "#my solution\n",
    "def fibinachi(numb):\n",
    "    if numb <= 1:\n",
    "        return 1\n",
    "    else:\n",
    "        l = []\n",
    "        for i in range(0,numb+1):\n",
    "            if i <=1:\n",
    "                l.append(1)            \n",
    "            else:\n",
    "                l.append(l[-2]+l[-1])             \n",
    "        return l[-1]     \n",
    "fibinachi(6)        "
   ]
  },
  {
   "cell_type": "code",
   "execution_count": 1,
   "metadata": {},
   "outputs": [
    {
     "data": {
      "text/plain": [
       "13"
      ]
     },
     "execution_count": 1,
     "metadata": {},
     "output_type": "execute_result"
    }
   ],
   "source": [
    "#with recursion\n",
    "def fibinachi(numb):\n",
    "    if numb<=1:\n",
    "        return 1\n",
    "    else:\n",
    "        return fibinachi(numb-1)+fibinachi(numb-2)\n",
    "fibinachi(6)"
   ]
  },
  {
   "cell_type": "code",
   "execution_count": 3,
   "metadata": {},
   "outputs": [
    {
     "data": {
      "text/plain": [
       "[1, 1, 2, 3, 5, 8, 13, 21, 34, 55, 89]"
      ]
     },
     "execution_count": 3,
     "metadata": {},
     "output_type": "execute_result"
    }
   ],
   "source": [
    "#For a list if numbers\n",
    "ls = [i for i in range(0,11)]\n",
    "list(map(fibinachi,ls))"
   ]
  },
  {
   "cell_type": "markdown",
   "metadata": {},
   "source": [
    "#### 5. Question \n",
    "- Sorting problems"
   ]
  },
  {
   "cell_type": "code",
   "execution_count": 39,
   "metadata": {},
   "outputs": [],
   "source": [
    "def sorter(ls):\n",
    "    for i in range(len(ls)):\n",
    "        for j in range(len(ls)):\n",
    "            if ls[i]<ls[j]:\n",
    "                ls[i],ls[j] = ls[j],ls[i]\n",
    "    return ls"
   ]
  },
  {
   "cell_type": "code",
   "execution_count": 41,
   "metadata": {},
   "outputs": [
    {
     "data": {
      "text/plain": [
       "[1, 2, 3, 3, 4, 5, 100]"
      ]
     },
     "execution_count": 41,
     "metadata": {},
     "output_type": "execute_result"
    }
   ],
   "source": [
    "sorter([2,1,3,100,4,5,3])"
   ]
  },
  {
   "cell_type": "markdown",
   "metadata": {},
   "source": [
    "- Write a function to take the input a list. . example: [1,10,3,3,7,8,8,9]. The function should return a sorted list with no duplicates. The count of duplicate elements removed should also be returned.\n"
   ]
  },
  {
   "cell_type": "code",
   "execution_count": 45,
   "metadata": {},
   "outputs": [],
   "source": [
    "def sortcounter(ls):\n",
    "    ls.sort()\n",
    "    sortlist = list(set(ls))\n",
    "    counter = {i:ls.count(i) for i in ls if ls.count(i)>1}\n",
    "    return sortlist,counter"
   ]
  },
  {
   "cell_type": "code",
   "execution_count": 46,
   "metadata": {},
   "outputs": [
    {
     "data": {
      "text/plain": [
       "([1, 3, 7, 8, 9, 10], {3: 2, 8: 2})"
      ]
     },
     "execution_count": 46,
     "metadata": {},
     "output_type": "execute_result"
    }
   ],
   "source": [
    "sortcounter( [1,10,3,3,7,8,8,9])"
   ]
  },
  {
   "cell_type": "code",
   "execution_count": null,
   "metadata": {},
   "outputs": [],
   "source": []
  },
  {
   "cell_type": "markdown",
   "metadata": {},
   "source": [
    "#### 1. Question:\n",
    "- Given a list of numbers, write a Python function to find the second highest number.\n"
   ]
  },
  {
   "cell_type": "code",
   "execution_count": 69,
   "metadata": {},
   "outputs": [
    {
     "data": {
      "text/plain": [
       "10"
      ]
     },
     "execution_count": 69,
     "metadata": {},
     "output_type": "execute_result"
    }
   ],
   "source": [
    "def second_largest(l):\n",
    "    l = list(set(l))\n",
    "    l.sort()\n",
    "    return l[-2]\n",
    "lis = [3,5,7,3,4,8,6,5,7,8,9,10,11]\n",
    "second_largest(lis)"
   ]
  },
  {
   "cell_type": "markdown",
   "metadata": {},
   "source": [
    "#### 3. Question:\n",
    "- You are given a list of strings. Write a function to filter out all strings that are palindromes."
   ]
  },
  {
   "cell_type": "code",
   "execution_count": 4,
   "metadata": {},
   "outputs": [
    {
     "data": {
      "text/plain": [
       "['malayalam', 'blalb', 'aaaa']"
      ]
     },
     "execution_count": 4,
     "metadata": {},
     "output_type": "execute_result"
    }
   ],
   "source": [
    "#My solution\n",
    "def is_paliandrom(string):\n",
    "    palind = []\n",
    "    for word in string.split():\n",
    "        if word.lower()==word[::-1].lower():\n",
    "            palind.append(word)\n",
    "    return palind\n",
    "string = \"malayalam is not blalb aaaa *Yt\"\n",
    "is_paliandrom(string)   "
   ]
  },
  {
   "cell_type": "code",
   "execution_count": 5,
   "metadata": {},
   "outputs": [
    {
     "name": "stdout",
     "output_type": "stream",
     "text": [
      "['radar', 'level']\n"
     ]
    }
   ],
   "source": [
    "def is_palindrome(s):\n",
    "    s = ''.join(e for e in s if e.isalnum())  # Remove punctuation and spaces\n",
    "    return s.lower() == s.lower()[::-1]\n",
    "\n",
    "def filter_palindromes(strings):\n",
    "    return [s for s in strings if is_palindrome(s)]\n",
    "\n",
    "words = [\"radar\", \"python\", \"level\", \"world\"]\n",
    "print(filter_palindromes(words))"
   ]
  },
  {
   "cell_type": "markdown",
   "metadata": {},
   "source": [
    "#### 4. Question: \n",
    "- Given a string, write a function to check if it is an anagram of another string."
   ]
  },
  {
   "cell_type": "code",
   "execution_count": 32,
   "metadata": {},
   "outputs": [],
   "source": [
    "def anagram(str1,str2):\n",
    "    return sorted(str1)==sorted(str2)"
   ]
  },
  {
   "cell_type": "code",
   "execution_count": 35,
   "metadata": {},
   "outputs": [
    {
     "data": {
      "text/plain": [
       "False"
      ]
     },
     "execution_count": 35,
     "metadata": {},
     "output_type": "execute_result"
    }
   ],
   "source": [
    "anagram(\"bets\",\"best\")"
   ]
  },
  {
   "cell_type": "code",
   "execution_count": 27,
   "metadata": {},
   "outputs": [],
   "source": [
    "#My method\n",
    "def anagram(str1,str2):\n",
    "    l = []\n",
    "    if len(str1)!= len(str2):\n",
    "        return False\n",
    "    for i in set(str1):\n",
    "        if i in list(set(str2)):\n",
    "            l.append(True)\n",
    "        else:\n",
    "            return False\n",
    "    if all(l):\n",
    "        return True"
   ]
  },
  {
   "cell_type": "code",
   "execution_count": 31,
   "metadata": {},
   "outputs": [
    {
     "data": {
      "text/plain": [
       "True"
      ]
     },
     "execution_count": 31,
     "metadata": {},
     "output_type": "execute_result"
    }
   ],
   "source": [
    "anagram(\"bets\",\"best\")"
   ]
  },
  {
   "cell_type": "markdown",
   "metadata": {},
   "source": [
    "#### 5. Question: \n",
    "- Write a function to flatten a nested list."
   ]
  },
  {
   "cell_type": "code",
   "execution_count": null,
   "metadata": {},
   "outputs": [],
   "source": []
  },
  {
   "cell_type": "code",
   "execution_count": null,
   "metadata": {},
   "outputs": [],
   "source": []
  },
  {
   "cell_type": "markdown",
   "metadata": {},
   "source": [
    "## RE library"
   ]
  },
  {
   "cell_type": "code",
   "execution_count": null,
   "metadata": {},
   "outputs": [],
   "source": []
  },
  {
   "cell_type": "code",
   "execution_count": null,
   "metadata": {},
   "outputs": [],
   "source": []
  }
 ],
 "metadata": {
  "kernelspec": {
   "display_name": "Python 3 (ipykernel)",
   "language": "python",
   "name": "python3"
  },
  "language_info": {
   "codemirror_mode": {
    "name": "ipython",
    "version": 3
   },
   "file_extension": ".py",
   "mimetype": "text/x-python",
   "name": "python",
   "nbconvert_exporter": "python",
   "pygments_lexer": "ipython3",
   "version": "3.11.5"
  },
  "vscode": {
   "interpreter": {
    "hash": "73b6f4d668dbd7edb6a8d8cddf81959084b9d85cf1d200e6b76852f11eb47cc8"
   }
  }
 },
 "nbformat": 4,
 "nbformat_minor": 2
}
