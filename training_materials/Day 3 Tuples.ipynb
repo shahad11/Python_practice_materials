{
 "cells": [
  {
   "cell_type": "markdown",
   "id": "362fe6be",
   "metadata": {},
   "source": [
    "## a. Creating empty tuple"
   ]
  },
  {
   "cell_type": "code",
   "execution_count": 1,
   "id": "7815b6e5",
   "metadata": {},
   "outputs": [
    {
     "name": "stdout",
     "output_type": "stream",
     "text": [
      "()\n",
      "<class 'tuple'>\n"
     ]
    }
   ],
   "source": [
    "#Method-1\n",
    "tuple1 = ()\n",
    "print(tuple1)\n",
    "print(type(tuple1))"
   ]
  },
  {
   "cell_type": "code",
   "execution_count": 2,
   "id": "3ad72a75",
   "metadata": {},
   "outputs": [
    {
     "name": "stdout",
     "output_type": "stream",
     "text": [
      "()\n",
      "<class 'tuple'>\n"
     ]
    }
   ],
   "source": [
    "#Method-2\n",
    "tuple1 = tuple()\n",
    "print(tuple1)\n",
    "print(type(tuple1))"
   ]
  },
  {
   "cell_type": "markdown",
   "id": "21614347",
   "metadata": {},
   "source": [
    "- the parentheses can be omitted and the single value can be assigned directly to a variable, tuple1. \n",
    "- However, it is important to note that if you want to create a tuple with a single element and include parentheses, you need to add a comma after the element, like this: (2,)"
   ]
  },
  {
   "cell_type": "code",
   "execution_count": 3,
   "id": "e8e5ac25",
   "metadata": {},
   "outputs": [
    {
     "name": "stdout",
     "output_type": "stream",
     "text": [
      "(2,)\n",
      "<class 'tuple'>\n"
     ]
    }
   ],
   "source": [
    "# Method -3\n",
    "tuple1 = 2,\n",
    "print(tuple1)\n",
    "print(type(tuple1))"
   ]
  },
  {
   "cell_type": "markdown",
   "id": "a0419086",
   "metadata": {},
   "source": [
    "## b. Creating tuple with elements"
   ]
  },
  {
   "cell_type": "code",
   "execution_count": null,
   "id": "ddc32c71",
   "metadata": {},
   "outputs": [],
   "source": [
    "tuple1 = (\"apple\", \"banana\", \"cherry\")\n",
    "print(tuple1)"
   ]
  },
  {
   "cell_type": "markdown",
   "id": "756cffc3",
   "metadata": {},
   "source": [
    "- tuple() can take an iterable object as an argument and convert it into a new tuple.\n",
    "    - This can be useful when you have an iterable object and need to convert it into a tuple for some purpose, such as passing it as an argument to a function that expects a tuple."
   ]
  },
  {
   "cell_type": "code",
   "execution_count": 4,
   "id": "5dba9771",
   "metadata": {},
   "outputs": [
    {
     "name": "stdout",
     "output_type": "stream",
     "text": [
      "('h', 'e', 'l', 'l', 'o')\n",
      "(1, 2, 3)\n",
      "(4, 5, 6)\n"
     ]
    }
   ],
   "source": [
    "string = \"hello\"\n",
    "tuple_from_string = tuple(string)\n",
    "print(tuple_from_string)  # Output: ('h', 'e', 'l', 'l', 'o')\n",
    "\n",
    "list1 = [1, 2, 3]\n",
    "tuple_from_list = tuple(list1)\n",
    "print(tuple_from_list)  # Output: (1, 2, 3)\n",
    "\n",
    "tuple1 = (4, 5, 6)\n",
    "tuple_from_tuple = tuple(tuple1)\n",
    "print(tuple_from_tuple)  # Output: (4, 5, 6)"
   ]
  },
  {
   "cell_type": "markdown",
   "id": "2e05b370",
   "metadata": {},
   "source": [
    "## c. Allow Duplicates"
   ]
  },
  {
   "cell_type": "code",
   "execution_count": null,
   "id": "f7113d9f",
   "metadata": {},
   "outputs": [],
   "source": [
    "tuple1 = (\"apple\", \"banana\", \"cherry\", \"apple\", \"cherry\")\n",
    "print(tuple1)"
   ]
  },
  {
   "cell_type": "markdown",
   "id": "7354a62f",
   "metadata": {},
   "source": [
    "## d. Tuple Length\n",
    "- To determine how many items a tuple has, use the len() function:"
   ]
  },
  {
   "cell_type": "code",
   "execution_count": null,
   "id": "c1ccc284",
   "metadata": {},
   "outputs": [],
   "source": [
    "#Print the number of items in the tuple\n",
    "tuple1 = (\"apple\", \"banana\", \"cherry\", \"apple\", \"cherry\")\n",
    "print(\"Number of items in tuple1 is : \", len(tuple1))"
   ]
  },
  {
   "cell_type": "markdown",
   "id": "aa3e89bf",
   "metadata": {},
   "source": [
    "## e. Create Tuple With One Item\n",
    "- To create a tuple with only one item, you have to add a comma after the item, otherwise Python will not recognize it as a tuple."
   ]
  },
  {
   "cell_type": "code",
   "execution_count": null,
   "id": "ac8b23e2",
   "metadata": {},
   "outputs": [],
   "source": [
    "#correct way of creating tuple wiht one element\n",
    "tuple1 = (\"apple\",) #creating with comma(,)\n",
    "print(tuple1)\n",
    "print(type(tuple1))"
   ]
  },
  {
   "cell_type": "code",
   "execution_count": null,
   "id": "66a843fe",
   "metadata": {},
   "outputs": [],
   "source": [
    "#Incorrect way - This will generate the string\n",
    "tuple1 = (\"apple\") #creating without comma -> it will be treated as string\n",
    "print(tuple1)\n",
    "print(type(tuple1))"
   ]
  },
  {
   "cell_type": "markdown",
   "id": "d09ab9b0",
   "metadata": {},
   "source": [
    "## f. Tuple Items - Data Types\n",
    "- Tuple items can be of any data type:"
   ]
  },
  {
   "cell_type": "code",
   "execution_count": null,
   "id": "b2f5e764",
   "metadata": {},
   "outputs": [],
   "source": [
    "tuple1 = (\"apple\", \"banana\", \"cherry\")\n",
    "tuple2 = (1, 5, 7, 9, 3)\n",
    "tuple3 = (True, False, False)\n",
    "print(tuple1,\"\\n\",tuple2,\"\\n\",tuple3,\"\\n\")"
   ]
  },
  {
   "cell_type": "code",
   "execution_count": 5,
   "id": "dbc7db88",
   "metadata": {},
   "outputs": [
    {
     "name": "stdout",
     "output_type": "stream",
     "text": [
      "('abc', 34, True, 40, 'male')\n"
     ]
    }
   ],
   "source": [
    "#A tuple with strings, integers and boolean values\n",
    "tuple1 = (\"abc\", 34, True, 40, \"male\")\n",
    "print(tuple1)"
   ]
  },
  {
   "cell_type": "markdown",
   "id": "a90bc4e8",
   "metadata": {},
   "source": [
    "# 2. Access Tuple Items"
   ]
  },
  {
   "cell_type": "markdown",
   "id": "f9b17515",
   "metadata": {},
   "source": [
    "## a. Access Tuple Items\n",
    "- You can access tuple items by referring to the index number, inside square brackets"
   ]
  },
  {
   "cell_type": "code",
   "execution_count": 6,
   "id": "233a7ac6",
   "metadata": {},
   "outputs": [
    {
     "name": "stdout",
     "output_type": "stream",
     "text": [
      "cherry\n"
     ]
    }
   ],
   "source": [
    "#print the third item in the tuple\n",
    "tuple1 = (\"apple\", \"banana\", \"cherry\", \"papaya\")\n",
    "print(tuple1[2])"
   ]
  },
  {
   "cell_type": "markdown",
   "id": "bb5f964f",
   "metadata": {},
   "source": [
    "## b. Negative Indexing\n",
    "- Negative indexing means start from the end."
   ]
  },
  {
   "cell_type": "code",
   "execution_count": null,
   "id": "90c3d9cd",
   "metadata": {},
   "outputs": [],
   "source": [
    "#print the last item in the tuple\n",
    "tuple1 = (\"apple\", \"banana\", \"cherry\", \"papaya\")\n",
    "print(tuple1[-1])"
   ]
  },
  {
   "cell_type": "markdown",
   "id": "c777eb53",
   "metadata": {},
   "source": [
    "## c. Range of Indexes\n",
    "- You can specify a range of indexes by specifying where to start and where to end the range.\n",
    "\n",
    "- When specifying a range, the return value will be a new tuple with the specified items."
   ]
  },
  {
   "cell_type": "code",
   "execution_count": null,
   "id": "dd43c25f",
   "metadata": {},
   "outputs": [],
   "source": [
    "# Return the third, fourth, and fifth item\n",
    "tuple1 = (\"apple\", \"banana\", \"cherry\", \"orange\", \"kiwi\", \"melon\", \"mango\")\n",
    "print(tuple1[2:5])"
   ]
  },
  {
   "cell_type": "code",
   "execution_count": null,
   "id": "72028e87",
   "metadata": {},
   "outputs": [],
   "source": [
    "#starting default by 0th idenx\n",
    "tuple1 = (\"apple\", \"banana\", \"cherry\", \"orange\", \"kiwi\", \"melon\", \"mango\")\n",
    "print(tuple1[:4]) #4th index is not included tuple(start:stop:skip)"
   ]
  },
  {
   "cell_type": "code",
   "execution_count": null,
   "id": "47d1f693",
   "metadata": {},
   "outputs": [],
   "source": [
    "#starting with a certain index and going till end\n",
    "tuple1 = (\"apple\", \"banana\", \"cherry\", \"orange\", \"kiwi\", \"melon\", \"mango\")\n",
    "print(tuple1[2:])"
   ]
  },
  {
   "cell_type": "markdown",
   "id": "4f45cd04",
   "metadata": {},
   "source": [
    "## d. Range of Negative Indexes\n",
    "- Specify negative indexes if you want to start the search from the end of the tuple"
   ]
  },
  {
   "cell_type": "code",
   "execution_count": 2,
   "id": "9cef3451",
   "metadata": {},
   "outputs": [
    {
     "name": "stdout",
     "output_type": "stream",
     "text": [
      "('orange', 'kiwi', 'melon')\n"
     ]
    }
   ],
   "source": [
    "tuple1 = (\"apple\", \"banana\", \"cherry\", \"orange\", \"kiwi\", \"melon\", \"mango\")\n",
    "print(tuple1[-4:-1])"
   ]
  },
  {
   "cell_type": "markdown",
   "id": "a89a6366",
   "metadata": {},
   "source": [
    "## e. Check if Item Exists\n",
    "- To determine if a specified item is present in a tuple use the in keyword:"
   ]
  },
  {
   "cell_type": "code",
   "execution_count": null,
   "id": "09470b74",
   "metadata": {},
   "outputs": [],
   "source": [
    "tuple1 = (\"apple\", \"banana\", \"cherry\")\n",
    "if \"apple\" in tuple1:\n",
    "    print(\"Yes, 'apple' is in the fruits tuple\")"
   ]
  },
  {
   "cell_type": "markdown",
   "id": "46f0ba8e",
   "metadata": {},
   "source": [
    "# 3. Update Tuples\n",
    "- Tuples are unchangeable, meaning that you cannot change, add, or remove items once the tuple is created."
   ]
  },
  {
   "cell_type": "markdown",
   "id": "331974cc",
   "metadata": {},
   "source": [
    "## a. Change Tuple Values\n",
    "- Once a tuple is created, you cannot change its values. Tuples are unchangeable, or immutable as it also is called.\n",
    "\n",
    "- But there is a workaround. You can convert the tuple into a list, change the list, and convert the list back into a tuple."
   ]
  },
  {
   "cell_type": "code",
   "execution_count": null,
   "id": "8af0ed09",
   "metadata": {},
   "outputs": [],
   "source": [
    "x = (\"apple\", \"banana\", \"cherry\")\n",
    "\n",
    "x[1] = \"kiwi\" #Error as tuples are immutable"
   ]
  },
  {
   "cell_type": "code",
   "execution_count": null,
   "id": "31235e02",
   "metadata": {},
   "outputs": [],
   "source": [
    "#Convert the tuple into a list to be able to change it:\n",
    "\n",
    "x = (\"apple\", \"banana\", \"cherry\")\n",
    "print(\"Tuple : \",x)\n",
    "y = list(x)\n",
    "print(\"Tuple changed to list : \",y)\n",
    "y[1] = \"kiwi\"\n",
    "print(\"List updated with the new element : \",y)\n",
    "x = tuple(y)\n",
    "print(\"Updated List converted to tuple back :\",x)"
   ]
  },
  {
   "cell_type": "markdown",
   "id": "e09e5bfe",
   "metadata": {},
   "source": [
    "## b Add Items\n",
    "- Since tuples are immutable, they do not have a build-in append() method, but there are other ways to add items to a tuple."
   ]
  },
  {
   "cell_type": "markdown",
   "id": "a0e50864",
   "metadata": {},
   "source": [
    "### i.Convert into a list \n",
    "- Just like the workaround for changing a tuple, you can convert it into a list, add your item(s), and convert it back into a tuple"
   ]
  },
  {
   "cell_type": "code",
   "execution_count": null,
   "id": "ea5d3b26",
   "metadata": {},
   "outputs": [],
   "source": [
    "#Convert the tuple into a list, add \"orange\", and convert it back into a tuple:\n",
    "\n",
    "tupl1 = (\"apple\", \"banana\", \"cherry\")\n",
    "print(\"Tuple created : \",tuple1)\n",
    "y = list(tupl1)\n",
    "print(\"Converted the tuple to list : \",y)\n",
    "y.append(\"orange\")\n",
    "print(\"Appended the new element to the list : \",y)\n",
    "tupl1 = tuple(y)\n",
    "print(\"Converted List back to tuple : \",tupl1)"
   ]
  },
  {
   "cell_type": "markdown",
   "id": "cba211a0",
   "metadata": {},
   "source": [
    "### ii.Add tuple to a tuple. \n",
    "- You are allowed to add tuples to tuples, so if you want to add one item, (or many), create a new tuple with the item(s), and add it to the existing tuple"
   ]
  },
  {
   "cell_type": "code",
   "execution_count": 7,
   "id": "7d93ee32",
   "metadata": {},
   "outputs": [
    {
     "name": "stdout",
     "output_type": "stream",
     "text": [
      "Tuple-1 :  ('apple', 'banana', 'cherry')\n",
      "Tuple-2 :  ('orange',)\n",
      "Added tuple-1 and tuple-2 :  ('apple', 'banana', 'cherry', 'orange')\n"
     ]
    }
   ],
   "source": [
    "tuple1 = (\"apple\", \"banana\", \"cherry\")\n",
    "tuple2 = (\"orange\",)\n",
    "print(\"Tuple-1 : \",tuple1)\n",
    "print(\"Tuple-2 : \",tuple2)\n",
    "tuple1 += tuple2\n",
    "print(\"Added tuple-1 and tuple-2 : \",tuple1)"
   ]
  },
  {
   "cell_type": "markdown",
   "id": "9bdfa690",
   "metadata": {},
   "source": [
    "## c. Remove Items\n",
    "- You cannot remove items in tuple"
   ]
  },
  {
   "cell_type": "code",
   "execution_count": null,
   "id": "a906fd5d",
   "metadata": {},
   "outputs": [],
   "source": [
    "#Convert the tuple into a list, remove \"apple\", and convert it back into a tuple:\n",
    "\n",
    "tuple1 = (\"apple\", \"banana\", \"cherry\")\n",
    "print(\"Tuple Created : \",tuple)\n",
    "y = list(tuple1)\n",
    "print(\"Tuple converted to the list : \",y)\n",
    "y.remove(\"apple\")\n",
    "print(\"Removed the element from the list : \",y)\n",
    "tuple1 = tuple(y)\n",
    "print(\"Converted list back to tuple : \",tuple1)"
   ]
  },
  {
   "cell_type": "markdown",
   "id": "be1934a5",
   "metadata": {},
   "source": [
    "## d. del Keyword\n",
    "- The del keyword can delete the tuple completely"
   ]
  },
  {
   "cell_type": "code",
   "execution_count": null,
   "id": "9e513f07",
   "metadata": {},
   "outputs": [],
   "source": [
    "tuple1 = (\"apple\", \"banana\", \"cherry\")\n",
    "del tuple1\n",
    "print(tuple1) #this will raise an error because the tuple no longer exists"
   ]
  },
  {
   "cell_type": "markdown",
   "id": "b47a2422",
   "metadata": {},
   "source": [
    "# 4. Unpack Tuples\n",
    "- When we create a tuple, we normally assign values to it. This is called \"packing\" a tuple"
   ]
  },
  {
   "cell_type": "markdown",
   "id": "41a581e6",
   "metadata": {},
   "source": [
    "## a. Unpacking a Tuple"
   ]
  },
  {
   "cell_type": "code",
   "execution_count": null,
   "id": "87f470ce",
   "metadata": {},
   "outputs": [],
   "source": [
    "#Packing a tuple\n",
    "fruits = (\"apple\", \"banana\", \"cherry\")\n",
    "fruits"
   ]
  },
  {
   "cell_type": "code",
   "execution_count": 8,
   "id": "fcc175e8",
   "metadata": {
    "scrolled": true
   },
   "outputs": [
    {
     "name": "stdout",
     "output_type": "stream",
     "text": [
      "apple\n",
      "banana\n",
      "cherry\n"
     ]
    }
   ],
   "source": [
    "#Unpacking a tuple\n",
    "fruits = (\"apple\", \"banana\", \"cherry\")\n",
    "(green, yellow, red) = fruits\n",
    "print(green)\n",
    "print(yellow)\n",
    "print(red)"
   ]
  },
  {
   "cell_type": "markdown",
   "id": "f2797ec8",
   "metadata": {},
   "source": [
    "## b. Using Asterisk*\n",
    "- If the number of variables is less than the number of values, you can add an * to the variable name and the values will be assigned to the variable as a list:"
   ]
  },
  {
   "cell_type": "code",
   "execution_count": 9,
   "id": "af9b06e9",
   "metadata": {},
   "outputs": [
    {
     "name": "stdout",
     "output_type": "stream",
     "text": [
      "apple\n",
      "banana\n",
      "['cherry', 'strawberry', 'raspberry']\n"
     ]
    }
   ],
   "source": [
    "fruits = (\"apple\", \"banana\", \"cherry\", \"strawberry\", \"raspberry\")\n",
    "\n",
    "(green, yellow, *red) = fruits\n",
    "\n",
    "print(green)\n",
    "print(yellow)\n",
    "print(red) #Assign the rest of the values as a list called \"red\""
   ]
  },
  {
   "cell_type": "markdown",
   "id": "f2673da2",
   "metadata": {},
   "source": [
    "- If the asterisk is added to another variable name than the last, Python will assign values to the variable until the number of values left matches the number of variables left."
   ]
  },
  {
   "cell_type": "code",
   "execution_count": 10,
   "id": "6ae93cc8",
   "metadata": {},
   "outputs": [
    {
     "name": "stdout",
     "output_type": "stream",
     "text": [
      "apple\n",
      "['mango', 'papaya', 'pineapple']\n",
      "cherry\n"
     ]
    }
   ],
   "source": [
    "fruits = (\"apple\", \"mango\", \"papaya\", \"pineapple\", \"cherry\")\n",
    "\n",
    "(green, *tropic, red) = fruits\n",
    "\n",
    "print(green)\n",
    "print(tropic) #Add a list of values the \"tropic\" variable\n",
    "print(red)"
   ]
  },
  {
   "cell_type": "markdown",
   "id": "b9e6c4ca",
   "metadata": {},
   "source": [
    "# 5. Join Tuples"
   ]
  },
  {
   "cell_type": "markdown",
   "id": "f0bed857",
   "metadata": {},
   "source": [
    "## a. Join Two Tuples\n",
    "- To join / concatenate two or more tuples together\n",
    "- It returns a new tuple that contains all the elements from the original tuples"
   ]
  },
  {
   "cell_type": "code",
   "execution_count": null,
   "id": "e8f72192",
   "metadata": {},
   "outputs": [],
   "source": [
    "tuple1 = (\"a\", \"b\" , \"c\")\n",
    "tuple2 = (1, 2, 3)\n",
    "\n",
    "tuple3 = tuple1 + tuple2\n",
    "print(tuple3)"
   ]
  },
  {
   "cell_type": "markdown",
   "id": "34915ed7",
   "metadata": {},
   "source": [
    "## b. Multiply Tuples\n",
    "- If you want to multiply the content of a tuple a given number of times, you can use the * operator"
   ]
  },
  {
   "cell_type": "code",
   "execution_count": null,
   "id": "9cea216e",
   "metadata": {},
   "outputs": [],
   "source": [
    "fruits = (\"apple\", \"banana\", \"cherry\")\n",
    "mytuple = fruits * 2\n",
    "\n",
    "print(mytuple)"
   ]
  },
  {
   "cell_type": "markdown",
   "id": "551b23c8",
   "metadata": {},
   "source": [
    "## c. tuple() constructor \n",
    "- can be used to create a new tuple from an iterable object (like a list or another tuple). \n",
    "- It can also be used to create a copy of an existing tuple."
   ]
  },
  {
   "cell_type": "code",
   "execution_count": null,
   "id": "a4654b15",
   "metadata": {},
   "outputs": [],
   "source": [
    "tuple1 = (1, 2, 3)\n",
    "list1 = [4, 5, 6]\n",
    "new_tuple1 = tuple(tuple1)\n",
    "new_tuple2 = tuple(list1)\n",
    "print(new_tuple1)  # Output: (1, 2, 3)\n",
    "print(new_tuple2)  # Output: (4, 5, 6)"
   ]
  },
  {
   "cell_type": "markdown",
   "id": "aa1f8701",
   "metadata": {},
   "source": [
    " - The tuple() constructor can be used to create a new tuple that contains elements from one or more existing tuples."
   ]
  },
  {
   "cell_type": "code",
   "execution_count": null,
   "id": "f3792383",
   "metadata": {},
   "outputs": [],
   "source": [
    "tuple1 = (1, 2, 3)\n",
    "tuple2 = (4, 5, 6)\n",
    "new_tuple = tuple(tuple1 + tuple2)\n",
    "print(new_tuple)  # Output: (1, 2, 3, 4, 5, 6)"
   ]
  },
  {
   "cell_type": "markdown",
   "id": "0fb007bb",
   "metadata": {},
   "source": [
    "### Using extend indirectly to tuples\n",
    "-  convert the tuples to lists, join them using the extend() method, and then convert the result back to a tuple"
   ]
  },
  {
   "cell_type": "code",
   "execution_count": null,
   "id": "a3dd27a1",
   "metadata": {},
   "outputs": [],
   "source": [
    "tuple1 = (1, 2, 3)\n",
    "tuple2 = (4, 5, 6)\n",
    "list1 = list(tuple1)\n",
    "list2 = list(tuple2)\n",
    "list1.extend(list2)\n",
    "new_tuple = tuple(list1)\n",
    "print(new_tuple)  # Output: (1, 2, 3, 4, 5, 6)"
   ]
  },
  {
   "cell_type": "markdown",
   "id": "5c4b5672",
   "metadata": {},
   "source": [
    "# 6. Tuple Methods"
   ]
  },
  {
   "cell_type": "markdown",
   "id": "66ffef21",
   "metadata": {},
   "source": [
    "# a. index()\t\n",
    "- Searches the tuple for a specified value and returns the position of where it was found"
   ]
  },
  {
   "cell_type": "code",
   "execution_count": null,
   "id": "e7f570a5",
   "metadata": {},
   "outputs": [],
   "source": [
    "tuple1 = (1, 3, 7, 8, 7, 5, 4, 6, 8, 5)\n",
    "x = tuple1.index(8) #Search for the first occurrence of the value 8, and return its position\n",
    "print(x)"
   ]
  },
  {
   "cell_type": "markdown",
   "id": "85f0fb5a",
   "metadata": {},
   "source": [
    "## b. count()\t\n",
    "- Returns the number of times a specified value occurs in a tuple"
   ]
  },
  {
   "cell_type": "code",
   "execution_count": null,
   "id": "4354b9fa",
   "metadata": {},
   "outputs": [],
   "source": [
    "tuple1 = (1, 3, 7, 8, 7, 5, 4, 6, 8, 5) \n",
    "x = tuple1.count(5) #Return the number of times the value 5 appears in the tuple\n",
    "print(x)"
   ]
  }
 ],
 "metadata": {
  "kernelspec": {
   "display_name": "Python 3 (ipykernel)",
   "language": "python",
   "name": "python3"
  },
  "language_info": {
   "codemirror_mode": {
    "name": "ipython",
    "version": 3
   },
   "file_extension": ".py",
   "mimetype": "text/x-python",
   "name": "python",
   "nbconvert_exporter": "python",
   "pygments_lexer": "ipython3",
   "version": "3.9.13"
  }
 },
 "nbformat": 4,
 "nbformat_minor": 5
}
