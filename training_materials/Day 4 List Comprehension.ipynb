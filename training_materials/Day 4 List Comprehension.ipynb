{
 "cells": [
  {
   "cell_type": "markdown",
   "id": "842b0da2",
   "metadata": {},
   "source": [
    "# Python - List Comprehension"
   ]
  },
  {
   "cell_type": "markdown",
   "id": "b744ffa4",
   "metadata": {},
   "source": [
    "## 1. List Comprehension\n",
    "- List comprehension offers a shorter syntax when you want to create a new list based on the values of an existing list.\n",
    "\n",
    "- Without list comprehension you will have to write a for statement with a conditional test inside"
   ]
  },
  {
   "cell_type": "markdown",
   "id": "01a98d72",
   "metadata": {},
   "source": [
    "Example\n",
    "- Only accept items that are not \"apple\":"
   ]
  },
  {
   "cell_type": "markdown",
   "id": "f72e6793",
   "metadata": {},
   "source": [
    "### When to use\n",
    "when we need to create new list based on a existing iterable and want to do it in a concise and readable way.\n",
    "\n",
    "useful situations in list comprehention\n",
    "- Filtering.\n",
    "- Transformation\n",
    "- Combination \n",
    "- Simplification"
   ]
  },
  {
   "cell_type": "code",
   "execution_count": null,
   "id": "b250cac8",
   "metadata": {},
   "outputs": [],
   "source": []
  },
  {
   "cell_type": "code",
   "execution_count": 1,
   "id": "4065e2b1",
   "metadata": {},
   "outputs": [
    {
     "name": "stdout",
     "output_type": "stream",
     "text": [
      "['banana', 'cherry', 'kiwi', 'mango']\n"
     ]
    }
   ],
   "source": [
    "#Without list comprehension\n",
    "fruits = [\"apple\", \"banana\", \"cherry\", \"kiwi\", \"mango\"]\n",
    "newlist= []\n",
    "for x in fruits:\n",
    "    if x!= 'apple':\n",
    "        newlist.append(x)\n",
    "print(newlist)"
   ]
  },
  {
   "cell_type": "markdown",
   "id": "bd016d08",
   "metadata": {},
   "source": [
    "## 2. The Syntax\n",
    "<b> $newlist = [expression for item in iterable if condition == True]  \n",
    "- The return value is a new list, leaving the old list unchanged."
   ]
  },
  {
   "cell_type": "code",
   "execution_count": 2,
   "id": "0c768a74",
   "metadata": {},
   "outputs": [
    {
     "data": {
      "text/plain": [
       "['banana', 'cherry', 'kiwi', 'mango']"
      ]
     },
     "execution_count": 2,
     "metadata": {},
     "output_type": "execute_result"
    }
   ],
   "source": [
    "#with list comprehension    \n",
    "fruits = [\"apple\", \"BANANA\", \"cherry\", \"kiwi\", \"mango\"]\n",
    "newlist = [x.lower() for x in fruits if x != \"apple\"]\n",
    "newlist"
   ]
  },
  {
   "cell_type": "code",
   "execution_count": 3,
   "id": "049debdb",
   "metadata": {},
   "outputs": [
    {
     "data": {
      "text/plain": [
       "['BANANA', 'cherry', 'kiwi', 'mango']"
      ]
     },
     "execution_count": 3,
     "metadata": {},
     "output_type": "execute_result"
    }
   ],
   "source": [
    "#with list comprehension    \n",
    "fruits = [\"apple\", \"BANANA\", \"cherry\", \"kiwi\", \"mango\"]\n",
    "newlist = [x for x in fruits if x != \"apple\"]\n",
    "newlist"
   ]
  },
  {
   "cell_type": "code",
   "execution_count": null,
   "id": "202b9d24",
   "metadata": {},
   "outputs": [],
   "source": [
    "#Without list comprehension\n",
    "fruits = [\"apple\", \"banana\", \"cherry\", \"kiwi\", \"mango\"]\n",
    "list1 = []\n",
    "\n",
    "for x in fruits:\n",
    "    if \"a\" in x:\n",
    "        list1.append(x)\n",
    "\n",
    "print(list1)"
   ]
  },
  {
   "cell_type": "code",
   "execution_count": 4,
   "id": "d2effac6",
   "metadata": {},
   "outputs": [
    {
     "name": "stdout",
     "output_type": "stream",
     "text": [
      "['apple', 'banana', 'mango']\n"
     ]
    }
   ],
   "source": [
    "#with list comprehension\n",
    "fruits = [\"apple\", \"banana\", \"cherry\", \"kiwi\", \"mango\"]\n",
    "list1 = [x for x in fruits if \"a\" in x]\n",
    "print(list1)"
   ]
  },
  {
   "cell_type": "markdown",
   "id": "e4201038",
   "metadata": {},
   "source": [
    "## 3. Iterable\n",
    "- The iterable can be any iterable object, like a list, tuple, set etc.\n",
    "\n",
    "**Example**\n",
    "- You can use the range() function to create an iterable:"
   ]
  },
  {
   "cell_type": "code",
   "execution_count": 6,
   "id": "3e7c0dca",
   "metadata": {},
   "outputs": [
    {
     "name": "stdout",
     "output_type": "stream",
     "text": [
      "[0, 1, 2, 3, 4, 5, 6, 7, 8, 9]\n"
     ]
    }
   ],
   "source": [
    "list1 = [x for x in range(10)] # Index start(inclusive), end(exclusive), step \n",
    "print(list1)"
   ]
  },
  {
   "cell_type": "code",
   "execution_count": 5,
   "id": "0d91fd16",
   "metadata": {},
   "outputs": [
    {
     "name": "stdout",
     "output_type": "stream",
     "text": [
      "[1, 2, 3, 4, 5, 6, 7, 8, 9, 10]\n"
     ]
    }
   ],
   "source": [
    "list1 = [x for x in range(1,11)] # Index start(inclusive), end(exclusive), step \n",
    "print(list1)"
   ]
  },
  {
   "cell_type": "markdown",
   "id": "15b1d222",
   "metadata": {},
   "source": [
    "##Same example, but with a condition:\n",
    "\n",
    "**Example**\n",
    "- Accept only numbers lower than 5:"
   ]
  },
  {
   "cell_type": "code",
   "execution_count": 7,
   "id": "0ff730bd",
   "metadata": {},
   "outputs": [
    {
     "name": "stdout",
     "output_type": "stream",
     "text": [
      "[0, 1, 2, 3, 4]\n"
     ]
    }
   ],
   "source": [
    "list1 = [x for x in range(10) if x < 5]\n",
    "print(list1)"
   ]
  },
  {
   "cell_type": "markdown",
   "id": "465a4489",
   "metadata": {},
   "source": [
    "## 4. Expression\n",
    "- The expression is the current item in the iteration, but it is also the outcome, which you can manipulate before it ends up like a list item in the new list:\n",
    "\n",
    "**Example**\n",
    "- Set the values in the new list to upper case:"
   ]
  },
  {
   "cell_type": "code",
   "execution_count": 8,
   "id": "277c0b3d",
   "metadata": {},
   "outputs": [
    {
     "name": "stdout",
     "output_type": "stream",
     "text": [
      "Original List :  ['apple', 'banana', 'cherry', 'kiwi', 'mango']\n",
      "After Implementing List Comprehension :  ['APPLE', 'BANANA', 'CHERRY', 'KIWI', 'MANGO']\n"
     ]
    }
   ],
   "source": [
    "print(\"Original List : \",fruits)\n",
    "list1 = [x.upper() for x in fruits]\n",
    "print(\"After Implementing List Comprehension : \",list1)"
   ]
  },
  {
   "cell_type": "markdown",
   "id": "ac9a16c1",
   "metadata": {},
   "source": [
    "- Filtering:\n",
    "Suppose you have a list of integers and you want to create a new list that contains only the even numbers from the original list. Here's how you can do it with list comprehension:"
   ]
  },
  {
   "cell_type": "code",
   "execution_count": 9,
   "id": "71ed0eeb",
   "metadata": {},
   "outputs": [
    {
     "name": "stdout",
     "output_type": "stream",
     "text": [
      "[2, 4, 6, 8, 10]\n"
     ]
    }
   ],
   "source": [
    "numbers = [1, 2, 3, 4, 5, 6, 7, 8, 9, 10]\n",
    "even_numbers = [num for num in numbers if num % 2 == 0]\n",
    "print(even_numbers) # Output: [2, 4, 6, 8, 10]"
   ]
  },
  {
   "cell_type": "markdown",
   "id": "9e60084c",
   "metadata": {},
   "source": [
    "In this example, we use the condition num % 2 == 0 to filter out only the even numbers from the original list numbers."
   ]
  },
  {
   "cell_type": "markdown",
   "id": "9c6bd360",
   "metadata": {},
   "source": [
    "- Transformation:\n",
    "\n",
    "Suppose you have a list of integers and you want to create a new list that contains the squares of each element in the original list. Here's how you can do it with list comprehension:"
   ]
  },
  {
   "cell_type": "code",
   "execution_count": 1,
   "id": "e73ff2d7",
   "metadata": {},
   "outputs": [
    {
     "name": "stdout",
     "output_type": "stream",
     "text": [
      "[1, 25, 81, 169, 289]\n"
     ]
    }
   ],
   "source": [
    "numbers = [1, 2, 3, 4, 5]\n",
    "squares = [num**2 for num in range(1,20,4)]\n",
    "print(squares) # Output: [1, 4, 9, 16, 25]"
   ]
  },
  {
   "cell_type": "markdown",
   "id": "c31c51ed",
   "metadata": {},
   "source": [
    "In this example, we use the expression num**2 to square each element in the original list numbers."
   ]
  },
  {
   "cell_type": "markdown",
   "id": "25d2d55b",
   "metadata": {},
   "source": [
    "- Combination:\n",
    "\n",
    "Suppose you have two lists, one containing the names of fruits and the other containing their corresponding prices. You want to create a new list of tuples that pairs each fruit name with its price. Here's how you can do it with list comprehension:"
   ]
  },
  {
   "cell_type": "code",
   "execution_count": null,
   "id": "a0add82a",
   "metadata": {},
   "outputs": [],
   "source": [
    "\"\"\"\n",
    "\n",
    "for item in iterable1:\n",
    "    if\n",
    "        for item2 in iterable2:\n",
    "            if:\n",
    "            else:\n",
    "\"\"\"\n",
    "        "
   ]
  },
  {
   "cell_type": "code",
   "execution_count": 11,
   "id": "ac8b3df7",
   "metadata": {},
   "outputs": [
    {
     "name": "stdout",
     "output_type": "stream",
     "text": [
      "[('apple', 1.0), ('apple', 0.5), ('apple', 2.0), ('banana', 1.0), ('banana', 0.5), ('banana', 2.0), ('cherry', 1.0), ('cherry', 0.5), ('cherry', 2.0)]\n"
     ]
    }
   ],
   "source": [
    "fruits = ['apple', 'banana', 'cherry']\n",
    "prices = [1.00, 0.50, 2.00]\n",
    "fruit_prices = [(fruit, price) for fruit in fruits for price in prices]\n",
    "print(fruit_prices) # Output: [('apple', 1.0), ('apple', 0.5), ('apple', 2.0), ('banana', 1.0), ('banana', 0.5), ('banana', 2.0), ('cherry', 1.0), ('cherry', 0.5), ('cherry', 2.0)]"
   ]
  },
  {
   "cell_type": "markdown",
   "id": "21cefa65",
   "metadata": {},
   "source": [
    "- Combination:\n",
    "\n",
    "Suppose you have two lists, one containing the names of fruits and the other containing their corresponding prices.\n",
    "\n",
    "You want to create a new list of tuples that pairs each fruit name with its price. Here's how you can do it with list comprehension:"
   ]
  },
  {
   "cell_type": "code",
   "execution_count": 2,
   "id": "e79bf9f7",
   "metadata": {},
   "outputs": [
    {
     "name": "stdout",
     "output_type": "stream",
     "text": [
      "[('apple', 1.0), ('apple', 0.5), ('apple', 2.0), ('banana', 1.0), ('banana', 0.5), ('banana', 2.0), ('cherry', 1.0), ('cherry', 0.5), ('cherry', 2.0)]\n"
     ]
    }
   ],
   "source": [
    "fruits = ['apple', 'banana', 'cherry']\n",
    "prices = [1.00, 0.50, 2.00]\n",
    "fruit_prices = [(fruit, price) for fruit in fruits for price in prices]\n",
    "print(fruit_prices) # Output: [('apple', 1.0), ('apple', 0.5), ('apple', 2.0), ('banana', 1.0), ('banana', 0.5), ('banana', 2.0), ('cherry', 1.0), ('cherry', 0.5), ('cherry', 2.0)]\n"
   ]
  },
  {
   "cell_type": "markdown",
   "id": "e81910b5",
   "metadata": {},
   "source": [
    "In this example, we use two for-loops to iterate over each element of fruits and prices and create a new list of tuples that pairs each fruit with each price."
   ]
  },
  {
   "cell_type": "markdown",
   "id": "bdc597ef",
   "metadata": {},
   "source": [
    "- Simplification:\n",
    "\n",
    "Suppose you have a list of strings and you want to create a new list of strings that contains only the first character of each string. Here's how you can do it with list comprehension:"
   ]
  },
  {
   "cell_type": "code",
   "execution_count": 3,
   "id": "56ffc5ff",
   "metadata": {},
   "outputs": [
    {
     "name": "stdout",
     "output_type": "stream",
     "text": [
      "['a', 'b', 'c']\n"
     ]
    }
   ],
   "source": [
    "strings = ['apple', 'banana', 'cherry']\n",
    "first_chars = [string[0] for string in strings]\n",
    "print(first_chars) # Output: ['a', 'b', 'c']"
   ]
  },
  {
   "cell_type": "markdown",
   "id": "f94b32f0",
   "metadata": {},
   "source": [
    "In this example, we use the expression string[0] to extract the first character of each string in the original list strings. This is a more concise and readable way to achieve the same result compared to using a for-loop and if-statement."
   ]
  },
  {
   "cell_type": "code",
   "execution_count": null,
   "id": "6c661a06",
   "metadata": {},
   "outputs": [],
   "source": [
    "\"\"\"\n",
    "for i in 'sworna': -- Outer loop soon after expression\n",
    "    for j in 'vidhya':  ---- as immediate to your outler loops (inner 1)\n",
    "        for k in 'mahadevan': --- after your inner 1\n",
    "        ........\n",
    "\"\"\""
   ]
  },
  {
   "cell_type": "markdown",
   "id": "7de810b9",
   "metadata": {},
   "source": [
    "## For nested loops\n",
    "\n",
    "##### using list comprehension for nested loops to create a new list that contains all possible pairs of two list"
   ]
  },
  {
   "cell_type": "code",
   "execution_count": 12,
   "id": "9f417d14",
   "metadata": {},
   "outputs": [
    {
     "name": "stdout",
     "output_type": "stream",
     "text": [
      "[(1, 'a'), (1, 'b'), (1, 'c'), (2, 'a'), (2, 'b'), (2, 'c'), (3, 'a'), (3, 'b'), (3, 'c')]\n"
     ]
    }
   ],
   "source": [
    "list1 = [1, 2, 3]\n",
    "list2 = ['a', 'b', 'c']\n",
    "pairs = [(x, y) for x in list1 for y in list2]\n",
    "print(pairs) # Output: [(1, 'a'), (1, 'b'), (1, 'c'), (2, 'a'), (2, 'b'), (2, 'c'), (3, 'a'), (3, 'b'), (3, 'c')]"
   ]
  },
  {
   "cell_type": "markdown",
   "id": "a70af5b2",
   "metadata": {},
   "source": [
    "#### using list comprehension for nested loops with an if-condition to create a new list that contains only the pairs where the sum of the two elements is even"
   ]
  },
  {
   "cell_type": "code",
   "execution_count": 4,
   "id": "b19b8656",
   "metadata": {},
   "outputs": [
    {
     "data": {
      "text/plain": [
       "[(1, 5), (2, 4), (2, 6), (3, 5)]"
      ]
     },
     "execution_count": 4,
     "metadata": {},
     "output_type": "execute_result"
    }
   ],
   "source": [
    "list1 = [1, 2, 3]\n",
    "list2 = [4, 5, 6]\n",
    "[(x,y) for x in list1 for y in list2 if (x+y)%2 ==0]"
   ]
  },
  {
   "cell_type": "code",
   "execution_count": 13,
   "id": "dd402731",
   "metadata": {},
   "outputs": [
    {
     "name": "stdout",
     "output_type": "stream",
     "text": [
      "[(1, 5), (2, 4), (2, 6), (3, 5)]\n"
     ]
    }
   ],
   "source": [
    "list1 = [1, 2, 3]\n",
    "list2 = [4, 5, 6]\n",
    "even_sum_pairs = [(x, y) for x in list1 for y in list2 if (x + y) % 2 == 0]\n",
    "print(even_sum_pairs) # Output: [(1, 5), (2, 4), (2, 6), (3, 5)]"
   ]
  },
  {
   "cell_type": "markdown",
   "id": "634f5e14",
   "metadata": {},
   "source": [
    "## with nested loops and nested conditions\n",
    "\n",
    "#### to create a new list that contains only the pairs where the sum of the two elements is even and the second element is a vowel:"
   ]
  },
  {
   "cell_type": "code",
   "execution_count": 14,
   "id": "d50e3dbe",
   "metadata": {},
   "outputs": [
    {
     "ename": "TypeError",
     "evalue": "unsupported operand type(s) for +: 'int' and 'str'",
     "output_type": "error",
     "traceback": [
      "\u001b[1;31m---------------------------------------------------------------------------\u001b[0m",
      "\u001b[1;31mTypeError\u001b[0m                                 Traceback (most recent call last)",
      "\u001b[1;32m~\\AppData\\Local\\Temp/ipykernel_19628/508838551.py\u001b[0m in \u001b[0;36m<module>\u001b[1;34m\u001b[0m\n\u001b[0;32m      1\u001b[0m \u001b[0mlist1\u001b[0m \u001b[1;33m=\u001b[0m \u001b[1;33m[\u001b[0m\u001b[1;36m1\u001b[0m\u001b[1;33m,\u001b[0m \u001b[1;36m2\u001b[0m\u001b[1;33m,\u001b[0m \u001b[1;36m3\u001b[0m\u001b[1;33m]\u001b[0m\u001b[1;33m\u001b[0m\u001b[1;33m\u001b[0m\u001b[0m\n\u001b[0;32m      2\u001b[0m \u001b[0mlist2\u001b[0m \u001b[1;33m=\u001b[0m \u001b[1;33m[\u001b[0m\u001b[1;34m'a'\u001b[0m\u001b[1;33m,\u001b[0m \u001b[1;34m'e'\u001b[0m\u001b[1;33m,\u001b[0m \u001b[1;34m'i'\u001b[0m\u001b[1;33m,\u001b[0m \u001b[1;34m'o'\u001b[0m\u001b[1;33m,\u001b[0m \u001b[1;34m'u'\u001b[0m\u001b[1;33m]\u001b[0m\u001b[1;33m\u001b[0m\u001b[1;33m\u001b[0m\u001b[0m\n\u001b[1;32m----> 3\u001b[1;33m \u001b[0mpairs\u001b[0m \u001b[1;33m=\u001b[0m \u001b[1;33m[\u001b[0m\u001b[1;33m(\u001b[0m\u001b[0mx\u001b[0m\u001b[1;33m,\u001b[0m \u001b[0my\u001b[0m\u001b[1;33m)\u001b[0m \u001b[1;32mfor\u001b[0m \u001b[0mx\u001b[0m \u001b[1;32min\u001b[0m \u001b[0mlist1\u001b[0m \u001b[1;32mfor\u001b[0m \u001b[0my\u001b[0m \u001b[1;32min\u001b[0m \u001b[0mlist2\u001b[0m \u001b[1;32mif\u001b[0m \u001b[1;33m(\u001b[0m\u001b[0mx\u001b[0m \u001b[1;33m+\u001b[0m \u001b[0my\u001b[0m\u001b[1;33m)\u001b[0m \u001b[1;33m%\u001b[0m \u001b[1;36m2\u001b[0m \u001b[1;33m==\u001b[0m \u001b[1;36m0\u001b[0m \u001b[1;32mif\u001b[0m \u001b[0my\u001b[0m \u001b[1;32min\u001b[0m \u001b[1;33m[\u001b[0m\u001b[1;34m'a'\u001b[0m\u001b[1;33m,\u001b[0m \u001b[1;34m'e'\u001b[0m\u001b[1;33m,\u001b[0m \u001b[1;34m'i'\u001b[0m\u001b[1;33m,\u001b[0m \u001b[1;34m'o'\u001b[0m\u001b[1;33m,\u001b[0m \u001b[1;34m'u'\u001b[0m\u001b[1;33m]\u001b[0m\u001b[1;33m]\u001b[0m\u001b[1;33m\u001b[0m\u001b[1;33m\u001b[0m\u001b[0m\n\u001b[0m\u001b[0;32m      4\u001b[0m \u001b[0mprint\u001b[0m\u001b[1;33m(\u001b[0m\u001b[0mpairs\u001b[0m\u001b[1;33m)\u001b[0m \u001b[1;31m# Output: [(1, 'a'), (1, 'e'), (2, 'a'), (2, 'o'), (2, 'u'), (3, 'e')]\u001b[0m\u001b[1;33m\u001b[0m\u001b[1;33m\u001b[0m\u001b[0m\n",
      "\u001b[1;32m~\\AppData\\Local\\Temp/ipykernel_19628/508838551.py\u001b[0m in \u001b[0;36m<listcomp>\u001b[1;34m(.0)\u001b[0m\n\u001b[0;32m      1\u001b[0m \u001b[0mlist1\u001b[0m \u001b[1;33m=\u001b[0m \u001b[1;33m[\u001b[0m\u001b[1;36m1\u001b[0m\u001b[1;33m,\u001b[0m \u001b[1;36m2\u001b[0m\u001b[1;33m,\u001b[0m \u001b[1;36m3\u001b[0m\u001b[1;33m]\u001b[0m\u001b[1;33m\u001b[0m\u001b[1;33m\u001b[0m\u001b[0m\n\u001b[0;32m      2\u001b[0m \u001b[0mlist2\u001b[0m \u001b[1;33m=\u001b[0m \u001b[1;33m[\u001b[0m\u001b[1;34m'a'\u001b[0m\u001b[1;33m,\u001b[0m \u001b[1;34m'e'\u001b[0m\u001b[1;33m,\u001b[0m \u001b[1;34m'i'\u001b[0m\u001b[1;33m,\u001b[0m \u001b[1;34m'o'\u001b[0m\u001b[1;33m,\u001b[0m \u001b[1;34m'u'\u001b[0m\u001b[1;33m]\u001b[0m\u001b[1;33m\u001b[0m\u001b[1;33m\u001b[0m\u001b[0m\n\u001b[1;32m----> 3\u001b[1;33m \u001b[0mpairs\u001b[0m \u001b[1;33m=\u001b[0m \u001b[1;33m[\u001b[0m\u001b[1;33m(\u001b[0m\u001b[0mx\u001b[0m\u001b[1;33m,\u001b[0m \u001b[0my\u001b[0m\u001b[1;33m)\u001b[0m \u001b[1;32mfor\u001b[0m \u001b[0mx\u001b[0m \u001b[1;32min\u001b[0m \u001b[0mlist1\u001b[0m \u001b[1;32mfor\u001b[0m \u001b[0my\u001b[0m \u001b[1;32min\u001b[0m \u001b[0mlist2\u001b[0m \u001b[1;32mif\u001b[0m \u001b[1;33m(\u001b[0m\u001b[0mx\u001b[0m \u001b[1;33m+\u001b[0m \u001b[0my\u001b[0m\u001b[1;33m)\u001b[0m \u001b[1;33m%\u001b[0m \u001b[1;36m2\u001b[0m \u001b[1;33m==\u001b[0m \u001b[1;36m0\u001b[0m \u001b[1;32mif\u001b[0m \u001b[0my\u001b[0m \u001b[1;32min\u001b[0m \u001b[1;33m[\u001b[0m\u001b[1;34m'a'\u001b[0m\u001b[1;33m,\u001b[0m \u001b[1;34m'e'\u001b[0m\u001b[1;33m,\u001b[0m \u001b[1;34m'i'\u001b[0m\u001b[1;33m,\u001b[0m \u001b[1;34m'o'\u001b[0m\u001b[1;33m,\u001b[0m \u001b[1;34m'u'\u001b[0m\u001b[1;33m]\u001b[0m\u001b[1;33m]\u001b[0m\u001b[1;33m\u001b[0m\u001b[1;33m\u001b[0m\u001b[0m\n\u001b[0m\u001b[0;32m      4\u001b[0m \u001b[0mprint\u001b[0m\u001b[1;33m(\u001b[0m\u001b[0mpairs\u001b[0m\u001b[1;33m)\u001b[0m \u001b[1;31m# Output: [(1, 'a'), (1, 'e'), (2, 'a'), (2, 'o'), (2, 'u'), (3, 'e')]\u001b[0m\u001b[1;33m\u001b[0m\u001b[1;33m\u001b[0m\u001b[0m\n",
      "\u001b[1;31mTypeError\u001b[0m: unsupported operand type(s) for +: 'int' and 'str'"
     ]
    }
   ],
   "source": [
    "list1 = [1, 2, 3]\n",
    "list2 = ['a', 'e', 'i', 'o', 'u']\n",
    "pairs = [(x, y) for x in list1 for y in list2 if (x + y) % 2 == 0 if y in ['a', 'e', 'i', 'o', 'u']]\n",
    "print(pairs) # Output: [(1, 'a'), (1, 'e'), (2, 'a'), (2, 'o'), (2, 'u'), (3, 'e')]"
   ]
  },
  {
   "cell_type": "markdown",
   "id": "948c4703",
   "metadata": {},
   "source": [
    "In this example, we use two for-loops to iterate over each element of list1 and list2, and two if-conditions to filter out only the pairs where the sum of the two elements is even and the second element is a vowel. The resulting list pairs contains only the pairs (1, 'a'), (1, 'e'), (2, 'a'), (2, 'o'), (2, 'u'), and (3, 'e')."
   ]
  },
  {
   "cell_type": "code",
   "execution_count": 15,
   "id": "8757da3a",
   "metadata": {},
   "outputs": [
    {
     "name": "stdout",
     "output_type": "stream",
     "text": [
      "[]\n"
     ]
    }
   ],
   "source": [
    "list1 = [1, 2, 3]\n",
    "list2 = ['a', 'e', 'i', 'o', 'u']\n",
    "pairs = [(x, y) for x in list1 for y in list2 if (int(str(x) + '0') + ord(y)) % 2 == 0 if y in ['a', 'e', 'i', 'o', 'u']]\n",
    "print(pairs) # Output: [(1, 'a'), (1, 'e'), (2, 'a'), (2, 'o'), (2, 'u'), (3, 'e')]"
   ]
  },
  {
   "cell_type": "code",
   "execution_count": 16,
   "id": "a6b7fe95",
   "metadata": {},
   "outputs": [
    {
     "name": "stdout",
     "output_type": "stream",
     "text": [
      "[(1, 'a'), (1, 'e'), (1, 'i'), (1, 'o'), (1, 'u'), (3, 'a'), (3, 'e'), (3, 'i'), (3, 'o'), (3, 'u')]\n"
     ]
    }
   ],
   "source": [
    "list1 = [1, 2, 3]\n",
    "list2 = ['a', 'e', 'i', 'o', 'u']\n",
    "pairs = [(x, y) for x in list1 for y in list2 if (x + ord(y)) % 2 == 0 if y in ['a', 'e', 'i', 'o', 'u']]\n",
    "print(pairs)"
   ]
  },
  {
   "cell_type": "markdown",
   "id": "682aacde",
   "metadata": {},
   "source": [
    "In this corrected code, we use ord() function to get the ASCII value of the character y, and add it to x to create a new integer value that we can use in the expression (x + ord(y)) % 2 == 0. We also remove the unnecessary if condition after the second loop."
   ]
  },
  {
   "cell_type": "markdown",
   "id": "acbdf771",
   "metadata": {},
   "source": [
    "## 5. Few Excercies"
   ]
  },
  {
   "cell_type": "code",
   "execution_count": null,
   "id": "cbc80748",
   "metadata": {},
   "outputs": [],
   "source": [
    "## creates a new list that contains only the even numbers from an existing list"
   ]
  },
  {
   "cell_type": "code",
   "execution_count": null,
   "id": "f7c6717d",
   "metadata": {},
   "outputs": [],
   "source": [
    "numbers = [1, 2, 3, 4, 5, 6, 7, 8, 9, 10]\n",
    "even_numbers = [num for num in numbers if num % 2 == 0]\n",
    "print(even_numbers)"
   ]
  },
  {
   "cell_type": "markdown",
   "id": "5a557401",
   "metadata": {},
   "source": [
    "## a. find the odd numbers from the numbers ranging from 1 to 100"
   ]
  },
  {
   "cell_type": "code",
   "execution_count": null,
   "id": "9cabbc31",
   "metadata": {},
   "outputs": [],
   "source": []
  },
  {
   "cell_type": "code",
   "execution_count": 5,
   "id": "f1fa9bfa",
   "metadata": {},
   "outputs": [],
   "source": [
    "nums = [i for i in range(1,101)]"
   ]
  },
  {
   "cell_type": "code",
   "execution_count": 7,
   "id": "d86bdab0",
   "metadata": {},
   "outputs": [
    {
     "name": "stdout",
     "output_type": "stream",
     "text": [
      "[1, 3, 5, 7, 9, 11, 13, 15, 17, 19, 21, 23, 25, 27, 29, 31, 33, 35, 37, 39, 41, 43, 45, 47, 49, 51, 53, 55, 57, 59, 61, 63, 65, 67, 69, 71, 73, 75, 77, 79, 81, 83, 85, 87, 89, 91, 93, 95, 97, 99]\n"
     ]
    }
   ],
   "source": [
    "odd = [x for x in nums if x%2!=0]\n",
    "print(odd)"
   ]
  },
  {
   "cell_type": "markdown",
   "id": "e2d4eca2",
   "metadata": {},
   "source": [
    "## b. Find all of the numbers from 1–100 that have a 6 in them"
   ]
  },
  {
   "cell_type": "code",
   "execution_count": 8,
   "id": "808c196d",
   "metadata": {},
   "outputs": [
    {
     "data": {
      "text/plain": [
       "[6, 16, 26, 36, 46, 56, 60, 61, 62, 63, 64, 65, 66, 67, 68, 69, 76, 86, 96]"
      ]
     },
     "execution_count": 8,
     "metadata": {},
     "output_type": "execute_result"
    }
   ],
   "source": [
    "[six for six in nums if \"6\" in str(six) ]"
   ]
  },
  {
   "cell_type": "code",
   "execution_count": null,
   "id": "a322d5af",
   "metadata": {
    "scrolled": true
   },
   "outputs": [],
   "source": [
    "num = [num for num in nums if \"6\" in str(num)]\n",
    "num"
   ]
  },
  {
   "cell_type": "markdown",
   "id": "8a72bf8b",
   "metadata": {},
   "source": [
    "### c. Count the number of spaces in a string"
   ]
  },
  {
   "cell_type": "code",
   "execution_count": 10,
   "id": "677fe50d",
   "metadata": {},
   "outputs": [],
   "source": [
    "string = \"Python is a roadmap for Data Science\""
   ]
  },
  {
   "cell_type": "code",
   "execution_count": 11,
   "id": "0e5057d2",
   "metadata": {},
   "outputs": [
    {
     "data": {
      "text/plain": [
       "6"
      ]
     },
     "execution_count": 11,
     "metadata": {},
     "output_type": "execute_result"
    }
   ],
   "source": [
    "len([space for space in string if space == \" \"])"
   ]
  },
  {
   "cell_type": "code",
   "execution_count": null,
   "id": "10d9f53e",
   "metadata": {},
   "outputs": [],
   "source": [
    "cnt = len([char for char in string if char == \" \"])\n",
    "cnt"
   ]
  },
  {
   "cell_type": "markdown",
   "id": "f6b886e3",
   "metadata": {},
   "source": [
    "## d. Remove all of the vowels in a string"
   ]
  },
  {
   "cell_type": "code",
   "execution_count": 17,
   "id": "44dc8cc1",
   "metadata": {},
   "outputs": [
    {
     "data": {
      "text/plain": [
       "'Pythn s  rdmp fr Dt Scnc'"
      ]
     },
     "execution_count": 17,
     "metadata": {},
     "output_type": "execute_result"
    }
   ],
   "source": [
    "p = [vow for vow in string if vow not in [\"a\",\"e\",\"i\",\"o\",\"u\"]]\n",
    "\"\".join(p)"
   ]
  },
  {
   "cell_type": "code",
   "execution_count": 16,
   "id": "ad0e01df",
   "metadata": {},
   "outputs": [
    {
     "data": {
      "text/plain": [
       "'Pythn s  rdmp fr Dt Scnc'"
      ]
     },
     "execution_count": 16,
     "metadata": {},
     "output_type": "execute_result"
    }
   ],
   "source": [
    "\"\".join([vow for vow in string if vow not in [\"a\",\"e\",\"i\",\"o\",\"u\"]])"
   ]
  },
  {
   "cell_type": "code",
   "execution_count": null,
   "id": "03f1db96",
   "metadata": {},
   "outputs": [],
   "source": [
    "new_string = \"\".join([char for char in string if char not in [\"a\",\"e\",\"i\",\"o\",\"u\"]])\n",
    "new_string"
   ]
  },
  {
   "cell_type": "markdown",
   "id": "042a062a",
   "metadata": {},
   "source": [
    "## e. Find all of the words in a string that are less than 6 letters"
   ]
  },
  {
   "cell_type": "code",
   "execution_count": 19,
   "id": "eeba62b3",
   "metadata": {},
   "outputs": [
    {
     "data": {
      "text/plain": [
       "['is', 'a', 'for', 'Data']"
      ]
     },
     "execution_count": 19,
     "metadata": {},
     "output_type": "execute_result"
    }
   ],
   "source": [
    "words = string.split(\" \")\n",
    "new_list = [word for word in words if len(word) < 5]\n",
    "new_list"
   ]
  },
  {
   "cell_type": "markdown",
   "id": "c782fc5e",
   "metadata": {},
   "source": [
    "## f. Use a dictionary comprehension to count the length of each word in a sentence"
   ]
  },
  {
   "cell_type": "code",
   "execution_count": 20,
   "id": "0e487b7d",
   "metadata": {},
   "outputs": [
    {
     "data": {
      "text/plain": [
       "{'Python': 6, 'is': 2, 'a': 1, 'roadmap': 7, 'for': 3, 'Data': 4, 'Science': 7}"
      ]
     },
     "execution_count": 20,
     "metadata": {},
     "output_type": "execute_result"
    }
   ],
   "source": [
    "new_dict = {word:len(word) for word in words}\n",
    "new_dict"
   ]
  },
  {
   "cell_type": "markdown",
   "id": "7834ce41",
   "metadata": {},
   "source": [
    "## g. Use a nested list comprehension to find all of the numbers from 1–100 that are divisible by any single digit besides 1,2,3 (2–9)"
   ]
  },
  {
   "cell_type": "code",
   "execution_count": null,
   "id": "580e4b65",
   "metadata": {},
   "outputs": [],
   "source": [
    "[numb for numb in range(1,101) for val in range(4,10) if numb%val == 0]"
   ]
  },
  {
   "cell_type": "code",
   "execution_count": 2,
   "id": "798d903a",
   "metadata": {},
   "outputs": [
    {
     "ename": "NameError",
     "evalue": "name 'nums' is not defined",
     "output_type": "error",
     "traceback": [
      "\u001b[1;31m---------------------------------------------------------------------------\u001b[0m",
      "\u001b[1;31mNameError\u001b[0m                                 Traceback (most recent call last)",
      "\u001b[1;32m~\\AppData\\Local\\Temp\\ipykernel_16872\\751824328.py\u001b[0m in \u001b[0;36m<module>\u001b[1;34m\u001b[0m\n\u001b[1;32m----> 1\u001b[1;33m \u001b[0mnew_list\u001b[0m \u001b[1;33m=\u001b[0m \u001b[1;33m[\u001b[0m\u001b[0mnum\u001b[0m \u001b[1;32mfor\u001b[0m \u001b[0mnum\u001b[0m \u001b[1;32min\u001b[0m \u001b[0mnums\u001b[0m \u001b[1;32mif\u001b[0m \u001b[1;32mTrue\u001b[0m \u001b[1;32min\u001b[0m \u001b[1;33m[\u001b[0m\u001b[1;32mTrue\u001b[0m \u001b[1;32mfor\u001b[0m \u001b[0mdivisor\u001b[0m \u001b[1;32min\u001b[0m \u001b[0mrange\u001b[0m\u001b[1;33m(\u001b[0m\u001b[1;36m4\u001b[0m\u001b[1;33m,\u001b[0m\u001b[1;36m10\u001b[0m\u001b[1;33m)\u001b[0m \u001b[1;32mif\u001b[0m \u001b[0mnum\u001b[0m \u001b[1;33m%\u001b[0m \u001b[0mdivisor\u001b[0m \u001b[1;33m==\u001b[0m \u001b[1;36m0\u001b[0m\u001b[1;33m]\u001b[0m\u001b[1;33m]\u001b[0m\u001b[1;33m\u001b[0m\u001b[1;33m\u001b[0m\u001b[0m\n\u001b[0m\u001b[0;32m      2\u001b[0m \u001b[0mnew_list\u001b[0m\u001b[1;33m\u001b[0m\u001b[1;33m\u001b[0m\u001b[0m\n",
      "\u001b[1;31mNameError\u001b[0m: name 'nums' is not defined"
     ]
    }
   ],
   "source": [
    "new_list = [num for num in nums if True in [True for divisor in range(4,10) if num % divisor == 0]]\n",
    "new_list"
   ]
  },
  {
   "cell_type": "markdown",
   "id": "b636e85e",
   "metadata": {},
   "source": [
    "## h. For all the numbers 1–25, use a nested list/dictionary comprehension to find the highest single digit any of the numbers is divisible by"
   ]
  },
  {
   "cell_type": "code",
   "execution_count": 26,
   "id": "e346bbb2",
   "metadata": {},
   "outputs": [
    {
     "data": {
      "text/plain": [
       "{1: 1,\n",
       " 2: 2,\n",
       " 3: 3,\n",
       " 4: 4,\n",
       " 5: 5,\n",
       " 6: 6,\n",
       " 7: 7,\n",
       " 8: 8,\n",
       " 9: 9,\n",
       " 10: 5,\n",
       " 11: 1,\n",
       " 12: 6,\n",
       " 13: 1,\n",
       " 14: 7,\n",
       " 15: 5,\n",
       " 16: 8,\n",
       " 17: 1,\n",
       " 18: 9,\n",
       " 19: 1,\n",
       " 20: 5,\n",
       " 21: 7,\n",
       " 22: 2,\n",
       " 23: 1,\n",
       " 24: 8,\n",
       " 25: 5}"
      ]
     },
     "execution_count": 26,
     "metadata": {},
     "output_type": "execute_result"
    }
   ],
   "source": [
    "new_dict = {num:max([divisor for divisor in range(1,10) if num % divisor == 0]) for num in nums[:25]}\n",
    "new_dict"
   ]
  },
  {
   "cell_type": "code",
   "execution_count": 29,
   "id": "64a3892c",
   "metadata": {},
   "outputs": [
    {
     "data": {
      "text/plain": [
       "{1: 1,\n",
       " 2: 2,\n",
       " 3: 3,\n",
       " 4: 4,\n",
       " 5: 5,\n",
       " 6: 6,\n",
       " 7: 7,\n",
       " 8: 8,\n",
       " 9: 9,\n",
       " 10: 5,\n",
       " 11: 1,\n",
       " 12: 6,\n",
       " 13: 1,\n",
       " 14: 7,\n",
       " 15: 5,\n",
       " 16: 8,\n",
       " 17: 1,\n",
       " 18: 9,\n",
       " 19: 1,\n",
       " 20: 5,\n",
       " 21: 7,\n",
       " 22: 2,\n",
       " 23: 1,\n",
       " 24: 8,\n",
       " 25: 5}"
      ]
     },
     "execution_count": 29,
     "metadata": {},
     "output_type": "execute_result"
    }
   ],
   "source": [
    "{numb:max(divisor for divisor in range(1,10) if numb%divisor ==0 ) for numb in range(1,26)}"
   ]
  },
  {
   "cell_type": "code",
   "execution_count": null,
   "id": "e395969a",
   "metadata": {},
   "outputs": [],
   "source": []
  }
 ],
 "metadata": {
  "kernelspec": {
   "display_name": "Python 3 (ipykernel)",
   "language": "python",
   "name": "python3"
  },
  "language_info": {
   "codemirror_mode": {
    "name": "ipython",
    "version": 3
   },
   "file_extension": ".py",
   "mimetype": "text/x-python",
   "name": "python",
   "nbconvert_exporter": "python",
   "pygments_lexer": "ipython3",
   "version": "3.9.13"
  }
 },
 "nbformat": 4,
 "nbformat_minor": 5
}
