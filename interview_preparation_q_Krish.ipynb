{
 "cells": [
  {
   "cell_type": "markdown",
   "metadata": {},
   "source": [
    "#### Question 1\n",
    "- write a function to Reverse a given string."
   ]
  },
  {
   "cell_type": "code",
   "execution_count": 1,
   "metadata": {},
   "outputs": [],
   "source": [
    "def reverse_string(st):\n",
    "    return st[::-1]"
   ]
  },
  {
   "cell_type": "code",
   "execution_count": 2,
   "metadata": {},
   "outputs": [
    {
     "data": {
      "text/plain": [
       "'hsilgnE'"
      ]
     },
     "execution_count": 2,
     "metadata": {},
     "output_type": "execute_result"
    }
   ],
   "source": [
    "reverse_string(\"English\")"
   ]
  },
  {
   "cell_type": "markdown",
   "metadata": {},
   "source": [
    "#### Question 2\n",
    "- Check if a string is a palindrome."
   ]
  },
  {
   "cell_type": "code",
   "execution_count": 4,
   "metadata": {},
   "outputs": [],
   "source": [
    "#My way\n",
    "def is_paliandrom(st):\n",
    "    if st.lower() == st[::-1].lower():\n",
    "        return True\n",
    "    else:\n",
    "        return False"
   ]
  },
  {
   "cell_type": "code",
   "execution_count": 5,
   "metadata": {},
   "outputs": [],
   "source": [
    "#Symplified way\n",
    "def is_paliandrom(st):\n",
    "    return st.lower() == st[::-1].lower()"
   ]
  },
  {
   "cell_type": "code",
   "execution_count": 6,
   "metadata": {},
   "outputs": [
    {
     "name": "stdout",
     "output_type": "stream",
     "text": [
      "False\n",
      "True\n"
     ]
    }
   ],
   "source": [
    "print(is_paliandrom(\"English\"))\n",
    "print(is_paliandrom(\"Malayalam\"))"
   ]
  },
  {
   "cell_type": "markdown",
   "metadata": {},
   "source": [
    "#### Question 3\n",
    "- Write a function to compute the factorial of a number using recursion."
   ]
  },
  {
   "cell_type": "code",
   "execution_count": 7,
   "metadata": {},
   "outputs": [],
   "source": [
    "#My solution\n",
    "def fatorial_m(numb):\n",
    "    if numb <=1:\n",
    "        return 1\n",
    "    else:\n",
    "        fact = 1\n",
    "        for i in range(1,numb+1):\n",
    "            fact = fact*i\n",
    "        return fact\n"
   ]
  },
  {
   "cell_type": "code",
   "execution_count": 8,
   "metadata": {},
   "outputs": [
    {
     "data": {
      "text/plain": [
       "3628800"
      ]
     },
     "execution_count": 8,
     "metadata": {},
     "output_type": "execute_result"
    }
   ],
   "source": [
    "fatorial_m(10)"
   ]
  },
  {
   "cell_type": "code",
   "execution_count": 5,
   "metadata": {},
   "outputs": [],
   "source": [
    "#Alternate way\n",
    "def factorial(numb):\n",
    "    if numb <= 1:\n",
    "        return 1\n",
    "    else:\n",
    "        return numb*factorial(numb-1)\n"
   ]
  },
  {
   "cell_type": "code",
   "execution_count": 9,
   "metadata": {},
   "outputs": [
    {
     "data": {
      "text/plain": [
       "3628800"
      ]
     },
     "execution_count": 9,
     "metadata": {},
     "output_type": "execute_result"
    }
   ],
   "source": [
    "factorial(10)\n"
   ]
  },
  {
   "cell_type": "markdown",
   "metadata": {},
   "source": [
    "#### 4. Question\n",
    "- Generate the nth Fibonacci number."
   ]
  },
  {
   "cell_type": "code",
   "execution_count": 55,
   "metadata": {},
   "outputs": [
    {
     "data": {
      "text/plain": [
       "13"
      ]
     },
     "execution_count": 55,
     "metadata": {},
     "output_type": "execute_result"
    }
   ],
   "source": [
    "#my solution\n",
    "def fibinachi(numb):\n",
    "    if numb <= 1:\n",
    "        return 1\n",
    "    else:\n",
    "        l = []\n",
    "        for i in range(0,numb+1):\n",
    "            if i <=1:\n",
    "                l.append(1)            \n",
    "            else:\n",
    "                l.append(l[-2]+l[-1])             \n",
    "        return l[-1]     \n",
    "fibinachi(6)        "
   ]
  },
  {
   "cell_type": "code",
   "execution_count": 1,
   "metadata": {},
   "outputs": [
    {
     "data": {
      "text/plain": [
       "13"
      ]
     },
     "execution_count": 1,
     "metadata": {},
     "output_type": "execute_result"
    }
   ],
   "source": [
    "#with recursion\n",
    "def fibinachi(numb):\n",
    "    if numb<=1:\n",
    "        return 1\n",
    "    else:\n",
    "        return fibinachi(numb-1)+fibinachi(numb-2)\n",
    "fibinachi(6)"
   ]
  },
  {
   "cell_type": "code",
   "execution_count": 3,
   "metadata": {},
   "outputs": [
    {
     "data": {
      "text/plain": [
       "[1, 1, 2, 3, 5, 8, 13, 21, 34, 55, 89]"
      ]
     },
     "execution_count": 3,
     "metadata": {},
     "output_type": "execute_result"
    }
   ],
   "source": [
    "#For a list if numbers\n",
    "ls = [i for i in range(0,11)]\n",
    "list(map(fibinachi,ls))"
   ]
  },
  {
   "cell_type": "markdown",
   "metadata": {},
   "source": [
    "#### 5. Question \n",
    "- Sorting problems"
   ]
  },
  {
   "cell_type": "code",
   "execution_count": 39,
   "metadata": {},
   "outputs": [],
   "source": [
    "def sorter(ls):\n",
    "    for i in range(len(ls)):\n",
    "        for j in range(len(ls)):\n",
    "            if ls[i]<ls[j]:\n",
    "                ls[i],ls[j] = ls[j],ls[i]\n",
    "    return ls"
   ]
  },
  {
   "cell_type": "code",
   "execution_count": 41,
   "metadata": {},
   "outputs": [
    {
     "data": {
      "text/plain": [
       "[1, 2, 3, 3, 4, 5, 100]"
      ]
     },
     "execution_count": 41,
     "metadata": {},
     "output_type": "execute_result"
    }
   ],
   "source": [
    "sorter([2,1,3,100,4,5,3])"
   ]
  },
  {
   "cell_type": "markdown",
   "metadata": {},
   "source": [
    "- Write a function to take the input a list. . example: [1,10,3,3,7,8,8,9]. The function should return a sorted list with no duplicates. The count of duplicate elements removed should also be returned.\n"
   ]
  },
  {
   "cell_type": "code",
   "execution_count": 45,
   "metadata": {},
   "outputs": [],
   "source": [
    "def sortcounter(ls):\n",
    "    ls.sort()\n",
    "    sortlist = list(set(ls))\n",
    "    counter = {i:ls.count(i) for i in ls if ls.count(i)>1}\n",
    "    return sortlist,counter"
   ]
  },
  {
   "cell_type": "code",
   "execution_count": 46,
   "metadata": {},
   "outputs": [
    {
     "data": {
      "text/plain": [
       "([1, 3, 7, 8, 9, 10], {3: 2, 8: 2})"
      ]
     },
     "execution_count": 46,
     "metadata": {},
     "output_type": "execute_result"
    }
   ],
   "source": [
    "sortcounter( [1,10,3,3,7,8,8,9])"
   ]
  },
  {
   "cell_type": "code",
   "execution_count": null,
   "metadata": {},
   "outputs": [],
   "source": []
  },
  {
   "cell_type": "markdown",
   "metadata": {},
   "source": [
    "#### 1. Question:\n",
    "- Given a list of numbers, write a Python function to find the second highest number.\n"
   ]
  },
  {
   "cell_type": "code",
   "execution_count": 69,
   "metadata": {},
   "outputs": [
    {
     "data": {
      "text/plain": [
       "10"
      ]
     },
     "execution_count": 69,
     "metadata": {},
     "output_type": "execute_result"
    }
   ],
   "source": [
    "def second_largest(l):\n",
    "    l = list(set(l))\n",
    "    l.sort()\n",
    "    return l[-2]\n",
    "lis = [3,5,7,3,4,8,6,5,7,8,9,10,11]\n",
    "second_largest(lis)"
   ]
  },
  {
   "cell_type": "markdown",
   "metadata": {},
   "source": [
    "#### 3. Question:\n",
    "- You are given a list of strings. Write a function to filter out all strings that are palindromes."
   ]
  },
  {
   "cell_type": "code",
   "execution_count": 4,
   "metadata": {},
   "outputs": [
    {
     "data": {
      "text/plain": [
       "['malayalam', 'blalb', 'aaaa']"
      ]
     },
     "execution_count": 4,
     "metadata": {},
     "output_type": "execute_result"
    }
   ],
   "source": [
    "#My solution\n",
    "def is_paliandrom(string):\n",
    "    palind = []\n",
    "    for word in string.split():\n",
    "        if word.lower()==word[::-1].lower():\n",
    "            palind.append(word)\n",
    "    return palind\n",
    "string = \"malayalam is not blalb aaaa *Yt\"\n",
    "is_paliandrom(string)   "
   ]
  },
  {
   "cell_type": "code",
   "execution_count": 3,
   "metadata": {},
   "outputs": [
    {
     "name": "stdout",
     "output_type": "stream",
     "text": [
      "['radar', 'level']\n"
     ]
    }
   ],
   "source": [
    "def is_palindrome(s):\n",
    "    s = ''.join(e for e in s if e.isalnum())  # Remove punctuation and spaces\n",
    "    return s.lower() == s.lower()[::-1]\n",
    "\n",
    "def filter_palindromes(strings):\n",
    "    return [s for s in strings if is_palindrome(s)]\n",
    "\n",
    "words = [\"radar\", \"python\", \"level\", \"world\"]\n",
    "print(filter_palindromes(words))"
   ]
  },
  {
   "cell_type": "markdown",
   "metadata": {},
   "source": [
    "#### 4. Question: \n",
    "- Given a string, write a function to check if it is an anagram of another string."
   ]
  },
  {
   "cell_type": "code",
   "execution_count": 32,
   "metadata": {},
   "outputs": [],
   "source": [
    "def anagram(str1,str2):\n",
    "    return sorted(str1)==sorted(str2)"
   ]
  },
  {
   "cell_type": "code",
   "execution_count": null,
   "metadata": {},
   "outputs": [],
   "source": [
    "# in this method we are lowering the string but same logic as above\n",
    "st1 = \"listen\"\n",
    "st2 = \"silent\"\n",
    "\n",
    "def anagram(sto,stt):\n",
    "    return sorted(sto.lower()) == sorted(stt.lower())\n",
    "anagram(st1,st2)"
   ]
  },
  {
   "cell_type": "code",
   "execution_count": 35,
   "metadata": {},
   "outputs": [
    {
     "data": {
      "text/plain": [
       "False"
      ]
     },
     "execution_count": 35,
     "metadata": {},
     "output_type": "execute_result"
    }
   ],
   "source": [
    "anagram(\"bets\",\"best\")"
   ]
  },
  {
   "cell_type": "code",
   "execution_count": 27,
   "metadata": {},
   "outputs": [],
   "source": [
    "#My method\n",
    "def anagram(str1,str2):\n",
    "    l = []\n",
    "    if len(str1)!= len(str2):\n",
    "        return False\n",
    "    for i in set(str1):\n",
    "        if i in list(set(str2)):\n",
    "            l.append(True)\n",
    "        else:\n",
    "            return False\n",
    "    if all(l):\n",
    "        return True"
   ]
  },
  {
   "cell_type": "code",
   "execution_count": 31,
   "metadata": {},
   "outputs": [
    {
     "data": {
      "text/plain": [
       "True"
      ]
     },
     "execution_count": 31,
     "metadata": {},
     "output_type": "execute_result"
    }
   ],
   "source": [
    "anagram(\"bets\",\"best\")"
   ]
  },
  {
   "cell_type": "code",
   "execution_count": 4,
   "metadata": {},
   "outputs": [],
   "source": [
    "def anagram(a,b):\n",
    "    a = list(a.lower())\n",
    "    b = list(b.lower())\n",
    "    dic1 = {i:a.count(i) for i in a}\n",
    "    dic2 = {i:b.count(i) for i in b}\n",
    "    return dic1 == dic2"
   ]
  },
  {
   "cell_type": "code",
   "execution_count": 5,
   "metadata": {},
   "outputs": [
    {
     "data": {
      "text/plain": [
       "True"
      ]
     },
     "execution_count": 5,
     "metadata": {},
     "output_type": "execute_result"
    }
   ],
   "source": [
    "anagram(\"The eyes\", \"they see\")"
   ]
  },
  {
   "cell_type": "markdown",
   "metadata": {},
   "source": [
    "#### 5. Question: \n",
    "- Write a function to flatten a nested list."
   ]
  },
  {
   "cell_type": "code",
   "execution_count": 2,
   "metadata": {},
   "outputs": [
    {
     "name": "stdout",
     "output_type": "stream",
     "text": [
      "[1, 2, 3, 4, 5, 6, 7, 8, 9, 10]\n"
     ]
    }
   ],
   "source": [
    "\n",
    "def flatten_list(nested_list):\n",
    "    flat_list = []  # Step 1: Create an empty list to hold the result\n",
    "    for item in nested_list:  # Step 2: Iterate through each item in the nested list\n",
    "        if isinstance(item, list):  # Step 2a: If the item is a list # can alse use type(ls) == list\n",
    "            flat_list.extend(flatten_list(item))  # Step 3: Recursively flatten and extend the flat list\n",
    "        else:\n",
    "            flat_list.append(item)  # Step 2b: If the item is not a list, add it directly to the flat list\n",
    "    return flat_list  # Step 4: Return the flat list containing all elements\n",
    "\n",
    "# Example usage\n",
    "nested_list = [1, [2, [3, 4], 5], 6, [7, 8, [9, 10]]]\n",
    "flattened = flatten_list(nested_list)\n",
    "print(flattened)  # Output: [1, 2, 3, 4, 5, 6, 7, 8, 9, 10]\n"
   ]
  },
  {
   "cell_type": "code",
   "execution_count": 1,
   "metadata": {},
   "outputs": [
    {
     "data": {
      "text/plain": [
       "[1, 2, 3, 4, 5, 2, 3, 4, 1, 2, 6]"
      ]
     },
     "execution_count": 1,
     "metadata": {},
     "output_type": "execute_result"
    }
   ],
   "source": [
    "#My method\n",
    "def flatter(ls):\n",
    "    result = []\n",
    "    for val in ls:\n",
    "        if type(val) == list:\n",
    "            result.extend(flatter(val))\n",
    "        else:\n",
    "            result.append(val)\n",
    "    return result\n",
    "\n",
    "nested_list = [1, [2, 3, [4, 5,[2,3,4,[1,2]]]], 6]\n",
    "flatter(nested_list)"
   ]
  },
  {
   "cell_type": "code",
   "execution_count": null,
   "metadata": {},
   "outputs": [],
   "source": []
  },
  {
   "cell_type": "markdown",
   "metadata": {},
   "source": [
    "#### 6. Question:  \n",
    "- Rotating a list based on an index in Python"
   ]
  },
  {
   "cell_type": "code",
   "execution_count": 1,
   "metadata": {},
   "outputs": [
    {
     "data": {
      "text/plain": [
       "[3, 4, 1, 2]"
      ]
     },
     "execution_count": 1,
     "metadata": {},
     "output_type": "execute_result"
    }
   ],
   "source": [
    "def rotator(ls,numb):\n",
    "    span = len(ls)\n",
    "    #this will rotate the index to required lenght if we are dividing a number  greater than len(ls) it should get the remainder so we use modulo.\n",
    "    # # Ensure the index is within the bounds of the list length\n",
    "    numb = numb%span\n",
    "    return ls[- numb:] + ls[: - numb]\n",
    "ls = [1,2,3,4]\n",
    "rotator(ls,2)"
   ]
  },
  {
   "cell_type": "code",
   "execution_count": null,
   "metadata": {},
   "outputs": [],
   "source": []
  },
  {
   "cell_type": "markdown",
   "metadata": {},
   "source": [
    "#### 7 Question: \n",
    "- Given two lists, write a function that returns the elements that are common to both lists."
   ]
  },
  {
   "cell_type": "code",
   "execution_count": null,
   "metadata": {},
   "outputs": [],
   "source": []
  },
  {
   "cell_type": "code",
   "execution_count": 7,
   "metadata": {},
   "outputs": [
    {
     "name": "stdout",
     "output_type": "stream",
     "text": [
      "[1, 2, 3, 4, 5]\n"
     ]
    }
   ],
   "source": [
    "#My method\n",
    "def commons(ls1,ls2):\n",
    "    common = []\n",
    "    for val in list(set(ls1)):\n",
    "        if val in list(set(ls2)):\n",
    "            common.append(val)\n",
    "    return common\n",
    "ls1 = [1,2,3,4,5,2,3]\n",
    "ls2 = [3,4,5,6,7,8,1,2,3]\n",
    "print(commons(ls1,ls2))"
   ]
  },
  {
   "cell_type": "code",
   "execution_count": 12,
   "metadata": {},
   "outputs": [
    {
     "name": "stdout",
     "output_type": "stream",
     "text": [
      "[1, 2, 3, 4, 5]\n"
     ]
    }
   ],
   "source": [
    "# here converting list nto set and taking intersection of that\n",
    "def commons(ls1,ls2):\n",
    "    return list(set(ls1).intersection(set(ls2)))\n",
    "print(commons(ls1,ls2))"
   ]
  },
  {
   "cell_type": "code",
   "execution_count": null,
   "metadata": {},
   "outputs": [],
   "source": []
  },
  {
   "cell_type": "markdown",
   "metadata": {},
   "source": [
    "#### 8. Question: \n",
    "- Write a Python function to merge two dictionaries. If both dictionaries have the same key, prefer the second dictionary's value."
   ]
  },
  {
   "cell_type": "code",
   "execution_count": 4,
   "metadata": {},
   "outputs": [],
   "source": [
    "dict1 = {\"a\":5,\"b\": 6, \"c\":8}\n",
    "dict2 = {\"a\":4,\"b\": 7, \"c\":3, \"e\": 5}"
   ]
  },
  {
   "cell_type": "code",
   "execution_count": 14,
   "metadata": {},
   "outputs": [
    {
     "data": {
      "text/plain": [
       "{'a': 1, 'b': 3, 'c': 4, 'e': 5}"
      ]
     },
     "execution_count": 14,
     "metadata": {},
     "output_type": "execute_result"
    }
   ],
   "source": [
    "#my method\n",
    "def mergedict(dict1,dict2):\n",
    "    dict1.update(dict2)\n",
    "    return dict1  \n",
    "mergedict(dict1,dict2)"
   ]
  },
  {
   "cell_type": "code",
   "execution_count": null,
   "metadata": {},
   "outputs": [],
   "source": []
  },
  {
   "cell_type": "code",
   "execution_count": 13,
   "metadata": {},
   "outputs": [
    {
     "name": "stdout",
     "output_type": "stream",
     "text": [
      "{'a': 1, 'b': 3, 'c': 4, 'e': 5}\n"
     ]
    }
   ],
   "source": [
    "def merge_dicts(dict1, dict2):\n",
    "    merged = dict1.copy()\n",
    "    merged.update(dict2)\n",
    "    return merged\n",
    "\n",
    "dict1 = {'a': 1, 'b': 2}\n",
    "dict2 = {'b': 3, 'c': 4, \"e\":5}\n",
    "print(merge_dicts(dict1, dict2))"
   ]
  },
  {
   "cell_type": "code",
   "execution_count": null,
   "metadata": {},
   "outputs": [],
   "source": []
  },
  {
   "cell_type": "markdown",
   "metadata": {},
   "source": [
    "#### 9. Question: \n",
    "- Write a function that finds the most repeated character in a string."
   ]
  },
  {
   "cell_type": "code",
   "execution_count": 4,
   "metadata": {},
   "outputs": [
    {
     "name": "stdout",
     "output_type": "stream",
     "text": [
      "{'h': 6, 'a': 2, ' ': 2, 'u': 14, 'd': 5, 'g': 1, 'f': 18, 'k': 2, 's': 1, 'j': 1}\n"
     ]
    },
    {
     "data": {
      "text/plain": [
       "'f'"
      ]
     },
     "execution_count": 4,
     "metadata": {},
     "output_type": "execute_result"
    }
   ],
   "source": [
    "# My Method\n",
    "strn = \"hahah uuuuudhdgdhffffffffffffffffff uuuuuuuuukskdjhd\"\n",
    "def repeater(ls):\n",
    "    #counting the charecters with dict\n",
    "    counter = {key:ls.count(key) for key in ls}\n",
    "    print(counter)\n",
    "    # converting dict key into a list and converting dic values to list and taking index of max value inorder to get max repeated charecter\n",
    "    return list(counter.keys())[list(counter.values()).index(max(counter.values()))]\n",
    "\n",
    "repeater(strn)"
   ]
  },
  {
   "cell_type": "code",
   "execution_count": null,
   "metadata": {},
   "outputs": [],
   "source": []
  },
  {
   "cell_type": "code",
   "execution_count": 78,
   "metadata": {},
   "outputs": [
    {
     "name": "stdout",
     "output_type": "stream",
     "text": [
      "{'h': 6, 'a': 2, ' ': 2, 'u': 14, 'd': 5, 'g': 1, 'f': 18, 'k': 2, 's': 1, 'j': 1}\n",
      "f\n"
     ]
    }
   ],
   "source": [
    "#optimal method\n",
    "def most_repeated(s):\n",
    "    char_count = {}\n",
    "    for char in s:\n",
    "        if char in char_count:\n",
    "            char_count[char] += 1\n",
    "        else:\n",
    "            char_count[char] = 1\n",
    "    print(char_count)\n",
    "    max_char = max(char_count, key=char_count.get)\n",
    "    return max_char\n",
    "\n",
    "string = \"hahah uuuuudhdgdhffffffffffffffffff uuuuuuuuukskdjhd\"\n",
    "print(most_repeated(string))"
   ]
  },
  {
   "cell_type": "code",
   "execution_count": null,
   "metadata": {},
   "outputs": [],
   "source": []
  },
  {
   "cell_type": "markdown",
   "metadata": {},
   "source": [
    "#### 10. Question: \n",
    "- Write a function that checks if a string contains all letters of the alphabet at least once."
   ]
  },
  {
   "cell_type": "code",
   "execution_count": 59,
   "metadata": {},
   "outputs": [],
   "source": [
    "strn = 'hahah uuuuudhdgdhffffffffffffffffff uuuuuuuuukskdjhd*^qwertyuiop[asdfghjkl;zxcvbnmHK'"
   ]
  },
  {
   "cell_type": "code",
   "execution_count": 65,
   "metadata": {},
   "outputs": [],
   "source": [
    "#My method\n",
    "import re\n",
    "def alphabeter(text):\n",
    "    #here substituting all non alphabet with nothing and taking set and length\n",
    "    counter = len(set(re.sub(\"\\W\",\"\",text.lower())))\n",
    "    if counter == 26:\n",
    "        print(\"all alphabets are present in text\")\n",
    "    else:\n",
    "        print(\"Not all alphabets are in text\")\n",
    "\n"
   ]
  },
  {
   "cell_type": "code",
   "execution_count": 66,
   "metadata": {},
   "outputs": [
    {
     "name": "stdout",
     "output_type": "stream",
     "text": [
      "all alphabets are present in text\n"
     ]
    }
   ],
   "source": [
    "alphabeter(strn)"
   ]
  },
  {
   "cell_type": "code",
   "execution_count": null,
   "metadata": {},
   "outputs": [],
   "source": []
  },
  {
   "cell_type": "code",
   "execution_count": 70,
   "metadata": {},
   "outputs": [
    {
     "name": "stdout",
     "output_type": "stream",
     "text": [
      "True\n"
     ]
    }
   ],
   "source": [
    "import string\n",
    "\n",
    "def contains_all_alphabets(s):\n",
    "    alphabet = set(string.ascii_lowercase)\n",
    "    return set(s.lower()) >= alphabet\n",
    "\n",
    "test_string = \"The quick brown fox jumps over the lazy dog122@\"\n",
    "print(contains_all_alphabets(test_string))"
   ]
  },
  {
   "cell_type": "code",
   "execution_count": null,
   "metadata": {},
   "outputs": [],
   "source": []
  },
  {
   "cell_type": "markdown",
   "metadata": {},
   "source": [
    "#### 11. Question: \n",
    "- Write a function that checks if a given string is a valid IPv4 address."
   ]
  },
  {
   "cell_type": "code",
   "execution_count": 42,
   "metadata": {},
   "outputs": [
    {
     "data": {
      "text/plain": [
       "True"
      ]
     },
     "execution_count": 42,
     "metadata": {},
     "output_type": "execute_result"
    }
   ],
   "source": [
    "#My method\n",
    "def ipfinder(ip):\n",
    "    if len(ip.split(\".\")) != 4:\n",
    "        return False\n",
    "    for i in ip:\n",
    "        if type(int(i)) == int and int(i) >=0 and int(i) <= 255:\n",
    "            return True\n",
    "        else:\n",
    "            return False\n",
    "            \n",
    "ip =  \"192.0.2.146\"\n",
    "ipfinder(ip)"
   ]
  },
  {
   "cell_type": "code",
   "execution_count": 43,
   "metadata": {},
   "outputs": [
    {
     "name": "stdout",
     "output_type": "stream",
     "text": [
      "True\n"
     ]
    }
   ],
   "source": [
    "def is_valid_ipv4(ip):\n",
    "    parts = ip.split(\".\")\n",
    "    if len(parts) != 4:\n",
    "        return False\n",
    "    for item in parts:\n",
    "        #checks if item is not a digit\n",
    "        if not item.isdigit():\n",
    "            return False\n",
    "        num = int(item)\n",
    "        if num < 0 or num > 255:\n",
    "            return False\n",
    "    return True\n",
    "\n",
    "address = \"192.168.1.1\"\n",
    "print(is_valid_ipv4(address))"
   ]
  },
  {
   "cell_type": "code",
   "execution_count": null,
   "metadata": {},
   "outputs": [],
   "source": []
  },
  {
   "cell_type": "markdown",
   "metadata": {},
   "source": [
    "#### 12. Question: \n",
    "- Given a list of numbers, write a function to compute the mean, median, and mode."
   ]
  },
  {
   "cell_type": "code",
   "execution_count": 98,
   "metadata": {},
   "outputs": [
    {
     "data": {
      "text/plain": [
       "6.0"
      ]
     },
     "execution_count": 98,
     "metadata": {},
     "output_type": "execute_result"
    }
   ],
   "source": [
    "def median(ls):\n",
    "    p = len(ls)\n",
    "    if p%2 == 0:\n",
    "        return ((ls[p//2] + ls[(p//2)+1])/2)\n",
    "    else:\n",
    "        return ls[p//2]\n",
    "\n",
    "median(ls)"
   ]
  },
  {
   "cell_type": "code",
   "execution_count": 106,
   "metadata": {},
   "outputs": [
    {
     "data": {
      "text/plain": [
       "6.045454545454546"
      ]
     },
     "execution_count": 106,
     "metadata": {},
     "output_type": "execute_result"
    }
   ],
   "source": [
    "def mean(ls):\n",
    "    return sum(ls)/len(ls)\n",
    "\n",
    "mean(ls)"
   ]
  },
  {
   "cell_type": "code",
   "execution_count": 107,
   "metadata": {},
   "outputs": [
    {
     "data": {
      "text/plain": [
       "6"
      ]
     },
     "execution_count": 107,
     "metadata": {},
     "output_type": "execute_result"
    }
   ],
   "source": [
    "def mode(ls):\n",
    "    return max(set(ls),key = ls.count)\n",
    "mode(ls)  "
   ]
  },
  {
   "cell_type": "code",
   "execution_count": 108,
   "metadata": {},
   "outputs": [
    {
     "name": "stdout",
     "output_type": "stream",
     "text": [
      "Mode od list = 6 \n",
      "median of list = 6.0 \n",
      "mean of list = 6.045454545454546\n"
     ]
    }
   ],
   "source": [
    "ls = [1,2,3,4,5,6,7,8,9,0,6,7,4,5,9,23,4,6,6,6,6,6]\n",
    "def allinone(ls):\n",
    "    ls.sort\n",
    "    print(f\"Mode od list = {mode(ls)} \\nmedian of list = {median(ls)} \\nmean of list = {mean(ls)}\")\n",
    "\n",
    "allinone(ls)"
   ]
  },
  {
   "cell_type": "code",
   "execution_count": 109,
   "metadata": {},
   "outputs": [
    {
     "name": "stdout",
     "output_type": "stream",
     "text": [
      "{'mean': 3.888888888888889, 'median': 4, 'mode': 5}\n"
     ]
    }
   ],
   "source": [
    "from statistics import mean, median, mode\n",
    "\n",
    "def compute_stats(numbers):\n",
    "    return {\n",
    "        \"mean\": mean(numbers),\n",
    "        \"median\": median(numbers),\n",
    "        \"mode\": mode(numbers)\n",
    "    }\n",
    "\n",
    "numbers = [1, 2, 3, 4, 4, 5, 5, 5, 6]\n",
    "print(compute_stats(numbers))"
   ]
  },
  {
   "cell_type": "code",
   "execution_count": null,
   "metadata": {},
   "outputs": [],
   "source": []
  },
  {
   "cell_type": "markdown",
   "metadata": {},
   "source": [
    "#### 13. Question: \n",
    "- Write a function to compute the Fibonacci series up to n."
   ]
  },
  {
   "cell_type": "code",
   "execution_count": 20,
   "metadata": {},
   "outputs": [
    {
     "data": {
      "text/plain": [
       "5"
      ]
     },
     "execution_count": 20,
     "metadata": {},
     "output_type": "execute_result"
    }
   ],
   "source": [
    "def fibinachi(n):\n",
    "    if n<=1:        \n",
    "        return 1\n",
    "    else:\n",
    "        return fibinachi(n-1) + fibinachi(n-2)\n",
    "fibinachi(4)"
   ]
  },
  {
   "cell_type": "code",
   "execution_count": 17,
   "metadata": {},
   "outputs": [
    {
     "data": {
      "text/plain": [
       "[1, 1, 2, 3, 5, 8, 13, 21, 34, 55]"
      ]
     },
     "execution_count": 17,
     "metadata": {},
     "output_type": "execute_result"
    }
   ],
   "source": [
    "list(map(fibinachi,[i for i in range(10)]))"
   ]
  },
  {
   "cell_type": "code",
   "execution_count": null,
   "metadata": {},
   "outputs": [],
   "source": []
  },
  {
   "cell_type": "markdown",
   "metadata": {},
   "source": [
    "#### 14. Question: \n",
    "- Given a string, write a function that returns the first non-repeated character."
   ]
  },
  {
   "cell_type": "code",
   "execution_count": 38,
   "metadata": {},
   "outputs": [
    {
     "data": {
      "text/plain": [
       "'j'"
      ]
     },
     "execution_count": 38,
     "metadata": {},
     "output_type": "execute_result"
    }
   ],
   "source": [
    "#My solution\n",
    "def first_non_repeated(txt):\n",
    "    l= []\n",
    "    for i in txt:\n",
    "        #Counting the numbers if any number count comes as one we break and append\n",
    "        if txt.count(i)== 1:\n",
    "            l.append(i)\n",
    "            break\n",
    "    return l[0]\n",
    "txt= \"swisswij\"       \n",
    "first_non_repeated(txt)\n",
    "    "
   ]
  },
  {
   "cell_type": "code",
   "execution_count": 41,
   "metadata": {},
   "outputs": [
    {
     "name": "stdout",
     "output_type": "stream",
     "text": [
      "l\n"
     ]
    }
   ],
   "source": [
    "# Solution from krish\n",
    "def first_non_repeated(s):\n",
    "    char_count = {}\n",
    "    for char in s:\n",
    "        if char in char_count:\n",
    "            char_count[char] += 1\n",
    "        else:\n",
    "            char_count[char] = 1\n",
    "    for char in s:\n",
    "        if char_count[char] == 1:\n",
    "            return char\n",
    "    return None\n",
    "\n",
    "string = \"swisswlik\"\n",
    "print(first_non_repeated(string))"
   ]
  },
  {
   "cell_type": "code",
   "execution_count": null,
   "metadata": {},
   "outputs": [],
   "source": []
  },
  {
   "cell_type": "markdown",
   "metadata": {},
   "source": [
    "#### 15. Question: \n",
    "- Write a function to check if two strings are a rotation of each other (e.g., \"abcde\" and \"cdeab\" are rotations of each other)."
   ]
  },
  {
   "cell_type": "code",
   "execution_count": 21,
   "metadata": {},
   "outputs": [],
   "source": [
    "def rotation(text1,text2):\n",
    "    if len(text1) != len(text2):\n",
    "        return False\n",
    "    else:\n",
    "        return text1 in text2+text2       \n",
    "    "
   ]
  },
  {
   "cell_type": "code",
   "execution_count": 23,
   "metadata": {},
   "outputs": [
    {
     "data": {
      "text/plain": [
       "True"
      ]
     },
     "execution_count": 23,
     "metadata": {},
     "output_type": "execute_result"
    }
   ],
   "source": [
    "rotation(\"abcdes\" , \"cdesab\" )"
   ]
  },
  {
   "cell_type": "code",
   "execution_count": null,
   "metadata": {},
   "outputs": [],
   "source": []
  },
  {
   "cell_type": "markdown",
   "metadata": {},
   "source": [
    "## 16. Question: \n",
    "- Write a function to determine if a string has all unique characters (i.e., no character is repeated)."
   ]
  },
  {
   "cell_type": "code",
   "execution_count": 24,
   "metadata": {},
   "outputs": [],
   "source": [
    "def ueq(text):\n",
    "    return len(text) == len(set(text))"
   ]
  },
  {
   "cell_type": "code",
   "execution_count": 27,
   "metadata": {},
   "outputs": [
    {
     "data": {
      "text/plain": [
       "False"
      ]
     },
     "execution_count": 27,
     "metadata": {},
     "output_type": "execute_result"
    }
   ],
   "source": [
    "text = \"abcderfwa\"\n",
    "ueq(text)"
   ]
  },
  {
   "cell_type": "code",
   "execution_count": null,
   "metadata": {},
   "outputs": [],
   "source": []
  },
  {
   "cell_type": "markdown",
   "metadata": {},
   "source": [
    "## 17. Question: \n",
    "- Write a function that returns the longest consecutive subsequence in a list of numbers."
   ]
  },
  {
   "cell_type": "code",
   "execution_count": 10,
   "metadata": {},
   "outputs": [
    {
     "data": {
      "text/plain": [
       "[1, 2, 3, 4, 5, 6, 7, 8]"
      ]
     },
     "execution_count": 10,
     "metadata": {},
     "output_type": "execute_result"
    }
   ],
   "source": [
    "# My solution\n",
    "numbers = [1, 2, 3, 5, 6, 7, 8,9, 10,1,2,3,4,5,6,7,8]\n",
    "\n",
    "def subsequnt(numbers):\n",
    "    # storing longest subsequent\n",
    "    subseq = []\n",
    "    # looping through list\n",
    "    for i in range(0,len(numbers)):\n",
    "        # adding the first element such that i could add next element if condition matches\n",
    "        innerseq = [numbers[i],]\n",
    "        # while loop for looping all the elements from i index\n",
    "        while i < len(numbers)-1:\n",
    "            # condition\n",
    "            if numbers[i+1] - numbers[i] == 1:\n",
    "                # appending intermidiate list\n",
    "                innerseq.append(numbers[i+1])\n",
    "            else:\n",
    "                # if condition does not match return back to the for loop\n",
    "                break\n",
    "            # only reachess here if condition matches and we need next element\n",
    "            i+=1\n",
    "        # checking for longest subsequence appended\n",
    "        if len(innerseq) > len(subseq):\n",
    "            # if condition matches change the old sebsequence into new\n",
    "            subseq=innerseq\n",
    "    return subseq\n",
    "    \n",
    "subsequnt(numbers)    "
   ]
  },
  {
   "cell_type": "code",
   "execution_count": 9,
   "metadata": {},
   "outputs": [
    {
     "name": "stdout",
     "output_type": "stream",
     "text": [
      "[5, 6, 7, 8]\n"
     ]
    }
   ],
   "source": [
    "def longest_consecutive_subsequence(nums):\n",
    "    if not nums:\n",
    "        return []\n",
    "    nums = sorted(set(nums))\n",
    "    longest_streak = []\n",
    "    current_streak = [nums[0]]\n",
    "\n",
    "    for i in range(1, len(nums)):\n",
    "        if nums[i] - nums[i - 1] == 1:\n",
    "            current_streak.append(nums[i])\n",
    "        else:\n",
    "            if len(current_streak) > len(longest_streak):\n",
    "                longest_streak = current_streak\n",
    "            current_streak = [nums[i]]\n",
    "\n",
    "    return longest_streak if len(longest_streak) > len(current_streak) else current_streak\n",
    "\n",
    "numbers = [1, 2, 3, 5, 6, 7, 8, 10]\n",
    "print(longest_consecutive_subsequence(numbers))"
   ]
  },
  {
   "cell_type": "code",
   "execution_count": null,
   "metadata": {},
   "outputs": [],
   "source": []
  },
  {
   "cell_type": "markdown",
   "metadata": {},
   "source": [
    "## 18. Question: \n",
    "- Write a function to compute the square root of a given non-negative integer n without using built-in square root functions or libraries. Return the floor value of the result."
   ]
  },
  {
   "cell_type": "code",
   "execution_count": 16,
   "metadata": {},
   "outputs": [
    {
     "name": "stdout",
     "output_type": "stream",
     "text": [
      "4\n"
     ]
    },
    {
     "data": {
      "text/plain": [
       "4"
      ]
     },
     "execution_count": 16,
     "metadata": {},
     "output_type": "execute_result"
    }
   ],
   "source": [
    "import math\n",
    "q = (24)**0.5\n",
    "print(math.floor(q))\n",
    "int(str(q)[0])"
   ]
  },
  {
   "cell_type": "code",
   "execution_count": 8,
   "metadata": {},
   "outputs": [
    {
     "name": "stdout",
     "output_type": "stream",
     "text": [
      "4\n"
     ]
    }
   ],
   "source": [
    "def sqrt(n):\n",
    "    if n < 0:\n",
    "        return None\n",
    "    if n == 1:\n",
    "        return 1\n",
    "    start, end = 0, n\n",
    "    while start <= end:\n",
    "        mid = (start + end) // 2\n",
    "        if mid * mid == n:\n",
    "            return mid\n",
    "        elif mid * mid < n:\n",
    "            start = mid + 1\n",
    "            ans = mid\n",
    "        else:\n",
    "            end = mid - 1\n",
    "    return ans\n",
    "\n",
    "number = 24\n",
    "print(sqrt(number))"
   ]
  },
  {
   "cell_type": "code",
   "execution_count": null,
   "metadata": {},
   "outputs": [],
   "source": []
  },
  {
   "cell_type": "markdown",
   "metadata": {},
   "source": [
    "## 19. Question: \n",
    "- Given a list of integers, write a function to move all zeros to the end of the list while maintaining the order of the other elements."
   ]
  },
  {
   "cell_type": "code",
   "execution_count": 25,
   "metadata": {},
   "outputs": [
    {
     "data": {
      "text/plain": [
       "[1, 2, 4, 7, 5, 5, 6, 0, 0, 0, 0]"
      ]
     },
     "execution_count": 25,
     "metadata": {},
     "output_type": "execute_result"
    }
   ],
   "source": [
    "numbers = [1, 2, 0, 4,0,7,5, 0, 5, 6, 0]\n",
    "def movezero(numb):\n",
    "    for i in range(len(numb)):\n",
    "        if numb[i] ==0:\n",
    "            numb.append(0)\n",
    "            del numb[i]\n",
    "    return numb\n",
    "movezero(numbers)        "
   ]
  },
  {
   "cell_type": "code",
   "execution_count": 26,
   "metadata": {},
   "outputs": [
    {
     "name": "stdout",
     "output_type": "stream",
     "text": [
      "[1, 2, 4, 5, 6, 0, 0, 0]\n"
     ]
    }
   ],
   "source": [
    "def move_zeros(nums):\n",
    "    count = nums.count(0)\n",
    "    nums = [num for num in nums if num != 0]\n",
    "    nums.extend([0] * count)\n",
    "    return nums\n",
    "numbers = [1, 2, 0, 4, 0, 5, 6, 0]\n",
    "print(move_zeros(numbers))  # Output: [1, 2, 4, 5, 6, 0, 0, 0]"
   ]
  },
  {
   "cell_type": "code",
   "execution_count": null,
   "metadata": {},
   "outputs": [],
   "source": []
  },
  {
   "cell_type": "code",
   "execution_count": null,
   "metadata": {},
   "outputs": [],
   "source": []
  },
  {
   "cell_type": "code",
   "execution_count": null,
   "metadata": {},
   "outputs": [],
   "source": []
  },
  {
   "cell_type": "markdown",
   "metadata": {},
   "source": [
    "## Extras From Learning Materials"
   ]
  },
  {
   "cell_type": "code",
   "execution_count": 1,
   "metadata": {},
   "outputs": [
    {
     "name": "stdout",
     "output_type": "stream",
     "text": [
      "Guess a number between 1 and 10 5\n",
      "number should be higher\n",
      "Guess a number between 1 and 10 7\n",
      "number should be lower\n",
      "Guess a number between 1 and 10 6\n",
      "You prediction was correct as 6\n"
     ]
    }
   ],
   "source": [
    "#Madlibs (Gussing number between a range is correct)\n",
    "import random\n",
    "def guesser(x):\n",
    "    randum_num = random.randint(1,x)\n",
    "    guess = 0\n",
    "    while guess!= randum_num:\n",
    "        guess = int(input(f\"Guess a number between 1 and {x} \"))\n",
    "        if guess > randum_num:\n",
    "            print(\"number should be lower\")\n",
    "        elif guess<randum_num:\n",
    "            print(\"number should be higher\")\n",
    "    print(f\"You prediction was correct as {guess}\")\n",
    "guesser(10)\n",
    "        "
   ]
  },
  {
   "cell_type": "code",
   "execution_count": null,
   "metadata": {},
   "outputs": [],
   "source": []
  },
  {
   "cell_type": "code",
   "execution_count": null,
   "metadata": {},
   "outputs": [],
   "source": []
  }
 ],
 "metadata": {
  "kernelspec": {
   "display_name": "Python 3 (ipykernel)",
   "language": "python",
   "name": "python3"
  },
  "language_info": {
   "codemirror_mode": {
    "name": "ipython",
    "version": 3
   },
   "file_extension": ".py",
   "mimetype": "text/x-python",
   "name": "python",
   "nbconvert_exporter": "python",
   "pygments_lexer": "ipython3",
   "version": "3.11.7"
  },
  "vscode": {
   "interpreter": {
    "hash": "73b6f4d668dbd7edb6a8d8cddf81959084b9d85cf1d200e6b76852f11eb47cc8"
   }
  }
 },
 "nbformat": 4,
 "nbformat_minor": 4
}
