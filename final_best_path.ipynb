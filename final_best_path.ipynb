{
 "cells": [
  {
   "cell_type": "markdown",
   "id": "013a0117",
   "metadata": {},
   "source": [
    "# Python"
   ]
  },
  {
   "cell_type": "markdown",
   "id": "1824e33b",
   "metadata": {},
   "source": [
    "### problem statement\n",
    "There is a road which is mostly straight except for a few 90° turns. The road when converted to\n",
    "coordinate system gives the following values.\n",
    "point 1 0.00 1.41\n",
    "point 2 0.71 2.12\n",
    "point 3 1.41 2.83\n",
    "point 4 -1.41 5.66\n",
    "point 5 -0.71 6.36\n",
    "point 6 0.00 7.07\n",
    "point 7 2.83 4.24\n",
    "point 8 4.24 5.66\n",
    "point 9 4.95 6.36\n",
    "point 10 5.66 5.66\n",
    "point 11 6.36 6.36\n",
    "point 12 7.07 7.07\n",
    "point 13 6.36 7.78\n",
    "point 14 7.07 8.49\n",
    "point 15 7.78 9.19\n",
    "point 16 8.49 9.90\n",
    "point 17 9.19 10.61\n",
    "point 18 7.78 12.02\n",
    "point 19 9.19 13.44\n",
    "point 20 11.31 11.31\n",
    "point 21 12.02 12.02\n",
    "point 22 11.31 12.73\n",
    "point 23 12.02 13.44\n",
    "\n",
    "1.Build a python code to detect the points that are out of the straight route. The code should\n",
    "automatically fix such points, so that a straight route is obtained. (Assume a straight route is\n",
    "available always).\n",
    "2.2.There is a straight route available from point1 to point14. However, if we follow the road as given\n",
    "above, it involves unnecessary turns. What points should be corrected, to obtain a straight route?\n",
    "2.3.Write a code to calculate the distance between 2 points if traversed by the above road"
   ]
  },
  {
   "cell_type": "code",
   "execution_count": 2,
   "id": "d0fa3d7d",
   "metadata": {},
   "outputs": [],
   "source": [
    "# Define the coordinates of the given points\n",
    "points = [(0.00, 1.41), (0.71, 2.12), (1.41, 2.83), (-1.41, 5.66), (-0.71, 6.36), (0.00, 7.07),\n",
    "          (2.83, 4.24), (4.24, 5.66), (4.95, 6.36), (5.66, 5.66), (6.36, 6.36), (7.07, 7.07),\n",
    "          (6.36, 7.78), (7.07, 8.49), (7.78, 9.19), (8.49, 9.90), (9.19, 10.61), (7.78, 12.02),\n",
    "          (9.19, 13.44), (11.31, 11.31), (12.02, 12.02), (11.31, 12.73), (12.02, 13.44)]"
   ]
  },
  {
   "cell_type": "markdown",
   "id": "7084913e",
   "metadata": {},
   "source": [
    "### 2.3.Write a code to calculate the distance between 2 points if traversed by the above road."
   ]
  },
  {
   "cell_type": "code",
   "execution_count": 7,
   "id": "2b51561e",
   "metadata": {},
   "outputs": [
    {
     "name": "stdout",
     "output_type": "stream",
     "text": [
      "Total distance along the given road: 33.00 units\n"
     ]
    }
   ],
   "source": [
    "import math\n",
    "# calculating total distance travelled\n",
    "def calculate_distance(point1, point2):\n",
    "    x1, y1 = point1\n",
    "    x2, y2 = point2\n",
    "    return math.sqrt((x2 - x1) ** 2 + (y2 - y1) ** 2)\n",
    "\n",
    "# Calculate the total distance along the given road\n",
    "total_distance = 0\n",
    "for i in range(len(points) - 1):\n",
    "    total_distance += calculate_distance(points[i], points[i + 1])\n",
    "\n",
    "print(f\"Total distance along the given road: {total_distance:.2f} units\")\n"
   ]
  },
  {
   "cell_type": "markdown",
   "id": "572c3c76",
   "metadata": {},
   "source": [
    "### Explanation\n",
    "\n",
    "- The calculate_distance function takes two points, point1 and point2, represented as (x, y) coordinates. It calculates the Euclidean distance between these two points using the distance formula: sqrt((x2 - x1)^2 + (y2 - y1)^2). This formula measures the straight-line distance between two points in a two-dimensional space.\n",
    "\n",
    "- The variable total_distance is initialized to 0. It will be used to store the cumulative total distance as the code iterates through the points.\n",
    "\n",
    "- A for loop iterates through the points using the range(len(points) - 1) range. This loop is set to stop at the second-to-last point since it calculates the distance between consecutive points, and there's no point beyond the last one.\n",
    "\n",
    "- Inside the loop, the code calculates the distance between the current point (points[i]) and the next point (points[i + 1]) by calling the calculate_distance function. It then adds this distance to the total_distance."
   ]
  },
  {
   "cell_type": "markdown",
   "id": "7f31ca7d",
   "metadata": {},
   "source": [
    "### 2.2.There is a straight route available from point1 to point14. However, if we follow the road as given above, it involves unnecessary turns. What points should be corrected, to obtain a straight route?"
   ]
  },
  {
   "cell_type": "markdown",
   "id": "48c2d33c",
   "metadata": {},
   "source": [
    "## Method 1"
   ]
  },
  {
   "cell_type": "code",
   "execution_count": 31,
   "id": "af2c558d",
   "metadata": {},
   "outputs": [
    {
     "name": "stdout",
     "output_type": "stream",
     "text": [
      "points in straight line [1, 2, 3, 7, 8, 9, 13, 14]\n",
      "points which are not in straight line [4, 5, 6, 10, 11, 12]\n"
     ]
    }
   ],
   "source": [
    "# Function to calculate the distance between two points\n",
    "def distance(point1, point2):\n",
    "    x1, y1 = point1\n",
    "    x2, y2 = point2\n",
    "    return np.sqrt((x2 - x1) ** 2 + (y2 - y1) ** 2)\n",
    "\n",
    "# Function to check if three points are collinear\n",
    "def are_collinear(p1, p2, p3):\n",
    "    return round((distance(p1, p2) + distance(p2, p3)),4) == round(distance(p1, p3),4)\n",
    "\n",
    "# Initialize a list to store points that are not collinear\n",
    "not_collinr = []\n",
    "# Saving first collinear points \n",
    "for i in range(3,len(points)+1):\n",
    "    if are_collinear(points[i-2],points[i-1],points[i]):\n",
    "        point1 = points[i-2]\n",
    "        point2 = points[i-1]\n",
    "        collinir_points = [i-2,i-1]\n",
    "        break\n",
    "        \n",
    "# Checking each points for collinier and appending to collinir_points\n",
    "for i in range(3, 15):\n",
    "    if are_collinear(points[1],points[2],points[i]):\n",
    "        collinir_points.extend([i])\n",
    "    else:\n",
    "        not_collinr.extend([i])\n",
    "        \n",
    "    \n",
    "print(f\"points in straight line {collinir_points}\")\n",
    "print(f\"points which are not in straight line {not_collinr}\")"
   ]
  },
  {
   "cell_type": "markdown",
   "id": "95639171",
   "metadata": {},
   "source": [
    "## Method 2"
   ]
  },
  {
   "cell_type": "code",
   "execution_count": 30,
   "id": "3e6497e1",
   "metadata": {},
   "outputs": [
    {
     "name": "stdout",
     "output_type": "stream",
     "text": [
      "Points to correct for a straight route: [4, 7, 10, 13]\n"
     ]
    }
   ],
   "source": [
    "def calculate_slope(point1, point2):\n",
    "    x1, y1 = point1\n",
    "    x2, y2 = point2\n",
    "    if x2 - x1 == 0:\n",
    "        return float('inf')  # Vertical line, infinite slope\n",
    "    return round((y2 - y1) / (x2 - x1),1)\n",
    "# Define the indices of point 1 and point 14\n",
    "point1_index = 1\n",
    "point14_index = 13\n",
    "\n",
    "# Calculate the expected slope between point 1 and point 14\n",
    "expected_slope = calculate_slope(points[point1_index], points[point14_index])\n",
    "\n",
    "# Identify points that need correction\n",
    "points_to_correct = []\n",
    "\n",
    "for i in range(point1_index, point14_index):\n",
    "    actual_slope = calculate_slope(points[i], points[i + 1])\n",
    "\n",
    "    if expected_slope != actual_slope:\n",
    "        points_to_correct.append(i + 1)\n",
    "\n",
    "print(f\"Points to correct for a straight route: {points_to_correct}\")\n"
   ]
  },
  {
   "cell_type": "markdown",
   "id": "30095ec2",
   "metadata": {},
   "source": [
    "### Explanation\n",
    "- calculate_slope is a function that takes two points, point1 and point2, and calculates the slope of the line connecting them. It checks if the line is vertical (infinite slope) or calculates the slope in other cases.\n",
    "\n",
    "- point1_index is set to 0, which corresponds to the first point, and point14_index is set to 13, which corresponds to the fourteenth point.\n",
    "\n",
    "- The expected slope between point1 and point14 is calculated using the calculate_slope function. This represents the slope of the straight line connecting these two points.\n",
    "\n",
    "- An empty list points_to_correct is initialized to store the indices of points that need correction to achieve a straight route.\n",
    "\n",
    "- A loop iterates through the points from point1 (index point1_index) to the point just before point14 (index point14_index - 1). In each iteration, it calculates the actual slope between the current point and the next point.\n",
    "\n",
    "- The actual slope between the current point and the next point is compared to the expected slope (which is zero for a straight route). If the expected and actual slopes do not match (i.e., the road deviates from a straight line), the index of the next point (i + 1) is added to the points_to_correct list.\n",
    "\n",
    "- Finally, the code prints the indices of the points that need to be corrected to achieve a straight route."
   ]
  },
  {
   "cell_type": "markdown",
   "id": "bc5967d4",
   "metadata": {},
   "source": [
    "### 2.1.Build a python code to detect the points that are out of the straight route. The code should automatically fix such points, so that a straight route is obtained. (Assume a straight route is available always)."
   ]
  },
  {
   "cell_type": "code",
   "execution_count": 10,
   "id": "c3ebcce2",
   "metadata": {},
   "outputs": [
    {
     "data": {
      "image/png": "[encoded data removed]",
      "text/plain": [
       "<Figure size 640x480 with 1 Axes>"
      ]
     },
     "metadata": {},
     "output_type": "display_data"
    }
   ],
   "source": [
    "# plotting Original points\n",
    "import matplotlib.pyplot as plt\n",
    "\n",
    "points = {\n",
    "    1: (0.00, 1.41),\n",
    "    2: (0.71, 2.12),\n",
    "    3: (1.41, 2.83),\n",
    "    4: (-1.41, 5.66),\n",
    "    5: (-0.71, 6.36),\n",
    "    6: (0.00, 7.07),\n",
    "    7: (2.83, 4.24),\n",
    "    8: (4.24, 5.66),\n",
    "    9: (4.95, 6.36),\n",
    "    10: (5.66, 5.66),\n",
    "    11: (6.36, 6.36),\n",
    "    12: (7.07, 7.07),\n",
    "    13: (6.36, 7.78),\n",
    "    14: (7.07, 8.49),\n",
    "    15: (7.78, 9.19),\n",
    "    16: (8.49, 9.90),\n",
    "    17: (9.19, 10.61),\n",
    "    18: (7.78, 12.02),\n",
    "    19: (9.19, 13.44),\n",
    "    20: (11.31, 11.31),\n",
    "    21: (12.02, 12.02),\n",
    "    22: (11.31, 12.73),\n",
    "    23: (12.02, 13.44)\n",
    "}\n",
    "x = [point[0] for point in points.values()]\n",
    "y = [point[1] for point in points.values()]\n",
    "\n",
    "plt.plot(x, y, marker='o', linestyle='-')\n",
    "plt.title('Plot of Points')\n",
    "plt.xlabel('X')\n",
    "plt.ylabel('Y')\n",
    "plt.grid(True)\n",
    "\n",
    "for i, (xi, yi) in enumerate(zip(x, y)):\n",
    "    plt.annotate(f'Point {i + 1}', (xi, yi), textcoords=\"offset points\", xytext=(0, 10), ha='center')\n",
    "\n",
    "plt.show()"
   ]
  },
  {
   "cell_type": "markdown",
   "id": "d367c3f1",
   "metadata": {},
   "source": [
    "## Method 1"
   ]
  },
  {
   "cell_type": "code",
   "execution_count": 26,
   "id": "1a16a52e",
   "metadata": {},
   "outputs": [
    {
     "name": "stdout",
     "output_type": "stream",
     "text": [
      "points in straight line [1, 2, 3, 7, 8, 9, 13, 14, 15, 16, 17, 22, 23]\n",
      "points which are not in straight line [4, 5, 6, 10, 11, 12, 18, 19, 20, 21]\n"
     ]
    }
   ],
   "source": [
    "#Final code\n",
    "\n",
    "# Function to calculate the distance between two points\n",
    "def distance(point1, point2):\n",
    "    x1, y1 = point1\n",
    "    x2, y2 = point2\n",
    "    return np.sqrt((x2 - x1) ** 2 + (y2 - y1) ** 2)\n",
    "\n",
    "# Function to check if three points are collinear\n",
    "def are_collinear(p1, p2, p3):\n",
    "    return round((distance(p1, p2) + distance(p2, p3)),4) == round(distance(p1, p3),4)\n",
    "\n",
    "# Initialize a list to store points that are not collinear\n",
    "not_collinr = []\n",
    "# Saving first collinear points \n",
    "for i in range(3,len(points)+1):\n",
    "    if are_collinear(points[i-2],points[i-1],points[i]):\n",
    "        point1 = points[i-2]\n",
    "        point2 = points[i-1]\n",
    "        collinir_points = [i-2,i-1]\n",
    "        break\n",
    "        \n",
    "# Checking each points for collinier and appending to collinir_points\n",
    "for i in range(3, len(points)+1):\n",
    "    if are_collinear(points[1],points[2],points[i]):\n",
    "        collinir_points.extend([i])\n",
    "    else:\n",
    "        not_collinr.extend([i])\n",
    "        \n",
    "    \n",
    "print(f\"points in straight line {collinir_points}\")\n",
    "print(f\"points which are not in straight line {not_collinr}\")"
   ]
  },
  {
   "cell_type": "markdown",
   "id": "b21ab76e",
   "metadata": {},
   "source": [
    "### Explanation\n",
    "- This function, distance, calculates the Euclidean distance between two points represented by tuples (x1, y1) and (x2, y2). It uses the Pythagorean theorem to find the straight-line distance between these two points.\n",
    "- This function, are_collinear, checks if three points (p1, p2, p3) are collinear. It does this by comparing the sum of the distances from p1 to p2 and from p2 to p3 with the distance from p1 to p3. If these distances are equal, the points are collinear.\n",
    "-  iterating through the points dictionary, starting from the third point (index 3) to the end. You're checking if three consecutive points are collinear using the are_collinear function. If they are collinear, you break out of the loop, and the first two collinear points are stored in point1 and point2. The indices of these points are added to the collinir_points list.\n",
    "- iterating through the points. You check if each point is collinear with the initial two points (points 1 and 2). If a point is collinear, its index is added to the collinir_points list. If a point is not collinear, its index is added to the not_collinr list."
   ]
  },
  {
   "cell_type": "markdown",
   "id": "04b18a29",
   "metadata": {},
   "source": [
    "## Method 2"
   ]
  },
  {
   "cell_type": "code",
   "execution_count": 15,
   "id": "49c0e9ec",
   "metadata": {},
   "outputs": [
    {
     "name": "stdout",
     "output_type": "stream",
     "text": [
      "Points out of the straight route: [4, 6, 8, 10, 12, 14, 16, 18, 20, 22]\n",
      "Corrected Straight Route:\n",
      "point 1: 0.00 1.41\n",
      "point 2: 1.41 2.83\n",
      "point 3: -0.71 6.36\n",
      "point 4: 2.83 4.24\n",
      "point 5: 4.95 6.36\n",
      "point 6: 6.36 6.36\n",
      "point 7: 6.36 7.78\n",
      "point 8: 7.78 9.19\n",
      "point 9: 9.19 10.61\n",
      "point 10: 9.19 13.44\n",
      "point 11: 12.02 12.02\n",
      "point 12: 12.02 13.44\n"
     ]
    }
   ],
   "source": [
    "import numpy as np\n",
    "\n",
    "# Function to calculate the distance between two points\n",
    "def distance(point1, point2):\n",
    "    x1, y1 = point1\n",
    "    x2, y2 = point2\n",
    "    return np.sqrt((x2 - x1) ** 2 + (y2 - y1) ** 2)\n",
    "\n",
    "# Function to check if three points are collinear\n",
    "def are_collinear(p1, p2, p3):\n",
    "    return abs(distance(p1, p2) + distance(p2, p3) - distance(p1, p3)) !=0\n",
    "\n",
    "# Iterate through the points to find the points deviating from the straight route\n",
    "straight_route = [points[1]]\n",
    "out_of_straight_points = []\n",
    "\n",
    "for i in range(3, len(points) + 1):\n",
    "    current_point = points[i]\n",
    "    if not are_collinear(straight_route[-1], points[i - 1], current_point):\n",
    "        out_of_straight_points.append(i)\n",
    "    else:\n",
    "        straight_route.append(current_point)\n",
    "\n",
    "# Print the points that are out of the straight route\n",
    "print(\"Points out of the straight route:\", out_of_straight_points)\n",
    "\n",
    "# Print the corrected straight route\n",
    "print(\"Corrected Straight Route:\")\n",
    "for i, point in enumerate(straight_route):\n",
    "    print(f\"point {i + 1}: {point[0]:.2f} {point[1]:.2f}\")\n"
   ]
  },
  {
   "cell_type": "markdown",
   "id": "d38eccac",
   "metadata": {},
   "source": [
    "### Explanation\n",
    "- Distance Calculation Function: The distance function takes two points, represented as (x, y) coordinates, and calculates the Euclidean distance between them using the distance formula.\n",
    "\n",
    "- Collinearity Check Function: The are_collinear function checks if three points are collinear, i.e., they lie on the same straight line. It does this by comparing the sum of distances between these points with the distance between the first and last point. If the sum of distances is not equal to the distance between the first and last point, the points are not collinear.\n",
    "\n",
    "- Iterating Through Points: The code initializes an empty list straight_route to store the points in the corrected straight route. It also initializes an empty list out_of_straight_points to store the indices of points that deviate from the straight route.\n",
    "\n",
    "- The code iterates through the points starting from the fourth point (index 3) because you need at least three points to check for collinearity.\n",
    "\n",
    "- For each point, it checks whether the last point in the straight_route and the current point are collinear. If they are collinear, the current point is added to the straight_route. If not, the index of the current point is added to the out_of_straight_points list.\n",
    "\n",
    "- Finally, the code prints the points that are out of the straight route (indices) and the corrected straight route."
   ]
  },
  {
   "cell_type": "code",
   "execution_count": null,
   "id": "65c0ba6d",
   "metadata": {},
   "outputs": [],
   "source": []
  }
 ],
 "metadata": {
  "kernelspec": {
   "display_name": "Python 3 (ipykernel)",
   "language": "python",
   "name": "python3"
  },
  "language_info": {
   "codemirror_mode": {
    "name": "ipython",
    "version": 3
   },
   "file_extension": ".py",
   "mimetype": "text/x-python",
   "name": "python",
   "nbconvert_exporter": "python",
   "pygments_lexer": "ipython3",
   "version": "3.11.4"
  }
 },
 "nbformat": 4,
 "nbformat_minor": 5
}
