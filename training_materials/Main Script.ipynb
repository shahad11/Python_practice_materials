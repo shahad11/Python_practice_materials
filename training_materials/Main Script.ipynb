{
 "cells": [
  {
   "cell_type": "markdown",
   "id": "6758c394",
   "metadata": {},
   "source": [
    "# PYTHON\n",
    "Python is an interpreted, object-oriented, high-level programming language with dynamic semantics.\n",
    "1. Dynamically Typed:-  With Python, No need to declare type of variable the type of the variable can be decided during runtime.\n",
    "2. Interpreted:-   When a programming language is interpreted, it means that the source code is executed line by line, and not all at once.\n",
    "3. High-level Language:-  Python is a high-level programming language because programmers don’t need to remember the system architecture, nor do they have to manage the memory."
   ]
  },
  {
   "cell_type": "markdown",
   "id": "9cb57c7c",
   "metadata": {},
   "source": [
    "# Class\n",
    "\n",
    "1. WHY?  We can mostly use buit in classes and types in standerd libraries are sufficient but if we require custom types we require classes.\n",
    "2. Define the structure and behaviour of objects. Classes control an objects intial state, attributes and methods\n"
   ]
  },
  {
   "cell_type": "code",
   "execution_count": 1,
   "id": "5d87f46d",
   "metadata": {},
   "outputs": [],
   "source": [
    "class Flight:\n",
    "    pass"
   ]
  },
  {
   "cell_type": "code",
   "execution_count": 3,
   "id": "7f018822",
   "metadata": {},
   "outputs": [
    {
     "data": {
      "text/plain": [
       "__main__.Flight"
      ]
     },
     "execution_count": 3,
     "metadata": {},
     "output_type": "execute_result"
    }
   ],
   "source": [
    "f = Flight()\n",
    "type(f)"
   ]
  },
  {
   "cell_type": "markdown",
   "id": "0ea47543",
   "metadata": {},
   "source": [
    "#### instance method\n",
    "1. Methods are functions within the class\n",
    "2. Instance methods are functions which can call on objects or instance of a class. instance method must accept a reference to actual instance on which the method is called as the first argument. by convention this argument  is called \"self\". "
   ]
  },
  {
   "cell_type": "code",
   "execution_count": 7,
   "id": "ef99e972",
   "metadata": {},
   "outputs": [
    {
     "data": {
      "text/plain": [
       "'SN06'"
      ]
     },
     "execution_count": 7,
     "metadata": {},
     "output_type": "execute_result"
    }
   ],
   "source": [
    "class Flight:\n",
    "    def number(self):\n",
    "        return \"SN06\"\n",
    "\n",
    "f= Flight()\n",
    "f.number()"
   ]
  },
  {
   "cell_type": "code",
   "execution_count": 1,
   "id": "6fa9924e",
   "metadata": {},
   "outputs": [],
   "source": [
    "class Flight:\n",
    "    def flightnumber(self):\n",
    "        return \"myno\""
   ]
  },
  {
   "cell_type": "code",
   "execution_count": 4,
   "id": "1c4c4616",
   "metadata": {},
   "outputs": [
    {
     "data": {
      "text/plain": [
       "'myno'"
      ]
     },
     "execution_count": 4,
     "metadata": {},
     "output_type": "execute_result"
    }
   ],
   "source": [
    "myfl = Flight()\n",
    "myfl.flightnumber()"
   ]
  },
  {
   "cell_type": "code",
   "execution_count": 1,
   "id": "73a8820b",
   "metadata": {},
   "outputs": [],
   "source": [
    "class Animal:\n",
    "    sound = \"\"\n",
    "    # It is called as CONSTRUCTOT. Mainly initiates an object  when called\n",
    "    #The __init__() function is called automatically every time the class is being used to create a new object.\n",
    "    def __init__(self, name):\n",
    "        self.name = name\n",
    "\n",
    "    "
   ]
  },
  {
   "cell_type": "code",
   "execution_count": 10,
   "id": "c1ff223f",
   "metadata": {},
   "outputs": [
    {
     "data": {
      "text/plain": [
       "'meaw'"
      ]
     },
     "execution_count": 10,
     "metadata": {},
     "output_type": "execute_result"
    }
   ],
   "source": [
    "ani  = Animal('Cat')\n",
    "ani.sound = \"meaw\"\n",
    "ani.sound"
   ]
  },
  {
   "cell_type": "code",
   "execution_count": 72,
   "id": "da842160",
   "metadata": {},
   "outputs": [],
   "source": [
    "# empty python class\n",
    "class Emptty:\n",
    "    pass"
   ]
  },
  {
   "cell_type": "code",
   "execution_count": 73,
   "id": "0332f821",
   "metadata": {},
   "outputs": [
    {
     "data": {
      "text/plain": [
       "'what'"
      ]
     },
     "execution_count": 73,
     "metadata": {},
     "output_type": "execute_result"
    }
   ],
   "source": [
    "check = Emptty()\n",
    "check.nothing = \"what\"\n",
    "check.nothing"
   ]
  },
  {
   "cell_type": "code",
   "execution_count": 172,
   "id": "08f1120a",
   "metadata": {},
   "outputs": [],
   "source": [
    "#wrong code\n",
    "class A:\n",
    "    def __init__(self,s):\n",
    "        self.s = s\n",
    "        \n",
    "    def print(self):\n",
    "        pass\n",
    "    \n",
    "a=A(\"Jhon\")\n",
    "a.print()"
   ]
  },
  {
   "cell_type": "markdown",
   "id": "f61aaf2e",
   "metadata": {},
   "source": [
    "# Decorator"
   ]
  },
  {
   "cell_type": "markdown",
   "id": "d70fbc13",
   "metadata": {},
   "source": [
    "Decorators are functions that takes another function as arguments to modify its behaviour without changing the function itself.\n",
    "These are useful when we want to dynamically increase the functionality of a function without changing it"
   ]
  },
  {
   "cell_type": "code",
   "execution_count": 4,
   "id": "95856cb4",
   "metadata": {},
   "outputs": [
    {
     "name": "stdout",
     "output_type": "stream",
     "text": [
      "Collecting ensure\n",
      "  Downloading ensure-1.0.3-py3-none-any.whl (15 kB)\n",
      "Requirement already satisfied: six>=1.11.0 in c:\\users\\shahamoh\\anaconda3\\lib\\site-packages (from ensure) (1.16.0)\n",
      "Installing collected packages: ensure\n",
      "Successfully installed ensure-1.0.3\n"
     ]
    }
   ],
   "source": [
    "!pip install ensure\n",
    "from ensure import ensure_annotations"
   ]
  },
  {
   "cell_type": "code",
   "execution_count": 16,
   "id": "5cac62c6",
   "metadata": {},
   "outputs": [
    {
     "name": "stdout",
     "output_type": "stream",
     "text": [
      "44\n",
      "8 this the original working\n"
     ]
    },
    {
     "ename": "EnsureError",
     "evalue": "Argument y of type <class 'str'> to <function multiplier at 0x000001D860A21E50> does not match annotation type <class 'int'>",
     "output_type": "error",
     "traceback": [
      "\u001b[1;31m---------------------------------------------------------------------------\u001b[0m",
      "\u001b[1;31mEnsureError\u001b[0m                               Traceback (most recent call last)",
      "\u001b[1;32m~\\AppData\\Local\\Temp\\ipykernel_17884\\2309774987.py\u001b[0m in \u001b[0;36m<module>\u001b[1;34m\u001b[0m\n\u001b[0;32m      8\u001b[0m     \u001b[1;32mreturn\u001b[0m \u001b[0mx\u001b[0m\u001b[1;33m*\u001b[0m\u001b[0my\u001b[0m\u001b[1;33m\u001b[0m\u001b[1;33m\u001b[0m\u001b[0m\n\u001b[0;32m      9\u001b[0m \u001b[0mprint\u001b[0m\u001b[1;33m(\u001b[0m\u001b[1;34mf\"{multiplier(x = 2, y=4)} this the original working\"\u001b[0m\u001b[1;33m)\u001b[0m\u001b[1;33m\u001b[0m\u001b[1;33m\u001b[0m\u001b[0m\n\u001b[1;32m---> 10\u001b[1;33m \u001b[0mprint\u001b[0m\u001b[1;33m(\u001b[0m\u001b[1;34mf\"{multiplier(x=2,y = '4')}\"\u001b[0m\u001b[1;33m)\u001b[0m\u001b[1;33m\u001b[0m\u001b[1;33m\u001b[0m\u001b[0m\n\u001b[0m",
      "\u001b[1;32m~\\Anaconda3\\lib\\site-packages\\ensure\\main.py\u001b[0m in \u001b[0;36m__call__\u001b[1;34m(self, *args, **kwargs)\u001b[0m\n\u001b[0;32m    831\u001b[0m             \u001b[1;32mif\u001b[0m \u001b[1;32mnot\u001b[0m \u001b[0misinstance\u001b[0m\u001b[1;33m(\u001b[0m\u001b[0mvalue\u001b[0m\u001b[1;33m,\u001b[0m \u001b[0mtempl\u001b[0m\u001b[1;33m)\u001b[0m\u001b[1;33m:\u001b[0m\u001b[1;33m\u001b[0m\u001b[1;33m\u001b[0m\u001b[0m\n\u001b[0;32m    832\u001b[0m                 \u001b[0mmsg\u001b[0m \u001b[1;33m=\u001b[0m \u001b[1;34m\"Argument {arg} of type {valt} to {f} \"\u001b[0m \u001b[1;34m\"does not match annotation type {t}\"\u001b[0m\u001b[1;33m\u001b[0m\u001b[1;33m\u001b[0m\u001b[0m\n\u001b[1;32m--> 833\u001b[1;33m                 \u001b[1;32mraise\u001b[0m \u001b[0mEnsureError\u001b[0m\u001b[1;33m(\u001b[0m\u001b[0mmsg\u001b[0m\u001b[1;33m.\u001b[0m\u001b[0mformat\u001b[0m\u001b[1;33m(\u001b[0m\u001b[0marg\u001b[0m\u001b[1;33m=\u001b[0m\u001b[0marg\u001b[0m\u001b[1;33m,\u001b[0m \u001b[0mf\u001b[0m\u001b[1;33m=\u001b[0m\u001b[0mself\u001b[0m\u001b[1;33m.\u001b[0m\u001b[0mf\u001b[0m\u001b[1;33m,\u001b[0m \u001b[0mt\u001b[0m\u001b[1;33m=\u001b[0m\u001b[0mtempl\u001b[0m\u001b[1;33m,\u001b[0m \u001b[0mvalt\u001b[0m\u001b[1;33m=\u001b[0m\u001b[0mtype\u001b[0m\u001b[1;33m(\u001b[0m\u001b[0mvalue\u001b[0m\u001b[1;33m)\u001b[0m\u001b[1;33m)\u001b[0m\u001b[1;33m)\u001b[0m\u001b[1;33m\u001b[0m\u001b[1;33m\u001b[0m\u001b[0m\n\u001b[0m\u001b[0;32m    834\u001b[0m \u001b[1;33m\u001b[0m\u001b[0m\n\u001b[0;32m    835\u001b[0m         \u001b[1;32mreturn\u001b[0m \u001b[0mself\u001b[0m\u001b[1;33m.\u001b[0m\u001b[0mf\u001b[0m\u001b[1;33m(\u001b[0m\u001b[1;33m*\u001b[0m\u001b[0margs\u001b[0m\u001b[1;33m,\u001b[0m \u001b[1;33m**\u001b[0m\u001b[0mkwargs\u001b[0m\u001b[1;33m)\u001b[0m\u001b[1;33m\u001b[0m\u001b[1;33m\u001b[0m\u001b[0m\n",
      "\u001b[1;31mEnsureError\u001b[0m: Argument y of type <class 'str'> to <function multiplier at 0x000001D860A21E50> does not match annotation type <class 'int'>"
     ]
    }
   ],
   "source": [
    "#Eventhough we have defined the input type and return type we are able to multiply number and get a string returned\n",
    "def multiplier(x:int,y:int)->int:\n",
    "    return x*y\n",
    "print(multiplier(x =2,y = \"4\"))\n",
    "#To make sure we only get int output we use a decorater function called ensure_annotation\n",
    "@ensure_annotations\n",
    "def multiplier(x:int,y:int)->int:\n",
    "    return x*y\n",
    "print(f\"{multiplier(x = 2, y=4)} this the original working\")\n",
    "#This wont work as the decorator function make's sure that return value is int\n",
    "print(f\"{multiplier(x=2,y = '4')}\")"
   ]
  },
  {
   "cell_type": "code",
   "execution_count": 34,
   "id": "4576657c",
   "metadata": {},
   "outputs": [],
   "source": [
    "#defining a function\n",
    "def smart_divide(func):\n",
    "    def inner(a,b):\n",
    "        print(\"Dividing {} by {}\".format(a,b))\n",
    "        if b == 0:\n",
    "            print(\"Make sure denomenator is not Zero\")\n",
    "            return\n",
    "        return func(a,b)\n",
    "    return inner\n"
   ]
  },
  {
   "cell_type": "code",
   "execution_count": 35,
   "id": "ffb93aaa",
   "metadata": {},
   "outputs": [
    {
     "name": "stdout",
     "output_type": "stream",
     "text": [
      "Dividing 1 by 0\n",
      "Make sure denomenator is not Zero\n"
     ]
    }
   ],
   "source": [
    "#make sure you use @smart_divide as we are calling decorator\n",
    "@smart_divide\n",
    "def divide(a,b):\n",
    "    return a/b\n",
    "\n",
    "divide(1,0)"
   ]
  },
  {
   "cell_type": "code",
   "execution_count": 36,
   "id": "f307940c",
   "metadata": {},
   "outputs": [
    {
     "name": "stdout",
     "output_type": "stream",
     "text": [
      "Dividing 1 by 2\n"
     ]
    },
    {
     "data": {
      "text/plain": [
       "0.5"
      ]
     },
     "execution_count": 36,
     "metadata": {},
     "output_type": "execute_result"
    }
   ],
   "source": [
    "divide(1,2)"
   ]
  },
  {
   "cell_type": "code",
   "execution_count": null,
   "id": "f05e0b64",
   "metadata": {},
   "outputs": [],
   "source": []
  },
  {
   "cell_type": "code",
   "execution_count": 11,
   "id": "5d5c3696",
   "metadata": {},
   "outputs": [
    {
     "name": "stdout",
     "output_type": "stream",
     "text": [
      "[1, 2, 3, 1, 5, 43]\n",
      "[1, 2, 3, 1, 5, 43, [1, 5, 43]]\n"
     ]
    }
   ],
   "source": [
    "#difference b/w append and extend\n",
    "ls = [1,2,3]\n",
    "pm = [1,5,43]\n",
    "ls.extend(pm)\n",
    "print(ls)\n",
    "ls.append(pm)\n",
    "print(ls)"
   ]
  },
  {
   "cell_type": "code",
   "execution_count": 12,
   "id": "3033114c",
   "metadata": {},
   "outputs": [
    {
     "name": "stdout",
     "output_type": "stream",
     "text": [
      "(1, 4, 3, 2, 3, 2, 4, 4)\n"
     ]
    }
   ],
   "source": [
    "#adding two tupples\n",
    "tup1 = (1,4,3,2)\n",
    "tup2 = (3,2,4,4)\n",
    "add1 = tup1+tup2\n",
    "print(add1)"
   ]
  },
  {
   "cell_type": "code",
   "execution_count": 14,
   "id": "4f43989f",
   "metadata": {},
   "outputs": [
    {
     "name": "stdout",
     "output_type": "stream",
     "text": [
      "1\n",
      "2\n",
      "3\n",
      "5\n",
      "8\n",
      "13\n",
      "21\n",
      "34\n",
      "55\n"
     ]
    }
   ],
   "source": [
    "a=0\n",
    "b=1\n",
    "for i in range(1,10):\n",
    "    c=a+b\n",
    "    a=b\n",
    "    b=c\n",
    "    print(b)\n",
    "    "
   ]
  },
  {
   "cell_type": "code",
   "execution_count": 1,
   "id": "c4bcf6dc",
   "metadata": {},
   "outputs": [],
   "source": [
    "def square(number):\n",
    "    return number**2"
   ]
  },
  {
   "cell_type": "code",
   "execution_count": 3,
   "id": "8cddc0e7",
   "metadata": {},
   "outputs": [
    {
     "data": {
      "text/plain": [
       "[49, 36, 4]"
      ]
     },
     "execution_count": 3,
     "metadata": {},
     "output_type": "execute_result"
    }
   ],
   "source": [
    "tosquare = [7,6,2]\n",
    "squarednumber = map(square,tosquare)\n",
    "squarednumber\n",
    "#displaying map element with list\n",
    "list(squarednumber)"
   ]
  },
  {
   "cell_type": "code",
   "execution_count": 9,
   "id": "ca2b67f4",
   "metadata": {},
   "outputs": [
    {
     "data": {
      "text/plain": [
       "[49, 36, 4]"
      ]
     },
     "execution_count": 9,
     "metadata": {},
     "output_type": "execute_result"
    }
   ],
   "source": [
    "[i for i in squarednumber ]"
   ]
  },
  {
   "cell_type": "code",
   "execution_count": 18,
   "id": "7f55a6a1",
   "metadata": {},
   "outputs": [
    {
     "data": {
      "text/plain": [
       "map"
      ]
     },
     "execution_count": 18,
     "metadata": {},
     "output_type": "execute_result"
    }
   ],
   "source": [
    "type(squarednumber)"
   ]
  },
  {
   "cell_type": "code",
   "execution_count": 8,
   "id": "6b21f1ac",
   "metadata": {},
   "outputs": [
    {
     "data": {
      "text/plain": [
       "[1, 2, 3, 5, 8, 13, 21, 34, 55, 89]"
      ]
     },
     "execution_count": 8,
     "metadata": {},
     "output_type": "execute_result"
    }
   ],
   "source": [
    "fibinachi(10)"
   ]
  },
  {
   "cell_type": "code",
   "execution_count": 10,
   "id": "d15b0e35",
   "metadata": {},
   "outputs": [],
   "source": [
    "def fibinachi(number):\n",
    "    a = 0\n",
    "    b = 1\n",
    "    d = []\n",
    "    for i in range(0,number):\n",
    "        c=a+b\n",
    "        a=b\n",
    "        b =c\n",
    "        d.append(b)\n",
    "    return d\n",
    "    "
   ]
  },
  {
   "cell_type": "code",
   "execution_count": 11,
   "id": "7e17bb19",
   "metadata": {},
   "outputs": [],
   "source": [
    "fibi = map(fibinachi,tosquare)"
   ]
  },
  {
   "cell_type": "code",
   "execution_count": 12,
   "id": "d128471b",
   "metadata": {},
   "outputs": [
    {
     "data": {
      "text/plain": [
       "[[1, 2, 3, 5, 8, 13, 21], [1, 2, 3, 5, 8, 13], [1, 2]]"
      ]
     },
     "execution_count": 12,
     "metadata": {},
     "output_type": "execute_result"
    }
   ],
   "source": [
    "[x for x in fibi]"
   ]
  },
  {
   "cell_type": "code",
   "execution_count": 22,
   "id": "1a2c11d1",
   "metadata": {},
   "outputs": [
    {
     "data": {
      "text/plain": [
       "[1, 2, 3, 5, 8, 13, 21, 34, 55, 89]"
      ]
     },
     "execution_count": 22,
     "metadata": {},
     "output_type": "execute_result"
    }
   ],
   "source": [
    "fibinachi(10)"
   ]
  },
  {
   "cell_type": "code",
   "execution_count": 23,
   "id": "68a92737",
   "metadata": {},
   "outputs": [],
   "source": [
    "tup = (1,2,3,4,6,7,4,34,6,7)"
   ]
  },
  {
   "cell_type": "code",
   "execution_count": 24,
   "id": "50ed8373",
   "metadata": {},
   "outputs": [
    {
     "data": {
      "text/plain": [
       "tuple"
      ]
     },
     "execution_count": 24,
     "metadata": {},
     "output_type": "execute_result"
    }
   ],
   "source": [
    "type(tup)"
   ]
  },
  {
   "cell_type": "code",
   "execution_count": 13,
   "id": "0ab47408",
   "metadata": {},
   "outputs": [
    {
     "data": {
      "text/plain": [
       "[3, 6, 9, 12, 15, 18]"
      ]
     },
     "execution_count": 13,
     "metadata": {},
     "output_type": "execute_result"
    }
   ],
   "source": [
    "tup = tuple(i for i in range(1,21))\n",
    "l = []\n",
    "for i in tup:\n",
    "    if i%3 == 0:\n",
    "        l.append(i)\n",
    "\n",
    "l\n",
    "        "
   ]
  },
  {
   "cell_type": "code",
   "execution_count": 14,
   "id": "d0d2b10e",
   "metadata": {},
   "outputs": [],
   "source": [
    "fibnachi = filter(fibinachi,tup)"
   ]
  },
  {
   "cell_type": "code",
   "execution_count": null,
   "id": "d0654ccb",
   "metadata": {},
   "outputs": [],
   "source": [
    "for i in fibnachi:\n",
    "    print(i)"
   ]
  },
  {
   "cell_type": "code",
   "execution_count": 16,
   "id": "b60fbe8b",
   "metadata": {},
   "outputs": [],
   "source": [
    "ls = [1,2,3,4,6,7,4,34,6,7]\n",
    "#[x: lambda x in ls if x%2 == 0]"
   ]
  },
  {
   "cell_type": "code",
   "execution_count": 35,
   "id": "4bc9eae2",
   "metadata": {},
   "outputs": [
    {
     "name": "stdout",
     "output_type": "stream",
     "text": [
      "[1, 2, 3, 4]\n",
      "2 4\n",
      "[1, 2, 3, 4]\n",
      "2 4 6 8\n"
     ]
    }
   ],
   "source": [
    "def f(x): return x % 2 == 0\n",
    "def m(y): return y +y\n",
    "\n",
    "list1 = [1,2,3,4]\n",
    "\n",
    "flist = filter(f, list1)\n",
    "print(list1)\n",
    "print(*flist)\n",
    "\n",
    "mlist = map(m, list1)\n",
    "print(list1)\n",
    "print(*mlist)"
   ]
  },
  {
   "cell_type": "code",
   "execution_count": 17,
   "id": "55616f65",
   "metadata": {},
   "outputs": [],
   "source": [
    "#write a code to find fibinachi seriries with map for a given list\n",
    "\n",
    "def fibinachi(value):\n",
    "    a=0\n",
    "    b=1\n",
    "    for numb in range(1,value):\n",
    "        c= a+b\n",
    "        a=b\n",
    "        b=c\n",
    "        #print(b)\n",
    "    return b"
   ]
  },
  {
   "cell_type": "code",
   "execution_count": 21,
   "id": "797f1246",
   "metadata": {},
   "outputs": [],
   "source": [
    "maped = map(fibinachi,ls)"
   ]
  },
  {
   "cell_type": "code",
   "execution_count": 22,
   "id": "c8d22bea",
   "metadata": {},
   "outputs": [
    {
     "name": "stdout",
     "output_type": "stream",
     "text": [
      "1\n",
      "1\n",
      "2\n",
      "3\n",
      "8\n",
      "13\n",
      "3\n",
      "5702887\n",
      "8\n",
      "13\n"
     ]
    }
   ],
   "source": [
    "for i in maped:\n",
    "    print(i)"
   ]
  },
  {
   "cell_type": "code",
   "execution_count": null,
   "id": "b2845d17",
   "metadata": {},
   "outputs": [],
   "source": [
    "type(maped)"
   ]
  },
  {
   "cell_type": "code",
   "execution_count": 23,
   "id": "36e0f562",
   "metadata": {},
   "outputs": [
    {
     "data": {
      "text/plain": [
       "55"
      ]
     },
     "execution_count": 23,
     "metadata": {},
     "output_type": "execute_result"
    }
   ],
   "source": [
    "fibinachi(10)"
   ]
  },
  {
   "cell_type": "code",
   "execution_count": 27,
   "id": "09604bdf",
   "metadata": {},
   "outputs": [],
   "source": [
    "for i in range(1,10):\n",
    "    d= lambda x: (x%3 == 0)\n",
    "    print(d)"
   ]
  },
  {
   "cell_type": "code",
   "execution_count": null,
   "id": "3ca5a8be",
   "metadata": {},
   "outputs": [],
   "source": []
  },
  {
   "cell_type": "code",
   "execution_count": 38,
   "id": "1f859e37",
   "metadata": {},
   "outputs": [],
   "source": [
    "ls = (1,2,3,4,6,7,4,34,6,7)\n",
    "newtup = tuple(filter(lambda x: x%3==0,ls))\n"
   ]
  },
  {
   "cell_type": "code",
   "execution_count": 39,
   "id": "d5037bae",
   "metadata": {},
   "outputs": [
    {
     "data": {
      "text/plain": [
       "(3, 6, 6)"
      ]
     },
     "execution_count": 39,
     "metadata": {},
     "output_type": "execute_result"
    }
   ],
   "source": [
    "newtup"
   ]
  },
  {
   "cell_type": "code",
   "execution_count": 40,
   "id": "d780f313",
   "metadata": {},
   "outputs": [
    {
     "data": {
      "text/plain": [
       "[1, 2, 4, 4, [1, 2, 3, 45]]"
      ]
     },
     "execution_count": 40,
     "metadata": {},
     "output_type": "execute_result"
    }
   ],
   "source": [
    "ls = [1,2,4,4]\n",
    "ls.append([1,2,3,45])\n",
    "ls"
   ]
  },
  {
   "cell_type": "code",
   "execution_count": 7,
   "id": "9f082839",
   "metadata": {},
   "outputs": [
    {
     "data": {
      "text/plain": [
       "[1, 6, 12, 12, 6, 18, 24, 18, 5, 12]"
      ]
     },
     "execution_count": 7,
     "metadata": {},
     "output_type": "execute_result"
    }
   ],
   "source": [
    "ls = [1,2,4,4,3,6,8,6,5,4]\n",
    "f = lambda x: x*3 if x%2==0  else ( x*2 if x%3 == 0 else x)\n",
    "list(map(f,ls))"
   ]
  },
  {
   "cell_type": "code",
   "execution_count": null,
   "id": "40502fbb",
   "metadata": {},
   "outputs": [],
   "source": [
    "for i in newtp:\n",
    "    print(i)"
   ]
  },
  {
   "cell_type": "code",
   "execution_count": null,
   "id": "a284ac25",
   "metadata": {},
   "outputs": [],
   "source": [
    "[x*2 if x%2 == 0 else(x*3 if x%3 ==0 else x) for x in ls]"
   ]
  },
  {
   "cell_type": "markdown",
   "id": "2322c7af",
   "metadata": {},
   "source": [
    "# Data Frame"
   ]
  },
  {
   "cell_type": "code",
   "execution_count": 9,
   "id": "aa3f87cd",
   "metadata": {},
   "outputs": [],
   "source": [
    "import numpy as np\n",
    "import pandas as pd"
   ]
  },
  {
   "cell_type": "code",
   "execution_count": 10,
   "id": "2f3f0f6b",
   "metadata": {},
   "outputs": [
    {
     "data": {
      "text/html": [
       "<div>\n",
       "<style scoped>\n",
       "    .dataframe tbody tr th:only-of-type {\n",
       "        vertical-align: middle;\n",
       "    }\n",
       "\n",
       "    .dataframe tbody tr th {\n",
       "        vertical-align: top;\n",
       "    }\n",
       "\n",
       "    .dataframe thead th {\n",
       "        text-align: right;\n",
       "    }\n",
       "</style>\n",
       "<table border=\"1\" class=\"dataframe\">\n",
       "  <thead>\n",
       "    <tr style=\"text-align: right;\">\n",
       "      <th></th>\n",
       "      <th>Utah</th>\n",
       "      <th>Ohio</th>\n",
       "      <th>Texas</th>\n",
       "      <th>Oregon</th>\n",
       "    </tr>\n",
       "  </thead>\n",
       "  <tbody>\n",
       "    <tr>\n",
       "      <th>0</th>\n",
       "      <td>-0.030136</td>\n",
       "      <td>0.413929</td>\n",
       "      <td>0.896188</td>\n",
       "      <td>0.733255</td>\n",
       "    </tr>\n",
       "    <tr>\n",
       "      <th>1</th>\n",
       "      <td>0.905145</td>\n",
       "      <td>0.223036</td>\n",
       "      <td>-1.149026</td>\n",
       "      <td>-1.648352</td>\n",
       "    </tr>\n",
       "    <tr>\n",
       "      <th>2</th>\n",
       "      <td>2.068037</td>\n",
       "      <td>2.151773</td>\n",
       "      <td>0.870222</td>\n",
       "      <td>-0.034157</td>\n",
       "    </tr>\n",
       "    <tr>\n",
       "      <th>3</th>\n",
       "      <td>-0.767180</td>\n",
       "      <td>0.621346</td>\n",
       "      <td>0.095510</td>\n",
       "      <td>1.613607</td>\n",
       "    </tr>\n",
       "  </tbody>\n",
       "</table>\n",
       "</div>"
      ],
      "text/plain": [
       "       Utah      Ohio     Texas    Oregon\n",
       "0 -0.030136  0.413929  0.896188  0.733255\n",
       "1  0.905145  0.223036 -1.149026 -1.648352\n",
       "2  2.068037  2.151773  0.870222 -0.034157\n",
       "3 -0.767180  0.621346  0.095510  1.613607"
      ]
     },
     "execution_count": 10,
     "metadata": {},
     "output_type": "execute_result"
    }
   ],
   "source": [
    "frame = pd.DataFrame(np.random.randn(4, 4), columns=['Utah', 'Ohio', 'Texas', 'Oregon'])\n",
    "frame"
   ]
  },
  {
   "cell_type": "code",
   "execution_count": 11,
   "id": "dcbd957b",
   "metadata": {},
   "outputs": [
    {
     "data": {
      "text/html": [
       "<div>\n",
       "<style scoped>\n",
       "    .dataframe tbody tr th:only-of-type {\n",
       "        vertical-align: middle;\n",
       "    }\n",
       "\n",
       "    .dataframe tbody tr th {\n",
       "        vertical-align: top;\n",
       "    }\n",
       "\n",
       "    .dataframe thead th {\n",
       "        text-align: right;\n",
       "    }\n",
       "</style>\n",
       "<table border=\"1\" class=\"dataframe\">\n",
       "  <thead>\n",
       "    <tr style=\"text-align: right;\">\n",
       "      <th></th>\n",
       "      <th>Utah</th>\n",
       "      <th>Ohio</th>\n",
       "      <th>Texas</th>\n",
       "      <th>Oregon</th>\n",
       "    </tr>\n",
       "  </thead>\n",
       "  <tbody>\n",
       "    <tr>\n",
       "      <th>0</th>\n",
       "      <td>-0.060272</td>\n",
       "      <td>0.827859</td>\n",
       "      <td>1.792377</td>\n",
       "      <td>1.466509</td>\n",
       "    </tr>\n",
       "    <tr>\n",
       "      <th>1</th>\n",
       "      <td>1.810290</td>\n",
       "      <td>0.446073</td>\n",
       "      <td>-2.298053</td>\n",
       "      <td>-3.296704</td>\n",
       "    </tr>\n",
       "    <tr>\n",
       "      <th>2</th>\n",
       "      <td>4.136075</td>\n",
       "      <td>4.303545</td>\n",
       "      <td>1.740445</td>\n",
       "      <td>-0.068313</td>\n",
       "    </tr>\n",
       "    <tr>\n",
       "      <th>3</th>\n",
       "      <td>-1.534360</td>\n",
       "      <td>1.242691</td>\n",
       "      <td>0.191021</td>\n",
       "      <td>3.227215</td>\n",
       "    </tr>\n",
       "  </tbody>\n",
       "</table>\n",
       "</div>"
      ],
      "text/plain": [
       "       Utah      Ohio     Texas    Oregon\n",
       "0 -0.060272  0.827859  1.792377  1.466509\n",
       "1  1.810290  0.446073 -2.298053 -3.296704\n",
       "2  4.136075  4.303545  1.740445 -0.068313\n",
       "3 -1.534360  1.242691  0.191021  3.227215"
      ]
     },
     "execution_count": 11,
     "metadata": {},
     "output_type": "execute_result"
    }
   ],
   "source": [
    "#multiplying a constant number for all dataframe\n",
    "frame.apply(lambda x:x*2)"
   ]
  },
  {
   "cell_type": "code",
   "execution_count": 15,
   "id": "5478dfc2",
   "metadata": {},
   "outputs": [],
   "source": [
    "#adding/multiplying a constant  number for one column\n",
    "frame[\"Utah\"] = frame[\"Utah\"].apply(lambda x: x+1)"
   ]
  },
  {
   "cell_type": "code",
   "execution_count": 16,
   "id": "f6337769",
   "metadata": {},
   "outputs": [
    {
     "data": {
      "text/html": [
       "<div>\n",
       "<style scoped>\n",
       "    .dataframe tbody tr th:only-of-type {\n",
       "        vertical-align: middle;\n",
       "    }\n",
       "\n",
       "    .dataframe tbody tr th {\n",
       "        vertical-align: top;\n",
       "    }\n",
       "\n",
       "    .dataframe thead th {\n",
       "        text-align: right;\n",
       "    }\n",
       "</style>\n",
       "<table border=\"1\" class=\"dataframe\">\n",
       "  <thead>\n",
       "    <tr style=\"text-align: right;\">\n",
       "      <th></th>\n",
       "      <th>Utah</th>\n",
       "      <th>Ohio</th>\n",
       "      <th>Texas</th>\n",
       "      <th>Oregon</th>\n",
       "    </tr>\n",
       "  </thead>\n",
       "  <tbody>\n",
       "    <tr>\n",
       "      <th>0</th>\n",
       "      <td>0.969864</td>\n",
       "      <td>0.413929</td>\n",
       "      <td>0.896188</td>\n",
       "      <td>0.733255</td>\n",
       "    </tr>\n",
       "    <tr>\n",
       "      <th>1</th>\n",
       "      <td>1.905145</td>\n",
       "      <td>0.223036</td>\n",
       "      <td>-1.149026</td>\n",
       "      <td>-1.648352</td>\n",
       "    </tr>\n",
       "    <tr>\n",
       "      <th>2</th>\n",
       "      <td>3.068037</td>\n",
       "      <td>2.151773</td>\n",
       "      <td>0.870222</td>\n",
       "      <td>-0.034157</td>\n",
       "    </tr>\n",
       "    <tr>\n",
       "      <th>3</th>\n",
       "      <td>0.232820</td>\n",
       "      <td>0.621346</td>\n",
       "      <td>0.095510</td>\n",
       "      <td>1.613607</td>\n",
       "    </tr>\n",
       "  </tbody>\n",
       "</table>\n",
       "</div>"
      ],
      "text/plain": [
       "       Utah      Ohio     Texas    Oregon\n",
       "0  0.969864  0.413929  0.896188  0.733255\n",
       "1  1.905145  0.223036 -1.149026 -1.648352\n",
       "2  3.068037  2.151773  0.870222 -0.034157\n",
       "3  0.232820  0.621346  0.095510  1.613607"
      ]
     },
     "execution_count": 16,
     "metadata": {},
     "output_type": "execute_result"
    }
   ],
   "source": [
    "frame"
   ]
  },
  {
   "cell_type": "code",
   "execution_count": 77,
   "id": "2d7de81a",
   "metadata": {},
   "outputs": [
    {
     "data": {
      "text/html": [
       "<div>\n",
       "<style scoped>\n",
       "    .dataframe tbody tr th:only-of-type {\n",
       "        vertical-align: middle;\n",
       "    }\n",
       "\n",
       "    .dataframe tbody tr th {\n",
       "        vertical-align: top;\n",
       "    }\n",
       "\n",
       "    .dataframe thead th {\n",
       "        text-align: right;\n",
       "    }\n",
       "</style>\n",
       "<table border=\"1\" class=\"dataframe\">\n",
       "  <thead>\n",
       "    <tr style=\"text-align: right;\">\n",
       "      <th></th>\n",
       "      <th>Utah</th>\n",
       "      <th>Ohio</th>\n",
       "      <th>Texas</th>\n",
       "      <th>Oregon</th>\n",
       "    </tr>\n",
       "  </thead>\n",
       "  <tbody>\n",
       "    <tr>\n",
       "      <th>0</th>\n",
       "      <td>0.408901</td>\n",
       "      <td>-1.160529</td>\n",
       "      <td>-0.563384</td>\n",
       "      <td>-1.230929</td>\n",
       "    </tr>\n",
       "  </tbody>\n",
       "</table>\n",
       "</div>"
      ],
      "text/plain": [
       "       Utah      Ohio     Texas    Oregon\n",
       "0  0.408901 -1.160529 -0.563384 -1.230929"
      ]
     },
     "execution_count": 77,
     "metadata": {},
     "output_type": "execute_result"
    }
   ],
   "source": [
    "#and condition should be in symbol \"&\"\n",
    "nedicct = frame[(frame[\"Utah\"] > 0) & (frame[\"Utah\"] > 0.01)]\n",
    "nedicct"
   ]
  },
  {
   "cell_type": "code",
   "execution_count": 19,
   "id": "6aaff1a1",
   "metadata": {},
   "outputs": [
    {
     "data": {
      "text/html": [
       "<div>\n",
       "<style scoped>\n",
       "    .dataframe tbody tr th:only-of-type {\n",
       "        vertical-align: middle;\n",
       "    }\n",
       "\n",
       "    .dataframe tbody tr th {\n",
       "        vertical-align: top;\n",
       "    }\n",
       "\n",
       "    .dataframe thead th {\n",
       "        text-align: right;\n",
       "    }\n",
       "</style>\n",
       "<table border=\"1\" class=\"dataframe\">\n",
       "  <thead>\n",
       "    <tr style=\"text-align: right;\">\n",
       "      <th></th>\n",
       "      <th>Utah</th>\n",
       "      <th>Ohio</th>\n",
       "      <th>Texas</th>\n",
       "      <th>Oregon</th>\n",
       "    </tr>\n",
       "  </thead>\n",
       "  <tbody>\n",
       "    <tr>\n",
       "      <th>1</th>\n",
       "      <td>1.905145</td>\n",
       "      <td>0.223036</td>\n",
       "      <td>-1.149026</td>\n",
       "      <td>-1.648352</td>\n",
       "    </tr>\n",
       "  </tbody>\n",
       "</table>\n",
       "</div>"
      ],
      "text/plain": [
       "       Utah      Ohio     Texas    Oregon\n",
       "1  1.905145  0.223036 -1.149026 -1.648352"
      ]
     },
     "execution_count": 19,
     "metadata": {},
     "output_type": "execute_result"
    }
   ],
   "source": [
    "frame[(frame[\"Utah\"] > 0) & (frame[\"Texas\"]<0)]"
   ]
  },
  {
   "cell_type": "code",
   "execution_count": 79,
   "id": "4c1c6157",
   "metadata": {},
   "outputs": [
    {
     "data": {
      "text/html": [
       "<div>\n",
       "<style scoped>\n",
       "    .dataframe tbody tr th:only-of-type {\n",
       "        vertical-align: middle;\n",
       "    }\n",
       "\n",
       "    .dataframe tbody tr th {\n",
       "        vertical-align: top;\n",
       "    }\n",
       "\n",
       "    .dataframe thead th {\n",
       "        text-align: right;\n",
       "    }\n",
       "</style>\n",
       "<table border=\"1\" class=\"dataframe\">\n",
       "  <thead>\n",
       "    <tr style=\"text-align: right;\">\n",
       "      <th></th>\n",
       "      <th>Utah</th>\n",
       "      <th>Ohio</th>\n",
       "      <th>Texas</th>\n",
       "      <th>Oregon</th>\n",
       "    </tr>\n",
       "  </thead>\n",
       "  <tbody>\n",
       "    <tr>\n",
       "      <th>0</th>\n",
       "      <td>0.408901</td>\n",
       "      <td>-1.160529</td>\n",
       "      <td>-0.563384</td>\n",
       "      <td>-1.230929</td>\n",
       "    </tr>\n",
       "    <tr>\n",
       "      <th>1</th>\n",
       "      <td>-1.083034</td>\n",
       "      <td>-0.957582</td>\n",
       "      <td>1.242754</td>\n",
       "      <td>-1.204479</td>\n",
       "    </tr>\n",
       "    <tr>\n",
       "      <th>2</th>\n",
       "      <td>-0.263755</td>\n",
       "      <td>0.905794</td>\n",
       "      <td>-0.139269</td>\n",
       "      <td>-0.066586</td>\n",
       "    </tr>\n",
       "    <tr>\n",
       "      <th>3</th>\n",
       "      <td>-0.120252</td>\n",
       "      <td>-0.722335</td>\n",
       "      <td>-0.387372</td>\n",
       "      <td>-0.675620</td>\n",
       "    </tr>\n",
       "  </tbody>\n",
       "</table>\n",
       "</div>"
      ],
      "text/plain": [
       "       Utah      Ohio     Texas    Oregon\n",
       "0  0.408901 -1.160529 -0.563384 -1.230929\n",
       "1 -1.083034 -0.957582  1.242754 -1.204479\n",
       "2 -0.263755  0.905794 -0.139269 -0.066586\n",
       "3 -0.120252 -0.722335 -0.387372 -0.675620"
      ]
     },
     "execution_count": 79,
     "metadata": {},
     "output_type": "execute_result"
    }
   ],
   "source": [
    "#OR condition should be in symbol \"|\"\n",
    "nedicct = frame[(frame[\"Utah\"] < 0) | (frame[\"Utah\"] > 0.01)]\n",
    "nedicct"
   ]
  },
  {
   "cell_type": "code",
   "execution_count": 176,
   "id": "1fe621f0",
   "metadata": {},
   "outputs": [],
   "source": [
    "func = lambda x: \"Negative\" if x< 0 else \"Positive\""
   ]
  },
  {
   "cell_type": "code",
   "execution_count": 177,
   "id": "89a3d346",
   "metadata": {},
   "outputs": [],
   "source": [
    "frame[\"Direction\"]= frame[\"Utah\"].apply(func)"
   ]
  },
  {
   "cell_type": "code",
   "execution_count": 178,
   "id": "4b5bb58a",
   "metadata": {},
   "outputs": [
    {
     "data": {
      "text/html": [
       "<div>\n",
       "<style scoped>\n",
       "    .dataframe tbody tr th:only-of-type {\n",
       "        vertical-align: middle;\n",
       "    }\n",
       "\n",
       "    .dataframe tbody tr th {\n",
       "        vertical-align: top;\n",
       "    }\n",
       "\n",
       "    .dataframe thead th {\n",
       "        text-align: right;\n",
       "    }\n",
       "</style>\n",
       "<table border=\"1\" class=\"dataframe\">\n",
       "  <thead>\n",
       "    <tr style=\"text-align: right;\">\n",
       "      <th></th>\n",
       "      <th>Utah</th>\n",
       "      <th>Ohio</th>\n",
       "      <th>Texas</th>\n",
       "      <th>Oregon</th>\n",
       "      <th>Direction</th>\n",
       "    </tr>\n",
       "  </thead>\n",
       "  <tbody>\n",
       "    <tr>\n",
       "      <th>0</th>\n",
       "      <td>-1.359597</td>\n",
       "      <td>-0.803234</td>\n",
       "      <td>-0.599676</td>\n",
       "      <td>-0.458459</td>\n",
       "      <td>Negative</td>\n",
       "    </tr>\n",
       "    <tr>\n",
       "      <th>1</th>\n",
       "      <td>-1.456532</td>\n",
       "      <td>0.615875</td>\n",
       "      <td>-0.581167</td>\n",
       "      <td>-0.359600</td>\n",
       "      <td>Negative</td>\n",
       "    </tr>\n",
       "    <tr>\n",
       "      <th>2</th>\n",
       "      <td>0.447007</td>\n",
       "      <td>1.339392</td>\n",
       "      <td>-0.388996</td>\n",
       "      <td>-0.416820</td>\n",
       "      <td>Positive</td>\n",
       "    </tr>\n",
       "    <tr>\n",
       "      <th>3</th>\n",
       "      <td>-2.053267</td>\n",
       "      <td>-1.585975</td>\n",
       "      <td>0.296912</td>\n",
       "      <td>-0.356888</td>\n",
       "      <td>Negative</td>\n",
       "    </tr>\n",
       "  </tbody>\n",
       "</table>\n",
       "</div>"
      ],
      "text/plain": [
       "       Utah      Ohio     Texas    Oregon Direction\n",
       "0 -1.359597 -0.803234 -0.599676 -0.458459  Negative\n",
       "1 -1.456532  0.615875 -0.581167 -0.359600  Negative\n",
       "2  0.447007  1.339392 -0.388996 -0.416820  Positive\n",
       "3 -2.053267 -1.585975  0.296912 -0.356888  Negative"
      ]
     },
     "execution_count": 178,
     "metadata": {},
     "output_type": "execute_result"
    }
   ],
   "source": [
    "frame"
   ]
  },
  {
   "cell_type": "code",
   "execution_count": 1,
   "id": "14e305cd",
   "metadata": {},
   "outputs": [],
   "source": [
    "import numpy as np\n",
    "matrix = np.random.randn(4,4)"
   ]
  },
  {
   "cell_type": "code",
   "execution_count": 2,
   "id": "ee1fa0b4",
   "metadata": {},
   "outputs": [
    {
     "data": {
      "text/plain": [
       "array([[ 1.36113523,  0.23856674,  0.31626693,  1.24242145],\n",
       "       [ 1.32798963, -1.09680924,  2.53494371, -0.85273831],\n",
       "       [-1.247784  , -0.04611934, -0.00571695, -0.99707827],\n",
       "       [-0.62803498, -0.23338922,  1.8395514 ,  0.37438964]])"
      ]
     },
     "execution_count": 2,
     "metadata": {},
     "output_type": "execute_result"
    }
   ],
   "source": [
    "matrix"
   ]
  },
  {
   "cell_type": "code",
   "execution_count": 3,
   "id": "d13297e9",
   "metadata": {},
   "outputs": [
    {
     "name": "stdout",
     "output_type": "stream",
     "text": [
      "[1.36113523 0.23856674 0.31626693 1.24242145]\n",
      "[ 1.32798963 -1.09680924  2.53494371 -0.85273831]\n",
      "[-1.247784   -0.04611934 -0.00571695 -0.99707827]\n",
      "[-0.62803498 -0.23338922  1.8395514   0.37438964]\n"
     ]
    }
   ],
   "source": [
    "for i in matrix: print(i)"
   ]
  },
  {
   "cell_type": "code",
   "execution_count": 5,
   "id": "2fa5d774",
   "metadata": {},
   "outputs": [
    {
     "data": {
      "text/plain": [
       "[3.1583903488199083, 1.913385778142306, -2.296698570120441, 1.3525168419531013]"
      ]
     },
     "execution_count": 5,
     "metadata": {},
     "output_type": "execute_result"
    }
   ],
   "source": [
    "#Sum of each rows\n",
    "[sum(x) for x in matrix]"
   ]
  },
  {
   "cell_type": "code",
   "execution_count": 4,
   "id": "a510d922",
   "metadata": {},
   "outputs": [
    {
     "name": "stdout",
     "output_type": "stream",
     "text": [
      "1.3611352290138543\n",
      "1.3279896257178159\n",
      "-1.2477840025714484\n",
      "-0.6280349816048406\n"
     ]
    },
    {
     "data": {
      "text/plain": [
       "[None, None, None, None]"
      ]
     },
     "execution_count": 4,
     "metadata": {},
     "output_type": "execute_result"
    }
   ],
   "source": [
    "\n",
    "[print(i[0]) for i in matrix]"
   ]
  },
  {
   "cell_type": "code",
   "execution_count": null,
   "id": "8f350767",
   "metadata": {},
   "outputs": [],
   "source": [
    "matrix[0][0]"
   ]
  },
  {
   "cell_type": "code",
   "execution_count": null,
   "id": "904103dc",
   "metadata": {},
   "outputs": [],
   "source": [
    "matrix[1][1]"
   ]
  },
  {
   "cell_type": "code",
   "execution_count": 9,
   "id": "9c85ad48",
   "metadata": {},
   "outputs": [
    {
     "name": "stdout",
     "output_type": "stream",
     "text": [
      "0.6329986797509287\n"
     ]
    }
   ],
   "source": [
    "#Sum of all diagonal objects as we use range(0,4) produces 4 values and matrix[i][i] only takes diagonal value\n",
    "l=0\n",
    "for i in range(0,matrix.shape[0]):\n",
    "    l+= matrix[i][i]\n",
    "print(l)"
   ]
  },
  {
   "cell_type": "code",
   "execution_count": 43,
   "id": "aa79e738",
   "metadata": {},
   "outputs": [
    {
     "data": {
      "text/plain": [
       "2.9094458197091018"
      ]
     },
     "execution_count": 43,
     "metadata": {},
     "output_type": "execute_result"
    }
   ],
   "source": [
    "# finding sum of diagonal elements using lambda function\n",
    "addi = lambda x:x.diagonal().sum()\n",
    "addi(matrix)"
   ]
  },
  {
   "cell_type": "code",
   "execution_count": 34,
   "id": "e3ddfd1e",
   "metadata": {},
   "outputs": [
    {
     "data": {
      "text/plain": [
       "2.9094458197091018"
      ]
     },
     "execution_count": 34,
     "metadata": {},
     "output_type": "execute_result"
    }
   ],
   "source": [
    "# finding sum of diagonal elements using numpy.diagonal function\n",
    "matrix.diagonal().sum()"
   ]
  },
  {
   "cell_type": "code",
   "execution_count": 202,
   "id": "44c0d983",
   "metadata": {},
   "outputs": [
    {
     "data": {
      "text/plain": [
       "7.89351818792516"
      ]
     },
     "execution_count": 202,
     "metadata": {},
     "output_type": "execute_result"
    }
   ],
   "source": [
    "np.random.rand(4,4).sum()"
   ]
  },
  {
   "cell_type": "code",
   "execution_count": 122,
   "id": "767d5fa0",
   "metadata": {},
   "outputs": [],
   "source": [
    "import pandas as pd\n",
    "df = pd.DataFrame(np.random.rand(4,4), columns=[\"goog\",\"kook\",\"foof\",\"lool\"])"
   ]
  },
  {
   "cell_type": "code",
   "execution_count": 62,
   "id": "d1b27c5e",
   "metadata": {},
   "outputs": [
    {
     "data": {
      "text/html": [
       "<div>\n",
       "<style scoped>\n",
       "    .dataframe tbody tr th:only-of-type {\n",
       "        vertical-align: middle;\n",
       "    }\n",
       "\n",
       "    .dataframe tbody tr th {\n",
       "        vertical-align: top;\n",
       "    }\n",
       "\n",
       "    .dataframe thead th {\n",
       "        text-align: right;\n",
       "    }\n",
       "</style>\n",
       "<table border=\"1\" class=\"dataframe\">\n",
       "  <thead>\n",
       "    <tr style=\"text-align: right;\">\n",
       "      <th></th>\n",
       "      <th>goog</th>\n",
       "      <th>kook</th>\n",
       "      <th>foof</th>\n",
       "      <th>lool</th>\n",
       "    </tr>\n",
       "  </thead>\n",
       "  <tbody>\n",
       "    <tr>\n",
       "      <th>0</th>\n",
       "      <td>0.792676</td>\n",
       "      <td>0.343062</td>\n",
       "      <td>0.190665</td>\n",
       "      <td>0.893214</td>\n",
       "    </tr>\n",
       "    <tr>\n",
       "      <th>1</th>\n",
       "      <td>0.573335</td>\n",
       "      <td>0.304048</td>\n",
       "      <td>0.255871</td>\n",
       "      <td>0.558413</td>\n",
       "    </tr>\n",
       "    <tr>\n",
       "      <th>2</th>\n",
       "      <td>0.212261</td>\n",
       "      <td>0.249063</td>\n",
       "      <td>0.343538</td>\n",
       "      <td>0.054609</td>\n",
       "    </tr>\n",
       "    <tr>\n",
       "      <th>3</th>\n",
       "      <td>0.099553</td>\n",
       "      <td>0.651351</td>\n",
       "      <td>0.933713</td>\n",
       "      <td>0.456928</td>\n",
       "    </tr>\n",
       "  </tbody>\n",
       "</table>\n",
       "</div>"
      ],
      "text/plain": [
       "       goog      kook      foof      lool\n",
       "0  0.792676  0.343062  0.190665  0.893214\n",
       "1  0.573335  0.304048  0.255871  0.558413\n",
       "2  0.212261  0.249063  0.343538  0.054609\n",
       "3  0.099553  0.651351  0.933713  0.456928"
      ]
     },
     "execution_count": 62,
     "metadata": {},
     "output_type": "execute_result"
    }
   ],
   "source": [
    "df"
   ]
  },
  {
   "cell_type": "code",
   "execution_count": 63,
   "id": "b058a918",
   "metadata": {},
   "outputs": [
    {
     "name": "stdout",
     "output_type": "stream",
     "text": [
      "Index(['goog', 'kook', 'foof', 'lool'], dtype='object')\n",
      "Index(['goog', 'kook', 'foof', 'lool'], dtype='object')\n"
     ]
    }
   ],
   "source": [
    "print(df.keys())\n",
    "print(df.columns)"
   ]
  },
  {
   "cell_type": "code",
   "execution_count": 64,
   "id": "a2631f43",
   "metadata": {},
   "outputs": [
    {
     "data": {
      "text/plain": [
       "array([[0.79267584, 0.34306195, 0.19066529, 0.89321355],\n",
       "       [0.57333531, 0.30404768, 0.25587087, 0.55841262],\n",
       "       [0.2122614 , 0.24906257, 0.34353773, 0.05460857],\n",
       "       [0.09955279, 0.65135074, 0.93371281, 0.45692778]])"
      ]
     },
     "execution_count": 64,
     "metadata": {},
     "output_type": "execute_result"
    }
   ],
   "source": [
    "df.values"
   ]
  },
  {
   "cell_type": "code",
   "execution_count": 65,
   "id": "7b38c79b",
   "metadata": {},
   "outputs": [
    {
     "data": {
      "text/plain": [
       "[1.6778253435357255,\n",
       " 1.5475229452976829,\n",
       " 1.7237867035966108,\n",
       " 1.9631625148174865]"
      ]
     },
     "execution_count": 65,
     "metadata": {},
     "output_type": "execute_result"
    }
   ],
   "source": [
    "#Sum of columns in a data frame\n",
    "[sum(df[x]) for x in df.keys()]"
   ]
  },
  {
   "cell_type": "code",
   "execution_count": 66,
   "id": "0fbb5c9a",
   "metadata": {},
   "outputs": [
    {
     "data": {
      "text/plain": [
       "[2.2196166293558086, 1.6916664840070532, 0.8594702687774122, 2.141544125107232]"
      ]
     },
     "execution_count": 66,
     "metadata": {},
     "output_type": "execute_result"
    }
   ],
   "source": [
    "#sum of raws in df\n",
    "[sum(i) for i in df.values]"
   ]
  },
  {
   "cell_type": "code",
   "execution_count": 216,
   "id": "f54b933e",
   "metadata": {},
   "outputs": [
    {
     "name": "stdout",
     "output_type": "stream",
     "text": [
      "1.9139030775659913 0.8578023319525413\n",
      "1.309227964185143 0.5922320016132906\n",
      "3.5728142408512724 0.9976287652869784\n",
      "2.464724357080156 0.862795704740494\n"
     ]
    }
   ],
   "source": [
    "for i in df.keys():\n",
    "    print(\"{} {}\".format(df[i].sum(),df[i].max()))"
   ]
  },
  {
   "cell_type": "code",
   "execution_count": 94,
   "id": "f4247da8",
   "metadata": {},
   "outputs": [
    {
     "data": {
      "text/plain": [
       "2.4029271779294294"
      ]
     },
     "execution_count": 94,
     "metadata": {},
     "output_type": "execute_result"
    }
   ],
   "source": [
    "#Calculating sum of values of diagonal elements in a df\n",
    "l = 0\n",
    "for i in range(0,4):\n",
    "    l+=df.values[i][i]\n",
    "    \n",
    "l"
   ]
  },
  {
   "cell_type": "code",
   "execution_count": 124,
   "id": "bb7811df",
   "metadata": {},
   "outputs": [],
   "source": [
    "df['moog'] = df['goog'].apply(lambda x: \"Positive\" if x>0.75 else(\"negative\" if x>0.7 else \"numma\"))"
   ]
  },
  {
   "cell_type": "code",
   "execution_count": 125,
   "id": "e5de55cc",
   "metadata": {},
   "outputs": [
    {
     "data": {
      "text/html": [
       "<div>\n",
       "<style scoped>\n",
       "    .dataframe tbody tr th:only-of-type {\n",
       "        vertical-align: middle;\n",
       "    }\n",
       "\n",
       "    .dataframe tbody tr th {\n",
       "        vertical-align: top;\n",
       "    }\n",
       "\n",
       "    .dataframe thead th {\n",
       "        text-align: right;\n",
       "    }\n",
       "</style>\n",
       "<table border=\"1\" class=\"dataframe\">\n",
       "  <thead>\n",
       "    <tr style=\"text-align: right;\">\n",
       "      <th></th>\n",
       "      <th>goog</th>\n",
       "      <th>kook</th>\n",
       "      <th>foof</th>\n",
       "      <th>lool</th>\n",
       "      <th>moog</th>\n",
       "    </tr>\n",
       "  </thead>\n",
       "  <tbody>\n",
       "    <tr>\n",
       "      <th>0</th>\n",
       "      <td>0.586312</td>\n",
       "      <td>0.407501</td>\n",
       "      <td>0.922496</td>\n",
       "      <td>0.858735</td>\n",
       "      <td>numma</td>\n",
       "    </tr>\n",
       "    <tr>\n",
       "      <th>1</th>\n",
       "      <td>0.032355</td>\n",
       "      <td>0.664247</td>\n",
       "      <td>0.414075</td>\n",
       "      <td>0.298737</td>\n",
       "      <td>numma</td>\n",
       "    </tr>\n",
       "    <tr>\n",
       "      <th>2</th>\n",
       "      <td>0.420873</td>\n",
       "      <td>0.843273</td>\n",
       "      <td>0.004116</td>\n",
       "      <td>0.253045</td>\n",
       "      <td>numma</td>\n",
       "    </tr>\n",
       "    <tr>\n",
       "      <th>3</th>\n",
       "      <td>0.744977</td>\n",
       "      <td>0.810746</td>\n",
       "      <td>0.515054</td>\n",
       "      <td>0.861062</td>\n",
       "      <td>negative</td>\n",
       "    </tr>\n",
       "  </tbody>\n",
       "</table>\n",
       "</div>"
      ],
      "text/plain": [
       "       goog      kook      foof      lool      moog\n",
       "0  0.586312  0.407501  0.922496  0.858735     numma\n",
       "1  0.032355  0.664247  0.414075  0.298737     numma\n",
       "2  0.420873  0.843273  0.004116  0.253045     numma\n",
       "3  0.744977  0.810746  0.515054  0.861062  negative"
      ]
     },
     "execution_count": 125,
     "metadata": {},
     "output_type": "execute_result"
    }
   ],
   "source": [
    "df"
   ]
  },
  {
   "cell_type": "code",
   "execution_count": 69,
   "id": "076cba07",
   "metadata": {},
   "outputs": [
    {
     "data": {
      "text/html": [
       "<div>\n",
       "<style scoped>\n",
       "    .dataframe tbody tr th:only-of-type {\n",
       "        vertical-align: middle;\n",
       "    }\n",
       "\n",
       "    .dataframe tbody tr th {\n",
       "        vertical-align: top;\n",
       "    }\n",
       "\n",
       "    .dataframe thead th {\n",
       "        text-align: right;\n",
       "    }\n",
       "</style>\n",
       "<table border=\"1\" class=\"dataframe\">\n",
       "  <thead>\n",
       "    <tr style=\"text-align: right;\">\n",
       "      <th></th>\n",
       "      <th>goog</th>\n",
       "      <th>kook</th>\n",
       "      <th>foof</th>\n",
       "      <th>lool</th>\n",
       "      <th>moog</th>\n",
       "      <th>moor</th>\n",
       "    </tr>\n",
       "  </thead>\n",
       "  <tbody>\n",
       "    <tr>\n",
       "      <th>0</th>\n",
       "      <td>0.792676</td>\n",
       "      <td>0.343062</td>\n",
       "      <td>0.190665</td>\n",
       "      <td>0.893214</td>\n",
       "      <td>Positive</td>\n",
       "      <td>0</td>\n",
       "    </tr>\n",
       "    <tr>\n",
       "      <th>1</th>\n",
       "      <td>0.573335</td>\n",
       "      <td>0.304048</td>\n",
       "      <td>0.255871</td>\n",
       "      <td>0.558413</td>\n",
       "      <td>numma</td>\n",
       "      <td>0</td>\n",
       "    </tr>\n",
       "    <tr>\n",
       "      <th>2</th>\n",
       "      <td>0.212261</td>\n",
       "      <td>0.249063</td>\n",
       "      <td>0.343538</td>\n",
       "      <td>0.054609</td>\n",
       "      <td>numma</td>\n",
       "      <td>0</td>\n",
       "    </tr>\n",
       "    <tr>\n",
       "      <th>3</th>\n",
       "      <td>0.099553</td>\n",
       "      <td>0.651351</td>\n",
       "      <td>0.933713</td>\n",
       "      <td>0.456928</td>\n",
       "      <td>numma</td>\n",
       "      <td>0</td>\n",
       "    </tr>\n",
       "  </tbody>\n",
       "</table>\n",
       "</div>"
      ],
      "text/plain": [
       "       goog      kook      foof      lool      moog  moor\n",
       "0  0.792676  0.343062  0.190665  0.893214  Positive     0\n",
       "1  0.573335  0.304048  0.255871  0.558413     numma     0\n",
       "2  0.212261  0.249063  0.343538  0.054609     numma     0\n",
       "3  0.099553  0.651351  0.933713  0.456928     numma     0"
      ]
     },
     "execution_count": 69,
     "metadata": {},
     "output_type": "execute_result"
    }
   ],
   "source": [
    "#creating a new column and assigning a constant as a value\n",
    "df[\"moor\"] = 0\n",
    "df"
   ]
  },
  {
   "cell_type": "markdown",
   "id": "f488b8f0",
   "metadata": {},
   "source": [
    "### Groupby"
   ]
  },
  {
   "cell_type": "code",
   "execution_count": 40,
   "id": "171aeecc",
   "metadata": {},
   "outputs": [],
   "source": [
    "tp = df.groupby(\"moog\").agg({\"foof\":['mean','sum']})"
   ]
  },
  {
   "cell_type": "code",
   "execution_count": 41,
   "id": "1b1e16cd",
   "metadata": {},
   "outputs": [
    {
     "data": {
      "text/html": [
       "<div>\n",
       "<style scoped>\n",
       "    .dataframe tbody tr th:only-of-type {\n",
       "        vertical-align: middle;\n",
       "    }\n",
       "\n",
       "    .dataframe tbody tr th {\n",
       "        vertical-align: top;\n",
       "    }\n",
       "\n",
       "    .dataframe thead tr th {\n",
       "        text-align: left;\n",
       "    }\n",
       "\n",
       "    .dataframe thead tr:last-of-type th {\n",
       "        text-align: right;\n",
       "    }\n",
       "</style>\n",
       "<table border=\"1\" class=\"dataframe\">\n",
       "  <thead>\n",
       "    <tr>\n",
       "      <th></th>\n",
       "      <th colspan=\"2\" halign=\"left\">foof</th>\n",
       "    </tr>\n",
       "    <tr>\n",
       "      <th></th>\n",
       "      <th>mean</th>\n",
       "      <th>sum</th>\n",
       "    </tr>\n",
       "    <tr>\n",
       "      <th>moog</th>\n",
       "      <th></th>\n",
       "      <th></th>\n",
       "    </tr>\n",
       "  </thead>\n",
       "  <tbody>\n",
       "    <tr>\n",
       "      <th>Positive</th>\n",
       "      <td>0.621292</td>\n",
       "      <td>0.621292</td>\n",
       "    </tr>\n",
       "    <tr>\n",
       "      <th>numma</th>\n",
       "      <td>0.344058</td>\n",
       "      <td>1.032174</td>\n",
       "    </tr>\n",
       "  </tbody>\n",
       "</table>\n",
       "</div>"
      ],
      "text/plain": [
       "              foof          \n",
       "              mean       sum\n",
       "moog                        \n",
       "Positive  0.621292  0.621292\n",
       "numma     0.344058  1.032174"
      ]
     },
     "execution_count": 41,
     "metadata": {},
     "output_type": "execute_result"
    }
   ],
   "source": [
    "tp"
   ]
  },
  {
   "cell_type": "code",
   "execution_count": 83,
   "id": "019b7082",
   "metadata": {},
   "outputs": [],
   "source": [
    "vb = df.groupby(\"moog\").mean()"
   ]
  },
  {
   "cell_type": "code",
   "execution_count": 85,
   "id": "1d7a8a43",
   "metadata": {},
   "outputs": [
    {
     "data": {
      "text/html": [
       "<div>\n",
       "<style scoped>\n",
       "    .dataframe tbody tr th:only-of-type {\n",
       "        vertical-align: middle;\n",
       "    }\n",
       "\n",
       "    .dataframe tbody tr th {\n",
       "        vertical-align: top;\n",
       "    }\n",
       "\n",
       "    .dataframe thead th {\n",
       "        text-align: right;\n",
       "    }\n",
       "</style>\n",
       "<table border=\"1\" class=\"dataframe\">\n",
       "  <thead>\n",
       "    <tr style=\"text-align: right;\">\n",
       "      <th></th>\n",
       "      <th>goog</th>\n",
       "      <th>kook</th>\n",
       "      <th>foof</th>\n",
       "      <th>lool</th>\n",
       "      <th>moor</th>\n",
       "    </tr>\n",
       "    <tr>\n",
       "      <th>moog</th>\n",
       "      <th></th>\n",
       "      <th></th>\n",
       "      <th></th>\n",
       "      <th></th>\n",
       "      <th></th>\n",
       "    </tr>\n",
       "  </thead>\n",
       "  <tbody>\n",
       "    <tr>\n",
       "      <th>Positive</th>\n",
       "      <td>0.792676</td>\n",
       "      <td>0.343062</td>\n",
       "      <td>0.190665</td>\n",
       "      <td>0.893214</td>\n",
       "      <td>0.0</td>\n",
       "    </tr>\n",
       "    <tr>\n",
       "      <th>numma</th>\n",
       "      <td>0.295050</td>\n",
       "      <td>0.401487</td>\n",
       "      <td>0.511040</td>\n",
       "      <td>0.356650</td>\n",
       "      <td>0.0</td>\n",
       "    </tr>\n",
       "  </tbody>\n",
       "</table>\n",
       "</div>"
      ],
      "text/plain": [
       "              goog      kook      foof      lool  moor\n",
       "moog                                                  \n",
       "Positive  0.792676  0.343062  0.190665  0.893214   0.0\n",
       "numma     0.295050  0.401487  0.511040  0.356650   0.0"
      ]
     },
     "execution_count": 85,
     "metadata": {},
     "output_type": "execute_result"
    }
   ],
   "source": [
    "vb"
   ]
  },
  {
   "cell_type": "code",
   "execution_count": 84,
   "id": "2763f5ec",
   "metadata": {},
   "outputs": [
    {
     "data": {
      "text/plain": [
       "moog\n",
       "Positive    0.190665\n",
       "numma       0.511040\n",
       "Name: foof, dtype: float64"
      ]
     },
     "execution_count": 84,
     "metadata": {},
     "output_type": "execute_result"
    }
   ],
   "source": [
    "vb[\"foof\"]"
   ]
  },
  {
   "cell_type": "code",
   "execution_count": 135,
   "id": "cf0d68c2",
   "metadata": {},
   "outputs": [
    {
     "data": {
      "text/html": [
       "<div>\n",
       "<style scoped>\n",
       "    .dataframe tbody tr th:only-of-type {\n",
       "        vertical-align: middle;\n",
       "    }\n",
       "\n",
       "    .dataframe tbody tr th {\n",
       "        vertical-align: top;\n",
       "    }\n",
       "\n",
       "    .dataframe thead th {\n",
       "        text-align: right;\n",
       "    }\n",
       "</style>\n",
       "<table border=\"1\" class=\"dataframe\">\n",
       "  <thead>\n",
       "    <tr style=\"text-align: right;\">\n",
       "      <th></th>\n",
       "      <th>goog</th>\n",
       "      <th>kook</th>\n",
       "      <th>foof</th>\n",
       "      <th>lool</th>\n",
       "      <th>moog</th>\n",
       "      <th>proop</th>\n",
       "    </tr>\n",
       "  </thead>\n",
       "  <tbody>\n",
       "    <tr>\n",
       "      <th>0</th>\n",
       "      <td>0.586312</td>\n",
       "      <td>0.407501</td>\n",
       "      <td>0.922496</td>\n",
       "      <td>0.858735</td>\n",
       "      <td>numma</td>\n",
       "      <td>yes</td>\n",
       "    </tr>\n",
       "    <tr>\n",
       "      <th>1</th>\n",
       "      <td>0.032355</td>\n",
       "      <td>0.664247</td>\n",
       "      <td>0.414075</td>\n",
       "      <td>0.298737</td>\n",
       "      <td>numma</td>\n",
       "      <td>no</td>\n",
       "    </tr>\n",
       "    <tr>\n",
       "      <th>2</th>\n",
       "      <td>0.420873</td>\n",
       "      <td>0.843273</td>\n",
       "      <td>0.004116</td>\n",
       "      <td>0.253045</td>\n",
       "      <td>numma</td>\n",
       "      <td>no</td>\n",
       "    </tr>\n",
       "    <tr>\n",
       "      <th>3</th>\n",
       "      <td>0.744977</td>\n",
       "      <td>0.810746</td>\n",
       "      <td>0.515054</td>\n",
       "      <td>0.861062</td>\n",
       "      <td>negative</td>\n",
       "      <td>yes</td>\n",
       "    </tr>\n",
       "  </tbody>\n",
       "</table>\n",
       "</div>"
      ],
      "text/plain": [
       "       goog      kook      foof      lool      moog proop\n",
       "0  0.586312  0.407501  0.922496  0.858735     numma   yes\n",
       "1  0.032355  0.664247  0.414075  0.298737     numma    no\n",
       "2  0.420873  0.843273  0.004116  0.253045     numma    no\n",
       "3  0.744977  0.810746  0.515054  0.861062  negative   yes"
      ]
     },
     "execution_count": 135,
     "metadata": {},
     "output_type": "execute_result"
    }
   ],
   "source": [
    "df[\"proop\"] = df[\"goog\"].apply(lambda x: \"yes\" if x>0.5 else \"no\")\n",
    "df"
   ]
  },
  {
   "cell_type": "code",
   "execution_count": 145,
   "id": "7578b802",
   "metadata": {},
   "outputs": [
    {
     "data": {
      "text/plain": [
       "proop  moog    \n",
       "no     numma       2\n",
       "yes    negative    1\n",
       "       numma       1\n",
       "Name: count, dtype: int64"
      ]
     },
     "execution_count": 145,
     "metadata": {},
     "output_type": "execute_result"
    }
   ],
   "source": [
    "#find how many yes,no in numma and yes,no in negative\n",
    "df.groupby(\"proop\")[\"moog\"].value_counts()"
   ]
  },
  {
   "cell_type": "code",
   "execution_count": null,
   "id": "2f4fd0ca",
   "metadata": {},
   "outputs": [],
   "source": []
  },
  {
   "cell_type": "code",
   "execution_count": null,
   "id": "c2808ff7",
   "metadata": {},
   "outputs": [],
   "source": []
  },
  {
   "cell_type": "code",
   "execution_count": 95,
   "id": "d8171a47",
   "metadata": {},
   "outputs": [
    {
     "data": {
      "text/plain": [
       "array([[0., 0., 0., 0., 0.],\n",
       "       [0., 0., 0., 0., 0.],\n",
       "       [0., 0., 0., 0., 0.],\n",
       "       [0., 0., 0., 0., 0.],\n",
       "       [0., 0., 0., 0., 0.]])"
      ]
     },
     "execution_count": 95,
     "metadata": {},
     "output_type": "execute_result"
    }
   ],
   "source": [
    "#Initialising a 5x5 array of zeros\n",
    "np.zeros((5,5))"
   ]
  },
  {
   "cell_type": "code",
   "execution_count": 103,
   "id": "7fc2982f",
   "metadata": {},
   "outputs": [
    {
     "data": {
      "text/html": [
       "<div>\n",
       "<style scoped>\n",
       "    .dataframe tbody tr th:only-of-type {\n",
       "        vertical-align: middle;\n",
       "    }\n",
       "\n",
       "    .dataframe tbody tr th {\n",
       "        vertical-align: top;\n",
       "    }\n",
       "\n",
       "    .dataframe thead th {\n",
       "        text-align: right;\n",
       "    }\n",
       "</style>\n",
       "<table border=\"1\" class=\"dataframe\">\n",
       "  <thead>\n",
       "    <tr style=\"text-align: right;\">\n",
       "      <th></th>\n",
       "      <th>cars</th>\n",
       "      <th>Bikes</th>\n",
       "    </tr>\n",
       "  </thead>\n",
       "  <tbody>\n",
       "    <tr>\n",
       "      <th>0</th>\n",
       "      <td>kia</td>\n",
       "      <td>suzuki</td>\n",
       "    </tr>\n",
       "    <tr>\n",
       "      <th>1</th>\n",
       "      <td>opel</td>\n",
       "      <td>hero</td>\n",
       "    </tr>\n",
       "    <tr>\n",
       "      <th>2</th>\n",
       "      <td>Toyota</td>\n",
       "      <td>honda</td>\n",
       "    </tr>\n",
       "    <tr>\n",
       "      <th>3</th>\n",
       "      <td>maruthi</td>\n",
       "      <td>KTM</td>\n",
       "    </tr>\n",
       "  </tbody>\n",
       "</table>\n",
       "</div>"
      ],
      "text/plain": [
       "      cars   Bikes\n",
       "0      kia  suzuki\n",
       "1     opel    hero\n",
       "2   Toyota   honda\n",
       "3  maruthi     KTM"
      ]
     },
     "execution_count": 103,
     "metadata": {},
     "output_type": "execute_result"
    }
   ],
   "source": [
    "import pandas as pd\n",
    "#creating a dataframe from a list(len of list should be equal)\n",
    "cars = [\"kia\",\"opel\",\"Toyota\",\"maruthi\"]\n",
    "bikes = [\"suzuki\",\"hero\",\"honda\",\"KTM\"]\n",
    "df = pd.DataFrame()\n",
    "df[\"cars\"] = cars\n",
    "df['Bikes'] = bikes\n",
    "df"
   ]
  },
  {
   "cell_type": "code",
   "execution_count": 104,
   "id": "e6f332bd",
   "metadata": {},
   "outputs": [
    {
     "ename": "KeyError",
     "evalue": "'cars'",
     "output_type": "error",
     "traceback": [
      "\u001b[1;31m---------------------------------------------------------------------------\u001b[0m",
      "\u001b[1;31mKeyError\u001b[0m                                  Traceback (most recent call last)",
      "File \u001b[1;32m~\\AppData\\Local\\anaconda3\\Lib\\site-packages\\pandas\\core\\indexes\\base.py:3653\u001b[0m, in \u001b[0;36mIndex.get_loc\u001b[1;34m(self, key)\u001b[0m\n\u001b[0;32m   3652\u001b[0m \u001b[38;5;28;01mtry\u001b[39;00m:\n\u001b[1;32m-> 3653\u001b[0m     \u001b[38;5;28;01mreturn\u001b[39;00m \u001b[38;5;28mself\u001b[39m\u001b[38;5;241m.\u001b[39m_engine\u001b[38;5;241m.\u001b[39mget_loc(casted_key)\n\u001b[0;32m   3654\u001b[0m \u001b[38;5;28;01mexcept\u001b[39;00m \u001b[38;5;167;01mKeyError\u001b[39;00m \u001b[38;5;28;01mas\u001b[39;00m err:\n",
      "File \u001b[1;32m~\\AppData\\Local\\anaconda3\\Lib\\site-packages\\pandas\\_libs\\index.pyx:147\u001b[0m, in \u001b[0;36mpandas._libs.index.IndexEngine.get_loc\u001b[1;34m()\u001b[0m\n",
      "File \u001b[1;32m~\\AppData\\Local\\anaconda3\\Lib\\site-packages\\pandas\\_libs\\index.pyx:176\u001b[0m, in \u001b[0;36mpandas._libs.index.IndexEngine.get_loc\u001b[1;34m()\u001b[0m\n",
      "File \u001b[1;32mpandas\\_libs\\hashtable_class_helper.pxi:7080\u001b[0m, in \u001b[0;36mpandas._libs.hashtable.PyObjectHashTable.get_item\u001b[1;34m()\u001b[0m\n",
      "File \u001b[1;32mpandas\\_libs\\hashtable_class_helper.pxi:7088\u001b[0m, in \u001b[0;36mpandas._libs.hashtable.PyObjectHashTable.get_item\u001b[1;34m()\u001b[0m\n",
      "\u001b[1;31mKeyError\u001b[0m: 'cars'",
      "\nThe above exception was the direct cause of the following exception:\n",
      "\u001b[1;31mKeyError\u001b[0m                                  Traceback (most recent call last)",
      "Cell \u001b[1;32mIn[104], line 2\u001b[0m\n\u001b[0;32m      1\u001b[0m \u001b[38;5;66;03m#Adding NaN values to df\u001b[39;00m\n\u001b[1;32m----> 2\u001b[0m df1[\u001b[38;5;124m\"\u001b[39m\u001b[38;5;124mcars\u001b[39m\u001b[38;5;124m\"\u001b[39m][\u001b[38;5;241m3\u001b[39m] \u001b[38;5;241m=\u001b[39m np\u001b[38;5;241m.\u001b[39mNAN\n\u001b[0;32m      3\u001b[0m \u001b[38;5;28mprint\u001b[39m(\u001b[38;5;124m\"\u001b[39m\u001b[38;5;124mwith NaN values\u001b[39m\u001b[38;5;130;01m\\n\u001b[39;00m\u001b[38;5;124m\"\u001b[39m,df1)\n\u001b[0;32m      4\u001b[0m \u001b[38;5;66;03m#dropping NaN values from df\u001b[39;00m\n",
      "File \u001b[1;32m~\\AppData\\Local\\anaconda3\\Lib\\site-packages\\pandas\\core\\frame.py:3761\u001b[0m, in \u001b[0;36mDataFrame.__getitem__\u001b[1;34m(self, key)\u001b[0m\n\u001b[0;32m   3759\u001b[0m \u001b[38;5;28;01mif\u001b[39;00m \u001b[38;5;28mself\u001b[39m\u001b[38;5;241m.\u001b[39mcolumns\u001b[38;5;241m.\u001b[39mnlevels \u001b[38;5;241m>\u001b[39m \u001b[38;5;241m1\u001b[39m:\n\u001b[0;32m   3760\u001b[0m     \u001b[38;5;28;01mreturn\u001b[39;00m \u001b[38;5;28mself\u001b[39m\u001b[38;5;241m.\u001b[39m_getitem_multilevel(key)\n\u001b[1;32m-> 3761\u001b[0m indexer \u001b[38;5;241m=\u001b[39m \u001b[38;5;28mself\u001b[39m\u001b[38;5;241m.\u001b[39mcolumns\u001b[38;5;241m.\u001b[39mget_loc(key)\n\u001b[0;32m   3762\u001b[0m \u001b[38;5;28;01mif\u001b[39;00m is_integer(indexer):\n\u001b[0;32m   3763\u001b[0m     indexer \u001b[38;5;241m=\u001b[39m [indexer]\n",
      "File \u001b[1;32m~\\AppData\\Local\\anaconda3\\Lib\\site-packages\\pandas\\core\\indexes\\base.py:3655\u001b[0m, in \u001b[0;36mIndex.get_loc\u001b[1;34m(self, key)\u001b[0m\n\u001b[0;32m   3653\u001b[0m     \u001b[38;5;28;01mreturn\u001b[39;00m \u001b[38;5;28mself\u001b[39m\u001b[38;5;241m.\u001b[39m_engine\u001b[38;5;241m.\u001b[39mget_loc(casted_key)\n\u001b[0;32m   3654\u001b[0m \u001b[38;5;28;01mexcept\u001b[39;00m \u001b[38;5;167;01mKeyError\u001b[39;00m \u001b[38;5;28;01mas\u001b[39;00m err:\n\u001b[1;32m-> 3655\u001b[0m     \u001b[38;5;28;01mraise\u001b[39;00m \u001b[38;5;167;01mKeyError\u001b[39;00m(key) \u001b[38;5;28;01mfrom\u001b[39;00m \u001b[38;5;21;01merr\u001b[39;00m\n\u001b[0;32m   3656\u001b[0m \u001b[38;5;28;01mexcept\u001b[39;00m \u001b[38;5;167;01mTypeError\u001b[39;00m:\n\u001b[0;32m   3657\u001b[0m     \u001b[38;5;66;03m# If we have a listlike key, _check_indexing_error will raise\u001b[39;00m\n\u001b[0;32m   3658\u001b[0m     \u001b[38;5;66;03m#  InvalidIndexError. Otherwise we fall through and re-raise\u001b[39;00m\n\u001b[0;32m   3659\u001b[0m     \u001b[38;5;66;03m#  the TypeError.\u001b[39;00m\n\u001b[0;32m   3660\u001b[0m     \u001b[38;5;28mself\u001b[39m\u001b[38;5;241m.\u001b[39m_check_indexing_error(key)\n",
      "\u001b[1;31mKeyError\u001b[0m: 'cars'"
     ]
    }
   ],
   "source": [
    "#Adding NaN values to df\n",
    "df1[\"cars\"][3] = np.NAN\n",
    "print(\"with NaN values\\n\",df1)\n",
    "#dropping NaN values from df\n",
    "df1.dropna(inplace=True)\n",
    "df1"
   ]
  },
  {
   "cell_type": "code",
   "execution_count": 105,
   "id": "9b787808",
   "metadata": {},
   "outputs": [
    {
     "data": {
      "text/html": [
       "<div>\n",
       "<style scoped>\n",
       "    .dataframe tbody tr th:only-of-type {\n",
       "        vertical-align: middle;\n",
       "    }\n",
       "\n",
       "    .dataframe tbody tr th {\n",
       "        vertical-align: top;\n",
       "    }\n",
       "\n",
       "    .dataframe thead th {\n",
       "        text-align: right;\n",
       "    }\n",
       "</style>\n",
       "<table border=\"1\" class=\"dataframe\">\n",
       "  <thead>\n",
       "    <tr style=\"text-align: right;\">\n",
       "      <th></th>\n",
       "      <th>cars</th>\n",
       "      <th>Bikes</th>\n",
       "    </tr>\n",
       "  </thead>\n",
       "  <tbody>\n",
       "    <tr>\n",
       "      <th>0</th>\n",
       "      <td>kia</td>\n",
       "      <td>suzuki</td>\n",
       "    </tr>\n",
       "    <tr>\n",
       "      <th>1</th>\n",
       "      <td>opel</td>\n",
       "      <td>hero</td>\n",
       "    </tr>\n",
       "    <tr>\n",
       "      <th>2</th>\n",
       "      <td>Toyota</td>\n",
       "      <td>honda</td>\n",
       "    </tr>\n",
       "    <tr>\n",
       "      <th>3</th>\n",
       "      <td>maruthi</td>\n",
       "      <td>KTM</td>\n",
       "    </tr>\n",
       "  </tbody>\n",
       "</table>\n",
       "</div>"
      ],
      "text/plain": [
       "      cars   Bikes\n",
       "0      kia  suzuki\n",
       "1     opel    hero\n",
       "2   Toyota   honda\n",
       "3  maruthi     KTM"
      ]
     },
     "execution_count": 105,
     "metadata": {},
     "output_type": "execute_result"
    }
   ],
   "source": [
    "# creating pandas data frame from dictionary\n",
    "\n",
    "dict1 = {\"cars\": cars , \"Bikes\": bikes}\n",
    "df1 = pd.DataFrame(dict1)\n",
    "df1"
   ]
  },
  {
   "cell_type": "code",
   "execution_count": 106,
   "id": "2be06956",
   "metadata": {},
   "outputs": [
    {
     "name": "stdout",
     "output_type": "stream",
     "text": [
      "with NaN values\n",
      "      cars   Bikes\n",
      "0     kia  suzuki\n",
      "1    opel    hero\n",
      "2  Toyota   honda\n",
      "3     NaN     KTM\n"
     ]
    },
    {
     "data": {
      "text/html": [
       "<div>\n",
       "<style scoped>\n",
       "    .dataframe tbody tr th:only-of-type {\n",
       "        vertical-align: middle;\n",
       "    }\n",
       "\n",
       "    .dataframe tbody tr th {\n",
       "        vertical-align: top;\n",
       "    }\n",
       "\n",
       "    .dataframe thead th {\n",
       "        text-align: right;\n",
       "    }\n",
       "</style>\n",
       "<table border=\"1\" class=\"dataframe\">\n",
       "  <thead>\n",
       "    <tr style=\"text-align: right;\">\n",
       "      <th></th>\n",
       "      <th>cars</th>\n",
       "      <th>Bikes</th>\n",
       "    </tr>\n",
       "  </thead>\n",
       "  <tbody>\n",
       "    <tr>\n",
       "      <th>0</th>\n",
       "      <td>kia</td>\n",
       "      <td>suzuki</td>\n",
       "    </tr>\n",
       "    <tr>\n",
       "      <th>1</th>\n",
       "      <td>opel</td>\n",
       "      <td>hero</td>\n",
       "    </tr>\n",
       "    <tr>\n",
       "      <th>2</th>\n",
       "      <td>Toyota</td>\n",
       "      <td>honda</td>\n",
       "    </tr>\n",
       "    <tr>\n",
       "      <th>3</th>\n",
       "      <td>TATA</td>\n",
       "      <td>KTM</td>\n",
       "    </tr>\n",
       "  </tbody>\n",
       "</table>\n",
       "</div>"
      ],
      "text/plain": [
       "     cars   Bikes\n",
       "0     kia  suzuki\n",
       "1    opel    hero\n",
       "2  Toyota   honda\n",
       "3    TATA     KTM"
      ]
     },
     "execution_count": 106,
     "metadata": {},
     "output_type": "execute_result"
    }
   ],
   "source": [
    "df1 = df.copy() \n",
    "#Adding NaN values to df\n",
    "df1[\"cars\"][3]= np.NAN\n",
    "print(\"with NaN values\\n\",df1)\n",
    "#dropping NaN values from df\n",
    "df1[\"cars\"].fillna(\"TATA\",inplace=True)\n",
    "df1"
   ]
  },
  {
   "cell_type": "code",
   "execution_count": 107,
   "id": "fe701028",
   "metadata": {},
   "outputs": [
    {
     "name": "stdout",
     "output_type": "stream",
     "text": [
      "   cars   Bikes\n",
      "0   kia  suzuki\n",
      "1  opel    hero\n",
      "     cars  Bikes\n",
      "2  Toyota  honda\n",
      "3    TATA    KTM\n"
     ]
    }
   ],
   "source": [
    "#accessing first and last elements\n",
    "print(df1.head(2))\n",
    "print(df1.tail(2))"
   ]
  },
  {
   "cell_type": "code",
   "execution_count": null,
   "id": "b2143bcc",
   "metadata": {},
   "outputs": [],
   "source": []
  },
  {
   "cell_type": "code",
   "execution_count": null,
   "id": "56e77c89",
   "metadata": {},
   "outputs": [],
   "source": []
  },
  {
   "cell_type": "markdown",
   "id": "9d9030c6",
   "metadata": {},
   "source": [
    "### loc and iloc\n",
    "loc and iloc are two methods in PANDAS\n",
    "- iloc (Integer-based indexing):\n",
    "\n",
    "Uses positional indexing based on integer locations within the DataFrame. iloc is faster due to its integer based nature\n",
    "\n",
    "- loc (Label-based indexing):\n",
    "\n",
    "Uses label-based indexing based on the labels (row or column names) in the DataFrame.Allows selecting rows or columns by their actual labels or boolean conditions."
   ]
  },
  {
   "cell_type": "code",
   "execution_count": 110,
   "id": "61fdc505",
   "metadata": {},
   "outputs": [
    {
     "name": "stdout",
     "output_type": "stream",
     "text": [
      "  cars   Bikes\n",
      "0  kia  suzuki\n",
      "cars     Toyota\n",
      "Bikes     honda\n",
      "Name: 2, dtype: object\n",
      "cars     Toyota\n",
      "Bikes     honda\n",
      "Name: 2, dtype: object\n"
     ]
    }
   ],
   "source": [
    "#accessing by given index and by value in df \n",
    "#accessing with boolean conditions as in df1[\"cars\"]== \"kia\" is only possible with loc \n",
    "print(df1.loc[df1['cars']==\"kia\"])\n",
    "print(df1.loc[2])\n",
    "print(df1.iloc[2])"
   ]
  },
  {
   "cell_type": "code",
   "execution_count": 117,
   "id": "28ad8ba6",
   "metadata": {},
   "outputs": [
    {
     "data": {
      "text/html": [
       "<div>\n",
       "<style scoped>\n",
       "    .dataframe tbody tr th:only-of-type {\n",
       "        vertical-align: middle;\n",
       "    }\n",
       "\n",
       "    .dataframe tbody tr th {\n",
       "        vertical-align: top;\n",
       "    }\n",
       "\n",
       "    .dataframe thead th {\n",
       "        text-align: right;\n",
       "    }\n",
       "</style>\n",
       "<table border=\"1\" class=\"dataframe\">\n",
       "  <thead>\n",
       "    <tr style=\"text-align: right;\">\n",
       "      <th></th>\n",
       "      <th>cars</th>\n",
       "      <th>Bikes</th>\n",
       "    </tr>\n",
       "  </thead>\n",
       "  <tbody>\n",
       "    <tr>\n",
       "      <th>0</th>\n",
       "      <td>kia</td>\n",
       "      <td>suzuki</td>\n",
       "    </tr>\n",
       "    <tr>\n",
       "      <th>1</th>\n",
       "      <td>opel</td>\n",
       "      <td>hero</td>\n",
       "    </tr>\n",
       "    <tr>\n",
       "      <th>2</th>\n",
       "      <td>Toyota</td>\n",
       "      <td>honda</td>\n",
       "    </tr>\n",
       "  </tbody>\n",
       "</table>\n",
       "</div>"
      ],
      "text/plain": [
       "     cars   Bikes\n",
       "0     kia  suzuki\n",
       "1    opel    hero\n",
       "2  Toyota   honda"
      ]
     },
     "execution_count": 117,
     "metadata": {},
     "output_type": "execute_result"
    }
   ],
   "source": [
    "#slicing through a range\n",
    "df.iloc[0:3]"
   ]
  },
  {
   "cell_type": "code",
   "execution_count": 119,
   "id": "8a5ebb1e",
   "metadata": {},
   "outputs": [
    {
     "data": {
      "text/plain": [
       "0       kia\n",
       "1      opel\n",
       "2    Toyota\n",
       "Name: cars, dtype: object"
      ]
     },
     "execution_count": 119,
     "metadata": {},
     "output_type": "execute_result"
    }
   ],
   "source": [
    "#slicing through a range in a specific column/ iloc can be used for same\n",
    "df[\"cars\"].loc[0:3]"
   ]
  },
  {
   "cell_type": "code",
   "execution_count": 222,
   "id": "3b374d78",
   "metadata": {},
   "outputs": [
    {
     "name": "stdout",
     "output_type": "stream",
     "text": [
      "        Bikes        \n",
      "        count     sum\n",
      "cars                 \n",
      "Toyota      1   honda\n",
      "kia         1  suzuki\n",
      "maruthi     1     KTM\n",
      "opel        1    hero\n",
      "cars\n",
      "Toyota     1\n",
      "kia        1\n",
      "maruthi    1\n",
      "opel       1\n",
      "Name: Bikes, dtype: int64\n",
      "         Bikes\n",
      "cars          \n",
      "Toyota       1\n",
      "kia          1\n",
      "maruthi      1\n",
      "opel         1\n"
     ]
    }
   ],
   "source": [
    "#using groupby to check counts of each categories in cars column\n",
    "print(df.groupby(\"cars\").agg({\"Bikes\":[\"count\",\"sum\"]}))\n",
    "print(df.groupby(\"cars\")['Bikes'].count())\n",
    "print(df.groupby(\"cars\").count())"
   ]
  },
  {
   "cell_type": "code",
   "execution_count": null,
   "id": "2a398fa7",
   "metadata": {},
   "outputs": [],
   "source": [
    "#deleting column from dataframe can also use df.remove([\"cars\"],axis = 1)\n",
    "del df[\"cars\"]\n",
    "d"
   ]
  },
  {
   "cell_type": "code",
   "execution_count": null,
   "id": "bb815f5a",
   "metadata": {},
   "outputs": [],
   "source": [
    "#dropping entire row based on a certain value\n",
    "df = df[df.Bikes != \"hero\"]\n",
    "df"
   ]
  },
  {
   "cell_type": "code",
   "execution_count": null,
   "id": "62815b66",
   "metadata": {},
   "outputs": [],
   "source": [
    "df.groupby(\"cars\")['Bikes'].count()"
   ]
  },
  {
   "cell_type": "code",
   "execution_count": null,
   "id": "35974a71",
   "metadata": {},
   "outputs": [],
   "source": [
    "for i in df.columns:\n",
    "    print(i)"
   ]
  },
  {
   "cell_type": "code",
   "execution_count": null,
   "id": "fab01584",
   "metadata": {},
   "outputs": [],
   "source": [
    "import numpy as np\n",
    "import pandas as pd\n",
    "\n",
    "\n"
   ]
  },
  {
   "cell_type": "code",
   "execution_count": 147,
   "id": "605a192f",
   "metadata": {},
   "outputs": [],
   "source": [
    "df = pd.DataFrame(np.random.rand(3,3),columns = [\"cl1\",\"cl2\",\"cl4\"])\n",
    "#Method 1 changing column names\n",
    "df.columns = [\"cl1\",\"cl2\",\"cl3\"]\n",
    "#Method 2 changing column names\n",
    "df.rename(columns={\"cl1\":\"CL1\",\"cl2\":\"CL2\"},inplace=True)"
   ]
  },
  {
   "cell_type": "code",
   "execution_count": 148,
   "id": "bf3b672f",
   "metadata": {},
   "outputs": [
    {
     "ename": "AttributeError",
     "evalue": "'DataFrame' object has no attribute 'iteritems'",
     "output_type": "error",
     "traceback": [
      "\u001b[1;31m---------------------------------------------------------------------------\u001b[0m",
      "\u001b[1;31mAttributeError\u001b[0m                            Traceback (most recent call last)",
      "\u001b[1;32m~\\AppData\\Local\\Temp\\ipykernel_23048\\2564921761.py\u001b[0m in \u001b[0;36m?\u001b[1;34m()\u001b[0m\n\u001b[0;32m      1\u001b[0m \u001b[1;31m#usage of iter item\u001b[0m\u001b[1;33m\u001b[0m\u001b[1;33m\u001b[0m\u001b[0m\n\u001b[1;32m----> 2\u001b[1;33m \u001b[1;32mfor\u001b[0m \u001b[0mcolumn\u001b[0m\u001b[1;33m,\u001b[0m\u001b[0mvalue\u001b[0m \u001b[1;32min\u001b[0m \u001b[0mdf\u001b[0m\u001b[1;33m.\u001b[0m\u001b[0miteritems\u001b[0m\u001b[1;33m(\u001b[0m\u001b[1;33m)\u001b[0m\u001b[1;33m:\u001b[0m\u001b[1;33m\u001b[0m\u001b[1;33m\u001b[0m\u001b[0m\n\u001b[0m\u001b[0;32m      3\u001b[0m     \u001b[0mprint\u001b[0m\u001b[1;33m(\u001b[0m\u001b[0mcolumn\u001b[0m\u001b[1;33m,\u001b[0m\u001b[0mvalue\u001b[0m\u001b[1;33m*\u001b[0m\u001b[1;36m3\u001b[0m\u001b[1;33m)\u001b[0m\u001b[1;33m\u001b[0m\u001b[1;33m\u001b[0m\u001b[0m\n",
      "\u001b[1;32m~\\AppData\\Local\\anaconda3\\Lib\\site-packages\\pandas\\core\\generic.py\u001b[0m in \u001b[0;36m?\u001b[1;34m(self, name)\u001b[0m\n\u001b[0;32m   5985\u001b[0m             \u001b[1;32mand\u001b[0m \u001b[0mname\u001b[0m \u001b[1;32mnot\u001b[0m \u001b[1;32min\u001b[0m \u001b[0mself\u001b[0m\u001b[1;33m.\u001b[0m\u001b[0m_accessors\u001b[0m\u001b[1;33m\u001b[0m\u001b[1;33m\u001b[0m\u001b[0m\n\u001b[0;32m   5986\u001b[0m             \u001b[1;32mand\u001b[0m \u001b[0mself\u001b[0m\u001b[1;33m.\u001b[0m\u001b[0m_info_axis\u001b[0m\u001b[1;33m.\u001b[0m\u001b[0m_can_hold_identifiers_and_holds_name\u001b[0m\u001b[1;33m(\u001b[0m\u001b[0mname\u001b[0m\u001b[1;33m)\u001b[0m\u001b[1;33m\u001b[0m\u001b[1;33m\u001b[0m\u001b[0m\n\u001b[0;32m   5987\u001b[0m         ):\n\u001b[0;32m   5988\u001b[0m             \u001b[1;32mreturn\u001b[0m \u001b[0mself\u001b[0m\u001b[1;33m[\u001b[0m\u001b[0mname\u001b[0m\u001b[1;33m]\u001b[0m\u001b[1;33m\u001b[0m\u001b[1;33m\u001b[0m\u001b[0m\n\u001b[1;32m-> 5989\u001b[1;33m         \u001b[1;32mreturn\u001b[0m \u001b[0mobject\u001b[0m\u001b[1;33m.\u001b[0m\u001b[0m__getattribute__\u001b[0m\u001b[1;33m(\u001b[0m\u001b[0mself\u001b[0m\u001b[1;33m,\u001b[0m \u001b[0mname\u001b[0m\u001b[1;33m)\u001b[0m\u001b[1;33m\u001b[0m\u001b[1;33m\u001b[0m\u001b[0m\n\u001b[0m",
      "\u001b[1;31mAttributeError\u001b[0m: 'DataFrame' object has no attribute 'iteritems'"
     ]
    }
   ],
   "source": [
    "#usage of iter item\n",
    "for column,value in df.iteritems():\n",
    "    print(column,value*3)"
   ]
  },
  {
   "cell_type": "code",
   "execution_count": 152,
   "id": "e8286bd7",
   "metadata": {},
   "outputs": [
    {
     "data": {
      "text/html": [
       "<div>\n",
       "<style scoped>\n",
       "    .dataframe tbody tr th:only-of-type {\n",
       "        vertical-align: middle;\n",
       "    }\n",
       "\n",
       "    .dataframe tbody tr th {\n",
       "        vertical-align: top;\n",
       "    }\n",
       "\n",
       "    .dataframe thead th {\n",
       "        text-align: right;\n",
       "    }\n",
       "</style>\n",
       "<table border=\"1\" class=\"dataframe\">\n",
       "  <thead>\n",
       "    <tr style=\"text-align: right;\">\n",
       "      <th></th>\n",
       "      <th>CL1</th>\n",
       "      <th>CL2</th>\n",
       "      <th>cl3</th>\n",
       "    </tr>\n",
       "  </thead>\n",
       "  <tbody>\n",
       "    <tr>\n",
       "      <th>0</th>\n",
       "      <td>0.423111</td>\n",
       "      <td>0.614748</td>\n",
       "      <td>0.214529</td>\n",
       "    </tr>\n",
       "    <tr>\n",
       "      <th>1</th>\n",
       "      <td>0.495068</td>\n",
       "      <td>0.762683</td>\n",
       "      <td>0.248516</td>\n",
       "    </tr>\n",
       "    <tr>\n",
       "      <th>2</th>\n",
       "      <td>0.063726</td>\n",
       "      <td>0.539355</td>\n",
       "      <td>0.682215</td>\n",
       "    </tr>\n",
       "  </tbody>\n",
       "</table>\n",
       "</div>"
      ],
      "text/plain": [
       "        CL1       CL2       cl3\n",
       "0  0.423111  0.614748  0.214529\n",
       "1  0.495068  0.762683  0.248516\n",
       "2  0.063726  0.539355  0.682215"
      ]
     },
     "execution_count": 152,
     "metadata": {},
     "output_type": "execute_result"
    }
   ],
   "source": [
    "df"
   ]
  },
  {
   "cell_type": "code",
   "execution_count": 153,
   "id": "ab1c8d3f",
   "metadata": {},
   "outputs": [
    {
     "name": "stdout",
     "output_type": "stream",
     "text": [
      "0\n",
      "1\n",
      "2\n"
     ]
    }
   ],
   "source": [
    "for colm, value in df.iterrows():\n",
    "    print(colm)"
   ]
  },
  {
   "cell_type": "code",
   "execution_count": 74,
   "id": "2a2c1aad",
   "metadata": {},
   "outputs": [
    {
     "name": "stdout",
     "output_type": "stream",
     "text": [
      "0 ** CL1    0.103470\n",
      "CL2    0.632111\n",
      "cl3    0.762470\n",
      "Name: 0, dtype: float64\n",
      "1 ** CL1    0.937234\n",
      "CL2    0.792818\n",
      "cl3    0.122591\n",
      "Name: 1, dtype: float64\n",
      "2 ** CL1    0.149763\n",
      "CL2    0.876105\n",
      "cl3    0.502433\n",
      "Name: 2, dtype: float64\n"
     ]
    }
   ],
   "source": [
    "#usage of iter row were we iterrow through rows whre you get index and its corresponding row value\n",
    "for index,value in df.iterrows():\n",
    "    print(index,\"**\",value[:3])"
   ]
  },
  {
   "cell_type": "code",
   "execution_count": 84,
   "id": "d53aacc1",
   "metadata": {},
   "outputs": [],
   "source": [
    "df[\"CL1\"][0]=int(1)\n",
    "df[\"CL2\"][1] = int(2)"
   ]
  },
  {
   "cell_type": "code",
   "execution_count": null,
   "id": "9c89dcea",
   "metadata": {},
   "outputs": [],
   "source": []
  },
  {
   "cell_type": "code",
   "execution_count": 86,
   "id": "5b4bdebc",
   "metadata": {},
   "outputs": [
    {
     "data": {
      "text/html": [
       "<div>\n",
       "<style scoped>\n",
       "    .dataframe tbody tr th:only-of-type {\n",
       "        vertical-align: middle;\n",
       "    }\n",
       "\n",
       "    .dataframe tbody tr th {\n",
       "        vertical-align: top;\n",
       "    }\n",
       "\n",
       "    .dataframe thead th {\n",
       "        text-align: right;\n",
       "    }\n",
       "</style>\n",
       "<table border=\"1\" class=\"dataframe\">\n",
       "  <thead>\n",
       "    <tr style=\"text-align: right;\">\n",
       "      <th></th>\n",
       "      <th>CL1</th>\n",
       "      <th>CL2</th>\n",
       "      <th>cl3</th>\n",
       "    </tr>\n",
       "  </thead>\n",
       "  <tbody>\n",
       "    <tr>\n",
       "      <th>0</th>\n",
       "      <td>1.0</td>\n",
       "      <td>0.218072</td>\n",
       "      <td>0.042866</td>\n",
       "    </tr>\n",
       "  </tbody>\n",
       "</table>\n",
       "</div>"
      ],
      "text/plain": [
       "   CL1       CL2       cl3\n",
       "0  1.0  0.218072  0.042866"
      ]
     },
     "execution_count": 86,
     "metadata": {},
     "output_type": "execute_result"
    }
   ],
   "source": [
    "# To check if a list of values in dataframe\n",
    "df[df['CL1'].isin([1,2])]\n"
   ]
  },
  {
   "cell_type": "code",
   "execution_count": 90,
   "id": "9951b9bf",
   "metadata": {},
   "outputs": [
    {
     "data": {
      "text/html": [
       "<div>\n",
       "<style scoped>\n",
       "    .dataframe tbody tr th:only-of-type {\n",
       "        vertical-align: middle;\n",
       "    }\n",
       "\n",
       "    .dataframe tbody tr th {\n",
       "        vertical-align: top;\n",
       "    }\n",
       "\n",
       "    .dataframe thead th {\n",
       "        text-align: right;\n",
       "    }\n",
       "</style>\n",
       "<table border=\"1\" class=\"dataframe\">\n",
       "  <thead>\n",
       "    <tr style=\"text-align: right;\">\n",
       "      <th></th>\n",
       "      <th>CL1</th>\n",
       "      <th>CL2</th>\n",
       "      <th>cl3</th>\n",
       "    </tr>\n",
       "  </thead>\n",
       "  <tbody>\n",
       "    <tr>\n",
       "      <th>0</th>\n",
       "      <td>1.000000</td>\n",
       "      <td>0.218072</td>\n",
       "      <td>0.042866</td>\n",
       "    </tr>\n",
       "    <tr>\n",
       "      <th>1</th>\n",
       "      <td>0.509699</td>\n",
       "      <td>2.000000</td>\n",
       "      <td>0.017465</td>\n",
       "    </tr>\n",
       "  </tbody>\n",
       "</table>\n",
       "</div>"
      ],
      "text/plain": [
       "        CL1       CL2       cl3\n",
       "0  1.000000  0.218072  0.042866\n",
       "1  0.509699  2.000000  0.017465"
      ]
     },
     "execution_count": 90,
     "metadata": {},
     "output_type": "execute_result"
    }
   ],
   "source": [
    "#Aboce case for multiple columns\n",
    "df[df['CL1'].isin([1,2]) | df[\"CL2\"].isin([2])]"
   ]
  },
  {
   "cell_type": "code",
   "execution_count": 160,
   "id": "0c86a0d8",
   "metadata": {},
   "outputs": [
    {
     "name": "stdout",
     "output_type": "stream",
     "text": [
      "        CL1       CL2       cl3  cl4\n",
      "0  0.423111  0.614748  0.214529  yes\n",
      "1  0.495068  0.762683  0.248516  yes\n",
      "2  0.063726  0.539355  0.682215   no\n",
      "        CL1       CL2       cl3  cl4\n",
      "0  0.423111  0.614748  0.214529  yes\n",
      "1  0.495068  0.762683  0.248516  yes\n"
     ]
    }
   ],
   "source": [
    "#always use isin for extracting exact element for numb/string \n",
    "df[\"cl4\"] = df[\"cl3\"].apply(lambda x: \"yes\" if x<0.5 else \"no\")\n",
    "df\n",
    "print(df[df[\"cl4\"].isin([\"yes\",\"no\"])])\n",
    "print(df[df[\"cl4\"] == \"yes\"])"
   ]
  },
  {
   "cell_type": "code",
   "execution_count": 154,
   "id": "f8c30799",
   "metadata": {},
   "outputs": [
    {
     "data": {
      "text/html": [
       "<div>\n",
       "<style scoped>\n",
       "    .dataframe tbody tr th:only-of-type {\n",
       "        vertical-align: middle;\n",
       "    }\n",
       "\n",
       "    .dataframe tbody tr th {\n",
       "        vertical-align: top;\n",
       "    }\n",
       "\n",
       "    .dataframe thead th {\n",
       "        text-align: right;\n",
       "    }\n",
       "</style>\n",
       "<table border=\"1\" class=\"dataframe\">\n",
       "  <thead>\n",
       "    <tr style=\"text-align: right;\">\n",
       "      <th></th>\n",
       "      <th>a</th>\n",
       "      <th>b</th>\n",
       "      <th>c</th>\n",
       "      <th>e</th>\n",
       "      <th>d</th>\n",
       "    </tr>\n",
       "  </thead>\n",
       "  <tbody>\n",
       "    <tr>\n",
       "      <th>0</th>\n",
       "      <td>2</td>\n",
       "      <td>2</td>\n",
       "      <td>1</td>\n",
       "      <td>1</td>\n",
       "      <td>2</td>\n",
       "    </tr>\n",
       "  </tbody>\n",
       "</table>\n",
       "</div>"
      ],
      "text/plain": [
       "   a  b  c  e  d\n",
       "0  2  2  1  1  2"
      ]
     },
     "execution_count": 154,
     "metadata": {},
     "output_type": "execute_result"
    }
   ],
   "source": [
    "#Converting dictionary into dataframe when values in dict are only one Main point is covering values in a list\n",
    "\n",
    "dic = {\"a\":2,\"b\":2,\"c\":1,\"e\":1,\"d\":2}\n",
    "pd.DataFrame([dic.values()],columns=dic.keys())"
   ]
  },
  {
   "cell_type": "markdown",
   "id": "56da1ddc",
   "metadata": {},
   "source": [
    "# Dictionary"
   ]
  },
  {
   "cell_type": "code",
   "execution_count": 149,
   "id": "842619e1",
   "metadata": {},
   "outputs": [
    {
     "name": "stdout",
     "output_type": "stream",
     "text": [
      "{'a': 'me', 'b': 'you', 'c': 'us'}\n"
     ]
    }
   ],
   "source": [
    "#creating dictionary with keyword arguments\n",
    "newd = dict(a = \"me\", b = \"you\", c = \"us\")\n",
    "print(newd)"
   ]
  },
  {
   "cell_type": "code",
   "execution_count": 148,
   "id": "1e245070",
   "metadata": {},
   "outputs": [
    {
     "name": "stdout",
     "output_type": "stream",
     "text": [
      "{'Shan': 34, 'Bob': 23, 'Mani': 20}\n"
     ]
    }
   ],
   "source": [
    "# tuple pair inside a list can be converted to dic, in dict things are not stored in any particular order\n",
    "name_age = [(\"Shan\", 34),(\"Bob\",23),(\"Mani\", 20)]\n",
    "d = dict(name_age)\n",
    "print(d)"
   ]
  },
  {
   "cell_type": "code",
   "execution_count": 153,
   "id": "523aa025",
   "metadata": {},
   "outputs": [
    {
     "name": "stdout",
     "output_type": "stream",
     "text": [
      "{'a': 'me', 'b': 'you', 'c': 'us'}\n",
      "{'a': 'me', 'b': 'you', 'c': 'us'}\n"
     ]
    }
   ],
   "source": [
    "# as like list, dictionary copying is shallow ie copying only references to the key and value objects not the object themselves\n",
    "# copying mainly of two methods, 2nd on is used normaly\n",
    "dictcopy = newd.copy()\n",
    "print(dictcopy)\n",
    "dictcopyusual = dict(newd)\n",
    "print(dictcopyusual)"
   ]
  },
  {
   "cell_type": "code",
   "execution_count": 156,
   "id": "ee32fc80",
   "metadata": {},
   "outputs": [
    {
     "name": "stdout",
     "output_type": "stream",
     "text": [
      "{'a': 'Apple', 'b': 'Banana', 'c': 'cherry', 'd': 'Donkey'}\n"
     ]
    }
   ],
   "source": [
    "# Adding entries from one dictionary to other\n",
    "#Call dictt.update() on the dictionary that is to be updated\n",
    "# If keys is already present in dict new values will be updated\n",
    "\n",
    "a = dict(a=\"banana\", b = \"Apple\", c = \"cherry\")\n",
    "b = dict(a = \"Apple\", b = \"Banana\", d = \"Donkey\")\n",
    "a.update(b)\n",
    "print(a)"
   ]
  },
  {
   "cell_type": "code",
   "execution_count": 158,
   "id": "fb917895",
   "metadata": {},
   "outputs": [
    {
     "name": "stdout",
     "output_type": "stream",
     "text": [
      "a=> Apple\n",
      "b=> Banana\n",
      "c=> cherry\n",
      "d=> Donkey\n"
     ]
    }
   ],
   "source": [
    "#dict can be iterated \n",
    "for val in a:\n",
    "    print(f\"{val}=> {a[val]}\")"
   ]
  },
  {
   "cell_type": "code",
   "execution_count": 159,
   "id": "e1d29f28",
   "metadata": {},
   "outputs": [
    {
     "name": "stdout",
     "output_type": "stream",
     "text": [
      "Apple\n",
      "Banana\n",
      "cherry\n",
      "Donkey\n"
     ]
    }
   ],
   "source": [
    "# Only values can be extracted\n",
    "for val in a.values():\n",
    "    print(val)"
   ]
  },
  {
   "cell_type": "code",
   "execution_count": 160,
   "id": "0a147f6a",
   "metadata": {},
   "outputs": [
    {
     "name": "stdout",
     "output_type": "stream",
     "text": [
      "a\n",
      "b\n",
      "c\n",
      "d\n"
     ]
    }
   ],
   "source": [
    "# Only key's can be extracted\n",
    "for key in a.keys():\n",
    "    print(key)"
   ]
  },
  {
   "cell_type": "code",
   "execution_count": 161,
   "id": "5c710d69",
   "metadata": {},
   "outputs": [
    {
     "name": "stdout",
     "output_type": "stream",
     "text": [
      "a=> Apple\n",
      "b=> Banana\n",
      "c=> cherry\n",
      "d=> Donkey\n"
     ]
    }
   ],
   "source": [
    "# dict.items() iterate over keys and values in tandem. yields a (key, value) tuple on each iteration\n",
    "for key,value in a.items():\n",
    "    print(f\"{key}=> {value}\")"
   ]
  },
  {
   "cell_type": "code",
   "execution_count": 167,
   "id": "a0ddf9d5",
   "metadata": {},
   "outputs": [
    {
     "data": {
      "text/plain": [
       "False"
      ]
     },
     "execution_count": 167,
     "metadata": {},
     "output_type": "execute_result"
    }
   ],
   "source": [
    "# use \"in\" operator to see if any anything maches \"key\"\n",
    "\"b\" in a\n",
    "\"c\" not in a"
   ]
  },
  {
   "cell_type": "code",
   "execution_count": 168,
   "id": "3627dbc1",
   "metadata": {},
   "outputs": [
    {
     "data": {
      "text/plain": [
       "{'b': 'Banana', 'c': 'cherry', 'd': 'Donkey'}"
      ]
     },
     "execution_count": 168,
     "metadata": {},
     "output_type": "execute_result"
    }
   ],
   "source": [
    "#deleting key from dict\n",
    "del a[\"a\"] \n",
    "a"
   ]
  },
  {
   "cell_type": "code",
   "execution_count": 166,
   "id": "c79e631d",
   "metadata": {},
   "outputs": [
    {
     "data": {
      "text/plain": [
       "{'a': [1, 2, 3, 4, 5], 'b': [2, 3, 4], 'c': {3, 4, 5}}"
      ]
     },
     "execution_count": 166,
     "metadata": {},
     "output_type": "execute_result"
    }
   ],
   "source": [
    "# modifying values in a dictionary in case if \"value\" is a list\n",
    "ndict = {\"a\":[1,2,3],\n",
    "        \"b\": [2,3,4],\n",
    "        \"c\": {3,4,5}}\n",
    "ndict[\"a\"]+= [4,5]\n",
    "ndict"
   ]
  },
  {
   "cell_type": "code",
   "execution_count": 187,
   "id": "b964e887",
   "metadata": {},
   "outputs": [
    {
     "data": {
      "text/plain": [
       "{'a': 2, 'b': 3, 'c': 4}"
      ]
     },
     "execution_count": 187,
     "metadata": {},
     "output_type": "execute_result"
    }
   ],
   "source": [
    "# Adding some number to values of dict\n",
    "dic = {\"a\": 1, \"b\": 2, \"c\": 3}\n",
    "for i in dic.keys():\n",
    "    dic[i]+=1\n",
    "dic"
   ]
  },
  {
   "cell_type": "code",
   "execution_count": 172,
   "id": "7b20e20b",
   "metadata": {},
   "outputs": [
    {
     "data": {
      "text/plain": [
       "{'a': [1, 2, 3, 4, 5], 'b': [2, 3, 4], 'c': {3, 4, 5}, 'd': [4, 5, 6]}"
      ]
     },
     "execution_count": 172,
     "metadata": {},
     "output_type": "execute_result"
    }
   ],
   "source": [
    "#Adding new items to dict\n",
    "ndict[\"d\"] = [4,5,6]\n",
    "ndict"
   ]
  },
  {
   "cell_type": "code",
   "execution_count": 173,
   "id": "f43dea72",
   "metadata": {},
   "outputs": [
    {
     "data": {
      "text/plain": [
       "{'bob': 1, 'basith': 2, 'shakeel': 3}"
      ]
     },
     "execution_count": 173,
     "metadata": {},
     "output_type": "execute_result"
    }
   ],
   "source": [
    "# Merging two dicts\n",
    "dict1 = {\"bob\": 1}\n",
    "dict2 = {\"basith\": 2,\"shakeel\": 3}\n",
    "dict1.update(dict2)\n",
    "dict1"
   ]
  },
  {
   "cell_type": "code",
   "execution_count": null,
   "id": "2bb43233",
   "metadata": {},
   "outputs": [],
   "source": []
  },
  {
   "cell_type": "code",
   "execution_count": 112,
   "id": "578bbe94",
   "metadata": {},
   "outputs": [
    {
     "data": {
      "text/plain": [
       "{5, 'a', 'b', 'c'}"
      ]
     },
     "execution_count": 112,
     "metadata": {},
     "output_type": "execute_result"
    }
   ],
   "source": [
    "set([\"a\",\"b\",\"c\",5])"
   ]
  },
  {
   "cell_type": "code",
   "execution_count": null,
   "id": "d9e8d7b4",
   "metadata": {},
   "outputs": [],
   "source": []
  },
  {
   "cell_type": "code",
   "execution_count": null,
   "id": "c0ecc724",
   "metadata": {},
   "outputs": [],
   "source": []
  },
  {
   "cell_type": "markdown",
   "id": "af3aa0b2",
   "metadata": {},
   "source": [
    "# STRING"
   ]
  },
  {
   "cell_type": "code",
   "execution_count": 86,
   "id": "3ef3cf3b",
   "metadata": {},
   "outputs": [
    {
     "name": "stdout",
     "output_type": "stream",
     "text": [
      "Help on class str in module builtins:\n",
      "\n",
      "class str(object)\n",
      " |  str(object='') -> str\n",
      " |  str(bytes_or_buffer[, encoding[, errors]]) -> str\n",
      " |  \n",
      " |  Create a new string object from the given object. If encoding or\n",
      " |  errors is specified, then the object must expose a data buffer\n",
      " |  that will be decoded using the given encoding and error handler.\n",
      " |  Otherwise, returns the result of object.__str__() (if defined)\n",
      " |  or repr(object).\n",
      " |  encoding defaults to sys.getdefaultencoding().\n",
      " |  errors defaults to 'strict'.\n",
      " |  \n",
      " |  Methods defined here:\n",
      " |  \n",
      " |  __add__(self, value, /)\n",
      " |      Return self+value.\n",
      " |  \n",
      " |  __contains__(self, key, /)\n",
      " |      Return key in self.\n",
      " |  \n",
      " |  __eq__(self, value, /)\n",
      " |      Return self==value.\n",
      " |  \n",
      " |  __format__(self, format_spec, /)\n",
      " |      Return a formatted version of the string as described by format_spec.\n",
      " |  \n",
      " |  __ge__(self, value, /)\n",
      " |      Return self>=value.\n",
      " |  \n",
      " |  __getattribute__(self, name, /)\n",
      " |      Return getattr(self, name).\n",
      " |  \n",
      " |  __getitem__(self, key, /)\n",
      " |      Return self[key].\n",
      " |  \n",
      " |  __getnewargs__(...)\n",
      " |  \n",
      " |  __gt__(self, value, /)\n",
      " |      Return self>value.\n",
      " |  \n",
      " |  __hash__(self, /)\n",
      " |      Return hash(self).\n",
      " |  \n",
      " |  __iter__(self, /)\n",
      " |      Implement iter(self).\n",
      " |  \n",
      " |  __le__(self, value, /)\n",
      " |      Return self<=value.\n",
      " |  \n",
      " |  __len__(self, /)\n",
      " |      Return len(self).\n",
      " |  \n",
      " |  __lt__(self, value, /)\n",
      " |      Return self<value.\n",
      " |  \n",
      " |  __mod__(self, value, /)\n",
      " |      Return self%value.\n",
      " |  \n",
      " |  __mul__(self, value, /)\n",
      " |      Return self*value.\n",
      " |  \n",
      " |  __ne__(self, value, /)\n",
      " |      Return self!=value.\n",
      " |  \n",
      " |  __repr__(self, /)\n",
      " |      Return repr(self).\n",
      " |  \n",
      " |  __rmod__(self, value, /)\n",
      " |      Return value%self.\n",
      " |  \n",
      " |  __rmul__(self, value, /)\n",
      " |      Return value*self.\n",
      " |  \n",
      " |  __sizeof__(self, /)\n",
      " |      Return the size of the string in memory, in bytes.\n",
      " |  \n",
      " |  __str__(self, /)\n",
      " |      Return str(self).\n",
      " |  \n",
      " |  capitalize(self, /)\n",
      " |      Return a capitalized version of the string.\n",
      " |      \n",
      " |      More specifically, make the first character have upper case and the rest lower\n",
      " |      case.\n",
      " |  \n",
      " |  casefold(self, /)\n",
      " |      Return a version of the string suitable for caseless comparisons.\n",
      " |  \n",
      " |  center(self, width, fillchar=' ', /)\n",
      " |      Return a centered string of length width.\n",
      " |      \n",
      " |      Padding is done using the specified fill character (default is a space).\n",
      " |  \n",
      " |  count(...)\n",
      " |      S.count(sub[, start[, end]]) -> int\n",
      " |      \n",
      " |      Return the number of non-overlapping occurrences of substring sub in\n",
      " |      string S[start:end].  Optional arguments start and end are\n",
      " |      interpreted as in slice notation.\n",
      " |  \n",
      " |  encode(self, /, encoding='utf-8', errors='strict')\n",
      " |      Encode the string using the codec registered for encoding.\n",
      " |      \n",
      " |      encoding\n",
      " |        The encoding in which to encode the string.\n",
      " |      errors\n",
      " |        The error handling scheme to use for encoding errors.\n",
      " |        The default is 'strict' meaning that encoding errors raise a\n",
      " |        UnicodeEncodeError.  Other possible values are 'ignore', 'replace' and\n",
      " |        'xmlcharrefreplace' as well as any other name registered with\n",
      " |        codecs.register_error that can handle UnicodeEncodeErrors.\n",
      " |  \n",
      " |  endswith(...)\n",
      " |      S.endswith(suffix[, start[, end]]) -> bool\n",
      " |      \n",
      " |      Return True if S ends with the specified suffix, False otherwise.\n",
      " |      With optional start, test S beginning at that position.\n",
      " |      With optional end, stop comparing S at that position.\n",
      " |      suffix can also be a tuple of strings to try.\n",
      " |  \n",
      " |  expandtabs(self, /, tabsize=8)\n",
      " |      Return a copy where all tab characters are expanded using spaces.\n",
      " |      \n",
      " |      If tabsize is not given, a tab size of 8 characters is assumed.\n",
      " |  \n",
      " |  find(...)\n",
      " |      S.find(sub[, start[, end]]) -> int\n",
      " |      \n",
      " |      Return the lowest index in S where substring sub is found,\n",
      " |      such that sub is contained within S[start:end].  Optional\n",
      " |      arguments start and end are interpreted as in slice notation.\n",
      " |      \n",
      " |      Return -1 on failure.\n",
      " |  \n",
      " |  format(...)\n",
      " |      S.format(*args, **kwargs) -> str\n",
      " |      \n",
      " |      Return a formatted version of S, using substitutions from args and kwargs.\n",
      " |      The substitutions are identified by braces ('{' and '}').\n",
      " |  \n",
      " |  format_map(...)\n",
      " |      S.format_map(mapping) -> str\n",
      " |      \n",
      " |      Return a formatted version of S, using substitutions from mapping.\n",
      " |      The substitutions are identified by braces ('{' and '}').\n",
      " |  \n",
      " |  index(...)\n",
      " |      S.index(sub[, start[, end]]) -> int\n",
      " |      \n",
      " |      Return the lowest index in S where substring sub is found,\n",
      " |      such that sub is contained within S[start:end].  Optional\n",
      " |      arguments start and end are interpreted as in slice notation.\n",
      " |      \n",
      " |      Raises ValueError when the substring is not found.\n",
      " |  \n",
      " |  isalnum(self, /)\n",
      " |      Return True if the string is an alpha-numeric string, False otherwise.\n",
      " |      \n",
      " |      A string is alpha-numeric if all characters in the string are alpha-numeric and\n",
      " |      there is at least one character in the string.\n",
      " |  \n",
      " |  isalpha(self, /)\n",
      " |      Return True if the string is an alphabetic string, False otherwise.\n",
      " |      \n",
      " |      A string is alphabetic if all characters in the string are alphabetic and there\n",
      " |      is at least one character in the string.\n",
      " |  \n",
      " |  isascii(self, /)\n",
      " |      Return True if all characters in the string are ASCII, False otherwise.\n",
      " |      \n",
      " |      ASCII characters have code points in the range U+0000-U+007F.\n",
      " |      Empty string is ASCII too.\n",
      " |  \n",
      " |  isdecimal(self, /)\n",
      " |      Return True if the string is a decimal string, False otherwise.\n",
      " |      \n",
      " |      A string is a decimal string if all characters in the string are decimal and\n",
      " |      there is at least one character in the string.\n",
      " |  \n",
      " |  isdigit(self, /)\n",
      " |      Return True if the string is a digit string, False otherwise.\n",
      " |      \n",
      " |      A string is a digit string if all characters in the string are digits and there\n",
      " |      is at least one character in the string.\n",
      " |  \n",
      " |  isidentifier(self, /)\n",
      " |      Return True if the string is a valid Python identifier, False otherwise.\n",
      " |      \n",
      " |      Call keyword.iskeyword(s) to test whether string s is a reserved identifier,\n",
      " |      such as \"def\" or \"class\".\n",
      " |  \n",
      " |  islower(self, /)\n",
      " |      Return True if the string is a lowercase string, False otherwise.\n",
      " |      \n",
      " |      A string is lowercase if all cased characters in the string are lowercase and\n",
      " |      there is at least one cased character in the string.\n",
      " |  \n",
      " |  isnumeric(self, /)\n",
      " |      Return True if the string is a numeric string, False otherwise.\n",
      " |      \n",
      " |      A string is numeric if all characters in the string are numeric and there is at\n",
      " |      least one character in the string.\n",
      " |  \n",
      " |  isprintable(self, /)\n",
      " |      Return True if the string is printable, False otherwise.\n",
      " |      \n",
      " |      A string is printable if all of its characters are considered printable in\n",
      " |      repr() or if it is empty.\n",
      " |  \n",
      " |  isspace(self, /)\n",
      " |      Return True if the string is a whitespace string, False otherwise.\n",
      " |      \n",
      " |      A string is whitespace if all characters in the string are whitespace and there\n",
      " |      is at least one character in the string.\n",
      " |  \n",
      " |  istitle(self, /)\n",
      " |      Return True if the string is a title-cased string, False otherwise.\n",
      " |      \n",
      " |      In a title-cased string, upper- and title-case characters may only\n",
      " |      follow uncased characters and lowercase characters only cased ones.\n",
      " |  \n",
      " |  isupper(self, /)\n",
      " |      Return True if the string is an uppercase string, False otherwise.\n",
      " |      \n",
      " |      A string is uppercase if all cased characters in the string are uppercase and\n",
      " |      there is at least one cased character in the string.\n",
      " |  \n",
      " |  join(self, iterable, /)\n",
      " |      Concatenate any number of strings.\n",
      " |      \n",
      " |      The string whose method is called is inserted in between each given string.\n",
      " |      The result is returned as a new string.\n",
      " |      \n",
      " |      Example: '.'.join(['ab', 'pq', 'rs']) -> 'ab.pq.rs'\n",
      " |  \n",
      " |  ljust(self, width, fillchar=' ', /)\n",
      " |      Return a left-justified string of length width.\n",
      " |      \n",
      " |      Padding is done using the specified fill character (default is a space).\n",
      " |  \n",
      " |  lower(self, /)\n",
      " |      Return a copy of the string converted to lowercase.\n",
      " |  \n",
      " |  lstrip(self, chars=None, /)\n",
      " |      Return a copy of the string with leading whitespace removed.\n",
      " |      \n",
      " |      If chars is given and not None, remove characters in chars instead.\n",
      " |  \n",
      " |  partition(self, sep, /)\n",
      " |      Partition the string into three parts using the given separator.\n",
      " |      \n",
      " |      This will search for the separator in the string.  If the separator is found,\n",
      " |      returns a 3-tuple containing the part before the separator, the separator\n",
      " |      itself, and the part after it.\n",
      " |      \n",
      " |      If the separator is not found, returns a 3-tuple containing the original string\n",
      " |      and two empty strings.\n",
      " |  \n",
      " |  removeprefix(self, prefix, /)\n",
      " |      Return a str with the given prefix string removed if present.\n",
      " |      \n",
      " |      If the string starts with the prefix string, return string[len(prefix):].\n",
      " |      Otherwise, return a copy of the original string.\n",
      " |  \n",
      " |  removesuffix(self, suffix, /)\n",
      " |      Return a str with the given suffix string removed if present.\n",
      " |      \n",
      " |      If the string ends with the suffix string and that suffix is not empty,\n",
      " |      return string[:-len(suffix)]. Otherwise, return a copy of the original\n",
      " |      string.\n",
      " |  \n",
      " |  replace(self, old, new, count=-1, /)\n",
      " |      Return a copy with all occurrences of substring old replaced by new.\n",
      " |      \n",
      " |        count\n",
      " |          Maximum number of occurrences to replace.\n",
      " |          -1 (the default value) means replace all occurrences.\n",
      " |      \n",
      " |      If the optional argument count is given, only the first count occurrences are\n",
      " |      replaced.\n",
      " |  \n",
      " |  rfind(...)\n",
      " |      S.rfind(sub[, start[, end]]) -> int\n",
      " |      \n",
      " |      Return the highest index in S where substring sub is found,\n",
      " |      such that sub is contained within S[start:end].  Optional\n",
      " |      arguments start and end are interpreted as in slice notation.\n",
      " |      \n",
      " |      Return -1 on failure.\n",
      " |  \n",
      " |  rindex(...)\n",
      " |      S.rindex(sub[, start[, end]]) -> int\n",
      " |      \n",
      " |      Return the highest index in S where substring sub is found,\n",
      " |      such that sub is contained within S[start:end].  Optional\n",
      " |      arguments start and end are interpreted as in slice notation.\n",
      " |      \n",
      " |      Raises ValueError when the substring is not found.\n",
      " |  \n",
      " |  rjust(self, width, fillchar=' ', /)\n",
      " |      Return a right-justified string of length width.\n",
      " |      \n",
      " |      Padding is done using the specified fill character (default is a space).\n",
      " |  \n",
      " |  rpartition(self, sep, /)\n",
      " |      Partition the string into three parts using the given separator.\n",
      " |      \n",
      " |      This will search for the separator in the string, starting at the end. If\n",
      " |      the separator is found, returns a 3-tuple containing the part before the\n",
      " |      separator, the separator itself, and the part after it.\n",
      " |      \n",
      " |      If the separator is not found, returns a 3-tuple containing two empty strings\n",
      " |      and the original string.\n",
      " |  \n",
      " |  rsplit(self, /, sep=None, maxsplit=-1)\n",
      " |      Return a list of the words in the string, using sep as the delimiter string.\n",
      " |      \n",
      " |        sep\n",
      " |          The delimiter according which to split the string.\n",
      " |          None (the default value) means split according to any whitespace,\n",
      " |          and discard empty strings from the result.\n",
      " |        maxsplit\n",
      " |          Maximum number of splits to do.\n",
      " |          -1 (the default value) means no limit.\n",
      " |      \n",
      " |      Splits are done starting at the end of the string and working to the front.\n",
      " |  \n",
      " |  rstrip(self, chars=None, /)\n",
      " |      Return a copy of the string with trailing whitespace removed.\n",
      " |      \n",
      " |      If chars is given and not None, remove characters in chars instead.\n",
      " |  \n",
      " |  split(self, /, sep=None, maxsplit=-1)\n",
      " |      Return a list of the words in the string, using sep as the delimiter string.\n",
      " |      \n",
      " |      sep\n",
      " |        The delimiter according which to split the string.\n",
      " |        None (the default value) means split according to any whitespace,\n",
      " |        and discard empty strings from the result.\n",
      " |      maxsplit\n",
      " |        Maximum number of splits to do.\n",
      " |        -1 (the default value) means no limit.\n",
      " |  \n",
      " |  splitlines(self, /, keepends=False)\n",
      " |      Return a list of the lines in the string, breaking at line boundaries.\n",
      " |      \n",
      " |      Line breaks are not included in the resulting list unless keepends is given and\n",
      " |      true.\n",
      " |  \n",
      " |  startswith(...)\n",
      " |      S.startswith(prefix[, start[, end]]) -> bool\n",
      " |      \n",
      " |      Return True if S starts with the specified prefix, False otherwise.\n",
      " |      With optional start, test S beginning at that position.\n",
      " |      With optional end, stop comparing S at that position.\n",
      " |      prefix can also be a tuple of strings to try.\n",
      " |  \n",
      " |  strip(self, chars=None, /)\n",
      " |      Return a copy of the string with leading and trailing whitespace removed.\n",
      " |      \n",
      " |      If chars is given and not None, remove characters in chars instead.\n",
      " |  \n",
      " |  swapcase(self, /)\n",
      " |      Convert uppercase characters to lowercase and lowercase characters to uppercase.\n",
      " |  \n",
      " |  title(self, /)\n",
      " |      Return a version of the string where each word is titlecased.\n",
      " |      \n",
      " |      More specifically, words start with uppercased characters and all remaining\n",
      " |      cased characters have lower case.\n",
      " |  \n",
      " |  translate(self, table, /)\n",
      " |      Replace each character in the string using the given translation table.\n",
      " |      \n",
      " |        table\n",
      " |          Translation table, which must be a mapping of Unicode ordinals to\n",
      " |          Unicode ordinals, strings, or None.\n",
      " |      \n",
      " |      The table must implement lookup/indexing via __getitem__, for instance a\n",
      " |      dictionary or list.  If this operation raises LookupError, the character is\n",
      " |      left untouched.  Characters mapped to None are deleted.\n",
      " |  \n",
      " |  upper(self, /)\n",
      " |      Return a copy of the string converted to uppercase.\n",
      " |  \n",
      " |  zfill(self, width, /)\n",
      " |      Pad a numeric string with zeros on the left, to fill a field of the given width.\n",
      " |      \n",
      " |      The string is never truncated.\n",
      " |  \n",
      " |  ----------------------------------------------------------------------\n",
      " |  Static methods defined here:\n",
      " |  \n",
      " |  __new__(*args, **kwargs) from builtins.type\n",
      " |      Create and return a new object.  See help(type) for accurate signature.\n",
      " |  \n",
      " |  maketrans(...)\n",
      " |      Return a translation table usable for str.translate().\n",
      " |      \n",
      " |      If there is only one argument, it must be a dictionary mapping Unicode\n",
      " |      ordinals (integers) or characters to Unicode ordinals, strings or None.\n",
      " |      Character keys will be then converted to ordinals.\n",
      " |      If there are two arguments, they must be strings of equal length, and\n",
      " |      in the resulting dictionary, each character in x will be mapped to the\n",
      " |      character at the same position in y. If there is a third argument, it\n",
      " |      must be a string, whose characters will be mapped to None in the result.\n",
      "\n"
     ]
    }
   ],
   "source": [
    "help(str)"
   ]
  },
  {
   "cell_type": "code",
   "execution_count": 52,
   "id": "95bc406f",
   "metadata": {},
   "outputs": [
    {
     "name": "stdout",
     "output_type": "stream",
     "text": [
      "13\n",
      "NewFoundLand\n",
      "NewLandFound\n"
     ]
    }
   ],
   "source": [
    "#common operations of a string\n",
    "print(len(\"lennjdnjndjnc\"))\n",
    "print(\"New\"+\"Found\"+\"Land\")\n",
    "s = \"New\"\n",
    "s+= \"Land\"\n",
    "s+= \"Found\"\n",
    "print(s)\n",
    "# Strings are immutable, we cannot modify them in place"
   ]
  },
  {
   "cell_type": "code",
   "execution_count": 171,
   "id": "f60d28e3",
   "metadata": {},
   "outputs": [
    {
     "name": "stdout",
     "output_type": "stream",
     "text": [
      "red;white;yellow;blue\n",
      "['red', 'white', 'yellow', 'blue']\n",
      "My Name Is Shahad\n"
     ]
    },
    {
     "data": {
      "text/plain": [
       "'red white yellow blue'"
      ]
     },
     "execution_count": 171,
     "metadata": {},
     "output_type": "execute_result"
    }
   ],
   "source": [
    "#using join and split\n",
    "colors = \";\".join([\"red\",\"white\",\"yellow\",\"blue\"])\n",
    "print(colors)\n",
    "print(colors.split(\";\"))\n",
    "# widespread use of join to concatinate collection of strings ('' inside is without space)\n",
    "# here there is a space in join thet is y space in sentence else sent without space MyName..\n",
    "print(' '.join([\"My\", \"Name\", \"Is\", \"Shahad\"]))\n",
    "\" \".join(colors.split(\";\"))\n"
   ]
  },
  {
   "cell_type": "code",
   "execution_count": 187,
   "id": "c26bd2cc",
   "metadata": {},
   "outputs": [
    {
     "data": {
      "text/plain": [
       "'I am a legend'"
      ]
     },
     "execution_count": 187,
     "metadata": {},
     "output_type": "execute_result"
    }
   ],
   "source": [
    "word = \"I am a legend\"\n",
    "new_string = \"\"\n",
    "for i in word:\n",
    "    new_string += \" \".join(i)\n",
    "new_string"
   ]
  },
  {
   "cell_type": "code",
   "execution_count": 173,
   "id": "63ab72d6",
   "metadata": {},
   "outputs": [
    {
     "data": {
      "text/plain": [
       "'I am a legend'"
      ]
     },
     "execution_count": 173,
     "metadata": {},
     "output_type": "execute_result"
    }
   ],
   "source": [
    "word = \"I am a legend\"\n",
    "\" \".join(word.split(\" \"))"
   ]
  },
  {
   "cell_type": "code",
   "execution_count": 188,
   "id": "092c5874",
   "metadata": {},
   "outputs": [
    {
     "data": {
      "text/plain": [
       "'I; ;a;m; ;a; ;l;e;g;e;n;d'"
      ]
     },
     "execution_count": 188,
     "metadata": {},
     "output_type": "execute_result"
    }
   ],
   "source": [
    "new_string = \";\".join(word)\n",
    "new_string"
   ]
  },
  {
   "cell_type": "code",
   "execution_count": 72,
   "id": "511f385d",
   "metadata": {},
   "outputs": [
    {
     "name": "stdout",
     "output_type": "stream",
     "text": [
      "('Un', 'forget', 'abele')\n",
      "calicut\n",
      ":\n"
     ]
    }
   ],
   "source": [
    "#Using Partistion method\n",
    "print(\"Unforgetabele\".partition(\"forget\"))\n",
    "#using as unpacking\n",
    "departure, seperator,arrival = \"calicut:Bangalore\".partition(\":\")\n",
    "print(departure)\n",
    "#Above we used a variable to capture special character(:) which we dont need,\n",
    "#Instaed of that we use \"_\" to capture dummy values. This helps to suppress unused variables\n",
    "departure, _,arrival = \"calicut:Bangalore\".partition(\":\")\n",
    "print(_)\n"
   ]
  },
  {
   "cell_type": "code",
   "execution_count": null,
   "id": "081b0cd8",
   "metadata": {},
   "outputs": [],
   "source": []
  },
  {
   "cell_type": "markdown",
   "id": "9db43f5c",
   "metadata": {},
   "source": [
    "String Formating"
   ]
  },
  {
   "cell_type": "code",
   "execution_count": 73,
   "id": "856f4d92",
   "metadata": {},
   "outputs": [
    {
     "data": {
      "text/plain": [
       "'The age of Jim is 32'"
      ]
     },
     "execution_count": 73,
     "metadata": {},
     "output_type": "execute_result"
    }
   ],
   "source": [
    "\"The age of {0} is {1}\".format(\"Jim\", 32)"
   ]
  },
  {
   "cell_type": "code",
   "execution_count": 74,
   "id": "90027308",
   "metadata": {},
   "outputs": [
    {
     "data": {
      "text/plain": [
       "'The age of Jim is 32. Jim is a good guy'"
      ]
     },
     "execution_count": 74,
     "metadata": {},
     "output_type": "execute_result"
    }
   ],
   "source": [
    "\"The age of {0} is {1}. {0} is a good guy\".format(\"Jim\", 32)"
   ]
  },
  {
   "cell_type": "code",
   "execution_count": 75,
   "id": "d2b2c95b",
   "metadata": {},
   "outputs": [
    {
     "data": {
      "text/plain": [
       "'The age of Jim is 32.'"
      ]
     },
     "execution_count": 75,
     "metadata": {},
     "output_type": "execute_result"
    }
   ],
   "source": [
    "\"The age of {} is {}.\".format(\"Jim\", 32)"
   ]
  },
  {
   "cell_type": "code",
   "execution_count": 76,
   "id": "2cc82fbc",
   "metadata": {},
   "outputs": [
    {
     "data": {
      "text/plain": [
       "'The age of Jim is 32. Jim is a good guy'"
      ]
     },
     "execution_count": 76,
     "metadata": {},
     "output_type": "execute_result"
    }
   ],
   "source": [
    "\"The age of {name} is {age}. {name} is a good guy\".format(name = \"Jim\",age= 32)"
   ]
  },
  {
   "cell_type": "markdown",
   "id": "b5f114ed",
   "metadata": {},
   "source": [
    "f string or Literal string interpolation"
   ]
  },
  {
   "cell_type": "code",
   "execution_count": 78,
   "id": "ef8f7682",
   "metadata": {},
   "outputs": [
    {
     "data": {
      "text/plain": [
       "'one plus one is 2'"
      ]
     },
     "execution_count": 78,
     "metadata": {},
     "output_type": "execute_result"
    }
   ],
   "source": [
    "# Embeded expressions inside literal strings, using a minimal syntax\n",
    "f\"one plus one is {1+1}\""
   ]
  },
  {
   "cell_type": "code",
   "execution_count": 79,
   "id": "2a2d677f",
   "metadata": {},
   "outputs": [
    {
     "data": {
      "text/plain": [
       "'The value 20 x 2 is 40'"
      ]
     },
     "execution_count": 79,
     "metadata": {},
     "output_type": "execute_result"
    }
   ],
   "source": [
    "value = 20*2\n",
    "f\"The value 20 x 2 is {value}\""
   ]
  },
  {
   "cell_type": "code",
   "execution_count": 81,
   "id": "b23a8958",
   "metadata": {},
   "outputs": [
    {
     "data": {
      "text/plain": [
       "'The current date and time is 2022-11-29T12:46:52.875602.'"
      ]
     },
     "execution_count": 81,
     "metadata": {},
     "output_type": "execute_result"
    }
   ],
   "source": [
    "# using with imported modules,\n",
    "import datetime\n",
    "f\"The current date and time is {datetime.datetime.now().isoformat()}.\""
   ]
  },
  {
   "cell_type": "code",
   "execution_count": 85,
   "id": "f1ec6e17",
   "metadata": {},
   "outputs": [
    {
     "name": "stdout",
     "output_type": "stream",
     "text": [
      "Math constants: pi = 3.141592653589793, e = 2.718281828459045\n"
     ]
    },
    {
     "data": {
      "text/plain": [
       "'Math constants: pi = 3.142, e = 2.7183'"
      ]
     },
     "execution_count": 85,
     "metadata": {},
     "output_type": "execute_result"
    }
   ],
   "source": [
    "import math\n",
    "print(f\"Math constants: pi = {math.pi}, e = {math.e}\")\n",
    "#formating above to only 3 decimal places after .\n",
    "f\"Math constants: pi = {math.pi:.3f}, e = {math.e:.4f}\""
   ]
  },
  {
   "cell_type": "code",
   "execution_count": null,
   "id": "bef3cc03",
   "metadata": {},
   "outputs": [],
   "source": []
  },
  {
   "cell_type": "code",
   "execution_count": 97,
   "id": "0af5c41e",
   "metadata": {},
   "outputs": [
    {
     "name": "stdout",
     "output_type": "stream",
     "text": [
      "Siscsdn Ijsidsidj Jisdhisdh Jisci \n",
      "Siscsdn ijsidsidj jisdhisdh jisci\n"
     ]
    },
    {
     "data": {
      "text/plain": [
       "['Siscsdn', 'Ijsidsidj', 'Jisdhisdh', 'Jisci']"
      ]
     },
     "execution_count": 97,
     "metadata": {},
     "output_type": "execute_result"
    }
   ],
   "source": [
    "#Captitalizing the first letter of string\n",
    "a = \"siscsdn ijsidsidj jisdhisdh jisci\"\n",
    "def converter(sentance):\n",
    "    b= \"\"\n",
    "    for word in a.split():\n",
    "        b+=word[0].upper()+word[1:]+\" \"\n",
    "    return b   \n",
    "print(converter(a))\n",
    "#capitalize only capitalises first letter of the string\n",
    "print(a.capitalize())\n",
    "\n",
    "[i.title() for i in a.split() ]"
   ]
  },
  {
   "cell_type": "code",
   "execution_count": 58,
   "id": "a1ed6ed8",
   "metadata": {},
   "outputs": [
    {
     "name": "stdout",
     "output_type": "stream",
     "text": [
      "siscsdnijsidsidjjisdhisdhjisci\n",
      "siscsdn ijsidsidj jisdhisdh jisci\n"
     ]
    }
   ],
   "source": [
    "#replacing space with nothing or user defined charecters\n",
    "print(a.replace(\" \",''))\n",
    "#Return a copy of the string with leading and trailing whitespace removed.\n",
    "print(a.strip())"
   ]
  },
  {
   "cell_type": "code",
   "execution_count": 100,
   "id": "7b957e69",
   "metadata": {},
   "outputs": [
    {
     "data": {
      "text/plain": [
       "'1,2,3,4,65,7,8'"
      ]
     },
     "execution_count": 100,
     "metadata": {},
     "output_type": "execute_result"
    }
   ],
   "source": [
    "# converting a list of numbers to string\n",
    "ls = [1,2,3,4,65,7,8]\n",
    "listnumb  = \",\".join(str(numb) for numb in ls)\n",
    "listnumb"
   ]
  },
  {
   "cell_type": "code",
   "execution_count": 201,
   "id": "b3876aba",
   "metadata": {},
   "outputs": [
    {
     "data": {
      "text/plain": [
       "'1, 2, 3, 4, 65, 7, 8'"
      ]
     },
     "execution_count": 201,
     "metadata": {},
     "output_type": "execute_result"
    }
   ],
   "source": [
    "str(ls).strip(\"[]\")"
   ]
  },
  {
   "cell_type": "code",
   "execution_count": 213,
   "id": "4237c3a0",
   "metadata": {},
   "outputs": [
    {
     "name": "stdout",
     "output_type": "stream",
     "text": [
      "'1', '2', '3', '4'\n",
      "1,2,3,4,\n"
     ]
    }
   ],
   "source": [
    "a= [1,2,3,4]\n",
    "l = []\n",
    "s = \"\"\n",
    "p = \"\"\n",
    "for i in a:\n",
    "    l.append(str(i))\n",
    "    s+=str(i)+ \",\"   \n",
    "print(str(l).strip(\"[],\"))\n",
    "print(s)\n"
   ]
  },
  {
   "cell_type": "code",
   "execution_count": 227,
   "id": "21c46f2e",
   "metadata": {},
   "outputs": [
    {
     "data": {
      "text/plain": [
       "'s,i,s,c,s,d,n, ,i,j,s,i,d,s,i,d,j, ,j,i,s,d,h,i,s,d,h, ,j,i,s,c,i'"
      ]
     },
     "execution_count": 227,
     "metadata": {},
     "output_type": "execute_result"
    }
   ],
   "source": [
    "\",\".join(str(i) for i in a)"
   ]
  },
  {
   "cell_type": "code",
   "execution_count": null,
   "id": "1f3ad584",
   "metadata": {},
   "outputs": [],
   "source": []
  },
  {
   "cell_type": "markdown",
   "id": "41cf733c",
   "metadata": {},
   "source": [
    "# Range"
   ]
  },
  {
   "cell_type": "code",
   "execution_count": 87,
   "id": "05c053d0",
   "metadata": {},
   "outputs": [
    {
     "name": "stdout",
     "output_type": "stream",
     "text": [
      "0\n",
      "1\n",
      "2\n",
      "3\n",
      "4\n"
     ]
    }
   ],
   "source": [
    "for i in range(5):\n",
    "    print(i)"
   ]
  },
  {
   "cell_type": "code",
   "execution_count": 88,
   "id": "508f06d3",
   "metadata": {},
   "outputs": [
    {
     "data": {
      "text/plain": [
       "[5, 6, 7, 8, 9]"
      ]
     },
     "execution_count": 88,
     "metadata": {},
     "output_type": "execute_result"
    }
   ],
   "source": [
    "list(range(5,10))"
   ]
  },
  {
   "cell_type": "code",
   "execution_count": 91,
   "id": "8b10644a",
   "metadata": {},
   "outputs": [
    {
     "data": {
      "text/plain": [
       "[0, 2, 4, 6, 8]"
      ]
     },
     "execution_count": 91,
     "metadata": {},
     "output_type": "execute_result"
    }
   ],
   "source": [
    "#range(start,stop,step)\n",
    "list(range(0,10,2))"
   ]
  },
  {
   "cell_type": "markdown",
   "id": "fec79606",
   "metadata": {},
   "source": [
    "Enumerate"
   ]
  },
  {
   "cell_type": "code",
   "execution_count": 92,
   "id": "a48c9b28",
   "metadata": {},
   "outputs": [
    {
     "name": "stdout",
     "output_type": "stream",
     "text": [
      "(0, 3)\n",
      "(1, 4)\n",
      "(2, 6)\n",
      "(3, 3)\n",
      "(4, 6)\n",
      "(5, 8)\n",
      "(6, 4)\n",
      "(7, 3)\n"
     ]
    }
   ],
   "source": [
    "#Constructs an iterable of (index, value) tuples around another iterable object\n",
    "t = [3,4,6,3,6,8,4,3]\n",
    "for p in enumerate(t):\n",
    "    print(p)"
   ]
  },
  {
   "cell_type": "code",
   "execution_count": 95,
   "id": "b5cae1ca",
   "metadata": {},
   "outputs": [
    {
     "name": "stdout",
     "output_type": "stream",
     "text": [
      "0 3\n",
      "1 4\n",
      "2 6\n",
      "3 3\n",
      "4 6\n",
      "5 8\n",
      "6 4\n",
      "7 3\n",
      "i = 0, v = 3\n",
      "i = 1, v = 4\n",
      "i = 2, v = 6\n",
      "i = 3, v = 3\n",
      "i = 4, v = 6\n",
      "i = 5, v = 8\n",
      "i = 6, v = 4\n",
      "i = 7, v = 3\n"
     ]
    }
   ],
   "source": [
    "for i ,v in enumerate(t):\n",
    "    print(i,v)\n",
    "\n",
    "for i,v in enumerate(t):\n",
    "    print(f\"i = {i}, v = {v}\")"
   ]
  },
  {
   "cell_type": "code",
   "execution_count": null,
   "id": "ba7404b8",
   "metadata": {},
   "outputs": [],
   "source": []
  },
  {
   "cell_type": "markdown",
   "id": "01d7acf8",
   "metadata": {},
   "source": [
    "# Lists"
   ]
  },
  {
   "cell_type": "code",
   "execution_count": 121,
   "id": "d63aebaa",
   "metadata": {},
   "outputs": [
    {
     "name": "stdout",
     "output_type": "stream",
     "text": [
      "15\n",
      "8\n"
     ]
    },
    {
     "data": {
      "text/plain": [
       "15"
      ]
     },
     "execution_count": 121,
     "metadata": {},
     "output_type": "execute_result"
    }
   ],
   "source": [
    "l = [1,2,4,5,3,6,8,15]\n",
    "print(l[-1])\n",
    "print(l[-2])\n",
    "#instead of access with above method, much more elegent way is shown below\n",
    "l[len(l)-1]"
   ]
  },
  {
   "cell_type": "code",
   "execution_count": 102,
   "id": "a0060558",
   "metadata": {},
   "outputs": [
    {
     "name": "stdout",
     "output_type": "stream",
     "text": [
      "[4, 5]\n",
      "[2, 4, 5, 3, 6, 8]\n",
      "[4, 5, 3, 6, 8, 15]\n",
      "[1, 2]\n"
     ]
    }
   ],
   "source": [
    "# slicing Syntax: list[start index:stop index]\n",
    "print(l[2:4])\n",
    "print(l[1:-1])\n",
    "print(l[2:])\n",
    "print(l[:2])"
   ]
  },
  {
   "cell_type": "code",
   "execution_count": 122,
   "id": "7b751978",
   "metadata": {},
   "outputs": [
    {
     "name": "stdout",
     "output_type": "stream",
     "text": [
      "s = [[1, 2, 4, 5, 3, 6, 8, 15], [1, 2, 4, 5, 3, 6, 8, 15]]\n"
     ]
    },
    {
     "data": {
      "text/plain": [
       "[[1, 2, 4, 5, 3, 6, 8, 15, 1000], [1, 2, 4, 5, 3, 6, 8, 15, 1000]]"
      ]
     },
     "execution_count": 122,
     "metadata": {},
     "output_type": "execute_result"
    }
   ],
   "source": [
    "s = [l]*2\n",
    "print(f\"s = {s}\")\n",
    "s[1].append(1000)\n",
    "s"
   ]
  },
  {
   "cell_type": "code",
   "execution_count": 130,
   "id": "3e088b8f",
   "metadata": {},
   "outputs": [
    {
     "name": "stdout",
     "output_type": "stream",
     "text": [
      "['I', 'am', 'a', 'legent']\n",
      "2\n",
      "a\n"
     ]
    }
   ],
   "source": [
    "w = \"I am a legend\".split()\n",
    "print(w)\n",
    "indx = w.index(\"a\")\n",
    "print(indx)\n",
    "print(w[indx])"
   ]
  },
  {
   "cell_type": "code",
   "execution_count": 133,
   "id": "90ce5d91",
   "metadata": {},
   "outputs": [
    {
     "name": "stdout",
     "output_type": "stream",
     "text": [
      "True\n"
     ]
    },
    {
     "data": {
      "text/plain": [
       "False"
      ]
     },
     "execution_count": 133,
     "metadata": {},
     "output_type": "execute_result"
    }
   ],
   "source": [
    "# checking if an element present in list with \"in\" and \"not in\"\n",
    "print(4 in [2,4,6,7,5,4,3,23])\n",
    "4 not in [2,4,6,7,5,4,3,23]"
   ]
  },
  {
   "cell_type": "code",
   "execution_count": 134,
   "id": "32fcb0a8",
   "metadata": {},
   "outputs": [
    {
     "name": "stdout",
     "output_type": "stream",
     "text": [
      "['I', 'am', 'a', 'legent']\n",
      "['I', 'a', 'legent']\n"
     ]
    }
   ],
   "source": [
    "# deleting a value by index\n",
    "w = \"I am a legent\".split()\n",
    "print(w)\n",
    "del w[1]\n",
    "print(w)"
   ]
  },
  {
   "cell_type": "code",
   "execution_count": 135,
   "id": "7502b66a",
   "metadata": {},
   "outputs": [
    {
     "data": {
      "text/plain": [
       "['I', 'legent']"
      ]
     },
     "execution_count": 135,
     "metadata": {},
     "output_type": "execute_result"
    }
   ],
   "source": [
    "# Deleting a value by name\n",
    "w.remove(\"a\")\n",
    "w"
   ]
  },
  {
   "cell_type": "code",
   "execution_count": 137,
   "id": "530c9ee7",
   "metadata": {},
   "outputs": [
    {
     "data": {
      "text/plain": [
       "['I', 'am', 'legent']"
      ]
     },
     "execution_count": 137,
     "metadata": {},
     "output_type": "execute_result"
    }
   ],
   "source": [
    "# inserting elements to a list by index\n",
    "w.insert(1,\"am\")\n",
    "w"
   ]
  },
  {
   "cell_type": "code",
   "execution_count": 139,
   "id": "ad51ebb1",
   "metadata": {},
   "outputs": [
    {
     "data": {
      "text/plain": [
       "'I am legent'"
      ]
     },
     "execution_count": 139,
     "metadata": {},
     "output_type": "execute_result"
    }
   ],
   "source": [
    "#joining words from a list by space \" \"\n",
    "\" \".join(w)"
   ]
  },
  {
   "cell_type": "code",
   "execution_count": 205,
   "id": "96051fb3",
   "metadata": {},
   "outputs": [
    {
     "name": "stdout",
     "output_type": "stream",
     "text": [
      "[8, 7, 6, 5, 3, 3, 5, 34, 4, 3]\n",
      "[3, 3, 3, 4, 5, 5, 6, 7, 8, 34]\n"
     ]
    }
   ],
   "source": [
    "# reversing and sorting list\n",
    "\n",
    "newl = [3,4,34,5,3,3,5,6,7,8]\n",
    "newl.reverse()\n",
    "print(newl)\n",
    "# sorting can be done for asending and descending order with reverse = True for descending large to small\n",
    "newl.sort()\n",
    "print(newl)"
   ]
  },
  {
   "cell_type": "code",
   "execution_count": 229,
   "id": "49af8050",
   "metadata": {},
   "outputs": [
    {
     "data": {
      "text/plain": [
       "[34, 8, 7, 6, 5, 5, 4, 3, 3, 3]"
      ]
     },
     "execution_count": 229,
     "metadata": {},
     "output_type": "execute_result"
    }
   ],
   "source": [
    "newl.reverse()\n",
    "newl"
   ]
  },
  {
   "cell_type": "code",
   "execution_count": 230,
   "id": "1309eddd",
   "metadata": {},
   "outputs": [
    {
     "data": {
      "text/plain": [
       "[3, 3, 3, 4, 5, 5, 6, 7, 8, 34]"
      ]
     },
     "execution_count": 230,
     "metadata": {},
     "output_type": "execute_result"
    }
   ],
   "source": [
    "# Reversing done by slicing\n",
    "print(newl)\n",
    "newl[::-1]"
   ]
  },
  {
   "cell_type": "code",
   "execution_count": null,
   "id": "5f08d8a3",
   "metadata": {},
   "outputs": [],
   "source": []
  },
  {
   "cell_type": "code",
   "execution_count": 2,
   "id": "e64c5c0f",
   "metadata": {},
   "outputs": [
    {
     "name": "stdout",
     "output_type": "stream",
     "text": [
      "7\n",
      "[1, 2, 3, 4, 5, 6, 8, 7, 8, 9]\n",
      "8\n"
     ]
    }
   ],
   "source": [
    "# inserting a value to index without deleting that value\n",
    "ls = [1,2,3,4,5,6,7,8,9]\n",
    "print(ls[6])\n",
    "ls.insert(6,8)\n",
    "print(ls)\n",
    "print(ls[6])"
   ]
  },
  {
   "cell_type": "code",
   "execution_count": 11,
   "id": "43730363",
   "metadata": {},
   "outputs": [
    {
     "name": "stdout",
     "output_type": "stream",
     "text": [
      "[9, 8, 7]\n",
      "[]\n"
     ]
    }
   ],
   "source": [
    "print(ls[-1:-4:-1])\n",
    "print(ls[-1:-4:1])"
   ]
  },
  {
   "cell_type": "code",
   "execution_count": 212,
   "id": "ffc4e4b8",
   "metadata": {},
   "outputs": [
    {
     "name": "stdout",
     "output_type": "stream",
     "text": [
      "[65, 1, 2, 3, 4, 7, 8]\n",
      "[1, 2, 3, 4, 65, 7, 8]\n"
     ]
    }
   ],
   "source": [
    "#removing duplicates in a list ls by assigning to set\n",
    "newls = list(set(ls))\n",
    "print(newls)\n",
    "#also with dict.keys this method preserves the sequence\n",
    "newls = list(dict.fromkeys(ls))\n",
    "print(newls)"
   ]
  },
  {
   "cell_type": "code",
   "execution_count": 213,
   "id": "d437aa8b",
   "metadata": {},
   "outputs": [
    {
     "data": {
      "text/plain": [
       "[4, 6, 5, 8, 144, 37, 13]"
      ]
     },
     "execution_count": 213,
     "metadata": {},
     "output_type": "execute_result"
    }
   ],
   "source": [
    "#Adding values in two lists\n",
    "a = [1,2,3,4,122,34,7]\n",
    "b = [3,4,2,4,22,3,6]\n",
    "[x+y for x,y in zip(a,b)]"
   ]
  },
  {
   "cell_type": "code",
   "execution_count": 214,
   "id": "61e93bae",
   "metadata": {},
   "outputs": [
    {
     "name": "stdout",
     "output_type": "stream",
     "text": [
      "1 3\n",
      "2 4\n",
      "3 2\n",
      "4 4\n",
      "122 22\n",
      "34 3\n",
      "7 6\n"
     ]
    }
   ],
   "source": [
    "for x,y in zip(a,b):\n",
    "    print(x,y)"
   ]
  },
  {
   "cell_type": "markdown",
   "id": "9ac9db9a",
   "metadata": {},
   "source": [
    "## 11. Recursion\n",
    "- Python also accepts function recursion, which means a defined function can call itself.\n",
    "- ie a function calling itself"
   ]
  },
  {
   "cell_type": "code",
   "execution_count": 12,
   "id": "acfbab6f",
   "metadata": {},
   "outputs": [
    {
     "data": {
      "text/plain": [
       "24"
      ]
     },
     "execution_count": 12,
     "metadata": {},
     "output_type": "execute_result"
    }
   ],
   "source": [
    "#Recursive function Examples\n",
    "def recursive_factorial(n):  \n",
    "   if n == 1:  \n",
    "       return n  \n",
    "   else:  \n",
    "       return n * recursive_factorial(n-1)  \n",
    "recursive_factorial(4)"
   ]
  },
  {
   "cell_type": "code",
   "execution_count": 5,
   "id": "5808c7c7",
   "metadata": {},
   "outputs": [
    {
     "name": "stdout",
     "output_type": "stream",
     "text": [
      "1\n",
      "1\n",
      "2\n",
      "3\n",
      "5\n",
      "8\n",
      "13\n",
      "21\n",
      "34\n"
     ]
    }
   ],
   "source": [
    "def fibinachi1(n):\n",
    "    if n <=1:\n",
    "        return n\n",
    "    else : \n",
    "        return (fibinachi1(n-1)+fibinachi1(n-2))\n",
    "for i in range(1,10):\n",
    "    print(fibinachi1(i))"
   ]
  },
  {
   "cell_type": "code",
   "execution_count": 4,
   "id": "b1bf124a",
   "metadata": {},
   "outputs": [
    {
     "data": {
      "text/plain": [
       "2"
      ]
     },
     "execution_count": 4,
     "metadata": {},
     "output_type": "execute_result"
    }
   ],
   "source": [
    "fibinachi1(3)"
   ]
  },
  {
   "cell_type": "code",
   "execution_count": 105,
   "id": "e59e45c2",
   "metadata": {},
   "outputs": [
    {
     "name": "stdout",
     "output_type": "stream",
     "text": [
      "[1, 2, 3, 4, 65, 7, 8]\n"
     ]
    },
    {
     "data": {
      "text/plain": [
       "[8, 7, 65, 4, 3, 2, 1]"
      ]
     },
     "execution_count": 105,
     "metadata": {},
     "output_type": "execute_result"
    }
   ],
   "source": [
    "# how to reverse a list using reversed method\n",
    "print(ls)\n",
    "rev = list(reversed(ls))\n",
    "rev\n"
   ]
  },
  {
   "cell_type": "code",
   "execution_count": 103,
   "id": "b3c7e4a5",
   "metadata": {},
   "outputs": [
    {
     "data": {
      "text/plain": [
       "[array([0.67063993, 0.07215737, 0.3618718 , 0.10233408]),\n",
       " array([0.19247793, 0.64910498, 0.74231676, 0.26746842]),\n",
       " array([0.50129383, 0.44147713, 0.66349435, 0.75200741]),\n",
       " array([0.84979123, 0.74353959, 0.22588192, 0.23972271])]"
      ]
     },
     "execution_count": 103,
     "metadata": {},
     "output_type": "execute_result"
    }
   ],
   "source": [
    "#reversing matrix with reversed method\n",
    "import numpy as np\n",
    "matrix = np.random.rand(4,4)\n",
    "list(reversed(matrix))\n"
   ]
  },
  {
   "cell_type": "code",
   "execution_count": 33,
   "id": "a33c7c30",
   "metadata": {},
   "outputs": [
    {
     "name": "stdout",
     "output_type": "stream",
     "text": [
      "1\n",
      "2\n",
      "3\n",
      "4\n",
      "5\n",
      "8\n",
      "7\n",
      "7\n",
      "7\n"
     ]
    }
   ],
   "source": [
    "#using pass in a for loop\n",
    "for i in ls:\n",
    "    if i==6 :\n",
    "        pass\n",
    "    else:\n",
    "        print(i)"
   ]
  },
  {
   "cell_type": "code",
   "execution_count": 65,
   "id": "c40e65dc",
   "metadata": {},
   "outputs": [
    {
     "name": "stdout",
     "output_type": "stream",
     "text": [
      "0 1\n",
      "1 2\n",
      "2 3\n",
      "3 4\n",
      "4 5\n",
      "5 6\n",
      "6 8\n",
      "7 7\n",
      "8 7\n",
      "9 7\n"
     ]
    }
   ],
   "source": [
    "# how to use enumerate to access value and index \n",
    "for index,value in enumerate(ls):\n",
    "    print(index,value)"
   ]
  },
  {
   "cell_type": "code",
   "execution_count": 5,
   "id": "0e500e81",
   "metadata": {},
   "outputs": [
    {
     "data": {
      "text/plain": [
       "['Never', 'Alone', 'You', 'Will', 'Walk']"
      ]
     },
     "execution_count": 5,
     "metadata": {},
     "output_type": "execute_result"
    }
   ],
   "source": [
    "# Random shuffling a list\n",
    "from random import shuffle\n",
    "newls = [\"You\", \"Will\", \"Never\", \"Walk\", \"Alone\"]\n",
    "shuffle(newls)\n",
    "newls"
   ]
  },
  {
   "cell_type": "code",
   "execution_count": 6,
   "id": "e94f5e34",
   "metadata": {},
   "outputs": [
    {
     "data": {
      "text/plain": [
       "[1, 2, 3, 4, 5, 1, 2, 3, 4, 5]"
      ]
     },
     "execution_count": 6,
     "metadata": {},
     "output_type": "execute_result"
    }
   ],
   "source": [
    "#tricky multiplication\n",
    "l1 = [1,2,3,4,5]\n",
    "l1*2"
   ]
  },
  {
   "cell_type": "markdown",
   "id": "dfd97c30",
   "metadata": {},
   "source": [
    "# TUPLE\n",
    "1. A tuple is a collection of objects which- is ordered and immutable. Tuples are sequences, just like lists. \n",
    "2. The differences between tuples and lists are, the tuples cannot be changed unlike lists and tuples use parentheses, whereas lists use square brackets."
   ]
  },
  {
   "cell_type": "code",
   "execution_count": 5,
   "id": "3e057001",
   "metadata": {},
   "outputs": [],
   "source": [
    "#Tuple can have multiple data types \n",
    "tup = (2,2.3,\"India\")"
   ]
  },
  {
   "cell_type": "code",
   "execution_count": 6,
   "id": "6c9cc1b7",
   "metadata": {},
   "outputs": [
    {
     "name": "stdout",
     "output_type": "stream",
     "text": [
      "2\n",
      "2.3\n",
      "India\n"
     ]
    }
   ],
   "source": [
    "#Tuple can be iterated\n",
    "for i in tup:\n",
    "    print(i)"
   ]
  },
  {
   "cell_type": "code",
   "execution_count": 7,
   "id": "272ad400",
   "metadata": {},
   "outputs": [
    {
     "data": {
      "text/plain": [
       "3"
      ]
     },
     "execution_count": 7,
     "metadata": {},
     "output_type": "execute_result"
    }
   ],
   "source": [
    "len(tup)"
   ]
  },
  {
   "cell_type": "code",
   "execution_count": 8,
   "id": "0ce34154",
   "metadata": {},
   "outputs": [
    {
     "data": {
      "text/plain": [
       "2.3"
      ]
     },
     "execution_count": 8,
     "metadata": {},
     "output_type": "execute_result"
    }
   ],
   "source": [
    "#can be accessed by index\n",
    "tup[1]"
   ]
  },
  {
   "cell_type": "code",
   "execution_count": 10,
   "id": "d026a9fd",
   "metadata": {},
   "outputs": [
    {
     "name": "stdout",
     "output_type": "stream",
     "text": [
      "(2, 2.3, 'India', 1, 2, 3)\n"
     ]
    },
    {
     "data": {
      "text/plain": [
       "(2, 2.3, 'India', 2, 2.3, 'India')"
      ]
     },
     "execution_count": 10,
     "metadata": {},
     "output_type": "execute_result"
    }
   ],
   "source": [
    "\n",
    "print(tup + (1,2,3))\n",
    "tup*2"
   ]
  },
  {
   "cell_type": "code",
   "execution_count": 23,
   "id": "54cf404d",
   "metadata": {},
   "outputs": [
    {
     "name": "stdout",
     "output_type": "stream",
     "text": [
      "124   Type: <class 'int'>\n",
      "(124,)   Type: <class 'tuple'>\n",
      "<class 'tuple'>\n"
     ]
    }
   ],
   "source": [
    "#atleast two elements should be there to be tuple\n",
    "notup = (124)\n",
    "print(notup, \"  Type:\" ,type(notup))\n",
    "#to consider one element as a tuple we will have to add a trailing comma\n",
    "ystup = (124,)\n",
    "print(ystup, \"  Type:\",type(ystup))\n",
    "\n",
    "#defining empty tuple\n",
    "emptup = ()\n",
    "print(type(emptup))"
   ]
  },
  {
   "cell_type": "code",
   "execution_count": 27,
   "id": "a9707330",
   "metadata": {},
   "outputs": [
    {
     "name": "stdout",
     "output_type": "stream",
     "text": [
      "1\n",
      "55\n"
     ]
    }
   ],
   "source": [
    "#Finding min and max in a tuple\n",
    "tup = (1,3,5,55,6,3,4)\n",
    "print(min(tup))\n",
    "print(max(tup))"
   ]
  },
  {
   "cell_type": "code",
   "execution_count": 29,
   "id": "8162f2dd",
   "metadata": {},
   "outputs": [
    {
     "data": {
      "text/plain": [
       "1"
      ]
     },
     "execution_count": 29,
     "metadata": {},
     "output_type": "execute_result"
    }
   ],
   "source": [
    "#tuple unpacking\n",
    "minval,maxval = min(tup),max(tup)\n",
    "minval"
   ]
  },
  {
   "cell_type": "code",
   "execution_count": 32,
   "id": "c510f17a",
   "metadata": {},
   "outputs": [
    {
     "data": {
      "text/plain": [
       "1"
      ]
     },
     "execution_count": 32,
     "metadata": {},
     "output_type": "execute_result"
    }
   ],
   "source": [
    "(a,(b,(c,d))) = (1,(2,(3,4)))\n",
    "a"
   ]
  },
  {
   "cell_type": "code",
   "execution_count": 35,
   "id": "00b419dd",
   "metadata": {},
   "outputs": [
    {
     "name": "stdout",
     "output_type": "stream",
     "text": [
      "banana\n",
      "apple\n"
     ]
    }
   ],
   "source": [
    "#Swapping values\n",
    "a = \"apple\"\n",
    "b = \"banana\"\n",
    "a,b = b,a\n",
    "print(a)\n",
    "print(b)"
   ]
  },
  {
   "cell_type": "code",
   "execution_count": 40,
   "id": "ecd99c78",
   "metadata": {},
   "outputs": [
    {
     "name": "stdout",
     "output_type": "stream",
     "text": [
      "(12233,)\n",
      "(22, 3, 4, 64, 3, 45)\n",
      "('a', 'p', 'p', 'p', 'l', 'e')\n"
     ]
    }
   ],
   "source": [
    "print(tuple([12233]))\n",
    "print(tuple([22,3,4,64,3,45]))\n",
    "print(tuple(\"appple\"))"
   ]
  },
  {
   "cell_type": "code",
   "execution_count": 47,
   "id": "be3661bd",
   "metadata": {},
   "outputs": [
    {
     "name": "stdout",
     "output_type": "stream",
     "text": [
      "True\n",
      "False\n",
      "True\n",
      "True\n"
     ]
    }
   ],
   "source": [
    "#testing containment of a value by \"in\" operator. works for both int and str\n",
    "print(3 in tup)\n",
    "print(4 not in tup)\n",
    "print(\"l\" in tuple(\"tuple\"))\n",
    "print(\"n\" not in tuple(\"tuple\"))\n"
   ]
  },
  {
   "cell_type": "code",
   "execution_count": null,
   "id": "eb6bb17c",
   "metadata": {},
   "outputs": [],
   "source": []
  },
  {
   "cell_type": "markdown",
   "id": "23faf3d4",
   "metadata": {},
   "source": [
    "## Lambda Function"
   ]
  },
  {
   "cell_type": "code",
   "execution_count": 74,
   "id": "1344c697",
   "metadata": {},
   "outputs": [
    {
     "data": {
      "text/plain": [
       "100"
      ]
     },
     "execution_count": 74,
     "metadata": {},
     "output_type": "execute_result"
    }
   ],
   "source": [
    "#using lambda instead of a function\n",
    "multiplier = lambda x,y: x*y\n",
    "multiplier(10,10)"
   ]
  },
  {
   "cell_type": "code",
   "execution_count": 101,
   "id": "ab452d15",
   "metadata": {},
   "outputs": [
    {
     "data": {
      "text/plain": [
       "50"
      ]
     },
     "execution_count": 101,
     "metadata": {},
     "output_type": "execute_result"
    }
   ],
   "source": [
    "#finding sum with lambda function from a list\n",
    "su = lambda x: sum(x)\n",
    "su(ls)"
   ]
  },
  {
   "cell_type": "code",
   "execution_count": 232,
   "id": "edc690a5",
   "metadata": {},
   "outputs": [
    {
     "name": "stdout",
     "output_type": "stream",
     "text": [
      "1 2 3 4\n"
     ]
    }
   ],
   "source": [
    "# converting list elements to string using lambda function\n",
    "l = [1,2,3,4]\n",
    "new2 = \"\"\n",
    "f = lambda x :   str(x) \n",
    "print(*map(f,l))"
   ]
  },
  {
   "cell_type": "code",
   "execution_count": 107,
   "id": "7d871523",
   "metadata": {},
   "outputs": [
    {
     "data": {
      "text/plain": [
       "array([[2, 3, 5, 3, 4],\n",
       "       [2, 3, 5, 3, 4],\n",
       "       [2, 3, 5, 3, 4]])"
      ]
     },
     "execution_count": 107,
     "metadata": {},
     "output_type": "execute_result"
    }
   ],
   "source": [
    "#stacking multiple lists for a 2D array\n",
    "arr1 = np.array([2,3,5,3,4])\n",
    "np.vstack((arr1,arr1,arr1))"
   ]
  },
  {
   "cell_type": "code",
   "execution_count": 110,
   "id": "a496ece5",
   "metadata": {},
   "outputs": [
    {
     "data": {
      "text/plain": [
       "0.0"
      ]
     },
     "execution_count": 110,
     "metadata": {},
     "output_type": "execute_result"
    }
   ],
   "source": [
    "df['cars'].isnull().mean()*100"
   ]
  },
  {
   "cell_type": "markdown",
   "id": "4204829c",
   "metadata": {},
   "source": [
    "Explain file processing modes python supports\n",
    "\n",
    "    1) Read only\n",
    "    2) write only\n",
    "    3) read- write\n",
    "    4) append"
   ]
  },
  {
   "cell_type": "code",
   "execution_count": 66,
   "id": "826ce2b6",
   "metadata": {},
   "outputs": [],
   "source": [
    "# Deleting a file from python from its local directory\n",
    "import os\n",
    "#os.remove(filename)\n",
    "#os.unlink(filename)"
   ]
  },
  {
   "cell_type": "markdown",
   "id": "ed628a69",
   "metadata": {},
   "source": [
    "# SETS"
   ]
  },
  {
   "cell_type": "code",
   "execution_count": 217,
   "id": "a4e974a2",
   "metadata": {},
   "outputs": [
    {
     "name": "stdout",
     "output_type": "stream",
     "text": [
      "{1, 3, 4, 6}\n"
     ]
    },
    {
     "data": {
      "text/plain": [
       "set"
      ]
     },
     "execution_count": 217,
     "metadata": {},
     "output_type": "execute_result"
    }
   ],
   "source": [
    "#Set is unordered collection of unique elements.\n",
    "# They are mutable ie elements can be added and removed\n",
    "# elements will be unique values\n",
    "p = {1,3,4,6,3}\n",
    "print(p)\n",
    "type(p)"
   ]
  },
  {
   "cell_type": "code",
   "execution_count": 218,
   "id": "998fba45",
   "metadata": {},
   "outputs": [
    {
     "data": {
      "text/plain": [
       "set()"
      ]
     },
     "execution_count": 218,
     "metadata": {},
     "output_type": "execute_result"
    }
   ],
   "source": [
    "#empty set can be created as follows\n",
    "q = set()\n",
    "q"
   ]
  },
  {
   "cell_type": "code",
   "execution_count": 220,
   "id": "3f52e6a2",
   "metadata": {},
   "outputs": [
    {
     "data": {
      "text/plain": [
       "{1, 2, 3, 34, 45}"
      ]
     },
     "execution_count": 220,
     "metadata": {},
     "output_type": "execute_result"
    }
   ],
   "source": [
    "# set can be created from list\n",
    "#Duplicates are removed \n",
    "s = set([1,2,3,45,2,34,1,1])\n",
    "s"
   ]
  },
  {
   "cell_type": "code",
   "execution_count": 223,
   "id": "8cee9aa3",
   "metadata": {},
   "outputs": [
    {
     "name": "stdout",
     "output_type": "stream",
     "text": [
      "1\n",
      "2\n",
      "3\n",
      "34\n",
      "45\n"
     ]
    }
   ],
   "source": [
    "#Set are iterable\n",
    "for i in s:\n",
    "    print(i)"
   ]
  },
  {
   "cell_type": "code",
   "execution_count": 2,
   "id": "fd4ace79",
   "metadata": {},
   "outputs": [
    {
     "name": "stdout",
     "output_type": "stream",
     "text": [
      "False\n",
      "False\n"
     ]
    }
   ],
   "source": [
    "# checking for a value with \"in\" and \"not in\" operators\n",
    "print(5 in {1,2,3,4})\n",
    "print(3 not in {1,2,3,4})"
   ]
  },
  {
   "cell_type": "code",
   "execution_count": 7,
   "id": "c6ba0054",
   "metadata": {},
   "outputs": [
    {
     "data": {
      "text/plain": [
       "{1, 2, 3, 4, 5, 6}"
      ]
     },
     "execution_count": 7,
     "metadata": {},
     "output_type": "execute_result"
    }
   ],
   "source": [
    "# Adding an element to the set\n",
    "s={1,2,3,4,5}\n",
    "s.add(6)\n",
    "s"
   ]
  },
  {
   "cell_type": "code",
   "execution_count": 9,
   "id": "05601015",
   "metadata": {},
   "outputs": [
    {
     "data": {
      "text/plain": [
       "{1, 2, 3, 4, 5, 6, 7, 8, 9}"
      ]
     },
     "execution_count": 9,
     "metadata": {},
     "output_type": "execute_result"
    }
   ],
   "source": [
    "#Multiple elements can be added in a go using list\n",
    "s.update([7,8,9])\n",
    "s"
   ]
  },
  {
   "cell_type": "code",
   "execution_count": 12,
   "id": "507ab514",
   "metadata": {},
   "outputs": [
    {
     "name": "stdout",
     "output_type": "stream",
     "text": [
      "{1, 2, 4, 7, 8, 9}\n",
      "{1, 2, 4, 7, 8, 9}\n"
     ]
    }
   ],
   "source": [
    "# Two methods to remove elements from a set\n",
    "# 1) using \"remove\", here if removing value/elemnent is not present error will occur\n",
    "s.remove(3)\n",
    "print(s)\n",
    "#2) using \"discard\", if if element not present no error occurs\n",
    "s.discard(3)\n",
    "print(s)"
   ]
  },
  {
   "cell_type": "code",
   "execution_count": 14,
   "id": "eb2768a1",
   "metadata": {},
   "outputs": [
    {
     "data": {
      "text/plain": [
       "({1, 2, 4, 7, 8, 9}, {1, 2, 4, 7, 8, 9})"
      ]
     },
     "execution_count": 14,
     "metadata": {},
     "output_type": "execute_result"
    }
   ],
   "source": [
    "#shalow copying an set\n",
    "t = s.copy()\n",
    "t = set(s)\n",
    "t,s"
   ]
  },
  {
   "cell_type": "code",
   "execution_count": 22,
   "id": "024b59f5",
   "metadata": {},
   "outputs": [
    {
     "name": "stdout",
     "output_type": "stream",
     "text": [
      "union: {1, 2, 3, 4, 5, 6, 7, 8, 9}\n",
      "intersection: {5, 6}\n",
      "difference: {1, 2, 3, 4}\n",
      "symmetric difference: {1, 2, 3, 4, 7, 8, 9}\n",
      "checking if one set is subset of another: False\n",
      "Checking if superset: False\n"
     ]
    }
   ],
   "source": [
    "# Common attributes and functions for which we use sets\n",
    "s = {1,2,3,4,5,6}\n",
    "p = {5,6,7,8,9}\n",
    "print(f\"union: {s.union(p)}\")\n",
    "print(f\"intersection: {s.intersection(p)}\")\n",
    "print(f\"difference: {s.difference(p)}\") # here difference for both sets will be different\n",
    "print(f\"symmetric difference: {s.symmetric_difference(p)}\") #collects objects which is in one set and not in other from both set\n",
    "print(f\"checking if one set is subset of another: {s.issubset(p)}\")\n",
    "print(f\"Checking if superset: {s.issuperset(p)}\")\n"
   ]
  },
  {
   "cell_type": "code",
   "execution_count": null,
   "id": "b2d27738",
   "metadata": {},
   "outputs": [],
   "source": []
  },
  {
   "cell_type": "code",
   "execution_count": null,
   "id": "c89e8f8f",
   "metadata": {},
   "outputs": [],
   "source": []
  },
  {
   "cell_type": "code",
   "execution_count": null,
   "id": "ab4b04e2",
   "metadata": {},
   "outputs": [],
   "source": []
  },
  {
   "cell_type": "code",
   "execution_count": null,
   "id": "a55e5242",
   "metadata": {},
   "outputs": [],
   "source": []
  },
  {
   "cell_type": "code",
   "execution_count": 84,
   "id": "a0530578",
   "metadata": {},
   "outputs": [
    {
     "data": {
      "text/plain": [
       "{1, 4, 5}"
      ]
     },
     "execution_count": 84,
     "metadata": {},
     "output_type": "execute_result"
    }
   ],
   "source": [
    "# finding common elements from two set\n",
    "set1 = {1,2,3,4,5}\n",
    "set2 = {1,6,5,4}\n",
    "set1.intersection(set2)"
   ]
  },
  {
   "cell_type": "code",
   "execution_count": 90,
   "id": "492e0a44",
   "metadata": {},
   "outputs": [
    {
     "data": {
      "text/plain": [
       "{2, 3}"
      ]
     },
     "execution_count": 90,
     "metadata": {},
     "output_type": "execute_result"
    }
   ],
   "source": [
    "# different elements from set1\n",
    "set1-set2"
   ]
  },
  {
   "cell_type": "code",
   "execution_count": 115,
   "id": "68b09e1f",
   "metadata": {},
   "outputs": [
    {
     "data": {
      "text/plain": [
       "{2, 2.4, 'a'}"
      ]
     },
     "execution_count": 115,
     "metadata": {},
     "output_type": "execute_result"
    }
   ],
   "source": [
    "#Set elements can be string integer or float without any order to it.\n",
    "#only unique elements will be in a set\n",
    "\n",
    "set([\"a\", 2,2.4])"
   ]
  },
  {
   "cell_type": "code",
   "execution_count": 117,
   "id": "904af852",
   "metadata": {},
   "outputs": [
    {
     "data": {
      "text/plain": [
       "9"
      ]
     },
     "execution_count": 117,
     "metadata": {},
     "output_type": "execute_result"
    }
   ],
   "source": [
    "# How many unique charecters are there in a string\n",
    "a = \"i am a legend\"\n",
    "len(set(a))"
   ]
  },
  {
   "cell_type": "code",
   "execution_count": 121,
   "id": "9c83372a",
   "metadata": {},
   "outputs": [
    {
     "name": "stdout",
     "output_type": "stream",
     "text": [
      "{1, 3, 4, 5, 6}\n"
     ]
    },
    {
     "data": {
      "text/plain": [
       "5"
      ]
     },
     "execution_count": 121,
     "metadata": {},
     "output_type": "execute_result"
    }
   ],
   "source": [
    "#unique numbers in a list\n",
    "ls = [1,4,3,3,4,5,6,3,4]\n",
    "print(set(ls))\n",
    "len(set(ls))"
   ]
  },
  {
   "cell_type": "code",
   "execution_count": null,
   "id": "73e2b39d",
   "metadata": {},
   "outputs": [],
   "source": []
  },
  {
   "cell_type": "code",
   "execution_count": null,
   "id": "a1605d3f",
   "metadata": {},
   "outputs": [],
   "source": []
  },
  {
   "cell_type": "markdown",
   "id": "1ecff950",
   "metadata": {},
   "source": [
    "### Iterable\n",
    "1) Yields item one by one as they are requested.\n",
    "2) They can be used in for loops"
   ]
  },
  {
   "cell_type": "code",
   "execution_count": null,
   "id": "bdb22493",
   "metadata": {},
   "outputs": [],
   "source": []
  },
  {
   "cell_type": "code",
   "execution_count": null,
   "id": "149bc086",
   "metadata": {},
   "outputs": [],
   "source": []
  },
  {
   "cell_type": "markdown",
   "id": "6cf2ed81",
   "metadata": {},
   "source": [
    "# Exception Handling\n",
    "\n",
    "Mechanism for inturepting normal program flow and continuing in surrounding context\n",
    "\n",
    "Key Concepts\n",
    "1. Raising an exception\n",
    "2. Handling an exception\n",
    "3. Unhandling exception\n",
    "4. Exception objects\n",
    "\n",
    "Common types of Errors\n",
    "1. Value Error\n",
    "2. Key error\n",
    "3. Type Error\n",
    "4. Attribute Error\n",
    "\n",
    "Program error are not captured by exception. like Syntax error, intendation error etc.. "
   ]
  },
  {
   "cell_type": "code",
   "execution_count": 42,
   "id": "a9c7495b",
   "metadata": {},
   "outputs": [],
   "source": [
    "DIGIT_MAP = {\n",
    "    \"zero\":'0',\n",
    "    \"one\":'1',\n",
    "    \"two\":'2',\n",
    "    \"three\":'3',\n",
    "    \"four\":'4',\n",
    "    \"five\":'5',\n",
    "    \"six\":'6',\n",
    "    \"seven\":'7',\n",
    "    \"eight\":'8',\n",
    "    \"nine\":'9'\n",
    "}"
   ]
  },
  {
   "cell_type": "code",
   "execution_count": 84,
   "id": "31c9f967",
   "metadata": {},
   "outputs": [],
   "source": [
    "#Below function is to showcase how a typical try except block works\n",
    "# Here only KeyError is captured, if we put int value instead of str which will show AttributeError is solved after this example\n",
    "def converter(s):\n",
    "    try:\n",
    "        number = ''\n",
    "        for token in s.split():\n",
    "            print(token)\n",
    "            number += DIGIT_MAP[token]\n",
    "        x = int(number)\n",
    "        print(f\"convertion succeded: x = {x}\")\n",
    "        \n",
    "    except KeyError:\n",
    "        print(\"Convertion failed\")\n",
    "        x = -1\n",
    "    return x\n",
    "        "
   ]
  },
  {
   "cell_type": "code",
   "execution_count": 87,
   "id": "995a1523",
   "metadata": {},
   "outputs": [
    {
     "name": "stdout",
     "output_type": "stream",
     "text": [
      "two\n",
      "one\n",
      "convertion succeded: x = 21\n"
     ]
    },
    {
     "data": {
      "text/plain": [
       "21"
      ]
     },
     "execution_count": 87,
     "metadata": {},
     "output_type": "execute_result"
    }
   ],
   "source": [
    "converter(\"two one\")"
   ]
  },
  {
   "cell_type": "code",
   "execution_count": 49,
   "id": "49f003d5",
   "metadata": {},
   "outputs": [
    {
     "ename": "AttributeError",
     "evalue": "'int' object has no attribute 'split'",
     "output_type": "error",
     "traceback": [
      "\u001b[1;31m---------------------------------------------------------------------------\u001b[0m",
      "\u001b[1;31mAttributeError\u001b[0m                            Traceback (most recent call last)",
      "\u001b[1;32m~\\AppData\\Local\\Temp\\ipykernel_12632\\1246109677.py\u001b[0m in \u001b[0;36m<module>\u001b[1;34m\u001b[0m\n\u001b[1;32m----> 1\u001b[1;33m \u001b[0mconverter\u001b[0m\u001b[1;33m(\u001b[0m\u001b[1;36m34\u001b[0m\u001b[1;33m)\u001b[0m\u001b[1;33m\u001b[0m\u001b[1;33m\u001b[0m\u001b[0m\n\u001b[0m",
      "\u001b[1;32m~\\AppData\\Local\\Temp\\ipykernel_12632\\929191550.py\u001b[0m in \u001b[0;36mconverter\u001b[1;34m(s)\u001b[0m\n\u001b[0;32m      4\u001b[0m     \u001b[1;32mtry\u001b[0m\u001b[1;33m:\u001b[0m\u001b[1;33m\u001b[0m\u001b[1;33m\u001b[0m\u001b[0m\n\u001b[0;32m      5\u001b[0m         \u001b[0mnumber\u001b[0m \u001b[1;33m=\u001b[0m \u001b[1;34m''\u001b[0m\u001b[1;33m\u001b[0m\u001b[1;33m\u001b[0m\u001b[0m\n\u001b[1;32m----> 6\u001b[1;33m         \u001b[1;32mfor\u001b[0m \u001b[0mtoken\u001b[0m \u001b[1;32min\u001b[0m \u001b[0ms\u001b[0m\u001b[1;33m.\u001b[0m\u001b[0msplit\u001b[0m\u001b[1;33m(\u001b[0m\u001b[1;33m)\u001b[0m\u001b[1;33m:\u001b[0m\u001b[1;33m\u001b[0m\u001b[1;33m\u001b[0m\u001b[0m\n\u001b[0m\u001b[0;32m      7\u001b[0m             \u001b[0mprint\u001b[0m\u001b[1;33m(\u001b[0m\u001b[0mtoken\u001b[0m\u001b[1;33m)\u001b[0m\u001b[1;33m\u001b[0m\u001b[1;33m\u001b[0m\u001b[0m\n\u001b[0;32m      8\u001b[0m             \u001b[0mnumber\u001b[0m \u001b[1;33m+=\u001b[0m \u001b[0mDIGIT_MAP\u001b[0m\u001b[1;33m[\u001b[0m\u001b[0mtoken\u001b[0m\u001b[1;33m]\u001b[0m\u001b[1;33m\u001b[0m\u001b[1;33m\u001b[0m\u001b[0m\n",
      "\u001b[1;31mAttributeError\u001b[0m: 'int' object has no attribute 'split'"
     ]
    }
   ],
   "source": [
    "# this to show AttributeError\n",
    "converter(34)"
   ]
  },
  {
   "cell_type": "code",
   "execution_count": 52,
   "id": "47efc323",
   "metadata": {},
   "outputs": [],
   "source": [
    "# Here AttributeError is handled, but this is a primitive method. normal after this example\n",
    "def converter(s):\n",
    "    try:\n",
    "        number = ''\n",
    "        for token in s.split():\n",
    "            print(token)\n",
    "            number += DIGIT_MAP[token]\n",
    "        x = int(number)\n",
    "        print(f\"convertion succeded: x = {x}\")\n",
    "        \n",
    "    except KeyError:\n",
    "        print(\"Convertion failed\")\n",
    "        x = -1\n",
    "    except AttributeError:\n",
    "        print(\"Convertion failed\")\n",
    "        x = -1        \n",
    "        \n",
    "    return x"
   ]
  },
  {
   "cell_type": "code",
   "execution_count": 53,
   "id": "96604151",
   "metadata": {},
   "outputs": [
    {
     "name": "stdout",
     "output_type": "stream",
     "text": [
      "Convertion failed\n"
     ]
    },
    {
     "data": {
      "text/plain": [
       "-1"
      ]
     },
     "execution_count": 53,
     "metadata": {},
     "output_type": "execute_result"
    }
   ],
   "source": [
    "converter(34)"
   ]
  },
  {
   "cell_type": "code",
   "execution_count": 54,
   "id": "d026ba49",
   "metadata": {},
   "outputs": [],
   "source": [
    "def converter(s):\n",
    "    x = -1\n",
    "    try:\n",
    "        number = ''\n",
    "        for token in s.split():\n",
    "            print(token)\n",
    "            number += DIGIT_MAP[token]\n",
    "        x = int(number)\n",
    "        print(f\"convertion succeded: x = {x}\")\n",
    "        \n",
    "    except (KeyError, AttributeError) :\n",
    "        print(\"Convertion failed\")\n",
    "      \n",
    "        \n",
    "    return x"
   ]
  },
  {
   "cell_type": "code",
   "execution_count": 55,
   "id": "215ca435",
   "metadata": {},
   "outputs": [
    {
     "name": "stdout",
     "output_type": "stream",
     "text": [
      "Convertion failed\n"
     ]
    },
    {
     "data": {
      "text/plain": [
       "-1"
      ]
     },
     "execution_count": 55,
     "metadata": {},
     "output_type": "execute_result"
    }
   ],
   "source": [
    "converter(34)"
   ]
  },
  {
   "cell_type": "markdown",
   "id": "97d2b768",
   "metadata": {},
   "source": [
    "#### pass\n",
    "Pass is a special keyword which presicely does nothing ie NO OP\n",
    "1. main function is to create syntactically permisible block that are symantically empty"
   ]
  },
  {
   "cell_type": "code",
   "execution_count": null,
   "id": "4a99a2dd",
   "metadata": {},
   "outputs": [],
   "source": [
    "# Using \"PASS\" keyword in a \"except\" block\n",
    "# \n",
    "def converter(s):\n",
    "    x = -1\n",
    "    try:\n",
    "        number = ''\n",
    "        for token in s.split():\n",
    "            print(token)\n",
    "            number += DIGIT_MAP[token]\n",
    "        x = int(number)\n",
    "        print(f\"convertion succeded: x = {x}\")\n",
    "        \n",
    "    except (KeyError, AttributeError) :\n",
    "        pass\n",
    "      \n",
    "        \n",
    "    return x"
   ]
  },
  {
   "cell_type": "code",
   "execution_count": 70,
   "id": "33d87ad4",
   "metadata": {},
   "outputs": [],
   "source": [
    "# Accessing exception object ie saving/printing for interogating more details\n",
    "import sys\n",
    "def converter(s):\n",
    "\n",
    "    try:\n",
    "        number = ''\n",
    "        for token in s.split():\n",
    "            print(token)\n",
    "            number += DIGIT_MAP[token]\n",
    "        return int(number)\n",
    "        print(f\"convertion succeded: x = {x}\")\n",
    "        \n",
    "    except (KeyError, AttributeError) as e :\n",
    "        print(f\"Conversion error: {e!r}\",file = sys.stderr)\n",
    "        \n",
    "        return -1"
   ]
  },
  {
   "cell_type": "code",
   "execution_count": 71,
   "id": "626dca26",
   "metadata": {},
   "outputs": [
    {
     "name": "stderr",
     "output_type": "stream",
     "text": [
      "Conversion error: AttributeError(\"'int' object has no attribute 'split'\")\n"
     ]
    },
    {
     "data": {
      "text/plain": [
       "-1"
      ]
     },
     "execution_count": 71,
     "metadata": {},
     "output_type": "execute_result"
    }
   ],
   "source": [
    "converter(12)"
   ]
  },
  {
   "cell_type": "code",
   "execution_count": 72,
   "id": "85ecffbe",
   "metadata": {},
   "outputs": [],
   "source": [
    "# Raising an error on the exception block. here we are calling this function inside a different function\n",
    "# \"Raise\" re raises the exeption currently handled \n",
    "import sys\n",
    "def converter(s):\n",
    "\n",
    "    try:\n",
    "        number = ''\n",
    "        for token in s.split():\n",
    "            print(token)\n",
    "            number += DIGIT_MAP[token]\n",
    "        return int(number)\n",
    "        print(f\"convertion succeded: x = {x}\")\n",
    "        \n",
    "    except (KeyError, AttributeError) as e :\n",
    "        print(f\"Conversion error: {e!r}\",file = sys.stderr)\n",
    "        \n",
    "        raise"
   ]
  },
  {
   "cell_type": "code",
   "execution_count": 74,
   "id": "9e0a9db4",
   "metadata": {},
   "outputs": [],
   "source": [
    "# If we are not raising a exception on the above block we wont be able to catch the proper error in later codes\n",
    "from math import log\n",
    "def string_log(s):\n",
    "    v= converter(s)\n",
    "    return log(v)"
   ]
  },
  {
   "cell_type": "code",
   "execution_count": 75,
   "id": "71ad71d1",
   "metadata": {},
   "outputs": [
    {
     "name": "stdout",
     "output_type": "stream",
     "text": [
      "one\n",
      "two\n"
     ]
    },
    {
     "data": {
      "text/plain": [
       "2.4849066497880004"
      ]
     },
     "execution_count": 75,
     "metadata": {},
     "output_type": "execute_result"
    }
   ],
   "source": [
    "string_log(\"one two\")"
   ]
  },
  {
   "cell_type": "code",
   "execution_count": 76,
   "id": "77476aee",
   "metadata": {},
   "outputs": [
    {
     "name": "stderr",
     "output_type": "stream",
     "text": [
      "Conversion error: AttributeError(\"'int' object has no attribute 'split'\")\n"
     ]
    },
    {
     "ename": "AttributeError",
     "evalue": "'int' object has no attribute 'split'",
     "output_type": "error",
     "traceback": [
      "\u001b[1;31m---------------------------------------------------------------------------\u001b[0m",
      "\u001b[1;31mAttributeError\u001b[0m                            Traceback (most recent call last)",
      "\u001b[1;32m~\\AppData\\Local\\Temp\\ipykernel_12632\\1994375821.py\u001b[0m in \u001b[0;36m<module>\u001b[1;34m\u001b[0m\n\u001b[1;32m----> 1\u001b[1;33m \u001b[0mstring_log\u001b[0m\u001b[1;33m(\u001b[0m\u001b[1;36m12\u001b[0m\u001b[1;33m)\u001b[0m\u001b[1;33m\u001b[0m\u001b[1;33m\u001b[0m\u001b[0m\n\u001b[0m",
      "\u001b[1;32m~\\AppData\\Local\\Temp\\ipykernel_12632\\2204439145.py\u001b[0m in \u001b[0;36mstring_log\u001b[1;34m(s)\u001b[0m\n\u001b[0;32m      2\u001b[0m \u001b[1;32mfrom\u001b[0m \u001b[0mmath\u001b[0m \u001b[1;32mimport\u001b[0m \u001b[0mlog\u001b[0m\u001b[1;33m\u001b[0m\u001b[1;33m\u001b[0m\u001b[0m\n\u001b[0;32m      3\u001b[0m \u001b[1;32mdef\u001b[0m \u001b[0mstring_log\u001b[0m\u001b[1;33m(\u001b[0m\u001b[0ms\u001b[0m\u001b[1;33m)\u001b[0m\u001b[1;33m:\u001b[0m\u001b[1;33m\u001b[0m\u001b[1;33m\u001b[0m\u001b[0m\n\u001b[1;32m----> 4\u001b[1;33m     \u001b[0mv\u001b[0m\u001b[1;33m=\u001b[0m \u001b[0mconverter\u001b[0m\u001b[1;33m(\u001b[0m\u001b[0ms\u001b[0m\u001b[1;33m)\u001b[0m\u001b[1;33m\u001b[0m\u001b[1;33m\u001b[0m\u001b[0m\n\u001b[0m\u001b[0;32m      5\u001b[0m     \u001b[1;32mreturn\u001b[0m \u001b[0mlog\u001b[0m\u001b[1;33m(\u001b[0m\u001b[0mv\u001b[0m\u001b[1;33m)\u001b[0m\u001b[1;33m\u001b[0m\u001b[1;33m\u001b[0m\u001b[0m\n",
      "\u001b[1;32m~\\AppData\\Local\\Temp\\ipykernel_12632\\2480340754.py\u001b[0m in \u001b[0;36mconverter\u001b[1;34m(s)\u001b[0m\n\u001b[0;32m      5\u001b[0m     \u001b[1;32mtry\u001b[0m\u001b[1;33m:\u001b[0m\u001b[1;33m\u001b[0m\u001b[1;33m\u001b[0m\u001b[0m\n\u001b[0;32m      6\u001b[0m         \u001b[0mnumber\u001b[0m \u001b[1;33m=\u001b[0m \u001b[1;34m''\u001b[0m\u001b[1;33m\u001b[0m\u001b[1;33m\u001b[0m\u001b[0m\n\u001b[1;32m----> 7\u001b[1;33m         \u001b[1;32mfor\u001b[0m \u001b[0mtoken\u001b[0m \u001b[1;32min\u001b[0m \u001b[0ms\u001b[0m\u001b[1;33m.\u001b[0m\u001b[0msplit\u001b[0m\u001b[1;33m(\u001b[0m\u001b[1;33m)\u001b[0m\u001b[1;33m:\u001b[0m\u001b[1;33m\u001b[0m\u001b[1;33m\u001b[0m\u001b[0m\n\u001b[0m\u001b[0;32m      8\u001b[0m             \u001b[0mprint\u001b[0m\u001b[1;33m(\u001b[0m\u001b[0mtoken\u001b[0m\u001b[1;33m)\u001b[0m\u001b[1;33m\u001b[0m\u001b[1;33m\u001b[0m\u001b[0m\n\u001b[0;32m      9\u001b[0m             \u001b[0mnumber\u001b[0m \u001b[1;33m+=\u001b[0m \u001b[0mDIGIT_MAP\u001b[0m\u001b[1;33m[\u001b[0m\u001b[0mtoken\u001b[0m\u001b[1;33m]\u001b[0m\u001b[1;33m\u001b[0m\u001b[1;33m\u001b[0m\u001b[0m\n",
      "\u001b[1;31mAttributeError\u001b[0m: 'int' object has no attribute 'split'"
     ]
    }
   ],
   "source": [
    "# Raise will raise an exception as below # shows attribute error\n",
    "string_log(12)"
   ]
  },
  {
   "cell_type": "code",
   "execution_count": 77,
   "id": "2072554e",
   "metadata": {},
   "outputs": [
    {
     "name": "stdout",
     "output_type": "stream",
     "text": [
      "dog\n"
     ]
    },
    {
     "name": "stderr",
     "output_type": "stream",
     "text": [
      "Conversion error: KeyError('dog')\n"
     ]
    },
    {
     "ename": "KeyError",
     "evalue": "'dog'",
     "output_type": "error",
     "traceback": [
      "\u001b[1;31m---------------------------------------------------------------------------\u001b[0m",
      "\u001b[1;31mKeyError\u001b[0m                                  Traceback (most recent call last)",
      "\u001b[1;32m~\\AppData\\Local\\Temp\\ipykernel_12632\\4045379402.py\u001b[0m in \u001b[0;36m<module>\u001b[1;34m\u001b[0m\n\u001b[1;32m----> 1\u001b[1;33m \u001b[0mstring_log\u001b[0m\u001b[1;33m(\u001b[0m\u001b[1;34m\"dog cat\"\u001b[0m\u001b[1;33m)\u001b[0m\u001b[1;33m\u001b[0m\u001b[1;33m\u001b[0m\u001b[0m\n\u001b[0m",
      "\u001b[1;32m~\\AppData\\Local\\Temp\\ipykernel_12632\\2204439145.py\u001b[0m in \u001b[0;36mstring_log\u001b[1;34m(s)\u001b[0m\n\u001b[0;32m      2\u001b[0m \u001b[1;32mfrom\u001b[0m \u001b[0mmath\u001b[0m \u001b[1;32mimport\u001b[0m \u001b[0mlog\u001b[0m\u001b[1;33m\u001b[0m\u001b[1;33m\u001b[0m\u001b[0m\n\u001b[0;32m      3\u001b[0m \u001b[1;32mdef\u001b[0m \u001b[0mstring_log\u001b[0m\u001b[1;33m(\u001b[0m\u001b[0ms\u001b[0m\u001b[1;33m)\u001b[0m\u001b[1;33m:\u001b[0m\u001b[1;33m\u001b[0m\u001b[1;33m\u001b[0m\u001b[0m\n\u001b[1;32m----> 4\u001b[1;33m     \u001b[0mv\u001b[0m\u001b[1;33m=\u001b[0m \u001b[0mconverter\u001b[0m\u001b[1;33m(\u001b[0m\u001b[0ms\u001b[0m\u001b[1;33m)\u001b[0m\u001b[1;33m\u001b[0m\u001b[1;33m\u001b[0m\u001b[0m\n\u001b[0m\u001b[0;32m      5\u001b[0m     \u001b[1;32mreturn\u001b[0m \u001b[0mlog\u001b[0m\u001b[1;33m(\u001b[0m\u001b[0mv\u001b[0m\u001b[1;33m)\u001b[0m\u001b[1;33m\u001b[0m\u001b[1;33m\u001b[0m\u001b[0m\n",
      "\u001b[1;32m~\\AppData\\Local\\Temp\\ipykernel_12632\\2480340754.py\u001b[0m in \u001b[0;36mconverter\u001b[1;34m(s)\u001b[0m\n\u001b[0;32m      7\u001b[0m         \u001b[1;32mfor\u001b[0m \u001b[0mtoken\u001b[0m \u001b[1;32min\u001b[0m \u001b[0ms\u001b[0m\u001b[1;33m.\u001b[0m\u001b[0msplit\u001b[0m\u001b[1;33m(\u001b[0m\u001b[1;33m)\u001b[0m\u001b[1;33m:\u001b[0m\u001b[1;33m\u001b[0m\u001b[1;33m\u001b[0m\u001b[0m\n\u001b[0;32m      8\u001b[0m             \u001b[0mprint\u001b[0m\u001b[1;33m(\u001b[0m\u001b[0mtoken\u001b[0m\u001b[1;33m)\u001b[0m\u001b[1;33m\u001b[0m\u001b[1;33m\u001b[0m\u001b[0m\n\u001b[1;32m----> 9\u001b[1;33m             \u001b[0mnumber\u001b[0m \u001b[1;33m+=\u001b[0m \u001b[0mDIGIT_MAP\u001b[0m\u001b[1;33m[\u001b[0m\u001b[0mtoken\u001b[0m\u001b[1;33m]\u001b[0m\u001b[1;33m\u001b[0m\u001b[1;33m\u001b[0m\u001b[0m\n\u001b[0m\u001b[0;32m     10\u001b[0m         \u001b[1;32mreturn\u001b[0m \u001b[0mint\u001b[0m\u001b[1;33m(\u001b[0m\u001b[0mnumber\u001b[0m\u001b[1;33m)\u001b[0m\u001b[1;33m\u001b[0m\u001b[1;33m\u001b[0m\u001b[0m\n\u001b[0;32m     11\u001b[0m         \u001b[0mprint\u001b[0m\u001b[1;33m(\u001b[0m\u001b[1;34mf\"convertion succeded: x = {x}\"\u001b[0m\u001b[1;33m)\u001b[0m\u001b[1;33m\u001b[0m\u001b[1;33m\u001b[0m\u001b[0m\n",
      "\u001b[1;31mKeyError\u001b[0m: 'dog'"
     ]
    }
   ],
   "source": [
    "# Shows the key error\n",
    "string_log(\"dog cat\")"
   ]
  },
  {
   "cell_type": "code",
   "execution_count": null,
   "id": "5459129a",
   "metadata": {},
   "outputs": [],
   "source": [
    "# \"try\" and \"finally\" block\n",
    "\n",
    "\"\"\"\n",
    "try:\n",
    "    try block\n",
    "    \n",
    "finally:\n",
    "    Executes no matter how try block terminates\n",
    "\"\"\""
   ]
  },
  {
   "cell_type": "code",
   "execution_count": 82,
   "id": "31c7e8e8",
   "metadata": {},
   "outputs": [],
   "source": [
    "# Example for try except and finally\n",
    "# Finally block will run in all circumstances\n",
    "import sys\n",
    "def converter(s):\n",
    "\n",
    "    try:\n",
    "        number = ''\n",
    "        for token in s.split():\n",
    "            print(token)\n",
    "            number += DIGIT_MAP[token]\n",
    "            \n",
    "        return int(number)\n",
    "        \n",
    "        \n",
    "    except (KeyError, AttributeError) as e :\n",
    "        print(f\"Conversion error: {e!r}\",file = sys.stderr)\n",
    "        \n",
    "        return -1\n",
    "    finally:\n",
    "        print(\"If conversion succeded you will see result as an integer\")"
   ]
  },
  {
   "cell_type": "code",
   "execution_count": 83,
   "id": "d6d25afa",
   "metadata": {},
   "outputs": [
    {
     "name": "stdout",
     "output_type": "stream",
     "text": [
      "one\n",
      "two\n",
      "three\n",
      "If conversion succeded you will see result as an integer\n"
     ]
    },
    {
     "data": {
      "text/plain": [
       "123"
      ]
     },
     "execution_count": 83,
     "metadata": {},
     "output_type": "execute_result"
    }
   ],
   "source": [
    "converter(\"one two three\")"
   ]
  },
  {
   "cell_type": "code",
   "execution_count": null,
   "id": "88497f96",
   "metadata": {},
   "outputs": [],
   "source": []
  },
  {
   "cell_type": "code",
   "execution_count": null,
   "id": "f42d29b5",
   "metadata": {},
   "outputs": [],
   "source": []
  },
  {
   "cell_type": "markdown",
   "id": "c3b95374",
   "metadata": {},
   "source": [
    "# Iteration and Iterables\n",
    "\n",
    "1. An object from which we can fetch a sequence of other objects is called Iterables. \n",
    "2. Active fectching sequence from a iterable is know as iteration  Eg.. next(),Iter(),for loop\n",
    "3. Iterables:- can be passed to iter() to produce an iterator such as list or other collection of objects\n",
    "4. Iterator:- Can be passed to next() function to get next value in the sequence."
   ]
  },
  {
   "cell_type": "code",
   "execution_count": 248,
   "id": "17f30a57",
   "metadata": {},
   "outputs": [
    {
     "data": {
      "text/plain": [
       "'Spring'"
      ]
     },
     "execution_count": 248,
     "metadata": {},
     "output_type": "execute_result"
    }
   ],
   "source": [
    "# Iteration Protocol\n",
    "\n",
    "#Exapmple of creating iterables and iterator\n",
    "iterable = [\"Spring\", \"Summer\", \"Autumn\", \"Winter\"]\n",
    "iterator = iter(iterable)\n",
    "next(iterator)"
   ]
  },
  {
   "cell_type": "code",
   "execution_count": 251,
   "id": "fa1e081c",
   "metadata": {},
   "outputs": [
    {
     "data": {
      "text/plain": [
       "'Winter'"
      ]
     },
     "execution_count": 251,
     "metadata": {},
     "output_type": "execute_result"
    }
   ],
   "source": [
    "next(iterator)\n"
   ]
  },
  {
   "cell_type": "code",
   "execution_count": 252,
   "id": "07d15143",
   "metadata": {},
   "outputs": [
    {
     "ename": "StopIteration",
     "evalue": "",
     "output_type": "error",
     "traceback": [
      "\u001b[1;31m---------------------------------------------------------------------------\u001b[0m",
      "\u001b[1;31mStopIteration\u001b[0m                             Traceback (most recent call last)",
      "\u001b[1;32m~\\AppData\\Local\\Temp\\ipykernel_12632\\2012869335.py\u001b[0m in \u001b[0;36m<module>\u001b[1;34m\u001b[0m\n\u001b[0;32m      1\u001b[0m \u001b[1;31m#When we raech end of iterables python raises an exception\u001b[0m\u001b[1;33m\u001b[0m\u001b[1;33m\u001b[0m\u001b[0m\n\u001b[1;32m----> 2\u001b[1;33m \u001b[0mnext\u001b[0m\u001b[1;33m(\u001b[0m\u001b[0miterator\u001b[0m\u001b[1;33m)\u001b[0m\u001b[1;33m\u001b[0m\u001b[1;33m\u001b[0m\u001b[0m\n\u001b[0m",
      "\u001b[1;31mStopIteration\u001b[0m: "
     ]
    }
   ],
   "source": [
    "#When we raech end of iterables python raises an StopIteration exception\n",
    "next(iterator)"
   ]
  },
  {
   "cell_type": "code",
   "execution_count": 2,
   "id": "6f13292e",
   "metadata": {},
   "outputs": [
    {
     "name": "stdout",
     "output_type": "stream",
     "text": [
      "1\n",
      "1\n"
     ]
    },
    {
     "ename": "ValueError",
     "evalue": "iterable is empty",
     "output_type": "error",
     "traceback": [
      "\u001b[1;31m---------------------------------------------------------------------------\u001b[0m",
      "\u001b[1;31mStopIteration\u001b[0m                             Traceback (most recent call last)",
      "\u001b[1;32m~\\AppData\\Local\\Temp\\ipykernel_8388\\141051418.py\u001b[0m in \u001b[0;36mfirst\u001b[1;34m(iterable)\u001b[0m\n\u001b[0;32m      6\u001b[0m     \u001b[1;32mtry\u001b[0m\u001b[1;33m:\u001b[0m\u001b[1;33m\u001b[0m\u001b[1;33m\u001b[0m\u001b[0m\n\u001b[1;32m----> 7\u001b[1;33m         \u001b[1;32mreturn\u001b[0m \u001b[0mnext\u001b[0m\u001b[1;33m(\u001b[0m\u001b[0miterator\u001b[0m\u001b[1;33m)\u001b[0m\u001b[1;33m\u001b[0m\u001b[1;33m\u001b[0m\u001b[0m\n\u001b[0m\u001b[0;32m      8\u001b[0m     \u001b[1;32mexcept\u001b[0m \u001b[0mStopIteration\u001b[0m\u001b[1;33m:\u001b[0m\u001b[1;33m\u001b[0m\u001b[1;33m\u001b[0m\u001b[0m\n",
      "\u001b[1;31mStopIteration\u001b[0m: ",
      "\nDuring handling of the above exception, another exception occurred:\n",
      "\u001b[1;31mValueError\u001b[0m                                Traceback (most recent call last)",
      "\u001b[1;32m~\\AppData\\Local\\Temp\\ipykernel_8388\\141051418.py\u001b[0m in \u001b[0;36m<module>\u001b[1;34m\u001b[0m\n\u001b[0;32m     13\u001b[0m \u001b[0mprint\u001b[0m\u001b[1;33m(\u001b[0m\u001b[0mfirst\u001b[0m\u001b[1;33m(\u001b[0m\u001b[1;33m{\u001b[0m\u001b[1;36m1\u001b[0m\u001b[1;33m,\u001b[0m\u001b[1;36m2\u001b[0m\u001b[1;33m,\u001b[0m\u001b[1;36m3\u001b[0m\u001b[1;33m,\u001b[0m\u001b[1;36m4\u001b[0m\u001b[1;33m}\u001b[0m\u001b[1;33m)\u001b[0m\u001b[1;33m)\u001b[0m\u001b[1;33m\u001b[0m\u001b[1;33m\u001b[0m\u001b[0m\n\u001b[0;32m     14\u001b[0m \u001b[1;31m#This is to show ValueError when an empty set is the input\u001b[0m\u001b[1;33m\u001b[0m\u001b[1;33m\u001b[0m\u001b[0m\n\u001b[1;32m---> 15\u001b[1;33m \u001b[0mprint\u001b[0m\u001b[1;33m(\u001b[0m\u001b[0mfirst\u001b[0m\u001b[1;33m(\u001b[0m\u001b[0mset\u001b[0m\u001b[1;33m(\u001b[0m\u001b[1;33m)\u001b[0m\u001b[1;33m)\u001b[0m\u001b[1;33m)\u001b[0m\u001b[1;33m\u001b[0m\u001b[1;33m\u001b[0m\u001b[0m\n\u001b[0m",
      "\u001b[1;32m~\\AppData\\Local\\Temp\\ipykernel_8388\\141051418.py\u001b[0m in \u001b[0;36mfirst\u001b[1;34m(iterable)\u001b[0m\n\u001b[0;32m      7\u001b[0m         \u001b[1;32mreturn\u001b[0m \u001b[0mnext\u001b[0m\u001b[1;33m(\u001b[0m\u001b[0miterator\u001b[0m\u001b[1;33m)\u001b[0m\u001b[1;33m\u001b[0m\u001b[1;33m\u001b[0m\u001b[0m\n\u001b[0;32m      8\u001b[0m     \u001b[1;32mexcept\u001b[0m \u001b[0mStopIteration\u001b[0m\u001b[1;33m:\u001b[0m\u001b[1;33m\u001b[0m\u001b[1;33m\u001b[0m\u001b[0m\n\u001b[1;32m----> 9\u001b[1;33m         \u001b[1;32mraise\u001b[0m \u001b[0mValueError\u001b[0m \u001b[1;33m(\u001b[0m\u001b[1;34m\"iterable is empty\"\u001b[0m\u001b[1;33m)\u001b[0m\u001b[1;33m\u001b[0m\u001b[1;33m\u001b[0m\u001b[0m\n\u001b[0m\u001b[0;32m     10\u001b[0m \u001b[1;33m\u001b[0m\u001b[0m\n\u001b[0;32m     11\u001b[0m \u001b[1;33m\u001b[0m\u001b[0m\n",
      "\u001b[1;31mValueError\u001b[0m: iterable is empty"
     ]
    }
   ],
   "source": [
    "#Stopping iteration with an exceprtion\n",
    "# More concrete used case to catch StopIteration Exception\n",
    "# Fuction is to first return elements from list or sets. if list is empty raises a value error\n",
    "def first(iterable):\n",
    "    iterator = iter(iterable)\n",
    "    try:\n",
    "        return next(iterator)\n",
    "    except StopIteration:\n",
    "        raise ValueError (\"iterable is empty\")\n",
    "    \n",
    "\n",
    "print(first([1,2,3,4]))\n",
    "print(first({1,2,3,4}))\n",
    "#This is to show ValueError when an empty set is the input\n",
    "print(first(set()))"
   ]
  },
  {
   "cell_type": "markdown",
   "id": "4246c81d",
   "metadata": {},
   "source": [
    "#### Generators\n",
    "1. Generators are ITERABLES defined by FUNCTIONS\n",
    "2. Can model sequence without no definite end\n",
    "3. Generators are python functions which uses YIELD key word atleast once in their definition.\n",
    "4. They may also contain return key word with no arguments\n",
    "5. properties: - Generators are lazy such that computation only happens just in time when next value is requested ie generators only do enough work to produce requested data.\n",
    "6. Above property allows generators to model infinite or large sequence of data. eg:- Mathematical sequences, Sensor reading etc"
   ]
  },
  {
   "cell_type": "code",
   "execution_count": 2,
   "id": "8c6cb19c",
   "metadata": {},
   "outputs": [
    {
     "name": "stdout",
     "output_type": "stream",
     "text": [
      "<generator object gen123 at 0x00000204434C6A40>\n",
      "About to yield 1\n",
      "1\n",
      "About to yield 2\n",
      "2\n",
      "About to yield 3\n",
      "3\n",
      "About to return\n"
     ]
    },
    {
     "ename": "StopIteration",
     "evalue": "",
     "output_type": "error",
     "traceback": [
      "\u001b[1;31m---------------------------------------------------------------------------\u001b[0m",
      "\u001b[1;31mStopIteration\u001b[0m                             Traceback (most recent call last)",
      "Cell \u001b[1;32mIn[2], line 19\u001b[0m\n\u001b[0;32m     17\u001b[0m \u001b[38;5;28mprint\u001b[39m(\u001b[38;5;28mnext\u001b[39m(g))\n\u001b[0;32m     18\u001b[0m \u001b[38;5;28mprint\u001b[39m(\u001b[38;5;28mnext\u001b[39m(g))\n\u001b[1;32m---> 19\u001b[0m \u001b[38;5;28mprint\u001b[39m(\u001b[38;5;28mnext\u001b[39m(g))\n",
      "\u001b[1;31mStopIteration\u001b[0m: "
     ]
    }
   ],
   "source": [
    "#Example for a generator\n",
    "def gen123():\n",
    "    #Using yield atleast once\n",
    "    print(\"About to yield 1\")\n",
    "    yield 1\n",
    "    print(\"About to yield 2\")\n",
    "    yield 2\n",
    "    print(\"About to yield 3\")\n",
    "    yield 3\n",
    "    print(\"About to return\")\n",
    "# We can call it just like any other python function by Assigning to a variable\n",
    "g = gen123()\n",
    "#Returns a generator object which is also python iterator\n",
    "print(g)\n",
    "# As they are iterators we can retrieve succesive values through next()\n",
    "print(next(g))\n",
    "print(next(g))\n",
    "print(next(g))\n",
    "# this shows after end of yield, error stopiteration is produced\n",
    "print(next(g))"
   ]
  },
  {
   "cell_type": "code",
   "execution_count": 11,
   "id": "cca4c52e",
   "metadata": {},
   "outputs": [
    {
     "name": "stdout",
     "output_type": "stream",
     "text": [
      "About to return\n"
     ]
    },
    {
     "ename": "StopIteration",
     "evalue": "",
     "output_type": "error",
     "traceback": [
      "\u001b[1;31m---------------------------------------------------------------------------\u001b[0m",
      "\u001b[1;31mStopIteration\u001b[0m                             Traceback (most recent call last)",
      "\u001b[1;32m~\\AppData\\Local\\Temp\\ipykernel_8388\\2712788600.py\u001b[0m in \u001b[0;36m<module>\u001b[1;34m\u001b[0m\n\u001b[0;32m      1\u001b[0m \u001b[1;31m#end of the sequence arises with a StopIteration error\u001b[0m\u001b[1;33m\u001b[0m\u001b[1;33m\u001b[0m\u001b[0m\n\u001b[1;32m----> 2\u001b[1;33m \u001b[0mprint\u001b[0m\u001b[1;33m(\u001b[0m\u001b[0mnext\u001b[0m\u001b[1;33m(\u001b[0m\u001b[0mg\u001b[0m\u001b[1;33m)\u001b[0m\u001b[1;33m)\u001b[0m\u001b[1;33m\u001b[0m\u001b[1;33m\u001b[0m\u001b[0m\n\u001b[0m",
      "\u001b[1;31mStopIteration\u001b[0m: "
     ]
    }
   ],
   "source": [
    "\n",
    "#end of the sequence arises with a StopIteration error\n",
    "print(next(g))"
   ]
  },
  {
   "cell_type": "code",
   "execution_count": 5,
   "id": "92d5402f",
   "metadata": {},
   "outputs": [
    {
     "name": "stdout",
     "output_type": "stream",
     "text": [
      "1\n",
      "2\n",
      "3\n"
     ]
    }
   ],
   "source": [
    "# Generators can be iterated through a for loop\n",
    "for i in gen123():\n",
    "    print(i)"
   ]
  },
  {
   "cell_type": "code",
   "execution_count": 7,
   "id": "85e1a39c",
   "metadata": {},
   "outputs": [
    {
     "data": {
      "text/plain": [
       "False"
      ]
     },
     "execution_count": 7,
     "metadata": {},
     "output_type": "execute_result"
    }
   ],
   "source": [
    "# Here both h and g will be different object and can be called seperately\n",
    "h = gen123()\n",
    "g = gen123()\n",
    "h is g"
   ]
  },
  {
   "cell_type": "code",
   "execution_count": null,
   "id": "efe820de",
   "metadata": {},
   "outputs": [],
   "source": [
    "# Example of an infinite series with generator\n",
    "# Dont run yields an infinite series\n",
    "\n",
    "def lucas():\n",
    "    yield 2\n",
    "    a=2\n",
    "    b=1\n",
    "    while True:\n",
    "        yield b\n",
    "        a,b = b,a+b\n",
    "for i in lucas():\n",
    "    print(i)\n",
    "    "
   ]
  },
  {
   "cell_type": "code",
   "execution_count": 13,
   "id": "0985a8a4",
   "metadata": {},
   "outputs": [
    {
     "data": {
      "text/plain": [
       "[1, 4, 9, 16, 25, 36, 49, 64, 81, 100]"
      ]
     },
     "execution_count": 13,
     "metadata": {},
     "output_type": "execute_result"
    }
   ],
   "source": [
    "#Generator EXpressions / Comprehensions\n",
    "million_square = (x*x for x in range(1,1000001))\n",
    "list(million_square)[:10]"
   ]
  },
  {
   "cell_type": "code",
   "execution_count": 14,
   "id": "d1a80407",
   "metadata": {},
   "outputs": [
    {
     "data": {
      "text/plain": [
       "[]"
      ]
     },
     "execution_count": 14,
     "metadata": {},
     "output_type": "execute_result"
    }
   ],
   "source": [
    "#Repeating the above expression creates a empty list\n",
    "list(million_square)[:10]\n",
    "#To create a generator from a generator expression we muct execute the expression again"
   ]
  },
  {
   "cell_type": "code",
   "execution_count": 16,
   "id": "9d4dcc65",
   "metadata": {},
   "outputs": [
    {
     "data": {
      "text/plain": [
       "333333383333335000000"
      ]
     },
     "execution_count": 16,
     "metadata": {},
     "output_type": "execute_result"
    }
   ],
   "source": [
    "# Computes sum of first 10 million sqaures using sum function\n",
    "#Here memory usage will be insignificant/minimum ie better than list comprehension\n",
    "sum(x*x for x in range(1,10000001))"
   ]
  },
  {
   "cell_type": "code",
   "execution_count": 19,
   "id": "e2d8a448",
   "metadata": {},
   "outputs": [
    {
     "data": {
      "text/plain": [
       "76127"
      ]
     },
     "execution_count": 19,
     "metadata": {},
     "output_type": "execute_result"
    }
   ],
   "source": [
    "#Computing sum of prime until 1000\n",
    "sum(x for x in range(1001) if is_prime(x))"
   ]
  },
  {
   "cell_type": "code",
   "execution_count": 20,
   "id": "4dc41dbd",
   "metadata": {},
   "outputs": [
    {
     "data": {
      "text/plain": [
       "False"
      ]
     },
     "execution_count": 20,
     "metadata": {},
     "output_type": "execute_result"
    }
   ],
   "source": [
    "# Applications of \"all\" and \"any\"\n",
    "#Any any of the value should be True\n",
    "any(is_prime(x) for x in range(1328, 1361))"
   ]
  },
  {
   "cell_type": "code",
   "execution_count": 22,
   "id": "66b7e6ac",
   "metadata": {},
   "outputs": [
    {
     "data": {
      "text/plain": [
       "True"
      ]
     },
     "execution_count": 22,
     "metadata": {},
     "output_type": "execute_result"
    }
   ],
   "source": [
    "#all of the outputs should be true\n",
    "all(is_prime(x) for x in [2,3,5])"
   ]
  },
  {
   "cell_type": "markdown",
   "id": "221b5332",
   "metadata": {},
   "source": [
    "#### zip\n",
    "1. synchronised iteration accross two or more iterables"
   ]
  },
  {
   "cell_type": "code",
   "execution_count": 25,
   "id": "e3516fb2",
   "metadata": {},
   "outputs": [
    {
     "name": "stdout",
     "output_type": "stream",
     "text": [
      "(1, 6)\n",
      "(2, 7)\n",
      "(3, 8)\n",
      "(4, 9)\n",
      "(5, 10)\n"
     ]
    }
   ],
   "source": [
    "#Example\n",
    "#Even if the lengths of list are not same this will work to last of least lenghth of list\n",
    "sunday = [1,2,3,4,5]\n",
    "monday = [6,7,8,9,10]\n",
    "for item in zip(sunday,monday):\n",
    "    print(item)"
   ]
  },
  {
   "cell_type": "code",
   "execution_count": 26,
   "id": "ec50b3ec",
   "metadata": {},
   "outputs": [
    {
     "name": "stdout",
     "output_type": "stream",
     "text": [
      "Average = 3.5\n",
      "Average = 4.5\n",
      "Average = 5.5\n",
      "Average = 6.5\n",
      "Average = 7.5\n"
     ]
    }
   ],
   "source": [
    "for sun,mon in zip(sunday,monday):\n",
    "    print(\"Average =\",(sun+mon)/2)"
   ]
  },
  {
   "cell_type": "code",
   "execution_count": 31,
   "id": "10b89027",
   "metadata": {},
   "outputs": [
    {
     "name": "stdout",
     "output_type": "stream",
     "text": [
      "min= 1.0, max11.0, average6.00\n",
      "min= 2.0, max12.0, average7.00\n",
      "min= 3.0, max13.0, average8.00\n",
      "min= 4.0, max14.0, average9.00\n",
      "min= 5.0, max15.0, average10.00\n"
     ]
    }
   ],
   "source": [
    "#zipping 3 lists\n",
    "tuesday = [11,12,13,14,15]\n",
    "\n",
    "for temps in zip(sunday,monday,tuesday):\n",
    "    print(f\"min={min(temps):4.1f}, max{max(temps):4.1f}, average{sum(temps) / len(temps):4.2f}\")"
   ]
  },
  {
   "cell_type": "code",
   "execution_count": 33,
   "id": "dc9fcebf",
   "metadata": {},
   "outputs": [
    {
     "data": {
      "text/plain": [
       "True"
      ]
     },
     "execution_count": 33,
     "metadata": {},
     "output_type": "execute_result"
    }
   ],
   "source": [
    "from itertools import chain\n",
    "#Using \"chain\"\n",
    "all_temps = chain(sunday,monday,tuesday)\n",
    "all(t>0 for t in all_temps)"
   ]
  },
  {
   "cell_type": "code",
   "execution_count": 3,
   "id": "015103b2",
   "metadata": {},
   "outputs": [
    {
     "name": "stdout",
     "output_type": "stream",
     "text": [
      "{'a': 1, 'b': 2, 'c': 3}\n"
     ]
    }
   ],
   "source": [
    "#Creating a dictionary with two tuples using zip method\n",
    "a = dict(zip((\"a\",\"b\",\"c\"),(1,2,3)))\n",
    "print(a)"
   ]
  },
  {
   "cell_type": "code",
   "execution_count": null,
   "id": "c70bbcdb",
   "metadata": {},
   "outputs": [],
   "source": []
  },
  {
   "cell_type": "code",
   "execution_count": null,
   "id": "80ed3f61",
   "metadata": {},
   "outputs": [],
   "source": []
  },
  {
   "cell_type": "markdown",
   "id": "efed5a12",
   "metadata": {},
   "source": [
    "#### Comprehensions\n",
    "Concise syntax for describing LISTS, SETS and DICTIONARIES.\n",
    "\n",
    "[expr(item) for item in iterable]"
   ]
  },
  {
   "cell_type": "code",
   "execution_count": 136,
   "id": "78ed6aaa",
   "metadata": {},
   "outputs": [
    {
     "data": {
      "text/plain": [
       "['All', 'Are', 'Equal', 'In', 'Vertue']"
      ]
     },
     "execution_count": 136,
     "metadata": {},
     "output_type": "execute_result"
    }
   ],
   "source": [
    "#List Comprehension\n",
    "# Here first letter of each word is capitalised\n",
    "sentence = \"All are equal in vertue\"\n",
    "[word.title() for word in sentence.split()]\n"
   ]
  },
  {
   "cell_type": "code",
   "execution_count": 152,
   "id": "5d640dcd",
   "metadata": {},
   "outputs": [
    {
     "name": "stdout",
     "output_type": "stream",
     "text": [
      "[6, 6, 120, 2, 720]\n",
      "<class 'list'>\n"
     ]
    }
   ],
   "source": [
    "# finding factorial of length of each words\n",
    "from math import factorial\n",
    "f = [factorial(len(word)) for word in sentence.split()]\n",
    "print(f)\n",
    "# after list comprehension we will get a list\n",
    "print(type(f))"
   ]
  },
  {
   "cell_type": "code",
   "execution_count": 150,
   "id": "133c9495",
   "metadata": {},
   "outputs": [
    {
     "name": "stdout",
     "output_type": "stream",
     "text": [
      "2\n",
      "3\n",
      "3\n"
     ]
    },
    {
     "data": {
      "text/plain": [
       "[2, 3, 3]"
      ]
     },
     "execution_count": 150,
     "metadata": {},
     "output_type": "execute_result"
    }
   ],
   "source": [
    "#Finding length of numbers after point\n",
    "a = [12.33, 13.443, 15.555]\n",
    "for i in a:\n",
    "    print(len(str(i).split(\".\")[1]))\n",
    "    \n",
    "[len(str(i).split(\".\")[1]) for i  in a]"
   ]
  },
  {
   "cell_type": "code",
   "execution_count": 4,
   "id": "a51d41e6",
   "metadata": {},
   "outputs": [
    {
     "data": {
      "text/plain": [
       "[(1, 'a'), (2, 'b'), (3, 'c'), (4, 'd'), (5, 'e')]"
      ]
     },
     "execution_count": 4,
     "metadata": {},
     "output_type": "execute_result"
    }
   ],
   "source": [
    "# matching equal index in two list with list comprehension\n",
    "l1 = [1,2,3,4,5]\n",
    "l2 = [\"a\",\"b\",\"c\",\"d\",\"e\"]\n",
    "[(l1[i],l2[y]) for i in range(len(l1)) for y in range(len(l2)) if i == y]"
   ]
  },
  {
   "cell_type": "code",
   "execution_count": 6,
   "id": "76cc6795",
   "metadata": {},
   "outputs": [
    {
     "data": {
      "text/plain": [
       "[(1, 'a'), (2, 'b'), (3, 'c'), (4, 'd'), (5, 'e')]"
      ]
     },
     "execution_count": 6,
     "metadata": {},
     "output_type": "execute_result"
    }
   ],
   "source": [
    "list(zip(l1,l2))"
   ]
  },
  {
   "cell_type": "code",
   "execution_count": 156,
   "id": "dd0bac91",
   "metadata": {},
   "outputs": [
    {
     "name": "stdout",
     "output_type": "stream",
     "text": [
      "{1, 2, 3, 4, 5, 6, 7, 8, 9}\n",
      "{2, 3, 5, 6}\n"
     ]
    }
   ],
   "source": [
    "#SET COMPREHENSION\n",
    "s = {i for i in range(1,10)}\n",
    "print(s)\n",
    "# Taking words length but only unique word length\n",
    "se = {len(str(word)) for word in sentence.split()}\n",
    "print(se)"
   ]
  },
  {
   "cell_type": "code",
   "execution_count": 167,
   "id": "d60bb728",
   "metadata": {},
   "outputs": [
    {
     "name": "stdout",
     "output_type": "stream",
     "text": [
      "{'Brazilia': 'Brazil',\n",
      " 'Rabat': 'Moroco',\n",
      " 'Stockholm': 'Sweden',\n",
      " 'london': 'united kingdom'}\n"
     ]
    }
   ],
   "source": [
    "# DICTIONARY Comprehension\n",
    "# Changing keys of one dict to value of other dict\n",
    "from pprint import pprint as pp\n",
    "country_to_capital = {\"united kingdom\": \"london\", \"Brazil\": \"Brazilia\", \"Moroco\": \"Rabat\", \"Sweden\":\"Stockholm\"}\n",
    "capital_to_country = {capital:country for country, capital in country_to_capital.items()}\n",
    "pp(capital_to_country)\n"
   ]
  },
  {
   "cell_type": "code",
   "execution_count": 171,
   "id": "45dc9d16",
   "metadata": {},
   "outputs": [
    {
     "data": {
      "text/plain": [
       "{'A': 'All', 'a': 'are', 'e': 'equal', 'i': 'in', 'v': 'vertue'}"
      ]
     },
     "execution_count": 171,
     "metadata": {},
     "output_type": "execute_result"
    }
   ],
   "source": [
    "# Each words first letter and the word\n",
    "{word[0]: word for word in sentence.split()}"
   ]
  },
  {
   "cell_type": "code",
   "execution_count": 14,
   "id": "96ca3e36",
   "metadata": {},
   "outputs": [
    {
     "data": {
      "text/plain": [
       "[2, 3, 5, 7, 11, 13, 17, 19, 23, 29, 31, 37, 41, 43, 47]"
      ]
     },
     "execution_count": 14,
     "metadata": {},
     "output_type": "execute_result"
    }
   ],
   "source": [
    "#Filtering Comprehension\n",
    "\n",
    "#Finding prime numbers for a range of values\n",
    "from math import sqrt\n",
    "def is_prime(x):\n",
    "    if x<2:\n",
    "        return False\n",
    "    for i in range(2,int(sqrt(x))+1):\n",
    "        if x % i == 0:\n",
    "            return False\n",
    "    return True\n",
    "[x for x in range(51) if is_prime(x)]\n",
    "        "
   ]
  },
  {
   "cell_type": "code",
   "execution_count": 244,
   "id": "95699c3c",
   "metadata": {},
   "outputs": [
    {
     "name": "stdout",
     "output_type": "stream",
     "text": [
      "{4: (1, 2, 4),\n",
      " 9: (1, 3, 9),\n",
      " 25: (1, 5, 25),\n",
      " 49: (1, 7, 49),\n",
      " 121: (1, 11, 121),\n",
      " 169: (1, 13, 169),\n",
      " 289: (1, 17, 289),\n",
      " 361: (1, 19, 361)}\n"
     ]
    }
   ],
   "source": [
    "# This example is to showcase dictionary filtering \n",
    "prime_square_devisor = {x*x: (1,x,x*x) for x in range(20) if is_prime(x)}\n",
    "pp(prime_square_devisor)"
   ]
  },
  {
   "cell_type": "code",
   "execution_count": null,
   "id": "d88e20c6",
   "metadata": {},
   "outputs": [],
   "source": []
  },
  {
   "cell_type": "code",
   "execution_count": null,
   "id": "9597ca0b",
   "metadata": {},
   "outputs": [],
   "source": []
  },
  {
   "cell_type": "code",
   "execution_count": null,
   "id": "10e84598",
   "metadata": {},
   "outputs": [],
   "source": []
  },
  {
   "cell_type": "code",
   "execution_count": null,
   "id": "1b169cf0",
   "metadata": {},
   "outputs": [],
   "source": []
  },
  {
   "cell_type": "code",
   "execution_count": null,
   "id": "054ed597",
   "metadata": {},
   "outputs": [],
   "source": []
  },
  {
   "cell_type": "code",
   "execution_count": 91,
   "id": "1b802339",
   "metadata": {},
   "outputs": [
    {
     "data": {
      "text/plain": [
       "{'H': 'Hotel', 'F': 'Fox', 'M': 'Me'}"
      ]
     },
     "execution_count": 91,
     "metadata": {},
     "output_type": "execute_result"
    }
   ],
   "source": [
    "# This is an example of Dictionary comprehension where looping through each word, Only displays unique key so no Hi and Hello\n",
    "words = [\"Hi\", \"Hello\", \"Foxtrot\", \"Hotel\", \"Me\",\"Fox\"]\n",
    "{x[0]: x for x in words}"
   ]
  },
  {
   "cell_type": "code",
   "execution_count": 15,
   "id": "828ce4b3",
   "metadata": {},
   "outputs": [
    {
     "data": {
      "text/plain": [
       "[25, 34, 6, 41, 23, 13, 28, 30, 29, 38, 31, 9, 35, 18, 2]"
      ]
     },
     "execution_count": 15,
     "metadata": {},
     "output_type": "execute_result"
    }
   ],
   "source": [
    "import random\n",
    "random.sample(range(1,50),15)"
   ]
  },
  {
   "cell_type": "code",
   "execution_count": 94,
   "id": "7e347fbb",
   "metadata": {},
   "outputs": [
    {
     "data": {
      "text/plain": [
       "[12, 17, 24, 1, 11, 29, 14, 36, 19, 28, 31, 41, 38, 26, 7]"
      ]
     },
     "execution_count": 94,
     "metadata": {},
     "output_type": "execute_result"
    }
   ],
   "source": [
    "random.sample([i for i in range(50)],15)"
   ]
  },
  {
   "cell_type": "code",
   "execution_count": 104,
   "id": "3ea2ef08",
   "metadata": {},
   "outputs": [],
   "source": [
    "def lucas():\n",
    "    yield 2\n",
    "    a=2\n",
    "    b = 1\n",
    "    while True:\n",
    "        yield b\n",
    "        a,b = b ,a+b\n",
    "        "
   ]
  },
  {
   "cell_type": "code",
   "execution_count": 100,
   "id": "d938e435",
   "metadata": {},
   "outputs": [
    {
     "data": {
      "text/plain": [
       "2"
      ]
     },
     "execution_count": 100,
     "metadata": {},
     "output_type": "execute_result"
    }
   ],
   "source": [
    "next(lucas())"
   ]
  },
  {
   "cell_type": "code",
   "execution_count": 101,
   "id": "2460213d",
   "metadata": {},
   "outputs": [
    {
     "data": {
      "text/plain": [
       "2"
      ]
     },
     "execution_count": 101,
     "metadata": {},
     "output_type": "execute_result"
    }
   ],
   "source": [
    "next(lucas())"
   ]
  },
  {
   "cell_type": "code",
   "execution_count": 108,
   "id": "c7cfc305",
   "metadata": {},
   "outputs": [
    {
     "data": {
      "text/plain": [
       "328350"
      ]
     },
     "execution_count": 108,
     "metadata": {},
     "output_type": "execute_result"
    }
   ],
   "source": [
    "sum(x*x for x in range(1,100))"
   ]
  },
  {
   "cell_type": "code",
   "execution_count": 109,
   "id": "6c997a87",
   "metadata": {},
   "outputs": [],
   "source": [
    "x = [\"me\",\"you\", \"us\"]"
   ]
  },
  {
   "cell_type": "code",
   "execution_count": 114,
   "id": "e9d8ba66",
   "metadata": {},
   "outputs": [
    {
     "name": "stdout",
     "output_type": "stream",
     "text": [
      "Me\n",
      "You\n",
      "Us\n"
     ]
    }
   ],
   "source": [
    "# Makes first letter upper case\n",
    "for i in x:\n",
    "    print(i.title())"
   ]
  },
  {
   "cell_type": "code",
   "execution_count": 113,
   "id": "b46d38f0",
   "metadata": {},
   "outputs": [
    {
     "data": {
      "text/plain": [
       "False"
      ]
     },
     "execution_count": 113,
     "metadata": {},
     "output_type": "execute_result"
    }
   ],
   "source": [
    "all(name == name.title() for name in [\"me\",\"you\", \"us\"])"
   ]
  },
  {
   "cell_type": "code",
   "execution_count": 121,
   "id": "44981c03",
   "metadata": {},
   "outputs": [
    {
     "name": "stdout",
     "output_type": "stream",
     "text": [
      "('me', 'me')\n",
      "('you', 'you')\n",
      "('us', 'us')\n"
     ]
    }
   ],
   "source": [
    "for i in zip(x,x):\n",
    "    print(i)"
   ]
  },
  {
   "cell_type": "code",
   "execution_count": 122,
   "id": "d36a0cff",
   "metadata": {},
   "outputs": [],
   "source": [
    "p = iter(x)"
   ]
  },
  {
   "cell_type": "code",
   "execution_count": 126,
   "id": "a98c2843",
   "metadata": {},
   "outputs": [
    {
     "ename": "StopIteration",
     "evalue": "",
     "output_type": "error",
     "traceback": [
      "\u001b[1;31m---------------------------------------------------------------------------\u001b[0m",
      "\u001b[1;31mStopIteration\u001b[0m                             Traceback (most recent call last)",
      "\u001b[1;32m~\\AppData\\Local\\Temp\\ipykernel_12632\\3711593939.py\u001b[0m in \u001b[0;36m<module>\u001b[1;34m\u001b[0m\n\u001b[1;32m----> 1\u001b[1;33m \u001b[0mnext\u001b[0m\u001b[1;33m(\u001b[0m\u001b[0mp\u001b[0m\u001b[1;33m)\u001b[0m\u001b[1;33m\u001b[0m\u001b[1;33m\u001b[0m\u001b[0m\n\u001b[0m",
      "\u001b[1;31mStopIteration\u001b[0m: "
     ]
    }
   ],
   "source": [
    "next(p)"
   ]
  },
  {
   "cell_type": "code",
   "execution_count": null,
   "id": "3a668265",
   "metadata": {},
   "outputs": [],
   "source": []
  },
  {
   "cell_type": "code",
   "execution_count": null,
   "id": "bb2a700c",
   "metadata": {},
   "outputs": [],
   "source": []
  },
  {
   "cell_type": "code",
   "execution_count": null,
   "id": "013035f1",
   "metadata": {},
   "outputs": [],
   "source": []
  },
  {
   "cell_type": "code",
   "execution_count": null,
   "id": "6efc7e14",
   "metadata": {},
   "outputs": [],
   "source": []
  },
  {
   "cell_type": "code",
   "execution_count": null,
   "id": "efd3aefd",
   "metadata": {},
   "outputs": [],
   "source": []
  },
  {
   "cell_type": "code",
   "execution_count": null,
   "id": "e2d3e428",
   "metadata": {},
   "outputs": [],
   "source": []
  },
  {
   "cell_type": "code",
   "execution_count": null,
   "id": "c08775f4",
   "metadata": {},
   "outputs": [],
   "source": []
  },
  {
   "cell_type": "code",
   "execution_count": null,
   "id": "2798dec2",
   "metadata": {},
   "outputs": [],
   "source": []
  },
  {
   "cell_type": "code",
   "execution_count": 100,
   "id": "c2928e41",
   "metadata": {},
   "outputs": [],
   "source": [
    "#Logic for paliandrom\n",
    "def ispalindrom(number):\n",
    "    if str(number) == str(number)[::-1]:\n",
    "        print(number, \"is paliandrom\")\n",
    "    else:\n",
    "        print(number, \"not a paliandrom\" )\n",
    "    \n"
   ]
  },
  {
   "cell_type": "code",
   "execution_count": 123,
   "id": "bd383595",
   "metadata": {},
   "outputs": [
    {
     "name": "stdout",
     "output_type": "stream",
     "text": [
      "123321 is paliandrom\n"
     ]
    }
   ],
   "source": [
    "ispalindrom(123321)"
   ]
  },
  {
   "cell_type": "code",
   "execution_count": 124,
   "id": "f577eaf6",
   "metadata": {},
   "outputs": [],
   "source": [
    "#alternative method for paliandrom\n",
    "def numbpal(number):\n",
    "    temp = number\n",
    "    rev = 0\n",
    "    \n",
    "    while(number>0):\n",
    "        dig = number%10\n",
    "        #print(dig)\n",
    "        rev = rev * 10 + dig\n",
    "        #print(rev)\n",
    "        number = number//10\n",
    "    if (temp == rev):\n",
    "        print(temp, \"is paliandrom\")\n",
    "    else:\n",
    "        print(temp, \"not a paliandrom\")"
   ]
  },
  {
   "cell_type": "code",
   "execution_count": 125,
   "id": "78a1cd37",
   "metadata": {},
   "outputs": [
    {
     "name": "stdout",
     "output_type": "stream",
     "text": [
      "121 is paliandrom\n"
     ]
    }
   ],
   "source": [
    "numbpal(121)"
   ]
  },
  {
   "cell_type": "code",
   "execution_count": 138,
   "id": "f730c067",
   "metadata": {},
   "outputs": [],
   "source": [
    "def pattern(numb):\n",
    "    for i in range(numb+1):\n",
    "        print((str(i)+ \" \")*i)"
   ]
  },
  {
   "cell_type": "code",
   "execution_count": 139,
   "id": "a699b996",
   "metadata": {},
   "outputs": [
    {
     "name": "stdout",
     "output_type": "stream",
     "text": [
      "\n",
      "1 \n",
      "2 2 \n",
      "3 3 3 \n",
      "4 4 4 4 \n",
      "5 5 5 5 5 \n",
      "6 6 6 6 6 6 \n",
      "7 7 7 7 7 7 7 \n",
      "8 8 8 8 8 8 8 8 \n"
     ]
    }
   ],
   "source": [
    "pattern(8)"
   ]
  },
  {
   "cell_type": "code",
   "execution_count": 143,
   "id": "d5f429aa",
   "metadata": {},
   "outputs": [],
   "source": [
    "def pattern1(numb):\n",
    "    for i in range(numb+1):\n",
    "        print((\"#\"+ \" \")*i)"
   ]
  },
  {
   "cell_type": "code",
   "execution_count": 145,
   "id": "68bad8f4",
   "metadata": {},
   "outputs": [
    {
     "name": "stdout",
     "output_type": "stream",
     "text": [
      "\n",
      "# \n",
      "# # \n",
      "# # # \n",
      "# # # # \n",
      "# # # # # \n"
     ]
    }
   ],
   "source": [
    "pattern1(5)"
   ]
  },
  {
   "cell_type": "code",
   "execution_count": 160,
   "id": "977b3d0a",
   "metadata": {},
   "outputs": [],
   "source": [
    "def pattern2(numb):\n",
    "    for i in range(0,numb+1):\n",
    "        string = \"\"\n",
    "        for j in range(0,i+1):\n",
    "            string += str(j) + \" \"\n",
    "        print(string)\n",
    "            "
   ]
  },
  {
   "cell_type": "code",
   "execution_count": 161,
   "id": "3a4d5275",
   "metadata": {},
   "outputs": [
    {
     "name": "stdout",
     "output_type": "stream",
     "text": [
      "0 \n",
      "0 1 \n",
      "0 1 2 \n",
      "0 1 2 3 \n",
      "0 1 2 3 4 \n",
      "0 1 2 3 4 5 \n"
     ]
    }
   ],
   "source": [
    "pattern2(5)"
   ]
  },
  {
   "cell_type": "code",
   "execution_count": 1,
   "id": "f1b1d5c4",
   "metadata": {},
   "outputs": [
    {
     "name": "stdout",
     "output_type": "stream",
     "text": [
      "          \n",
      "         * \n",
      "        * * \n",
      "       * * * \n",
      "      * * * * \n",
      "     * * * * * \n",
      "    * * * * * * \n",
      "   * * * * * * * \n",
      "  * * * * * * * * \n",
      " * * * * * * * * * \n",
      "* * * * * * * * * * \n"
     ]
    }
   ],
   "source": [
    "#Triangle starting from centre\n",
    "def pattern(numb):\n",
    "    gap = numb\n",
    "    for i in range(numb+1):\n",
    "        \n",
    "        #gap2 = int((numb)/2-1)\n",
    "\n",
    "        print(\" \" * (gap)+ \"* \" * (i))\n",
    "\n",
    "        gap=gap-1\n",
    "pattern(10)\n"
   ]
  },
  {
   "cell_type": "code",
   "execution_count": 164,
   "id": "0d81715c",
   "metadata": {},
   "outputs": [
    {
     "data": {
      "text/plain": [
       "'A'"
      ]
     },
     "execution_count": 164,
     "metadata": {},
     "output_type": "execute_result"
    }
   ],
   "source": [
    "#Ascii values for A\n",
    "chr(65)"
   ]
  },
  {
   "cell_type": "code",
   "execution_count": 163,
   "id": "92f37cbf",
   "metadata": {},
   "outputs": [
    {
     "data": {
      "text/plain": [
       "'B'"
      ]
     },
     "execution_count": 163,
     "metadata": {},
     "output_type": "execute_result"
    }
   ],
   "source": [
    "chr(66)"
   ]
  },
  {
   "cell_type": "code",
   "execution_count": null,
   "id": "95171afc",
   "metadata": {},
   "outputs": [],
   "source": []
  },
  {
   "cell_type": "code",
   "execution_count": null,
   "id": "7d05e055",
   "metadata": {},
   "outputs": [],
   "source": [
    "#laoding data"
   ]
  },
  {
   "cell_type": "code",
   "execution_count": null,
   "id": "5cd360e5",
   "metadata": {},
   "outputs": [],
   "source": [
    "#importing libraries\n",
    "import panda\n"
   ]
  },
  {
   "cell_type": "code",
   "execution_count": null,
   "id": "27d34ab7",
   "metadata": {},
   "outputs": [],
   "source": [
    "cnn =models.sequential()\n",
    "layers.conv2d(fil=32,kernal=(3x3),inputshape=(128X128),activation = \"ReLu\")\n",
    "layers.maxpoolinglayer\n",
    "\n",
    "layers.flatten()\n",
    "layers.Dense(64,activationfuv= \"relu\")\n",
    "\n",
    "\n",
    "layer.Dense(3, Activa = \"Softmax\")\n",
    "\n",
    "o 1 0 \n"
   ]
  },
  {
   "cell_type": "code",
   "execution_count": null,
   "id": "71f81b10",
   "metadata": {},
   "outputs": [],
   "source": [
    "[[ 18(TP), 3(FP)],\n",
    "\n",
    "[2(FN), 1(TN)]]"
   ]
  },
  {
   "cell_type": "code",
   "execution_count": 223,
   "id": "080862c4",
   "metadata": {},
   "outputs": [
    {
     "name": "stdout",
     "output_type": "stream",
     "text": [
      "['o', 'l', 'l', 'e', 'h']\n"
     ]
    }
   ],
   "source": [
    "s = [\"h\",\"e\",\"l\",\"l\",\"o\"]\n",
    "s[::-1]\n",
    "l = []\n",
    "for i in range(len(s)):\n",
    "    l.append(s[len(s)-(i+1)])\n",
    "    \n",
    "print(l)\n",
    "\n"
   ]
  },
  {
   "cell_type": "code",
   "execution_count": 228,
   "id": "e3d6239b",
   "metadata": {},
   "outputs": [
    {
     "name": "stdout",
     "output_type": "stream",
     "text": [
      "['h', 'e', 'l', 'l', 'o']\n",
      "['o', 'e', 'l', 'l', 'h']\n",
      "['o', 'l', 'l', 'e', 'h']\n"
     ]
    }
   ],
   "source": [
    "s = [\"h\",\"e\",\"l\",\"l\",\"o\"]\n",
    "for i in range(len(s)//2):\n",
    "    print(s)\n",
    "    s[i],s[len(s)-(i+1)] = s[len(s)-(i+1)],s[i]\n",
    "    \n",
    "print(s)"
   ]
  },
  {
   "cell_type": "code",
   "execution_count": null,
   "id": "8bd20e0f",
   "metadata": {},
   "outputs": [],
   "source": [
    "a,b = b,a"
   ]
  },
  {
   "cell_type": "code",
   "execution_count": null,
   "id": "05dd0a97",
   "metadata": {},
   "outputs": [],
   "source": [
    "s[0],s[4] = s[4],s[0]"
   ]
  },
  {
   "cell_type": "code",
   "execution_count": 20,
   "id": "c6c61a81",
   "metadata": {},
   "outputs": [
    {
     "name": "stdout",
     "output_type": "stream",
     "text": [
      "2 number is prime\n",
      "3 number is prime\n",
      "5 number is prime\n",
      "7 number is prime\n",
      "11 number is prime\n",
      "13 number is prime\n",
      "17 number is prime\n",
      "19 number is prime\n",
      "23 number is prime\n",
      "29 number is prime\n",
      "31 number is prime\n",
      "37 number is prime\n",
      "41 number is prime\n",
      "43 number is prime\n",
      "47 number is prime\n",
      "53 number is prime\n",
      "59 number is prime\n",
      "61 number is prime\n",
      "67 number is prime\n",
      "71 number is prime\n",
      "73 number is prime\n",
      "79 number is prime\n",
      "83 number is prime\n",
      "89 number is prime\n",
      "97 number is prime\n"
     ]
    }
   ],
   "source": [
    "l = []\n",
    "for number in range(1,100):\n",
    "    if number > 1:\n",
    "        for i in range(2,int(number/2)+1):\n",
    "            if number % i == 0:\n",
    "                break\n",
    "\n",
    "        else:\n",
    "            print(number, \"number is prime\")\n",
    "            "
   ]
  },
  {
   "cell_type": "code",
   "execution_count": null,
   "id": "442b37ab",
   "metadata": {},
   "outputs": [],
   "source": [
    "l = ['t','e','h','w']"
   ]
  },
  {
   "cell_type": "code",
   "execution_count": 114,
   "id": "585c00fc",
   "metadata": {},
   "outputs": [],
   "source": [
    " \n",
    "def reversematrix(matrix):\n",
    "    matrix2 = []\n",
    "    for i in range(len(matrix)):\n",
    "        matrix2.append(matrix[i][::-1])\n",
    "    return matrix2\n",
    "    "
   ]
  },
  {
   "cell_type": "code",
   "execution_count": 115,
   "id": "20346ef4",
   "metadata": {},
   "outputs": [],
   "source": [
    "reversematx = reversematrix([[1,2,3,4],[5,3,6,7]])"
   ]
  },
  {
   "cell_type": "code",
   "execution_count": 116,
   "id": "b1455216",
   "metadata": {},
   "outputs": [
    {
     "data": {
      "text/plain": [
       "[[4, 3, 2, 1], [7, 6, 3, 5]]"
      ]
     },
     "execution_count": 116,
     "metadata": {},
     "output_type": "execute_result"
    }
   ],
   "source": [
    "reversematx"
   ]
  },
  {
   "cell_type": "code",
   "execution_count": 11,
   "id": "0df1e882",
   "metadata": {},
   "outputs": [
    {
     "name": "stdout",
     "output_type": "stream",
     "text": [
      "Enter a number : 407\n",
      "407 is an armstrong number\n"
     ]
    }
   ],
   "source": [
    "# finding armstrong number\n",
    "number = int(input(\"Enter a number : \"))\n",
    "temp = number\n",
    "fullsum = 0\n",
    "while temp > 0:\n",
    "    reminder = temp % 10\n",
    "    fullsum += reminder**3\n",
    "    temp//=10\n",
    "    \n",
    "if fullsum == number:\n",
    "    print(\"{} is an armstrong number\".format(number))\n",
    "else:\n",
    "    print(\"{} is not an armstrong number\".format(number))"
   ]
  },
  {
   "cell_type": "code",
   "execution_count": 15,
   "id": "b8528b1f",
   "metadata": {},
   "outputs": [
    {
     "name": "stdout",
     "output_type": "stream",
     "text": [
      "0 is an armstrong number\n",
      "1 is an armstrong number\n",
      "153 is an armstrong number\n",
      "370 is an armstrong number\n",
      "371 is an armstrong number\n",
      "407 is an armstrong number\n"
     ]
    }
   ],
   "source": [
    "for number in range(0,500):\n",
    "    temp = number\n",
    "    allsum = 0\n",
    "    while temp > 0:\n",
    "\n",
    "        reminder = temp%10\n",
    "        allsum += reminder**3\n",
    "        temp //= 10\n",
    "    if number == allsum:\n",
    "        print('{} is an armstrong number'.format(number))\n",
    "    "
   ]
  },
  {
   "cell_type": "code",
   "execution_count": 33,
   "id": "51138515",
   "metadata": {},
   "outputs": [
    {
     "name": "stdout",
     "output_type": "stream",
     "text": [
      "Enter a number : 28\n",
      "28 is a perfect number\n"
     ]
    }
   ],
   "source": [
    "# finding perfect number\n",
    "number = int(input(\"Enter a number : \"))\n",
    "divisor = []\n",
    "for val in range(1,(number+2)//2):\n",
    "    if number%val == 0:\n",
    "        divisor.append(val)\n",
    "if sum(divisor) == number:\n",
    "    print(\"{} is a perfect number\".format(number))\n",
    "else:\n",
    "    print(\"{} is not a perfect number\".format(number))\n",
    "    \n",
    "    \n"
   ]
  },
  {
   "cell_type": "code",
   "execution_count": 38,
   "id": "0b6027eb",
   "metadata": {},
   "outputs": [
    {
     "data": {
      "text/plain": [
       "4"
      ]
     },
     "execution_count": 38,
     "metadata": {},
     "output_type": "execute_result"
    }
   ],
   "source": [
    "#second largest number in a list\n",
    "unsort = [3,2,4,5]\n",
    "unsort.sort()\n",
    "unsort[-2]"
   ]
  },
  {
   "cell_type": "code",
   "execution_count": 266,
   "id": "526fe523",
   "metadata": {},
   "outputs": [],
   "source": [
    "mat = np.random.rand(3,4)"
   ]
  },
  {
   "cell_type": "code",
   "execution_count": 268,
   "id": "ecc36e9e",
   "metadata": {},
   "outputs": [
    {
     "data": {
      "text/plain": [
       "array([[0.15083067, 0.7691465 , 0.82916   , 0.09388171],\n",
       "       [0.54307028, 0.45597458, 0.74358637, 0.39657529],\n",
       "       [0.47338101, 0.47631758, 0.82208678, 0.9774105 ]])"
      ]
     },
     "execution_count": 268,
     "metadata": {},
     "output_type": "execute_result"
    }
   ],
   "source": [
    "mat"
   ]
  },
  {
   "cell_type": "code",
   "execution_count": 267,
   "id": "91b63540",
   "metadata": {},
   "outputs": [
    {
     "data": {
      "text/plain": [
       "array([[0.15083067, 0.54307028, 0.47338101],\n",
       "       [0.7691465 , 0.45597458, 0.47631758],\n",
       "       [0.82916   , 0.74358637, 0.82208678],\n",
       "       [0.09388171, 0.39657529, 0.9774105 ]])"
      ]
     },
     "execution_count": 267,
     "metadata": {},
     "output_type": "execute_result"
    }
   ],
   "source": [
    "mat.T"
   ]
  },
  {
   "cell_type": "code",
   "execution_count": 24,
   "id": "411043f6",
   "metadata": {},
   "outputs": [
    {
     "data": {
      "text/plain": [
       "[1, 5, 6, 7, 8, 34, 999]"
      ]
     },
     "execution_count": 24,
     "metadata": {},
     "output_type": "execute_result"
    }
   ],
   "source": [
    "#sorting algorith\n",
    "def sorter(lis):\n",
    "    for i in range(len(lis)):\n",
    "        for j in range(len(lis)):\n",
    "            if lis[i] < lis[j]:\n",
    "                lis[i],lis[j]=lis[j],lis[i]\n",
    "    return lis\n",
    "sorter([1,5,6,7,8,999,34])"
   ]
  },
  {
   "cell_type": "code",
   "execution_count": 3,
   "id": "0a4fca5a",
   "metadata": {},
   "outputs": [
    {
     "data": {
      "text/plain": [
       "([1, 3, 7, 8, 9, 10], {3: 2, 8: 2})"
      ]
     },
     "execution_count": 3,
     "metadata": {},
     "output_type": "execute_result"
    }
   ],
   "source": [
    "#Write a function to take the input a list. . example: [1,10,3,3,7,8,8,9]. The function should return a sorted list with no duplicates. The count of duplicate elements removed should also be returned.\n",
    "def sorter(ls):\n",
    "    ls.sort()\n",
    "    unq = set(ls)\n",
    "    dic = {i:ls.count(i) for i in ls if ls.count(i)>1}\n",
    "    return list(unq),dic\n",
    "ls = [1,10,3,3,7,8,8,9]\n",
    "sorter(ls)"
   ]
  },
  {
   "cell_type": "code",
   "execution_count": 22,
   "id": "a1368888",
   "metadata": {},
   "outputs": [],
   "source": [
    "# Sorting algorith can use for both ascending and descending \n",
    "a = [10,9,8,7,6,5,11,1]\n",
    "\n",
    "for i in range(len(a)):\n",
    "    minimum = i\n",
    "    for j in range(i+1,len(a)):\n",
    "        if a[minimum] > a[j]:\n",
    "            minimum = j\n",
    "           \n",
    "    a[i],a[minimum] = a[minimum],a[i]\n"
   ]
  },
  {
   "cell_type": "code",
   "execution_count": 23,
   "id": "7b9f21ef",
   "metadata": {},
   "outputs": [
    {
     "data": {
      "text/plain": [
       "[1, 5, 6, 7, 8, 9, 10, 11]"
      ]
     },
     "execution_count": 23,
     "metadata": {},
     "output_type": "execute_result"
    }
   ],
   "source": [
    "a"
   ]
  },
  {
   "cell_type": "code",
   "execution_count": null,
   "id": "952e763e",
   "metadata": {},
   "outputs": [],
   "source": []
  },
  {
   "cell_type": "code",
   "execution_count": 25,
   "id": "b442d82d",
   "metadata": {},
   "outputs": [
    {
     "data": {
      "text/plain": [
       "{'a': 2, 'b': 2, 'c': 1, 'd': 2, 'e': 1}"
      ]
     },
     "execution_count": 25,
     "metadata": {},
     "output_type": "execute_result"
    }
   ],
   "source": [
    "#String counter, counting each letter in a string\n",
    "st = \"aabbcdde\"\n",
    "cnt = {}\n",
    "for i in range(len(st)):\n",
    "    if st[i] in cnt.keys():\n",
    "        cnt[st[i]] +=1\n",
    "    else:\n",
    "        cnt[st[i]] = 1\n",
    "    \n",
    "cnt"
   ]
  },
  {
   "cell_type": "code",
   "execution_count": null,
   "id": "2c9bedd5",
   "metadata": {},
   "outputs": [],
   "source": []
  },
  {
   "cell_type": "code",
   "execution_count": 303,
   "id": "b9dc088b",
   "metadata": {},
   "outputs": [],
   "source": [
    "import pandas as pd\n",
    "import numpy as np"
   ]
  },
  {
   "cell_type": "code",
   "execution_count": 304,
   "id": "717102ca",
   "metadata": {},
   "outputs": [],
   "source": [
    "data = pd.read_csv(\"C:/Users/SHAHAMOH/Downloads/archive/CarPrice_Assignment.csv\")"
   ]
  },
  {
   "cell_type": "code",
   "execution_count": 305,
   "id": "259e19b4",
   "metadata": {},
   "outputs": [
    {
     "data": {
      "text/html": [
       "<div>\n",
       "<style scoped>\n",
       "    .dataframe tbody tr th:only-of-type {\n",
       "        vertical-align: middle;\n",
       "    }\n",
       "\n",
       "    .dataframe tbody tr th {\n",
       "        vertical-align: top;\n",
       "    }\n",
       "\n",
       "    .dataframe thead th {\n",
       "        text-align: right;\n",
       "    }\n",
       "</style>\n",
       "<table border=\"1\" class=\"dataframe\">\n",
       "  <thead>\n",
       "    <tr style=\"text-align: right;\">\n",
       "      <th></th>\n",
       "      <th>car_ID</th>\n",
       "      <th>symboling</th>\n",
       "      <th>CarName</th>\n",
       "      <th>fueltype</th>\n",
       "      <th>aspiration</th>\n",
       "      <th>doornumber</th>\n",
       "      <th>carbody</th>\n",
       "      <th>drivewheel</th>\n",
       "      <th>enginelocation</th>\n",
       "      <th>wheelbase</th>\n",
       "      <th>...</th>\n",
       "      <th>enginesize</th>\n",
       "      <th>fuelsystem</th>\n",
       "      <th>boreratio</th>\n",
       "      <th>stroke</th>\n",
       "      <th>compressionratio</th>\n",
       "      <th>horsepower</th>\n",
       "      <th>peakrpm</th>\n",
       "      <th>citympg</th>\n",
       "      <th>highwaympg</th>\n",
       "      <th>price</th>\n",
       "    </tr>\n",
       "  </thead>\n",
       "  <tbody>\n",
       "    <tr>\n",
       "      <th>0</th>\n",
       "      <td>1</td>\n",
       "      <td>3</td>\n",
       "      <td>alfa-romero giulia</td>\n",
       "      <td>gas</td>\n",
       "      <td>std</td>\n",
       "      <td>two</td>\n",
       "      <td>convertible</td>\n",
       "      <td>rwd</td>\n",
       "      <td>front</td>\n",
       "      <td>88.6</td>\n",
       "      <td>...</td>\n",
       "      <td>130</td>\n",
       "      <td>mpfi</td>\n",
       "      <td>3.47</td>\n",
       "      <td>2.68</td>\n",
       "      <td>9.0</td>\n",
       "      <td>111</td>\n",
       "      <td>5000</td>\n",
       "      <td>21</td>\n",
       "      <td>27</td>\n",
       "      <td>13495.0</td>\n",
       "    </tr>\n",
       "    <tr>\n",
       "      <th>1</th>\n",
       "      <td>2</td>\n",
       "      <td>3</td>\n",
       "      <td>alfa-romero stelvio</td>\n",
       "      <td>gas</td>\n",
       "      <td>std</td>\n",
       "      <td>two</td>\n",
       "      <td>convertible</td>\n",
       "      <td>rwd</td>\n",
       "      <td>front</td>\n",
       "      <td>88.6</td>\n",
       "      <td>...</td>\n",
       "      <td>130</td>\n",
       "      <td>mpfi</td>\n",
       "      <td>3.47</td>\n",
       "      <td>2.68</td>\n",
       "      <td>9.0</td>\n",
       "      <td>111</td>\n",
       "      <td>5000</td>\n",
       "      <td>21</td>\n",
       "      <td>27</td>\n",
       "      <td>16500.0</td>\n",
       "    </tr>\n",
       "    <tr>\n",
       "      <th>2</th>\n",
       "      <td>3</td>\n",
       "      <td>1</td>\n",
       "      <td>alfa-romero Quadrifoglio</td>\n",
       "      <td>gas</td>\n",
       "      <td>std</td>\n",
       "      <td>two</td>\n",
       "      <td>hatchback</td>\n",
       "      <td>rwd</td>\n",
       "      <td>front</td>\n",
       "      <td>94.5</td>\n",
       "      <td>...</td>\n",
       "      <td>152</td>\n",
       "      <td>mpfi</td>\n",
       "      <td>2.68</td>\n",
       "      <td>3.47</td>\n",
       "      <td>9.0</td>\n",
       "      <td>154</td>\n",
       "      <td>5000</td>\n",
       "      <td>19</td>\n",
       "      <td>26</td>\n",
       "      <td>16500.0</td>\n",
       "    </tr>\n",
       "    <tr>\n",
       "      <th>3</th>\n",
       "      <td>4</td>\n",
       "      <td>2</td>\n",
       "      <td>audi 100 ls</td>\n",
       "      <td>gas</td>\n",
       "      <td>std</td>\n",
       "      <td>four</td>\n",
       "      <td>sedan</td>\n",
       "      <td>fwd</td>\n",
       "      <td>front</td>\n",
       "      <td>99.8</td>\n",
       "      <td>...</td>\n",
       "      <td>109</td>\n",
       "      <td>mpfi</td>\n",
       "      <td>3.19</td>\n",
       "      <td>3.40</td>\n",
       "      <td>10.0</td>\n",
       "      <td>102</td>\n",
       "      <td>5500</td>\n",
       "      <td>24</td>\n",
       "      <td>30</td>\n",
       "      <td>13950.0</td>\n",
       "    </tr>\n",
       "    <tr>\n",
       "      <th>4</th>\n",
       "      <td>5</td>\n",
       "      <td>2</td>\n",
       "      <td>audi 100ls</td>\n",
       "      <td>gas</td>\n",
       "      <td>std</td>\n",
       "      <td>four</td>\n",
       "      <td>sedan</td>\n",
       "      <td>4wd</td>\n",
       "      <td>front</td>\n",
       "      <td>99.4</td>\n",
       "      <td>...</td>\n",
       "      <td>136</td>\n",
       "      <td>mpfi</td>\n",
       "      <td>3.19</td>\n",
       "      <td>3.40</td>\n",
       "      <td>8.0</td>\n",
       "      <td>115</td>\n",
       "      <td>5500</td>\n",
       "      <td>18</td>\n",
       "      <td>22</td>\n",
       "      <td>17450.0</td>\n",
       "    </tr>\n",
       "  </tbody>\n",
       "</table>\n",
       "<p>5 rows × 26 columns</p>\n",
       "</div>"
      ],
      "text/plain": [
       "   car_ID  symboling                   CarName fueltype aspiration doornumber  \\\n",
       "0       1          3        alfa-romero giulia      gas        std        two   \n",
       "1       2          3       alfa-romero stelvio      gas        std        two   \n",
       "2       3          1  alfa-romero Quadrifoglio      gas        std        two   \n",
       "3       4          2               audi 100 ls      gas        std       four   \n",
       "4       5          2                audi 100ls      gas        std       four   \n",
       "\n",
       "       carbody drivewheel enginelocation  wheelbase  ...  enginesize  \\\n",
       "0  convertible        rwd          front       88.6  ...         130   \n",
       "1  convertible        rwd          front       88.6  ...         130   \n",
       "2    hatchback        rwd          front       94.5  ...         152   \n",
       "3        sedan        fwd          front       99.8  ...         109   \n",
       "4        sedan        4wd          front       99.4  ...         136   \n",
       "\n",
       "   fuelsystem  boreratio  stroke compressionratio horsepower  peakrpm citympg  \\\n",
       "0        mpfi       3.47    2.68              9.0        111     5000      21   \n",
       "1        mpfi       3.47    2.68              9.0        111     5000      21   \n",
       "2        mpfi       2.68    3.47              9.0        154     5000      19   \n",
       "3        mpfi       3.19    3.40             10.0        102     5500      24   \n",
       "4        mpfi       3.19    3.40              8.0        115     5500      18   \n",
       "\n",
       "   highwaympg    price  \n",
       "0          27  13495.0  \n",
       "1          27  16500.0  \n",
       "2          26  16500.0  \n",
       "3          30  13950.0  \n",
       "4          22  17450.0  \n",
       "\n",
       "[5 rows x 26 columns]"
      ]
     },
     "execution_count": 305,
     "metadata": {},
     "output_type": "execute_result"
    }
   ],
   "source": [
    "data.head()"
   ]
  },
  {
   "cell_type": "code",
   "execution_count": 314,
   "id": "e12d087e",
   "metadata": {},
   "outputs": [
    {
     "data": {
      "text/plain": [
       "(205, 25)"
      ]
     },
     "execution_count": 314,
     "metadata": {},
     "output_type": "execute_result"
    }
   ],
   "source": [
    "data.shape"
   ]
  },
  {
   "cell_type": "code",
   "execution_count": 306,
   "id": "68064440",
   "metadata": {},
   "outputs": [
    {
     "data": {
      "text/html": [
       "<div>\n",
       "<style scoped>\n",
       "    .dataframe tbody tr th:only-of-type {\n",
       "        vertical-align: middle;\n",
       "    }\n",
       "\n",
       "    .dataframe tbody tr th {\n",
       "        vertical-align: top;\n",
       "    }\n",
       "\n",
       "    .dataframe thead th {\n",
       "        text-align: right;\n",
       "    }\n",
       "</style>\n",
       "<table border=\"1\" class=\"dataframe\">\n",
       "  <thead>\n",
       "    <tr style=\"text-align: right;\">\n",
       "      <th></th>\n",
       "      <th>car_ID</th>\n",
       "      <th>symboling</th>\n",
       "      <th>wheelbase</th>\n",
       "      <th>carlength</th>\n",
       "      <th>carwidth</th>\n",
       "      <th>carheight</th>\n",
       "      <th>curbweight</th>\n",
       "      <th>enginesize</th>\n",
       "      <th>boreratio</th>\n",
       "      <th>stroke</th>\n",
       "      <th>compressionratio</th>\n",
       "      <th>horsepower</th>\n",
       "      <th>peakrpm</th>\n",
       "      <th>citympg</th>\n",
       "      <th>highwaympg</th>\n",
       "      <th>price</th>\n",
       "    </tr>\n",
       "  </thead>\n",
       "  <tbody>\n",
       "    <tr>\n",
       "      <th>count</th>\n",
       "      <td>205.000000</td>\n",
       "      <td>205.000000</td>\n",
       "      <td>205.000000</td>\n",
       "      <td>205.000000</td>\n",
       "      <td>205.000000</td>\n",
       "      <td>205.000000</td>\n",
       "      <td>205.000000</td>\n",
       "      <td>205.000000</td>\n",
       "      <td>205.000000</td>\n",
       "      <td>205.000000</td>\n",
       "      <td>205.000000</td>\n",
       "      <td>205.000000</td>\n",
       "      <td>205.000000</td>\n",
       "      <td>205.000000</td>\n",
       "      <td>205.000000</td>\n",
       "      <td>205.000000</td>\n",
       "    </tr>\n",
       "    <tr>\n",
       "      <th>mean</th>\n",
       "      <td>103.000000</td>\n",
       "      <td>0.834146</td>\n",
       "      <td>98.756585</td>\n",
       "      <td>174.049268</td>\n",
       "      <td>65.907805</td>\n",
       "      <td>53.724878</td>\n",
       "      <td>2555.565854</td>\n",
       "      <td>126.907317</td>\n",
       "      <td>3.329756</td>\n",
       "      <td>3.255415</td>\n",
       "      <td>10.142537</td>\n",
       "      <td>104.117073</td>\n",
       "      <td>5125.121951</td>\n",
       "      <td>25.219512</td>\n",
       "      <td>30.751220</td>\n",
       "      <td>13276.710571</td>\n",
       "    </tr>\n",
       "    <tr>\n",
       "      <th>std</th>\n",
       "      <td>59.322565</td>\n",
       "      <td>1.245307</td>\n",
       "      <td>6.021776</td>\n",
       "      <td>12.337289</td>\n",
       "      <td>2.145204</td>\n",
       "      <td>2.443522</td>\n",
       "      <td>520.680204</td>\n",
       "      <td>41.642693</td>\n",
       "      <td>0.270844</td>\n",
       "      <td>0.313597</td>\n",
       "      <td>3.972040</td>\n",
       "      <td>39.544167</td>\n",
       "      <td>476.985643</td>\n",
       "      <td>6.542142</td>\n",
       "      <td>6.886443</td>\n",
       "      <td>7988.852332</td>\n",
       "    </tr>\n",
       "    <tr>\n",
       "      <th>min</th>\n",
       "      <td>1.000000</td>\n",
       "      <td>-2.000000</td>\n",
       "      <td>86.600000</td>\n",
       "      <td>141.100000</td>\n",
       "      <td>60.300000</td>\n",
       "      <td>47.800000</td>\n",
       "      <td>1488.000000</td>\n",
       "      <td>61.000000</td>\n",
       "      <td>2.540000</td>\n",
       "      <td>2.070000</td>\n",
       "      <td>7.000000</td>\n",
       "      <td>48.000000</td>\n",
       "      <td>4150.000000</td>\n",
       "      <td>13.000000</td>\n",
       "      <td>16.000000</td>\n",
       "      <td>5118.000000</td>\n",
       "    </tr>\n",
       "    <tr>\n",
       "      <th>25%</th>\n",
       "      <td>52.000000</td>\n",
       "      <td>0.000000</td>\n",
       "      <td>94.500000</td>\n",
       "      <td>166.300000</td>\n",
       "      <td>64.100000</td>\n",
       "      <td>52.000000</td>\n",
       "      <td>2145.000000</td>\n",
       "      <td>97.000000</td>\n",
       "      <td>3.150000</td>\n",
       "      <td>3.110000</td>\n",
       "      <td>8.600000</td>\n",
       "      <td>70.000000</td>\n",
       "      <td>4800.000000</td>\n",
       "      <td>19.000000</td>\n",
       "      <td>25.000000</td>\n",
       "      <td>7788.000000</td>\n",
       "    </tr>\n",
       "    <tr>\n",
       "      <th>50%</th>\n",
       "      <td>103.000000</td>\n",
       "      <td>1.000000</td>\n",
       "      <td>97.000000</td>\n",
       "      <td>173.200000</td>\n",
       "      <td>65.500000</td>\n",
       "      <td>54.100000</td>\n",
       "      <td>2414.000000</td>\n",
       "      <td>120.000000</td>\n",
       "      <td>3.310000</td>\n",
       "      <td>3.290000</td>\n",
       "      <td>9.000000</td>\n",
       "      <td>95.000000</td>\n",
       "      <td>5200.000000</td>\n",
       "      <td>24.000000</td>\n",
       "      <td>30.000000</td>\n",
       "      <td>10295.000000</td>\n",
       "    </tr>\n",
       "    <tr>\n",
       "      <th>75%</th>\n",
       "      <td>154.000000</td>\n",
       "      <td>2.000000</td>\n",
       "      <td>102.400000</td>\n",
       "      <td>183.100000</td>\n",
       "      <td>66.900000</td>\n",
       "      <td>55.500000</td>\n",
       "      <td>2935.000000</td>\n",
       "      <td>141.000000</td>\n",
       "      <td>3.580000</td>\n",
       "      <td>3.410000</td>\n",
       "      <td>9.400000</td>\n",
       "      <td>116.000000</td>\n",
       "      <td>5500.000000</td>\n",
       "      <td>30.000000</td>\n",
       "      <td>34.000000</td>\n",
       "      <td>16503.000000</td>\n",
       "    </tr>\n",
       "    <tr>\n",
       "      <th>max</th>\n",
       "      <td>205.000000</td>\n",
       "      <td>3.000000</td>\n",
       "      <td>120.900000</td>\n",
       "      <td>208.100000</td>\n",
       "      <td>72.300000</td>\n",
       "      <td>59.800000</td>\n",
       "      <td>4066.000000</td>\n",
       "      <td>326.000000</td>\n",
       "      <td>3.940000</td>\n",
       "      <td>4.170000</td>\n",
       "      <td>23.000000</td>\n",
       "      <td>288.000000</td>\n",
       "      <td>6600.000000</td>\n",
       "      <td>49.000000</td>\n",
       "      <td>54.000000</td>\n",
       "      <td>45400.000000</td>\n",
       "    </tr>\n",
       "  </tbody>\n",
       "</table>\n",
       "</div>"
      ],
      "text/plain": [
       "           car_ID   symboling   wheelbase   carlength    carwidth   carheight  \\\n",
       "count  205.000000  205.000000  205.000000  205.000000  205.000000  205.000000   \n",
       "mean   103.000000    0.834146   98.756585  174.049268   65.907805   53.724878   \n",
       "std     59.322565    1.245307    6.021776   12.337289    2.145204    2.443522   \n",
       "min      1.000000   -2.000000   86.600000  141.100000   60.300000   47.800000   \n",
       "25%     52.000000    0.000000   94.500000  166.300000   64.100000   52.000000   \n",
       "50%    103.000000    1.000000   97.000000  173.200000   65.500000   54.100000   \n",
       "75%    154.000000    2.000000  102.400000  183.100000   66.900000   55.500000   \n",
       "max    205.000000    3.000000  120.900000  208.100000   72.300000   59.800000   \n",
       "\n",
       "        curbweight  enginesize   boreratio      stroke  compressionratio  \\\n",
       "count   205.000000  205.000000  205.000000  205.000000        205.000000   \n",
       "mean   2555.565854  126.907317    3.329756    3.255415         10.142537   \n",
       "std     520.680204   41.642693    0.270844    0.313597          3.972040   \n",
       "min    1488.000000   61.000000    2.540000    2.070000          7.000000   \n",
       "25%    2145.000000   97.000000    3.150000    3.110000          8.600000   \n",
       "50%    2414.000000  120.000000    3.310000    3.290000          9.000000   \n",
       "75%    2935.000000  141.000000    3.580000    3.410000          9.400000   \n",
       "max    4066.000000  326.000000    3.940000    4.170000         23.000000   \n",
       "\n",
       "       horsepower      peakrpm     citympg  highwaympg         price  \n",
       "count  205.000000   205.000000  205.000000  205.000000    205.000000  \n",
       "mean   104.117073  5125.121951   25.219512   30.751220  13276.710571  \n",
       "std     39.544167   476.985643    6.542142    6.886443   7988.852332  \n",
       "min     48.000000  4150.000000   13.000000   16.000000   5118.000000  \n",
       "25%     70.000000  4800.000000   19.000000   25.000000   7788.000000  \n",
       "50%     95.000000  5200.000000   24.000000   30.000000  10295.000000  \n",
       "75%    116.000000  5500.000000   30.000000   34.000000  16503.000000  \n",
       "max    288.000000  6600.000000   49.000000   54.000000  45400.000000  "
      ]
     },
     "execution_count": 306,
     "metadata": {},
     "output_type": "execute_result"
    }
   ],
   "source": [
    "data.describe()"
   ]
  },
  {
   "cell_type": "code",
   "execution_count": 308,
   "id": "5559e79e",
   "metadata": {},
   "outputs": [],
   "source": [
    "price = data.price"
   ]
  },
  {
   "cell_type": "code",
   "execution_count": 309,
   "id": "9c22b315",
   "metadata": {},
   "outputs": [
    {
     "data": {
      "text/plain": [
       "0      13495.0\n",
       "1      16500.0\n",
       "2      16500.0\n",
       "3      13950.0\n",
       "4      17450.0\n",
       "        ...   \n",
       "200    16845.0\n",
       "201    19045.0\n",
       "202    21485.0\n",
       "203    22470.0\n",
       "204    22625.0\n",
       "Name: price, Length: 205, dtype: float64"
      ]
     },
     "execution_count": 309,
     "metadata": {},
     "output_type": "execute_result"
    }
   ],
   "source": [
    "price"
   ]
  },
  {
   "cell_type": "code",
   "execution_count": 310,
   "id": "1eb49db6",
   "metadata": {},
   "outputs": [],
   "source": [
    "data.drop(\"price\",axis=1,inplace=True)"
   ]
  },
  {
   "cell_type": "code",
   "execution_count": 312,
   "id": "993cd735",
   "metadata": {},
   "outputs": [
    {
     "data": {
      "text/plain": [
       "Index(['car_ID', 'symboling', 'CarName', 'fueltype', 'aspiration',\n",
       "       'doornumber', 'carbody', 'drivewheel', 'enginelocation', 'wheelbase',\n",
       "       'carlength', 'carwidth', 'carheight', 'curbweight', 'enginetype',\n",
       "       'cylindernumber', 'enginesize', 'fuelsystem', 'boreratio', 'stroke',\n",
       "       'compressionratio', 'horsepower', 'peakrpm', 'citympg', 'highwaympg'],\n",
       "      dtype='object')"
      ]
     },
     "execution_count": 312,
     "metadata": {},
     "output_type": "execute_result"
    }
   ],
   "source": [
    "data.columns"
   ]
  },
  {
   "cell_type": "code",
   "execution_count": null,
   "id": "b2f74479",
   "metadata": {},
   "outputs": [],
   "source": [
    "data['enginelocation'].hist"
   ]
  },
  {
   "cell_type": "code",
   "execution_count": 327,
   "id": "637cbd05",
   "metadata": {},
   "outputs": [],
   "source": [
    "dummy_data = pd.get_dummies(data)"
   ]
  },
  {
   "cell_type": "code",
   "execution_count": 328,
   "id": "0e0d5f8d",
   "metadata": {},
   "outputs": [
    {
     "data": {
      "text/html": [
       "<div>\n",
       "<style scoped>\n",
       "    .dataframe tbody tr th:only-of-type {\n",
       "        vertical-align: middle;\n",
       "    }\n",
       "\n",
       "    .dataframe tbody tr th {\n",
       "        vertical-align: top;\n",
       "    }\n",
       "\n",
       "    .dataframe thead th {\n",
       "        text-align: right;\n",
       "    }\n",
       "</style>\n",
       "<table border=\"1\" class=\"dataframe\">\n",
       "  <thead>\n",
       "    <tr style=\"text-align: right;\">\n",
       "      <th></th>\n",
       "      <th>car_ID</th>\n",
       "      <th>symboling</th>\n",
       "      <th>wheelbase</th>\n",
       "      <th>carlength</th>\n",
       "      <th>carwidth</th>\n",
       "      <th>carheight</th>\n",
       "      <th>curbweight</th>\n",
       "      <th>enginesize</th>\n",
       "      <th>boreratio</th>\n",
       "      <th>stroke</th>\n",
       "      <th>...</th>\n",
       "      <th>cylindernumber_twelve</th>\n",
       "      <th>cylindernumber_two</th>\n",
       "      <th>fuelsystem_1bbl</th>\n",
       "      <th>fuelsystem_2bbl</th>\n",
       "      <th>fuelsystem_4bbl</th>\n",
       "      <th>fuelsystem_idi</th>\n",
       "      <th>fuelsystem_mfi</th>\n",
       "      <th>fuelsystem_mpfi</th>\n",
       "      <th>fuelsystem_spdi</th>\n",
       "      <th>fuelsystem_spfi</th>\n",
       "    </tr>\n",
       "  </thead>\n",
       "  <tbody>\n",
       "    <tr>\n",
       "      <th>0</th>\n",
       "      <td>1</td>\n",
       "      <td>3</td>\n",
       "      <td>88.6</td>\n",
       "      <td>168.8</td>\n",
       "      <td>64.1</td>\n",
       "      <td>48.8</td>\n",
       "      <td>2548</td>\n",
       "      <td>130</td>\n",
       "      <td>3.47</td>\n",
       "      <td>2.68</td>\n",
       "      <td>...</td>\n",
       "      <td>0</td>\n",
       "      <td>0</td>\n",
       "      <td>0</td>\n",
       "      <td>0</td>\n",
       "      <td>0</td>\n",
       "      <td>0</td>\n",
       "      <td>0</td>\n",
       "      <td>1</td>\n",
       "      <td>0</td>\n",
       "      <td>0</td>\n",
       "    </tr>\n",
       "    <tr>\n",
       "      <th>1</th>\n",
       "      <td>2</td>\n",
       "      <td>3</td>\n",
       "      <td>88.6</td>\n",
       "      <td>168.8</td>\n",
       "      <td>64.1</td>\n",
       "      <td>48.8</td>\n",
       "      <td>2548</td>\n",
       "      <td>130</td>\n",
       "      <td>3.47</td>\n",
       "      <td>2.68</td>\n",
       "      <td>...</td>\n",
       "      <td>0</td>\n",
       "      <td>0</td>\n",
       "      <td>0</td>\n",
       "      <td>0</td>\n",
       "      <td>0</td>\n",
       "      <td>0</td>\n",
       "      <td>0</td>\n",
       "      <td>1</td>\n",
       "      <td>0</td>\n",
       "      <td>0</td>\n",
       "    </tr>\n",
       "    <tr>\n",
       "      <th>2</th>\n",
       "      <td>3</td>\n",
       "      <td>1</td>\n",
       "      <td>94.5</td>\n",
       "      <td>171.2</td>\n",
       "      <td>65.5</td>\n",
       "      <td>52.4</td>\n",
       "      <td>2823</td>\n",
       "      <td>152</td>\n",
       "      <td>2.68</td>\n",
       "      <td>3.47</td>\n",
       "      <td>...</td>\n",
       "      <td>0</td>\n",
       "      <td>0</td>\n",
       "      <td>0</td>\n",
       "      <td>0</td>\n",
       "      <td>0</td>\n",
       "      <td>0</td>\n",
       "      <td>0</td>\n",
       "      <td>1</td>\n",
       "      <td>0</td>\n",
       "      <td>0</td>\n",
       "    </tr>\n",
       "    <tr>\n",
       "      <th>3</th>\n",
       "      <td>4</td>\n",
       "      <td>2</td>\n",
       "      <td>99.8</td>\n",
       "      <td>176.6</td>\n",
       "      <td>66.2</td>\n",
       "      <td>54.3</td>\n",
       "      <td>2337</td>\n",
       "      <td>109</td>\n",
       "      <td>3.19</td>\n",
       "      <td>3.40</td>\n",
       "      <td>...</td>\n",
       "      <td>0</td>\n",
       "      <td>0</td>\n",
       "      <td>0</td>\n",
       "      <td>0</td>\n",
       "      <td>0</td>\n",
       "      <td>0</td>\n",
       "      <td>0</td>\n",
       "      <td>1</td>\n",
       "      <td>0</td>\n",
       "      <td>0</td>\n",
       "    </tr>\n",
       "    <tr>\n",
       "      <th>4</th>\n",
       "      <td>5</td>\n",
       "      <td>2</td>\n",
       "      <td>99.4</td>\n",
       "      <td>176.6</td>\n",
       "      <td>66.4</td>\n",
       "      <td>54.3</td>\n",
       "      <td>2824</td>\n",
       "      <td>136</td>\n",
       "      <td>3.19</td>\n",
       "      <td>3.40</td>\n",
       "      <td>...</td>\n",
       "      <td>0</td>\n",
       "      <td>0</td>\n",
       "      <td>0</td>\n",
       "      <td>0</td>\n",
       "      <td>0</td>\n",
       "      <td>0</td>\n",
       "      <td>0</td>\n",
       "      <td>1</td>\n",
       "      <td>0</td>\n",
       "      <td>0</td>\n",
       "    </tr>\n",
       "    <tr>\n",
       "      <th>...</th>\n",
       "      <td>...</td>\n",
       "      <td>...</td>\n",
       "      <td>...</td>\n",
       "      <td>...</td>\n",
       "      <td>...</td>\n",
       "      <td>...</td>\n",
       "      <td>...</td>\n",
       "      <td>...</td>\n",
       "      <td>...</td>\n",
       "      <td>...</td>\n",
       "      <td>...</td>\n",
       "      <td>...</td>\n",
       "      <td>...</td>\n",
       "      <td>...</td>\n",
       "      <td>...</td>\n",
       "      <td>...</td>\n",
       "      <td>...</td>\n",
       "      <td>...</td>\n",
       "      <td>...</td>\n",
       "      <td>...</td>\n",
       "      <td>...</td>\n",
       "    </tr>\n",
       "    <tr>\n",
       "      <th>200</th>\n",
       "      <td>201</td>\n",
       "      <td>-1</td>\n",
       "      <td>109.1</td>\n",
       "      <td>188.8</td>\n",
       "      <td>68.9</td>\n",
       "      <td>55.5</td>\n",
       "      <td>2952</td>\n",
       "      <td>141</td>\n",
       "      <td>3.78</td>\n",
       "      <td>3.15</td>\n",
       "      <td>...</td>\n",
       "      <td>0</td>\n",
       "      <td>0</td>\n",
       "      <td>0</td>\n",
       "      <td>0</td>\n",
       "      <td>0</td>\n",
       "      <td>0</td>\n",
       "      <td>0</td>\n",
       "      <td>1</td>\n",
       "      <td>0</td>\n",
       "      <td>0</td>\n",
       "    </tr>\n",
       "    <tr>\n",
       "      <th>201</th>\n",
       "      <td>202</td>\n",
       "      <td>-1</td>\n",
       "      <td>109.1</td>\n",
       "      <td>188.8</td>\n",
       "      <td>68.8</td>\n",
       "      <td>55.5</td>\n",
       "      <td>3049</td>\n",
       "      <td>141</td>\n",
       "      <td>3.78</td>\n",
       "      <td>3.15</td>\n",
       "      <td>...</td>\n",
       "      <td>0</td>\n",
       "      <td>0</td>\n",
       "      <td>0</td>\n",
       "      <td>0</td>\n",
       "      <td>0</td>\n",
       "      <td>0</td>\n",
       "      <td>0</td>\n",
       "      <td>1</td>\n",
       "      <td>0</td>\n",
       "      <td>0</td>\n",
       "    </tr>\n",
       "    <tr>\n",
       "      <th>202</th>\n",
       "      <td>203</td>\n",
       "      <td>-1</td>\n",
       "      <td>109.1</td>\n",
       "      <td>188.8</td>\n",
       "      <td>68.9</td>\n",
       "      <td>55.5</td>\n",
       "      <td>3012</td>\n",
       "      <td>173</td>\n",
       "      <td>3.58</td>\n",
       "      <td>2.87</td>\n",
       "      <td>...</td>\n",
       "      <td>0</td>\n",
       "      <td>0</td>\n",
       "      <td>0</td>\n",
       "      <td>0</td>\n",
       "      <td>0</td>\n",
       "      <td>0</td>\n",
       "      <td>0</td>\n",
       "      <td>1</td>\n",
       "      <td>0</td>\n",
       "      <td>0</td>\n",
       "    </tr>\n",
       "    <tr>\n",
       "      <th>203</th>\n",
       "      <td>204</td>\n",
       "      <td>-1</td>\n",
       "      <td>109.1</td>\n",
       "      <td>188.8</td>\n",
       "      <td>68.9</td>\n",
       "      <td>55.5</td>\n",
       "      <td>3217</td>\n",
       "      <td>145</td>\n",
       "      <td>3.01</td>\n",
       "      <td>3.40</td>\n",
       "      <td>...</td>\n",
       "      <td>0</td>\n",
       "      <td>0</td>\n",
       "      <td>0</td>\n",
       "      <td>0</td>\n",
       "      <td>0</td>\n",
       "      <td>1</td>\n",
       "      <td>0</td>\n",
       "      <td>0</td>\n",
       "      <td>0</td>\n",
       "      <td>0</td>\n",
       "    </tr>\n",
       "    <tr>\n",
       "      <th>204</th>\n",
       "      <td>205</td>\n",
       "      <td>-1</td>\n",
       "      <td>109.1</td>\n",
       "      <td>188.8</td>\n",
       "      <td>68.9</td>\n",
       "      <td>55.5</td>\n",
       "      <td>3062</td>\n",
       "      <td>141</td>\n",
       "      <td>3.78</td>\n",
       "      <td>3.15</td>\n",
       "      <td>...</td>\n",
       "      <td>0</td>\n",
       "      <td>0</td>\n",
       "      <td>0</td>\n",
       "      <td>0</td>\n",
       "      <td>0</td>\n",
       "      <td>0</td>\n",
       "      <td>0</td>\n",
       "      <td>1</td>\n",
       "      <td>0</td>\n",
       "      <td>0</td>\n",
       "    </tr>\n",
       "  </tbody>\n",
       "</table>\n",
       "<p>205 rows × 200 columns</p>\n",
       "</div>"
      ],
      "text/plain": [
       "     car_ID  symboling  wheelbase  carlength  carwidth  carheight  curbweight  \\\n",
       "0         1          3       88.6      168.8      64.1       48.8        2548   \n",
       "1         2          3       88.6      168.8      64.1       48.8        2548   \n",
       "2         3          1       94.5      171.2      65.5       52.4        2823   \n",
       "3         4          2       99.8      176.6      66.2       54.3        2337   \n",
       "4         5          2       99.4      176.6      66.4       54.3        2824   \n",
       "..      ...        ...        ...        ...       ...        ...         ...   \n",
       "200     201         -1      109.1      188.8      68.9       55.5        2952   \n",
       "201     202         -1      109.1      188.8      68.8       55.5        3049   \n",
       "202     203         -1      109.1      188.8      68.9       55.5        3012   \n",
       "203     204         -1      109.1      188.8      68.9       55.5        3217   \n",
       "204     205         -1      109.1      188.8      68.9       55.5        3062   \n",
       "\n",
       "     enginesize  boreratio  stroke  ...  cylindernumber_twelve  \\\n",
       "0           130       3.47    2.68  ...                      0   \n",
       "1           130       3.47    2.68  ...                      0   \n",
       "2           152       2.68    3.47  ...                      0   \n",
       "3           109       3.19    3.40  ...                      0   \n",
       "4           136       3.19    3.40  ...                      0   \n",
       "..          ...        ...     ...  ...                    ...   \n",
       "200         141       3.78    3.15  ...                      0   \n",
       "201         141       3.78    3.15  ...                      0   \n",
       "202         173       3.58    2.87  ...                      0   \n",
       "203         145       3.01    3.40  ...                      0   \n",
       "204         141       3.78    3.15  ...                      0   \n",
       "\n",
       "     cylindernumber_two  fuelsystem_1bbl  fuelsystem_2bbl  fuelsystem_4bbl  \\\n",
       "0                     0                0                0                0   \n",
       "1                     0                0                0                0   \n",
       "2                     0                0                0                0   \n",
       "3                     0                0                0                0   \n",
       "4                     0                0                0                0   \n",
       "..                  ...              ...              ...              ...   \n",
       "200                   0                0                0                0   \n",
       "201                   0                0                0                0   \n",
       "202                   0                0                0                0   \n",
       "203                   0                0                0                0   \n",
       "204                   0                0                0                0   \n",
       "\n",
       "     fuelsystem_idi  fuelsystem_mfi  fuelsystem_mpfi  fuelsystem_spdi  \\\n",
       "0                 0               0                1                0   \n",
       "1                 0               0                1                0   \n",
       "2                 0               0                1                0   \n",
       "3                 0               0                1                0   \n",
       "4                 0               0                1                0   \n",
       "..              ...             ...              ...              ...   \n",
       "200               0               0                1                0   \n",
       "201               0               0                1                0   \n",
       "202               0               0                1                0   \n",
       "203               1               0                0                0   \n",
       "204               0               0                1                0   \n",
       "\n",
       "     fuelsystem_spfi  \n",
       "0                  0  \n",
       "1                  0  \n",
       "2                  0  \n",
       "3                  0  \n",
       "4                  0  \n",
       "..               ...  \n",
       "200                0  \n",
       "201                0  \n",
       "202                0  \n",
       "203                0  \n",
       "204                0  \n",
       "\n",
       "[205 rows x 200 columns]"
      ]
     },
     "execution_count": 328,
     "metadata": {},
     "output_type": "execute_result"
    }
   ],
   "source": [
    "dummy_data"
   ]
  },
  {
   "cell_type": "code",
   "execution_count": 315,
   "id": "be0bbe9b",
   "metadata": {},
   "outputs": [],
   "source": [
    "from sklearn.preprocessing import OneHotEncoder"
   ]
  },
  {
   "cell_type": "code",
   "execution_count": 321,
   "id": "aa3a2302",
   "metadata": {},
   "outputs": [],
   "source": [
    "from sklearn.model_selection import train_test_split\n",
    "from sklearn.linear_model import LinearRegression"
   ]
  },
  {
   "cell_type": "code",
   "execution_count": 329,
   "id": "8467b9e2",
   "metadata": {},
   "outputs": [],
   "source": [
    "x_train,x_test,y_train,t_test = train_test_split(dummy_data,price,test_size=0.20)"
   ]
  },
  {
   "cell_type": "code",
   "execution_count": 330,
   "id": "098b6a66",
   "metadata": {},
   "outputs": [
    {
     "data": {
      "text/html": [
       "<div>\n",
       "<style scoped>\n",
       "    .dataframe tbody tr th:only-of-type {\n",
       "        vertical-align: middle;\n",
       "    }\n",
       "\n",
       "    .dataframe tbody tr th {\n",
       "        vertical-align: top;\n",
       "    }\n",
       "\n",
       "    .dataframe thead th {\n",
       "        text-align: right;\n",
       "    }\n",
       "</style>\n",
       "<table border=\"1\" class=\"dataframe\">\n",
       "  <thead>\n",
       "    <tr style=\"text-align: right;\">\n",
       "      <th></th>\n",
       "      <th>car_ID</th>\n",
       "      <th>symboling</th>\n",
       "      <th>wheelbase</th>\n",
       "      <th>carlength</th>\n",
       "      <th>carwidth</th>\n",
       "      <th>carheight</th>\n",
       "      <th>curbweight</th>\n",
       "      <th>enginesize</th>\n",
       "      <th>boreratio</th>\n",
       "      <th>stroke</th>\n",
       "      <th>...</th>\n",
       "      <th>cylindernumber_twelve</th>\n",
       "      <th>cylindernumber_two</th>\n",
       "      <th>fuelsystem_1bbl</th>\n",
       "      <th>fuelsystem_2bbl</th>\n",
       "      <th>fuelsystem_4bbl</th>\n",
       "      <th>fuelsystem_idi</th>\n",
       "      <th>fuelsystem_mfi</th>\n",
       "      <th>fuelsystem_mpfi</th>\n",
       "      <th>fuelsystem_spdi</th>\n",
       "      <th>fuelsystem_spfi</th>\n",
       "    </tr>\n",
       "  </thead>\n",
       "  <tbody>\n",
       "    <tr>\n",
       "      <th>186</th>\n",
       "      <td>187</td>\n",
       "      <td>2</td>\n",
       "      <td>97.3</td>\n",
       "      <td>171.7</td>\n",
       "      <td>65.5</td>\n",
       "      <td>55.7</td>\n",
       "      <td>2275</td>\n",
       "      <td>109</td>\n",
       "      <td>3.19</td>\n",
       "      <td>3.40</td>\n",
       "      <td>...</td>\n",
       "      <td>0</td>\n",
       "      <td>0</td>\n",
       "      <td>0</td>\n",
       "      <td>0</td>\n",
       "      <td>0</td>\n",
       "      <td>0</td>\n",
       "      <td>0</td>\n",
       "      <td>1</td>\n",
       "      <td>0</td>\n",
       "      <td>0</td>\n",
       "    </tr>\n",
       "    <tr>\n",
       "      <th>148</th>\n",
       "      <td>149</td>\n",
       "      <td>0</td>\n",
       "      <td>96.9</td>\n",
       "      <td>173.6</td>\n",
       "      <td>65.4</td>\n",
       "      <td>54.9</td>\n",
       "      <td>2420</td>\n",
       "      <td>108</td>\n",
       "      <td>3.62</td>\n",
       "      <td>2.64</td>\n",
       "      <td>...</td>\n",
       "      <td>0</td>\n",
       "      <td>0</td>\n",
       "      <td>0</td>\n",
       "      <td>1</td>\n",
       "      <td>0</td>\n",
       "      <td>0</td>\n",
       "      <td>0</td>\n",
       "      <td>0</td>\n",
       "      <td>0</td>\n",
       "      <td>0</td>\n",
       "    </tr>\n",
       "    <tr>\n",
       "      <th>81</th>\n",
       "      <td>82</td>\n",
       "      <td>3</td>\n",
       "      <td>96.3</td>\n",
       "      <td>173.0</td>\n",
       "      <td>65.4</td>\n",
       "      <td>49.4</td>\n",
       "      <td>2328</td>\n",
       "      <td>122</td>\n",
       "      <td>3.35</td>\n",
       "      <td>3.46</td>\n",
       "      <td>...</td>\n",
       "      <td>0</td>\n",
       "      <td>0</td>\n",
       "      <td>0</td>\n",
       "      <td>1</td>\n",
       "      <td>0</td>\n",
       "      <td>0</td>\n",
       "      <td>0</td>\n",
       "      <td>0</td>\n",
       "      <td>0</td>\n",
       "      <td>0</td>\n",
       "    </tr>\n",
       "    <tr>\n",
       "      <th>18</th>\n",
       "      <td>19</td>\n",
       "      <td>2</td>\n",
       "      <td>88.4</td>\n",
       "      <td>141.1</td>\n",
       "      <td>60.3</td>\n",
       "      <td>53.2</td>\n",
       "      <td>1488</td>\n",
       "      <td>61</td>\n",
       "      <td>2.91</td>\n",
       "      <td>3.03</td>\n",
       "      <td>...</td>\n",
       "      <td>0</td>\n",
       "      <td>0</td>\n",
       "      <td>0</td>\n",
       "      <td>1</td>\n",
       "      <td>0</td>\n",
       "      <td>0</td>\n",
       "      <td>0</td>\n",
       "      <td>0</td>\n",
       "      <td>0</td>\n",
       "      <td>0</td>\n",
       "    </tr>\n",
       "    <tr>\n",
       "      <th>201</th>\n",
       "      <td>202</td>\n",
       "      <td>-1</td>\n",
       "      <td>109.1</td>\n",
       "      <td>188.8</td>\n",
       "      <td>68.8</td>\n",
       "      <td>55.5</td>\n",
       "      <td>3049</td>\n",
       "      <td>141</td>\n",
       "      <td>3.78</td>\n",
       "      <td>3.15</td>\n",
       "      <td>...</td>\n",
       "      <td>0</td>\n",
       "      <td>0</td>\n",
       "      <td>0</td>\n",
       "      <td>0</td>\n",
       "      <td>0</td>\n",
       "      <td>0</td>\n",
       "      <td>0</td>\n",
       "      <td>1</td>\n",
       "      <td>0</td>\n",
       "      <td>0</td>\n",
       "    </tr>\n",
       "    <tr>\n",
       "      <th>...</th>\n",
       "      <td>...</td>\n",
       "      <td>...</td>\n",
       "      <td>...</td>\n",
       "      <td>...</td>\n",
       "      <td>...</td>\n",
       "      <td>...</td>\n",
       "      <td>...</td>\n",
       "      <td>...</td>\n",
       "      <td>...</td>\n",
       "      <td>...</td>\n",
       "      <td>...</td>\n",
       "      <td>...</td>\n",
       "      <td>...</td>\n",
       "      <td>...</td>\n",
       "      <td>...</td>\n",
       "      <td>...</td>\n",
       "      <td>...</td>\n",
       "      <td>...</td>\n",
       "      <td>...</td>\n",
       "      <td>...</td>\n",
       "      <td>...</td>\n",
       "    </tr>\n",
       "    <tr>\n",
       "      <th>103</th>\n",
       "      <td>104</td>\n",
       "      <td>0</td>\n",
       "      <td>100.4</td>\n",
       "      <td>184.6</td>\n",
       "      <td>66.5</td>\n",
       "      <td>55.1</td>\n",
       "      <td>3060</td>\n",
       "      <td>181</td>\n",
       "      <td>3.43</td>\n",
       "      <td>3.27</td>\n",
       "      <td>...</td>\n",
       "      <td>0</td>\n",
       "      <td>0</td>\n",
       "      <td>0</td>\n",
       "      <td>0</td>\n",
       "      <td>0</td>\n",
       "      <td>0</td>\n",
       "      <td>0</td>\n",
       "      <td>1</td>\n",
       "      <td>0</td>\n",
       "      <td>0</td>\n",
       "    </tr>\n",
       "    <tr>\n",
       "      <th>41</th>\n",
       "      <td>42</td>\n",
       "      <td>0</td>\n",
       "      <td>96.5</td>\n",
       "      <td>175.4</td>\n",
       "      <td>65.2</td>\n",
       "      <td>54.1</td>\n",
       "      <td>2465</td>\n",
       "      <td>110</td>\n",
       "      <td>3.15</td>\n",
       "      <td>3.58</td>\n",
       "      <td>...</td>\n",
       "      <td>0</td>\n",
       "      <td>0</td>\n",
       "      <td>0</td>\n",
       "      <td>0</td>\n",
       "      <td>0</td>\n",
       "      <td>0</td>\n",
       "      <td>0</td>\n",
       "      <td>1</td>\n",
       "      <td>0</td>\n",
       "      <td>0</td>\n",
       "    </tr>\n",
       "    <tr>\n",
       "      <th>15</th>\n",
       "      <td>16</td>\n",
       "      <td>0</td>\n",
       "      <td>103.5</td>\n",
       "      <td>189.0</td>\n",
       "      <td>66.9</td>\n",
       "      <td>55.7</td>\n",
       "      <td>3230</td>\n",
       "      <td>209</td>\n",
       "      <td>3.62</td>\n",
       "      <td>3.39</td>\n",
       "      <td>...</td>\n",
       "      <td>0</td>\n",
       "      <td>0</td>\n",
       "      <td>0</td>\n",
       "      <td>0</td>\n",
       "      <td>0</td>\n",
       "      <td>0</td>\n",
       "      <td>0</td>\n",
       "      <td>1</td>\n",
       "      <td>0</td>\n",
       "      <td>0</td>\n",
       "    </tr>\n",
       "    <tr>\n",
       "      <th>89</th>\n",
       "      <td>90</td>\n",
       "      <td>1</td>\n",
       "      <td>94.5</td>\n",
       "      <td>165.3</td>\n",
       "      <td>63.8</td>\n",
       "      <td>54.5</td>\n",
       "      <td>1889</td>\n",
       "      <td>97</td>\n",
       "      <td>3.15</td>\n",
       "      <td>3.29</td>\n",
       "      <td>...</td>\n",
       "      <td>0</td>\n",
       "      <td>0</td>\n",
       "      <td>0</td>\n",
       "      <td>1</td>\n",
       "      <td>0</td>\n",
       "      <td>0</td>\n",
       "      <td>0</td>\n",
       "      <td>0</td>\n",
       "      <td>0</td>\n",
       "      <td>0</td>\n",
       "    </tr>\n",
       "    <tr>\n",
       "      <th>198</th>\n",
       "      <td>199</td>\n",
       "      <td>-2</td>\n",
       "      <td>104.3</td>\n",
       "      <td>188.8</td>\n",
       "      <td>67.2</td>\n",
       "      <td>56.2</td>\n",
       "      <td>3045</td>\n",
       "      <td>130</td>\n",
       "      <td>3.62</td>\n",
       "      <td>3.15</td>\n",
       "      <td>...</td>\n",
       "      <td>0</td>\n",
       "      <td>0</td>\n",
       "      <td>0</td>\n",
       "      <td>0</td>\n",
       "      <td>0</td>\n",
       "      <td>0</td>\n",
       "      <td>0</td>\n",
       "      <td>1</td>\n",
       "      <td>0</td>\n",
       "      <td>0</td>\n",
       "    </tr>\n",
       "  </tbody>\n",
       "</table>\n",
       "<p>164 rows × 200 columns</p>\n",
       "</div>"
      ],
      "text/plain": [
       "     car_ID  symboling  wheelbase  carlength  carwidth  carheight  curbweight  \\\n",
       "186     187          2       97.3      171.7      65.5       55.7        2275   \n",
       "148     149          0       96.9      173.6      65.4       54.9        2420   \n",
       "81       82          3       96.3      173.0      65.4       49.4        2328   \n",
       "18       19          2       88.4      141.1      60.3       53.2        1488   \n",
       "201     202         -1      109.1      188.8      68.8       55.5        3049   \n",
       "..      ...        ...        ...        ...       ...        ...         ...   \n",
       "103     104          0      100.4      184.6      66.5       55.1        3060   \n",
       "41       42          0       96.5      175.4      65.2       54.1        2465   \n",
       "15       16          0      103.5      189.0      66.9       55.7        3230   \n",
       "89       90          1       94.5      165.3      63.8       54.5        1889   \n",
       "198     199         -2      104.3      188.8      67.2       56.2        3045   \n",
       "\n",
       "     enginesize  boreratio  stroke  ...  cylindernumber_twelve  \\\n",
       "186         109       3.19    3.40  ...                      0   \n",
       "148         108       3.62    2.64  ...                      0   \n",
       "81          122       3.35    3.46  ...                      0   \n",
       "18           61       2.91    3.03  ...                      0   \n",
       "201         141       3.78    3.15  ...                      0   \n",
       "..          ...        ...     ...  ...                    ...   \n",
       "103         181       3.43    3.27  ...                      0   \n",
       "41          110       3.15    3.58  ...                      0   \n",
       "15          209       3.62    3.39  ...                      0   \n",
       "89           97       3.15    3.29  ...                      0   \n",
       "198         130       3.62    3.15  ...                      0   \n",
       "\n",
       "     cylindernumber_two  fuelsystem_1bbl  fuelsystem_2bbl  fuelsystem_4bbl  \\\n",
       "186                   0                0                0                0   \n",
       "148                   0                0                1                0   \n",
       "81                    0                0                1                0   \n",
       "18                    0                0                1                0   \n",
       "201                   0                0                0                0   \n",
       "..                  ...              ...              ...              ...   \n",
       "103                   0                0                0                0   \n",
       "41                    0                0                0                0   \n",
       "15                    0                0                0                0   \n",
       "89                    0                0                1                0   \n",
       "198                   0                0                0                0   \n",
       "\n",
       "     fuelsystem_idi  fuelsystem_mfi  fuelsystem_mpfi  fuelsystem_spdi  \\\n",
       "186               0               0                1                0   \n",
       "148               0               0                0                0   \n",
       "81                0               0                0                0   \n",
       "18                0               0                0                0   \n",
       "201               0               0                1                0   \n",
       "..              ...             ...              ...              ...   \n",
       "103               0               0                1                0   \n",
       "41                0               0                1                0   \n",
       "15                0               0                1                0   \n",
       "89                0               0                0                0   \n",
       "198               0               0                1                0   \n",
       "\n",
       "     fuelsystem_spfi  \n",
       "186                0  \n",
       "148                0  \n",
       "81                 0  \n",
       "18                 0  \n",
       "201                0  \n",
       "..               ...  \n",
       "103                0  \n",
       "41                 0  \n",
       "15                 0  \n",
       "89                 0  \n",
       "198                0  \n",
       "\n",
       "[164 rows x 200 columns]"
      ]
     },
     "execution_count": 330,
     "metadata": {},
     "output_type": "execute_result"
    }
   ],
   "source": [
    "x_train"
   ]
  },
  {
   "cell_type": "code",
   "execution_count": 331,
   "id": "083efbb5",
   "metadata": {},
   "outputs": [],
   "source": [
    "reg = LinearRegression()"
   ]
  },
  {
   "cell_type": "code",
   "execution_count": 332,
   "id": "20b18543",
   "metadata": {},
   "outputs": [
    {
     "data": {
      "text/plain": [
       "LinearRegression()"
      ]
     },
     "execution_count": 332,
     "metadata": {},
     "output_type": "execute_result"
    }
   ],
   "source": [
    "reg.fit(x_train,y_train)"
   ]
  },
  {
   "cell_type": "code",
   "execution_count": 334,
   "id": "c4d606d4",
   "metadata": {},
   "outputs": [
    {
     "name": "stdout",
     "output_type": "stream",
     "text": [
      "-0.755305033322972\n"
     ]
    }
   ],
   "source": [
    "print(reg.score(x_test,t_test))"
   ]
  },
  {
   "cell_type": "code",
   "execution_count": 342,
   "id": "1005857b",
   "metadata": {},
   "outputs": [
    {
     "data": {
      "text/plain": [
       "array([12266.16052863])"
      ]
     },
     "execution_count": 342,
     "metadata": {},
     "output_type": "execute_result"
    }
   ],
   "source": [
    "reg.predict(x_test[:1])"
   ]
  },
  {
   "cell_type": "code",
   "execution_count": 343,
   "id": "ecd5007d",
   "metadata": {},
   "outputs": [
    {
     "data": {
      "text/plain": [
       "143    9960.0\n",
       "Name: price, dtype: float64"
      ]
     },
     "execution_count": 343,
     "metadata": {},
     "output_type": "execute_result"
    }
   ],
   "source": [
    "t_test[:1]"
   ]
  },
  {
   "cell_type": "code",
   "execution_count": 336,
   "id": "96b858fa",
   "metadata": {},
   "outputs": [
    {
     "data": {
      "text/html": [
       "<div>\n",
       "<style scoped>\n",
       "    .dataframe tbody tr th:only-of-type {\n",
       "        vertical-align: middle;\n",
       "    }\n",
       "\n",
       "    .dataframe tbody tr th {\n",
       "        vertical-align: top;\n",
       "    }\n",
       "\n",
       "    .dataframe thead th {\n",
       "        text-align: right;\n",
       "    }\n",
       "</style>\n",
       "<table border=\"1\" class=\"dataframe\">\n",
       "  <thead>\n",
       "    <tr style=\"text-align: right;\">\n",
       "      <th></th>\n",
       "      <th>car_ID</th>\n",
       "      <th>symboling</th>\n",
       "      <th>wheelbase</th>\n",
       "      <th>carlength</th>\n",
       "      <th>carwidth</th>\n",
       "      <th>carheight</th>\n",
       "      <th>curbweight</th>\n",
       "      <th>enginesize</th>\n",
       "      <th>boreratio</th>\n",
       "      <th>stroke</th>\n",
       "      <th>...</th>\n",
       "      <th>cylindernumber_twelve</th>\n",
       "      <th>cylindernumber_two</th>\n",
       "      <th>fuelsystem_1bbl</th>\n",
       "      <th>fuelsystem_2bbl</th>\n",
       "      <th>fuelsystem_4bbl</th>\n",
       "      <th>fuelsystem_idi</th>\n",
       "      <th>fuelsystem_mfi</th>\n",
       "      <th>fuelsystem_mpfi</th>\n",
       "      <th>fuelsystem_spdi</th>\n",
       "      <th>fuelsystem_spfi</th>\n",
       "    </tr>\n",
       "  </thead>\n",
       "  <tbody>\n",
       "    <tr>\n",
       "      <th>143</th>\n",
       "      <td>144</td>\n",
       "      <td>0</td>\n",
       "      <td>97.2</td>\n",
       "      <td>172.0</td>\n",
       "      <td>65.4</td>\n",
       "      <td>52.5</td>\n",
       "      <td>2340</td>\n",
       "      <td>108</td>\n",
       "      <td>3.62</td>\n",
       "      <td>2.64</td>\n",
       "      <td>...</td>\n",
       "      <td>0</td>\n",
       "      <td>0</td>\n",
       "      <td>0</td>\n",
       "      <td>0</td>\n",
       "      <td>0</td>\n",
       "      <td>0</td>\n",
       "      <td>0</td>\n",
       "      <td>1</td>\n",
       "      <td>0</td>\n",
       "      <td>0</td>\n",
       "    </tr>\n",
       "  </tbody>\n",
       "</table>\n",
       "<p>1 rows × 200 columns</p>\n",
       "</div>"
      ],
      "text/plain": [
       "     car_ID  symboling  wheelbase  carlength  carwidth  carheight  curbweight  \\\n",
       "143     144          0       97.2      172.0      65.4       52.5        2340   \n",
       "\n",
       "     enginesize  boreratio  stroke  ...  cylindernumber_twelve  \\\n",
       "143         108       3.62    2.64  ...                      0   \n",
       "\n",
       "     cylindernumber_two  fuelsystem_1bbl  fuelsystem_2bbl  fuelsystem_4bbl  \\\n",
       "143                   0                0                0                0   \n",
       "\n",
       "     fuelsystem_idi  fuelsystem_mfi  fuelsystem_mpfi  fuelsystem_spdi  \\\n",
       "143               0               0                1                0   \n",
       "\n",
       "     fuelsystem_spfi  \n",
       "143                0  \n",
       "\n",
       "[1 rows x 200 columns]"
      ]
     },
     "execution_count": 336,
     "metadata": {},
     "output_type": "execute_result"
    }
   ],
   "source": [
    "x_test[:1]"
   ]
  },
  {
   "cell_type": "code",
   "execution_count": 341,
   "id": "77ee37d6",
   "metadata": {},
   "outputs": [
    {
     "data": {
      "text/plain": [
       "143    9960.0\n",
       "Name: price, dtype: float64"
      ]
     },
     "execution_count": 341,
     "metadata": {},
     "output_type": "execute_result"
    }
   ],
   "source": [
    "t_test[:1]"
   ]
  },
  {
   "cell_type": "markdown",
   "id": "c8f272db",
   "metadata": {},
   "source": [
    "## ASCII Conversion"
   ]
  },
  {
   "cell_type": "code",
   "execution_count": 2,
   "id": "42e3f283",
   "metadata": {},
   "outputs": [
    {
     "data": {
      "text/plain": [
       "97"
      ]
     },
     "execution_count": 2,
     "metadata": {},
     "output_type": "execute_result"
    }
   ],
   "source": [
    "ord(\"a\")"
   ]
  },
  {
   "cell_type": "code",
   "execution_count": 31,
   "id": "e9eff317",
   "metadata": {},
   "outputs": [
    {
     "ename": "AssertionError",
     "evalue": "",
     "output_type": "error",
     "traceback": [
      "\u001b[1;31m---------------------------------------------------------------------------\u001b[0m",
      "\u001b[1;31mAssertionError\u001b[0m                            Traceback (most recent call last)",
      "Cell \u001b[1;32mIn[31], line 5\u001b[0m\n\u001b[0;32m      3\u001b[0m a\u001b[38;5;241m=\u001b[39m \u001b[38;5;241m4\u001b[39m\n\u001b[0;32m      4\u001b[0m b\u001b[38;5;241m=\u001b[39m \u001b[38;5;241m1\u001b[39m\n\u001b[1;32m----> 5\u001b[0m \u001b[38;5;28;01massert\u001b[39;00m(b\u001b[38;5;241m>\u001b[39ma)\n",
      "\u001b[1;31mAssertionError\u001b[0m: "
     ]
    }
   ],
   "source": [
    "#using assert method\n",
    "#used to continue the execute if the given condition evaluates to True\n",
    "a= 4\n",
    "b= 1\n",
    "assert(b>a)"
   ]
  },
  {
   "cell_type": "code",
   "execution_count": 87,
   "id": "a6ab99fa",
   "metadata": {},
   "outputs": [],
   "source": [
    "#Here it has excecuted without assertion error\n",
    "assert(a>b)"
   ]
  },
  {
   "cell_type": "code",
   "execution_count": 32,
   "id": "f83844da",
   "metadata": {},
   "outputs": [
    {
     "ename": "AssertionError",
     "evalue": "",
     "output_type": "error",
     "traceback": [
      "\u001b[1;31m---------------------------------------------------------------------------\u001b[0m",
      "\u001b[1;31mAssertionError\u001b[0m                            Traceback (most recent call last)",
      "Cell \u001b[1;32mIn[32], line 5\u001b[0m\n\u001b[0;32m      3\u001b[0m     \u001b[38;5;28;01massert\u001b[39;00m(b\u001b[38;5;241m>\u001b[39ma)\n\u001b[0;32m      4\u001b[0m     \u001b[38;5;28mprint\u001b[39m(a\u001b[38;5;241m/\u001b[39mb)\n\u001b[1;32m----> 5\u001b[0m addd(\u001b[38;5;241m4\u001b[39m,\u001b[38;5;241m0\u001b[39m)\n",
      "Cell \u001b[1;32mIn[32], line 3\u001b[0m, in \u001b[0;36maddd\u001b[1;34m(a, b)\u001b[0m\n\u001b[0;32m      1\u001b[0m \u001b[38;5;28;01mdef\u001b[39;00m \u001b[38;5;21maddd\u001b[39m(a,b):\n\u001b[0;32m      2\u001b[0m     \u001b[38;5;28;01massert\u001b[39;00m(a\u001b[38;5;241m>\u001b[39mb)\n\u001b[1;32m----> 3\u001b[0m     \u001b[38;5;28;01massert\u001b[39;00m(b\u001b[38;5;241m>\u001b[39ma)\n\u001b[0;32m      4\u001b[0m     \u001b[38;5;28mprint\u001b[39m(a\u001b[38;5;241m/\u001b[39mb)\n",
      "\u001b[1;31mAssertionError\u001b[0m: "
     ]
    }
   ],
   "source": [
    "def addd(a,b):\n",
    "    assert(a>b)\n",
    "    assert(b>a)\n",
    "    print(a/b)\n",
    "addd(4,0)"
   ]
  },
  {
   "cell_type": "code",
   "execution_count": null,
   "id": "c5cae3d3",
   "metadata": {},
   "outputs": [],
   "source": []
  },
  {
   "cell_type": "markdown",
   "id": "7269d0f0",
   "metadata": {},
   "source": [
    "## Regex"
   ]
  },
  {
   "cell_type": "markdown",
   "id": "ce7c984e",
   "metadata": {},
   "source": [
    "#### Function\tDescription\n",
    "- findall:-\tReturns a list containing all matches\n",
    "- search:-\tReturns a Match object if there is a match anywhere in the string\n",
    "- split:-\tReturns a list where the string has been split at each match\n",
    "- sub:-\tReplaces one or many matches with a string"
   ]
  },
  {
   "cell_type": "markdown",
   "id": "86dcc7a3",
   "metadata": {},
   "source": [
    "#### Character\tDescription\tExample\t\n",
    "[]\tA set of characters\t\"[a-m]\"\t\n",
    "\\\tSignals a special sequence (can also be used to escape special characters)\t\"\\d\"\t\n",
    ".\tAny character (except newline character)\t\"he..o\"\t\n",
    "^\tStarts with\t\"^hello\"\t\n",
    "$\tEnds with\t\"planet$\"\t\n",
    "*\tZero or more occurrences\t\"he.*o\"\t\n",
    "+\tOne or more occurrences\t\"he.+o\"\t\n",
    "?\tZero or one occurrences\t\"he.?o\"\t\n",
    "{}\tExactly the specified number of occurrences\t\"he.{2}o\"\t\n",
    "|\tEither or\t\"falls|stays\"\t\n",
    "()\tCapture and group"
   ]
  },
  {
   "cell_type": "markdown",
   "id": "e2b5f4e7",
   "metadata": {},
   "source": [
    "Character\tDescription\tExample\n",
    "\\A\tReturns a match if the specified characters are at the beginning of the string\t\"\\AThe\"\t\n",
    "\\b\tReturns a match where the specified characters are at the beginning or at the end of a word\n",
    "(the \"r\" in the beginning is making sure that the string is being treated as a \"raw string\")\tr\"\\bain\"\n",
    "\n",
    "r\"ain\\b\"\t\n",
    "\n",
    "\\B\tReturns a match where the specified characters are present, but NOT at the beginning (or at the end) of a word\n",
    "(the \"r\" in the beginning is making sure that the string is being treated as a \"raw string\")\tr\"\\Bain\"\n",
    "\n",
    "r\"ain\\B\"\t\n",
    "\n",
    "\\d\tReturns a match where the string contains digits (numbers from 0-9)\t\"\\d\"\t\n",
    "\\D\tReturns a match where the string DOES NOT contain digits\t\"\\D\"\t\n",
    "\\s\tReturns a match where the string contains a white space character\t\"\\s\"\t\n",
    "\\S\tReturns a match where the string DOES NOT contain a white space character\t\"\\S\"\t\n",
    "\\w\tReturns a match where the string contains any word characters (characters from a to Z, digits from 0-9, and the underscore _ character)\t\"\\w\"\t\n",
    "\\W\tReturns a match where the string DOES NOT contain any word characters\t\"\\W\"\t\n",
    "\\Z\tReturns a match if the specified characters are at the end of the string"
   ]
  },
  {
   "cell_type": "markdown",
   "id": "14aa06b7",
   "metadata": {},
   "source": [
    "#### findal function\n",
    "- The list contains the matches in the order they are found. If no matches are found, an empty list is returned:"
   ]
  },
  {
   "cell_type": "code",
   "execution_count": 16,
   "id": "467e1740",
   "metadata": {},
   "outputs": [
    {
     "data": {
      "text/plain": [
       "['a', 'a']"
      ]
     },
     "execution_count": 16,
     "metadata": {},
     "output_type": "execute_result"
    }
   ],
   "source": [
    "re.findall(\"a\",stri)"
   ]
  },
  {
   "cell_type": "code",
   "execution_count": null,
   "id": "202b8bc7",
   "metadata": {},
   "outputs": [],
   "source": []
  },
  {
   "cell_type": "markdown",
   "id": "39226050",
   "metadata": {},
   "source": [
    "#### Search function\n",
    "- The search() function searches the string for a match, and returns a Match object if there is a match. If there is more than one match, only the first occurrence of the match will be returned:If no matches are found, the value None is returned:"
   ]
  },
  {
   "cell_type": "markdown",
   "id": "1366697b",
   "metadata": {},
   "source": [
    "- .span() returns a tuple containing the start-, and end positions of the match.\n",
    "- .string returns the string passed into the function\n",
    "- .group() returns the part of the string where there was a match"
   ]
  },
  {
   "cell_type": "code",
   "execution_count": 17,
   "id": "12610f1e",
   "metadata": {},
   "outputs": [
    {
     "name": "stdout",
     "output_type": "stream",
     "text": [
      "The first white-space character is located in position: 3\n"
     ]
    }
   ],
   "source": [
    "import re\n",
    "\n",
    "txt = \"The rain in Spain\"\n",
    "x = re.search(\"\\s\", txt)\n",
    "\n",
    "print(\"The first white-space character is located in position:\", x.start())"
   ]
  },
  {
   "cell_type": "code",
   "execution_count": 23,
   "id": "fcd4298c",
   "metadata": {},
   "outputs": [
    {
     "name": "stdout",
     "output_type": "stream",
     "text": [
      "Span prints the start and end of word matched (11, 17)\n",
      "start prints starting of word matched 11\n"
     ]
    }
   ],
   "source": [
    "txt = \"My name is Shahad\"\n",
    "res = re.search(\"Shahad\",txt)\n",
    "print(f\"Span prints the start and end of word matched {res.span()}\")\n",
    "print(f\"start prints starting of word matched {res.start()}\")"
   ]
  },
  {
   "cell_type": "code",
   "execution_count": 80,
   "id": "87c0a2c5",
   "metadata": {},
   "outputs": [
    {
     "data": {
      "text/plain": [
       "(13, 18)"
      ]
     },
     "execution_count": 80,
     "metadata": {},
     "output_type": "execute_result"
    }
   ],
   "source": [
    "#The regular expression looks for first occurance words that starts with an upper case \"S\":\n",
    "txt = \"The rainS in Spain iS Spanish Rain\"\n",
    "res = re.search(r\"\\bS\\w+\",txt)\n",
    "\n",
    "res.span()"
   ]
  },
  {
   "cell_type": "code",
   "execution_count": 78,
   "id": "70a61a42",
   "metadata": {},
   "outputs": [
    {
     "name": "stdout",
     "output_type": "stream",
     "text": [
      "S\n"
     ]
    }
   ],
   "source": [
    "#The regular expression looks for first occurance index that end with \"S\"  \n",
    "txt = \"The rainS in Spain iS Spanish Rain\"\n",
    "res = re.search(r\"S\\b\",txt)\n",
    "print(res.group())"
   ]
  },
  {
   "cell_type": "code",
   "execution_count": 81,
   "id": "f10d7d6f",
   "metadata": {},
   "outputs": [
    {
     "name": "stdout",
     "output_type": "stream",
     "text": [
      "Spain\n"
     ]
    }
   ],
   "source": [
    "#Print the part of the string where there was a match.\n",
    "txt = \"The rain in Spain\"\n",
    "x = re.search(r\"\\bS\\w+\", txt)\n",
    "print(x.group())"
   ]
  },
  {
   "cell_type": "code",
   "execution_count": null,
   "id": "d2ab7248",
   "metadata": {},
   "outputs": [],
   "source": []
  },
  {
   "cell_type": "code",
   "execution_count": null,
   "id": "d1c21bcd",
   "metadata": {},
   "outputs": [],
   "source": []
  },
  {
   "cell_type": "code",
   "execution_count": null,
   "id": "afbe5de2",
   "metadata": {},
   "outputs": [],
   "source": []
  },
  {
   "cell_type": "markdown",
   "id": "a672d7e6",
   "metadata": {},
   "source": [
    "#### Split function\n",
    "- The split() function returns a list where the string has been split at each match. You can control the number of occurrences by specifying the maxsplit parameter:"
   ]
  },
  {
   "cell_type": "code",
   "execution_count": 24,
   "id": "87b6d4d8",
   "metadata": {},
   "outputs": [
    {
     "name": "stdout",
     "output_type": "stream",
     "text": [
      "['The', 'rain', 'in', 'Spain']\n"
     ]
    }
   ],
   "source": [
    "#Split at each white-space character:\n",
    "txt = \"The rain in Spain\"\n",
    "x = re.split(\"\\s\", txt)\n",
    "print(x)"
   ]
  },
  {
   "cell_type": "code",
   "execution_count": 26,
   "id": "2c812204",
   "metadata": {},
   "outputs": [
    {
     "name": "stdout",
     "output_type": "stream",
     "text": [
      "['All ', 're equal']\n"
     ]
    }
   ],
   "source": [
    "#here we are splitting only first occurance\n",
    "txt = \"All are equal\"\n",
    "x=re.split(\"a\",txt,1)\n",
    "print(x)"
   ]
  },
  {
   "cell_type": "markdown",
   "id": "408249f9",
   "metadata": {},
   "source": [
    "#### Sub function\n",
    "- The sub() function replaces the matches with the text of your choice, You can control the number of replacements by specifying the count parameter:"
   ]
  },
  {
   "cell_type": "code",
   "execution_count": 27,
   "id": "2c7d7ca3",
   "metadata": {},
   "outputs": [
    {
     "name": "stdout",
     "output_type": "stream",
     "text": [
      "I am best at deep learning\n"
     ]
    }
   ],
   "source": [
    "txt = \"I am best @ deep learning\"\n",
    "res = re.sub(\"@\",\"at\",txt)\n",
    "print(res)"
   ]
  },
  {
   "cell_type": "code",
   "execution_count": 33,
   "id": "a1f13a5a",
   "metadata": {},
   "outputs": [
    {
     "name": "stdout",
     "output_type": "stream",
     "text": [
      "('I am best at deep learning', 1)\n"
     ]
    }
   ],
   "source": [
    "# re.subn()  provides a count of the number of replacements that it has done.\n",
    "txt = \"I am best @ deep learning\"\n",
    "res = re.subn(\"@\",\"at\",txt)\n",
    "print(res)"
   ]
  },
  {
   "cell_type": "code",
   "execution_count": null,
   "id": "6f9edae3",
   "metadata": {},
   "outputs": [],
   "source": []
  },
  {
   "cell_type": "code",
   "execution_count": null,
   "id": "6c5d6355",
   "metadata": {},
   "outputs": [],
   "source": []
  },
  {
   "cell_type": "code",
   "execution_count": 2,
   "id": "e07ea2a3",
   "metadata": {},
   "outputs": [
    {
     "data": {
      "text/plain": [
       "'I  m   Legend 4'"
      ]
     },
     "execution_count": 2,
     "metadata": {},
     "output_type": "execute_result"
    }
   ],
   "source": [
    "#Renamimg a single character\n",
    "import re\n",
    "stri = \"I am a Legend 4\"\n",
    "re.sub(\"a\",\" \",stri)"
   ]
  },
  {
   "cell_type": "code",
   "execution_count": 3,
   "id": "fa31bf62",
   "metadata": {},
   "outputs": [
    {
     "name": "stdout",
     "output_type": "stream",
     "text": [
      "Sh#h#d\n",
      "2\n"
     ]
    }
   ],
   "source": [
    "# Finding index of a string sibstituted by regex\n",
    "st = \"Shahad\"\n",
    "sub = re.sub(\"a\", \"#\", st)\n",
    "print(sub)\n",
    "print(sub.find(\"#\"))"
   ]
  },
  {
   "cell_type": "code",
   "execution_count": 13,
   "id": "e05f5651",
   "metadata": {},
   "outputs": [
    {
     "data": {
      "text/plain": [
       "(0, 28)"
      ]
     },
     "execution_count": 13,
     "metadata": {},
     "output_type": "execute_result"
    }
   ],
   "source": [
    "#Search the string to see if it starts with \"The\" and ends with \"Spain\":\n",
    "import re\n",
    "stri = \"The pirates of country Spain\"\n",
    "re.search(\"^The.*Spain$\",stri).span()"
   ]
  },
  {
   "cell_type": "code",
   "execution_count": 34,
   "id": "5d5d57a9",
   "metadata": {},
   "outputs": [],
   "source": []
  },
  {
   "cell_type": "markdown",
   "id": "f1b332d4",
   "metadata": {},
   "source": [
    "## Using dictionary as df with box library"
   ]
  },
  {
   "cell_type": "code",
   "execution_count": 1,
   "id": "807b868c",
   "metadata": {},
   "outputs": [
    {
     "data": {
      "text/plain": [
       "'2'"
      ]
     },
     "execution_count": 1,
     "metadata": {},
     "output_type": "execute_result"
    }
   ],
   "source": [
    "from box import ConfigBox\n",
    "dic = ConfigBox({\"Key1\":\"2\",\"Key2\": 3})\n",
    "dic.Key1"
   ]
  },
  {
   "cell_type": "code",
   "execution_count": null,
   "id": "a7c98e6b",
   "metadata": {},
   "outputs": [],
   "source": []
  }
 ],
 "metadata": {
  "kernelspec": {
   "display_name": "Python 3 (ipykernel)",
   "language": "python",
   "name": "python3"
  },
  "language_info": {
   "codemirror_mode": {
    "name": "ipython",
    "version": 3
   },
   "file_extension": ".py",
   "mimetype": "text/x-python",
   "name": "python",
   "nbconvert_exporter": "python",
   "pygments_lexer": "ipython3",
   "version": "3.11.5"
  }
 },
 "nbformat": 4,
 "nbformat_minor": 5
}
