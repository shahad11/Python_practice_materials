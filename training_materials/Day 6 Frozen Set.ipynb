{
 "cells": [
  {
   "cell_type": "code",
   "execution_count": 2,
   "id": "827bd35d",
   "metadata": {},
   "outputs": [
    {
     "data": {
      "text/plain": [
       "frozenset({1, 2, 3, 4})"
      ]
     },
     "execution_count": 2,
     "metadata": {},
     "output_type": "execute_result"
    }
   ],
   "source": [
    "# Create a frozen set\n",
    "frozen_set = frozenset([1, 2, 3, 4])\n",
    "frozen_set"
   ]
  },
  {
   "cell_type": "code",
   "execution_count": 3,
   "id": "53e33919",
   "metadata": {},
   "outputs": [
    {
     "ename": "TypeError",
     "evalue": "'int' object is not iterable",
     "output_type": "error",
     "traceback": [
      "\u001b[1;31m---------------------------------------------------------------------------\u001b[0m",
      "\u001b[1;31mTypeError\u001b[0m                                 Traceback (most recent call last)",
      "Cell \u001b[1;32mIn[3], line 1\u001b[0m\n\u001b[1;32m----> 1\u001b[0m \u001b[38;5;28;43mfrozenset\u001b[39;49m\u001b[43m(\u001b[49m\u001b[38;5;241;43m1\u001b[39;49m\u001b[43m)\u001b[49m\n",
      "\u001b[1;31mTypeError\u001b[0m: 'int' object is not iterable"
     ]
    }
   ],
   "source": [
    "frozenset(1)"
   ]
  },
  {
   "cell_type": "code",
   "execution_count": 4,
   "id": "3c93ff0d",
   "metadata": {},
   "outputs": [
    {
     "ename": "AttributeError",
     "evalue": "'frozenset' object has no attribute 'add'",
     "output_type": "error",
     "traceback": [
      "\u001b[1;31m---------------------------------------------------------------------------\u001b[0m",
      "\u001b[1;31mAttributeError\u001b[0m                            Traceback (most recent call last)",
      "Cell \u001b[1;32mIn[4], line 3\u001b[0m\n\u001b[0;32m      1\u001b[0m \u001b[38;5;66;03m# Attempt to modify a frozen set\u001b[39;00m\n\u001b[0;32m      2\u001b[0m frozen_set \u001b[38;5;241m=\u001b[39m \u001b[38;5;28mfrozenset\u001b[39m([\u001b[38;5;241m1\u001b[39m, \u001b[38;5;241m2\u001b[39m, \u001b[38;5;241m3\u001b[39m, \u001b[38;5;241m4\u001b[39m])\n\u001b[1;32m----> 3\u001b[0m \u001b[43mfrozen_set\u001b[49m\u001b[38;5;241;43m.\u001b[39;49m\u001b[43madd\u001b[49m(\u001b[38;5;241m5\u001b[39m)\n",
      "\u001b[1;31mAttributeError\u001b[0m: 'frozenset' object has no attribute 'add'"
     ]
    }
   ],
   "source": [
    "# Attempt to modify a frozen set\n",
    "frozen_set = frozenset([1, 2, 3, 4])\n",
    "frozen_set.add(5) # Raises an AttributeError: 'frozenset' object has no attribute 'add'"
   ]
  },
  {
   "cell_type": "code",
   "execution_count": 5,
   "id": "7fb378da",
   "metadata": {},
   "outputs": [
    {
     "ename": "TypeError",
     "evalue": "'frozenset' object does not support item assignment",
     "output_type": "error",
     "traceback": [
      "\u001b[1;31m---------------------------------------------------------------------------\u001b[0m",
      "\u001b[1;31mTypeError\u001b[0m                                 Traceback (most recent call last)",
      "Cell \u001b[1;32mIn[5], line 3\u001b[0m\n\u001b[0;32m      1\u001b[0m \u001b[38;5;66;03m# Attempt to use unsupported operator or method\u001b[39;00m\n\u001b[0;32m      2\u001b[0m frozen_set \u001b[38;5;241m=\u001b[39m \u001b[38;5;28mfrozenset\u001b[39m([\u001b[38;5;241m1\u001b[39m, \u001b[38;5;241m2\u001b[39m, \u001b[38;5;241m3\u001b[39m, \u001b[38;5;241m4\u001b[39m])\n\u001b[1;32m----> 3\u001b[0m frozen_set[\u001b[38;5;241m0\u001b[39m] \u001b[38;5;241m=\u001b[39m \u001b[38;5;241m0\u001b[39m\n",
      "\u001b[1;31mTypeError\u001b[0m: 'frozenset' object does not support item assignment"
     ]
    }
   ],
   "source": [
    "# Attempt to use unsupported operator or method\n",
    "frozen_set = frozenset([1, 2, 3, 4])\n",
    "frozen_set[0] = 0 # Raises a TypeError: 'frozenset' object does not support item assignment"
   ]
  },
  {
   "cell_type": "code",
   "execution_count": 6,
   "id": "1893f266",
   "metadata": {},
   "outputs": [
    {
     "name": "stdout",
     "output_type": "stream",
     "text": [
      "frozenset({1, 2, 3, 4})\n"
     ]
    }
   ],
   "source": [
    "my_set = frozenset([1, 2, 3, 4])\n",
    "print(my_set)"
   ]
  },
  {
   "cell_type": "code",
   "execution_count": null,
   "id": "d4844aa4",
   "metadata": {},
   "outputs": [],
   "source": [
    "my_set.add(5) # Raises an AttributeError: 'frozenset' object has no attribute 'add'\n",
    "my_set.remove(3) # Raises an AttributeError: 'frozenset' object has no attribute 'remove'\n",
    "my_set[0] = 0 # Raises a TypeError: 'frozenset' object does not support item assignment"
   ]
  },
  {
   "cell_type": "markdown",
   "id": "799e6984",
   "metadata": {},
   "source": [
    "## Usecase examples"
   ]
  },
  {
   "cell_type": "markdown",
   "id": "b09f8cd8",
   "metadata": {},
   "source": [
    "### Caching"
   ]
  },
  {
   "cell_type": "markdown",
   "id": "175feadd",
   "metadata": {},
   "source": [
    "- In this example, we have a function get_data that takes a frozenset as an argument. The function checks if the frozenset is in the cache dictionary. If it is, the cached data is returned, and if it is not, the data is fetched from some source (in this case, we are simulating this using the fetch_data function), cached, and returned.\n",
    "\n",
    "- When we call the get_data function the first time, it takes time to fetch the data and store it in the cache. The second time we call the function with the same frozenset argument, it uses the cached data and returns it quickly, without having to fetch it again. This can be a useful optimization technique in situations where the same data is frequently accessed."
   ]
  },
  {
   "cell_type": "code",
   "execution_count": null,
   "id": "e837ce22",
   "metadata": {},
   "outputs": [],
   "source": [
    "import time\n",
    "\n",
    "cache = {}\n",
    "\n",
    "def get_data(a: frozenset):\n",
    "    if a in cache:\n",
    "        return cache[a]\n",
    "    else:\n",
    "        # Fetch data from database or some other source\n",
    "        data = fetch_data(a)\n",
    "        cache[a] = data\n",
    "        return data\n",
    "\n",
    "def fetch_data(a: frozenset):\n",
    "    # Simulate fetching data\n",
    "    time.sleep(2)\n",
    "    return f\"Data for {a}\"\n",
    "\n",
    "# First call to get_data takes time to fetch data\n",
    "start_time = time.time()\n",
    "data = get_data(frozenset([1, 2, 3]))\n",
    "end_time = time.time()\n",
    "print(f\"Data: {data}\")\n",
    "print(f\"Time taken: {end_time - start_time} seconds\")\n",
    "\n",
    "# Second call to get_data uses the cached data and is faster\n",
    "start_time = time.time()\n",
    "data = get_data(frozenset([1, 2, 3]))\n",
    "end_time = time.time()\n",
    "print(f\"Data: {data}\")\n",
    "print(f\"Time taken: {end_time - start_time} seconds\")"
   ]
  },
  {
   "cell_type": "markdown",
   "id": "627479e8",
   "metadata": {},
   "source": [
    "### Function arguments\n",
    "\n",
    "- Frozen sets can be useful when working with function arguments. Since frozen sets are immutable, they can be used as default values for function arguments without worrying about them being accidentally modified"
   ]
  },
  {
   "cell_type": "markdown",
   "id": "0e8cfd9a",
   "metadata": {},
   "source": [
    "In this example, we have a function **process_data** that takes two arguments: data, which is a list of data to process, and exclude, which is an optional set of elements to exclude from the processed data.\n",
    "\n",
    "By default, exclude is set to None, but we set it to an empty frozen set using exclude = frozenset() if it is not provided. This ensures that we always have a valid set object to work with, even if the exclude argument is not specified.\n",
    "\n",
    "Inside the function, we process the data by excluding elements in the exclude set using a list comprehension. Since exclude is a frozen set, we know that it cannot be modified by the processing code."
   ]
  },
  {
   "cell_type": "code",
   "execution_count": 7,
   "id": "8d037855",
   "metadata": {},
   "outputs": [],
   "source": [
    "def process_data(data, exclude=None):\n",
    "    if exclude is None:\n",
    "        exclude = frozenset() # set exclude to an empty frozen set by default\n",
    "\n",
    "    # process the data, excluding elements in the exclude set\n",
    "    processed_data = [x for x in data if x not in exclude]\n",
    "\n",
    "    return processed_data"
   ]
  },
  {
   "cell_type": "code",
   "execution_count": 8,
   "id": "c4f3d498",
   "metadata": {},
   "outputs": [
    {
     "name": "stdout",
     "output_type": "stream",
     "text": [
      "[1, 2, 5]\n"
     ]
    }
   ],
   "source": [
    "data = [1, 2, 3, 4, 5]\n",
    "exclude = frozenset([3, 4])\n",
    "\n",
    "processed_data = process_data(data, exclude=exclude)\n",
    "\n",
    "print(processed_data) # Output: [1, 2, 5]"
   ]
  },
  {
   "cell_type": "code",
   "execution_count": 9,
   "id": "47154f98",
   "metadata": {},
   "outputs": [
    {
     "name": "stdout",
     "output_type": "stream",
     "text": [
      "[6, 7, 8, 9, 10]\n"
     ]
    }
   ],
   "source": [
    "data = [6, 7, 8, 9, 10]\n",
    "\n",
    "processed_data = process_data(data)\n",
    "\n",
    "print(processed_data) # Output: [6, 7, 8, 9, 10]"
   ]
  },
  {
   "cell_type": "markdown",
   "id": "5a294d57",
   "metadata": {},
   "source": [
    "### Database operations \n",
    "\n",
    "- Frozen sets can be useful when working with databases to represent a set of fixed values that cannot be modified. "
   ]
  },
  {
   "cell_type": "markdown",
   "id": "29ad5159",
   "metadata": {},
   "source": [
    "Here's an example of how you can use a frozen set to filter rows in a SQLite database:"
   ]
  },
  {
   "cell_type": "markdown",
   "id": "ba99e197",
   "metadata": {},
   "source": [
    "In this example, we first define a frozen set valid_categories containing the set of valid categories for our products.\n",
    "\n",
    "We then connect to a SQLite database using the sqlite3 module and create a cursor to execute SQL commands.\n",
    "\n",
    "We use a SQL SELECT statement to select all rows from the products table where the category column is in the valid_categories set. We use the join() method to join the elements of the valid_categories set with a comma separator and use tuple(valid_categories) to create a tuple of values to pass as parameters to the execute() method.\n",
    "\n",
    "We then fetch the results and close the database connection.\n",
    "\n",
    "Finally, we process the results by iterating over the rows and printing them to the console.\n",
    "\n",
    "Using a frozen set in this example ensures that the set of valid categories cannot be modified by the database query, ensuring data consistency and security."
   ]
  },
  {
   "cell_type": "code",
   "execution_count": null,
   "id": "a7448ffa",
   "metadata": {},
   "outputs": [],
   "source": [
    "import sqlite3\n",
    "\n",
    "# Define a set of valid categories using a frozen set\n",
    "valid_categories = frozenset(['books', 'electronics', 'clothing'])\n",
    "\n",
    "# Connect to the database\n",
    "conn = sqlite3.connect('products.db')\n",
    "\n",
    "# Create a cursor\n",
    "cursor = conn.cursor()\n",
    "\n",
    "# Select all rows from the products table where the category is in the valid categories set\n",
    "cursor.execute('SELECT * FROM products WHERE category IN ({})'.format(','.join(['?']*len(valid_categories))), tuple(valid_categories))\n",
    "\n",
    "# Fetch the results\n",
    "results = cursor.fetchall()\n",
    "\n",
    "# Close the connection\n",
    "conn.close()\n",
    "\n",
    "# Process the results\n",
    "for row in results:\n",
    "    print(row)"
   ]
  },
  {
   "cell_type": "markdown",
   "id": "bde90294",
   "metadata": {},
   "source": [
    "### Enumerations\n",
    "\n",
    "- Frozen sets can also be used when working with enumerations, which are a set of named values that represent a fixed set of choices."
   ]
  },
  {
   "cell_type": "markdown",
   "id": "ad7bd66e",
   "metadata": {},
   "source": [
    "An example of how you can use a frozen set to validate input in an enumeration"
   ]
  },
  {
   "cell_type": "markdown",
   "id": "df16a227",
   "metadata": {},
   "source": [
    "In this example, we define an enumeration Color with three named values: RED, GREEN, and BLUE. We then define a frozen set valid_colors containing the set of valid color values by iterating over the Color enumeration and extracting the value of each named value using the .value attribute.\n",
    "\n",
    "We define a function set_color that takes a color as an argument and checks if it is a valid color by checking if it is in the valid_colors frozen set. If it is not a valid color, we raise a ValueError with an error message.\n",
    "\n",
    "We then test the set_color function with a valid color ('red') and an invalid color ('orange').\n",
    "\n",
    "Using a frozen set in this example ensures that the set of valid colors cannot be modified at runtime, ensuring data consistency and preventing errors."
   ]
  },
  {
   "cell_type": "code",
   "execution_count": null,
   "id": "1200dd34",
   "metadata": {},
   "outputs": [],
   "source": [
    "from enum import Enum\n",
    "\n",
    "class Color(Enum):\n",
    "    RED = 'red'\n",
    "    GREEN = 'green'\n",
    "    BLUE = 'blue'\n",
    "\n",
    "# Define a set of valid colors using a frozen set\n",
    "valid_colors = frozenset([color.value for color in Color])\n",
    "\n",
    "def set_color(color):\n",
    "    # Check if the color is a valid color using the frozen set\n",
    "    if color not in valid_colors:\n",
    "        raise ValueError('Invalid color')\n",
    "\n",
    "    # Set the color\n",
    "    # ...\n",
    "\n",
    "# Test the set_color function\n",
    "set_color('red') # Valid color\n",
    "set_color('orange') # Raises ValueError: Invalid color\n"
   ]
  },
  {
   "cell_type": "markdown",
   "id": "6a25cb20",
   "metadata": {},
   "source": [
    "### Configuration settings\n",
    "\n",
    "- Frozen sets can also be used to represent a set of fixed configuration settings in a Python application. "
   ]
  },
  {
   "cell_type": "markdown",
   "id": "4a9deef8",
   "metadata": {},
   "source": [
    "An example of how you can use a frozen set to validate configuration settings"
   ]
  },
  {
   "cell_type": "markdown",
   "id": "46037711",
   "metadata": {},
   "source": [
    "In this example, we define a frozen set valid_sections containing the set of valid sections for our configuration file. We also define a dictionary valid_keys containing a frozen set of valid keys for each section.\n",
    "\n",
    "We define a function validate_config that takes a config object representing a configuration file and checks if all sections and keys are valid using the issuperset method of the frozen sets. If any sections or keys are invalid, we raise a ValueError with an error message.\n",
    "\n",
    "We then load the configuration file using the ConfigParser module and validate it using the validate_config function.\n",
    "\n",
    "Using a frozen set in this example ensures that the set of valid sections and keys cannot be modified at runtime, ensuring data consistency and preventing errors."
   ]
  },
  {
   "cell_type": "code",
   "execution_count": null,
   "id": "af5ee367",
   "metadata": {},
   "outputs": [],
   "source": [
    "import configparser\n",
    "\n",
    "# Define a set of valid sections using a frozen set\n",
    "valid_sections = frozenset(['database', 'logging', 'email'])\n",
    "\n",
    "# Define a set of valid keys for each section using a dictionary of frozen sets\n",
    "valid_keys = {\n",
    "    'database': frozenset(['host', 'port', 'username', 'password']),\n",
    "    'logging': frozenset(['level', 'filename', 'format']),\n",
    "    'email': frozenset(['host', 'port', 'username', 'password', 'from', 'to', 'subject'])\n",
    "}\n",
    "\n",
    "def validate_config(config):\n",
    "    # Check if all sections in the config are valid using the frozen set\n",
    "    if not valid_sections.issuperset(config.sections()):\n",
    "        raise ValueError('Invalid sections')\n",
    "\n",
    "    # Check if all keys in each section are valid using the dictionary of frozen sets\n",
    "    for section in config.sections():\n",
    "        if not valid_keys[section].issuperset(config[section]):\n",
    "            raise ValueError('Invalid keys for section {}'.format(section))\n",
    "\n",
    "    # Config is valid\n",
    "    # ...\n",
    "\n",
    "# Load the configuration file\n",
    "config = configparser.ConfigParser()\n",
    "config.read('config.ini')\n",
    "\n",
    "# Validate the configuration\n",
    "validate_config(config)"
   ]
  }
 ],
 "metadata": {
  "kernelspec": {
   "display_name": "Python 3 (ipykernel)",
   "language": "python",
   "name": "python3"
  },
  "language_info": {
   "codemirror_mode": {
    "name": "ipython",
    "version": 3
   },
   "file_extension": ".py",
   "mimetype": "text/x-python",
   "name": "python",
   "nbconvert_exporter": "python",
   "pygments_lexer": "ipython3",
   "version": "3.9.13"
  }
 },
 "nbformat": 4,
 "nbformat_minor": 5
}
